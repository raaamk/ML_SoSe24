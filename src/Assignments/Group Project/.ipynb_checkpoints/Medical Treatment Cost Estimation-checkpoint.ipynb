{
 "cells": [
  {
   "cell_type": "markdown",
   "id": "bb78b975",
   "metadata": {},
   "source": [
    "# Medical Treatment Cost Forecasting\n",
    "\n",
    "**Link**\n",
    "\n",
    "https://www.kaggle.com/mirichoi0218/insurance\n",
    "\n",
    "\n",
    "**Context**\n",
    "\n",
    "This dataset contains the cost of medical treatment of different patients.\n",
    "\n",
    "\n",
    "**Content**\n",
    "\n",
    "The cost of treatment depends on many factors: diagnosis, type of clinic, city of residence, age and so on. We have no data on the diagnosis of patients. But we have other information that can help us to make a conclusion about the health of patients and predict the cost of medical treatment by using regression analysis.\n",
    "\n",
    "The dataset consists of the following attributes:\n",
    "- age: age of primary beneficiary\n",
    "- sex: insurance contractor gender, female, male\n",
    "- bmi: body mass index, providing an understanding of body, weights that are relatively high or low relative to height\n",
    "- children: number of children covered by health insurance / Number of dependents\n",
    "- smoker: smoking (0: no, 1: yes)\n",
    "- region: the beneficiary's residential area in the US, northeast, southeast, southwest, northwest.\n",
    "- charges: individual medical costs billed by health insurance\n",
    "\n",
    "The `charges` attribute is our target variable, which should be predicted depending on new patient informations.\n",
    "\n",
    "**Task (Regression)**\n",
    "\n",
    "Your task is to use the present data set to predict the cost of medical treatment for new patients. To do this, use the `Linear Regression` and `SVR` methods for this task. You must also include a third method that you have selected yourself.\n",
    "\n",
    "First of all, get an overview of the project in your group. Then carefully read the checklist for machine learning projects and think about how you want to organize your group work. It is strongly recommended that all task items are completed by all group members. You can divide the focus among yourself, but make sure that all members are as well informed as possible about the content.\n",
    "\n",
    "Use the checklist for machine learning projects as a guide when working on the task. Document all the individual steps that are listed there (main and sub-items). Make sure to use Markdown Cells for your documentation. Document the functionality of your algorithms (all three) with equations and explanations. Dont forget, this project is a task for five students. We expect a detailed documentation of your approach and your results.\n",
    "\n",
    "**Note**\n",
    "\n",
    "We are aware that there are examples and solutions for the selected data sets on popular platforms, e.g. Kaggle. You are welcome to use them as a guide. But remember that at the end of the project, your own work will be assessed. We compare the results with the popular solutions of common platforms. We would like to recognize the independence in your work and see a difference to the existing solution approaches."
   ]
  },
  {
   "cell_type": "markdown",
   "id": "0dc15257",
   "metadata": {},
   "source": "# Code und Dokumentation"
  },
  {
   "cell_type": "markdown",
   "id": "8b5e8388",
   "metadata": {},
   "source": [
    "## 1. Frame the problem\n",
    "\n",
    "### 1.1 Ziel\n",
    "\n",
    "Das primäre Ziel besteht darin, die Kosten der medizinischen Behandlung für neue Patienten basierend auf verschiedenen Faktoren wie Alter, Geschlecht, BMI, Anzahl der Kinder, Rauchstatus und Wohnregion vorherzusagen. Genaue Vorhersagen können Versicherungsunternehmen helfen, Prämien festzulegen, finanzielle Risiken zu managen und personalisierte Gesundheitspläne zu erstellen.\n",
    "   \n",
    "### 1.2 Verwendung der Lösung\n",
    "\n",
    "Die Lösung wird in den Arbeitsablauf des Versicherungsunternehmens integriert, um die Kosten der medizinischen Behandlung für neue Versicherungsnehmer abzuschätzen oder die Prämien für bestehende Versicherungsnehmer anzupassen. Dieses prädiktive Modell ermöglicht es dem Unternehmen, Risiken genauer zu bewerten und wettbewerbsfähige Preise anzubieten, während die Rentabilität sichergestellt wird\n",
    "\n",
    "### 1.3 Aktuelle Lösungen\n",
    "\n",
    "Versicherungsunternehmen verwenden in der Regel versicherungsmathematische Methoden (Traditionelle statistische Methoden) und manuelle Schätzungen (Komplexe Regeln) zur Kostenschätzung auf der Grundlage historischer Daten und demografischer Profile. Diese Methoden können zeitaufwändig, kostenintensiv, weniger genau sein und möglicherweise keine komplexen Muster in den Daten erfassen. Ein auf maschinellem Lernen basierter Ansatz kann präzisere und skalierbarere Lösungen bieten. [1]\n",
    "\n",
    "[1] U. Orji und E. Ukwandu, \"Machine Learning For An Explainable Cost Prediction of Medical Insurance,\" arXiv, Nov. 2023. [Online]. Verfügbar: https://ar5iv.org/abs/2311.14139. [Zugegriffen: 20. Juni 2024].\n",
    "\n",
    "\n",
    "### 1.4 Problemdefinition\n",
    "\n",
    "Typ: Überwachtes Lernen\n",
    "Herangehensweise: Regression\n",
    "Modus: Offline\n",
    "Begründung:\n",
    "Wir haben historische Daten mit bekannten Kosten (Gebühren) und damit verbundenen Merkmalen. Das Ziel ist die Vorhersage einer kontinuierlichen Variable, was es zu einem Regressionsproblem macht. Ein Offline-Ansatz ist angemessen, da wir das Modell auf historischen Daten trainieren und es dann für zukünftige Vorhersagen einsetzen werden.\n",
    "\n",
    "### 1.5 Leistungsmessung\n",
    "\n",
    "Die Leistung wird anhand des Root Mean Squared Error (RMSE) und des Bestimmtheitsmaß (R2) gemessen. RMSE wird wegen seiner Empfindlichkeit gegenüber Ausreißern bevorzugt, was bei medizinischen Kosten signifikant sein kann.\n",
    "\n",
    "### 1.6 Ausrichtung an den Unternehmenszielen\n",
    "\n",
    "Die gewählten Leistungsmaße (RMSE und MAE) stimmen mit dem Geschäftsziel überein, Vorhersagefehler zu minimieren, um Behandlungskosten besser abzuschätzen und so finanzielle Risiken zu reduzieren.\n",
    "\n",
    "### 1.7 Erforderliche Mindestleistung\n",
    "\n",
    "Die Mindestleistung des neuen Modells sollte die Leistung bestehender Methoden übertreffen. Angenommen, die aktuellen manuellen Methoden haben folgende Fehlermaße:\n",
    "\n",
    "RMSE: 4000\n",
    "MAE: 3000\n",
    "\n",
    "Ein realistischer Schwellenwert für das maschinelle Lernmodell könnte sein, diese Werte um mindestens 10% zu verbessern. Das bedeutet:\n",
    "\n",
    "RMSE: 3600\n",
    "MAE: 2700\n",
    "\n",
    "Diese Verbesserungen würden signifikant genug sein, um die Überlegenheit des neuen Modells gegenüber den bestehenden Methoden zu demonstrieren.\n",
    "\n",
    "### 1.8 Vergleichbare Probleme\n",
    "- Hauspreisvorhersage\n",
    "- Vorhersage von Kfz-Versicherungsansprüchen\n",
    "- Vorhersage von Darlehenausfällen\n",
    "\n",
    "### 1.9 Wiederverwendung von Tools\n",
    "\n",
    "Wir können auf etablierte maschinelle Lernframeworks und -bibliotheken (wie Scikit-learn, TensorFlow oder XGBoost) und Methoden aus ähnlichen Regressionsaufgaben zurückgreifen. Werkzeuge wie Jupyter Notebooks, pandas und matplotlib werden für die Datenexploration und -visualisierung wesentlich sein.\n",
    "\n",
    "### 1.10 Verfügbarkeit von menschlicher Expertise\n",
    "\n",
    "Domänenexperten für Gesundheitskosten und Versicherungen sowie Datenwissenschaftler mit Erfahrung in der Regressionsanalyse werden entscheidend sein, um die Daten zu verstehen und die Modelle zu verfeinern\n",
    "\n",
    "### 1.11 Manuelle Lösung\n",
    "\n",
    "Manuell würde man historische Kosten analysieren, für Inflation anpassen, Patientendemografie und Gesundheitsindikatoren berücksichtigen und Expertenurteile verwenden, um zukünftige Kosten abzuschätzen. Dieser Prozess ist von Natur aus subjektiv und weniger skalierbar.\n",
    "\n",
    "### 1.12 Annahmen\n",
    "- Der Datensatz ist repräsentativ für die Bevölkerung.\n",
    "- Die einbezogenen Faktoren (Alter, Geschlecht, BMI, Kinder, Raucher, Region) sind ausreichend, um die Kosten vorherzusagen.\n",
    "- Es gibt keine signifikanten externen Faktoren (z. B. politische Veränderungen, große medizinische Fortschritte), die die Kosten drastisch verändern.\n",
    "\n",
    "### 1.13 Überprüfen der Annahmen\n",
    "- Statistische Tests und Visualisierungen (z. B. Korrelationsmatrizen, Streudiagramme) können die Relevanz der Merkmale überprüfen.\n",
    "- Datenbereinigungsprozesse können Datenqualitätsprobleme angehen.\n",
    "- Bewertung der anfängliche Modellleistung an einem Validierungssatz.\n",
    "\n",
    "\n",
    "### 1.14 Modellauswahl und Implementierung\n",
    "- Lineare Regression\n",
    "- Support-Vektor-Regression (SVR)\n",
    "- Random Forest"
   ]
  },
  {
   "cell_type": "markdown",
   "id": "8736a2f2",
   "metadata": {},
   "source": [
    "## 2. Get the data\n",
    "\n",
    "### 2.1 Einlesen der Daten \n",
    "Die Datei `insurance.csv` wird mit Panda eingelesen. Diese Datei enthält die Informationen über Patienten und die individuellen medizinischen Kosten, die vorhergesagt werden sollen. Eine Kopie namens `insurance_data` wird im Vorfeld erstellt."
   ]
  },
  {
   "cell_type": "code",
   "id": "1e445d13",
   "metadata": {
    "ExecuteTime": {
     "end_time": "2024-06-25T10:00:47.847053Z",
     "start_time": "2024-06-25T10:00:47.829494Z"
    }
   },
   "source": [
    "import pandas as pd\n",
    "\n",
    "data = pd.read_csv('insurance.csv')\n",
    "insurance_data = data.copy()"
   ],
   "outputs": [],
   "execution_count": 8
  },
  {
   "metadata": {},
   "cell_type": "markdown",
   "source": "Um einen kurzen Überblick über die eingelesen Daten zu bekommen, wird der `head()` der `insurance_data` angezeigt.",
   "id": "b455d8f400d24f81"
  },
  {
   "metadata": {
    "ExecuteTime": {
     "end_time": "2024-06-25T10:57:34.347179Z",
     "start_time": "2024-06-25T10:57:34.339511Z"
    }
   },
   "cell_type": "code",
   "source": "insurance_data.head()",
   "id": "83d58e5854d1f142",
   "outputs": [
    {
     "data": {
      "text/plain": [
       "   age     sex     bmi  children smoker     region      charges\n",
       "0   19  female  27.900         0    yes  southwest  16884.92400\n",
       "1   18    male  33.770         1     no  southeast   1725.55230\n",
       "2   28    male  33.000         3     no  southeast   4449.46200\n",
       "3   33    male  22.705         0     no  northwest  21984.47061\n",
       "4   32    male  28.880         0     no  northwest   3866.85520"
      ],
      "text/html": [
       "<div>\n",
       "<style scoped>\n",
       "    .dataframe tbody tr th:only-of-type {\n",
       "        vertical-align: middle;\n",
       "    }\n",
       "\n",
       "    .dataframe tbody tr th {\n",
       "        vertical-align: top;\n",
       "    }\n",
       "\n",
       "    .dataframe thead th {\n",
       "        text-align: right;\n",
       "    }\n",
       "</style>\n",
       "<table border=\"1\" class=\"dataframe\">\n",
       "  <thead>\n",
       "    <tr style=\"text-align: right;\">\n",
       "      <th></th>\n",
       "      <th>age</th>\n",
       "      <th>sex</th>\n",
       "      <th>bmi</th>\n",
       "      <th>children</th>\n",
       "      <th>smoker</th>\n",
       "      <th>region</th>\n",
       "      <th>charges</th>\n",
       "    </tr>\n",
       "  </thead>\n",
       "  <tbody>\n",
       "    <tr>\n",
       "      <th>0</th>\n",
       "      <td>19</td>\n",
       "      <td>female</td>\n",
       "      <td>27.900</td>\n",
       "      <td>0</td>\n",
       "      <td>yes</td>\n",
       "      <td>southwest</td>\n",
       "      <td>16884.92400</td>\n",
       "    </tr>\n",
       "    <tr>\n",
       "      <th>1</th>\n",
       "      <td>18</td>\n",
       "      <td>male</td>\n",
       "      <td>33.770</td>\n",
       "      <td>1</td>\n",
       "      <td>no</td>\n",
       "      <td>southeast</td>\n",
       "      <td>1725.55230</td>\n",
       "    </tr>\n",
       "    <tr>\n",
       "      <th>2</th>\n",
       "      <td>28</td>\n",
       "      <td>male</td>\n",
       "      <td>33.000</td>\n",
       "      <td>3</td>\n",
       "      <td>no</td>\n",
       "      <td>southeast</td>\n",
       "      <td>4449.46200</td>\n",
       "    </tr>\n",
       "    <tr>\n",
       "      <th>3</th>\n",
       "      <td>33</td>\n",
       "      <td>male</td>\n",
       "      <td>22.705</td>\n",
       "      <td>0</td>\n",
       "      <td>no</td>\n",
       "      <td>northwest</td>\n",
       "      <td>21984.47061</td>\n",
       "    </tr>\n",
       "    <tr>\n",
       "      <th>4</th>\n",
       "      <td>32</td>\n",
       "      <td>male</td>\n",
       "      <td>28.880</td>\n",
       "      <td>0</td>\n",
       "      <td>no</td>\n",
       "      <td>northwest</td>\n",
       "      <td>3866.85520</td>\n",
       "    </tr>\n",
       "  </tbody>\n",
       "</table>\n",
       "</div>"
      ]
     },
     "execution_count": 47,
     "metadata": {},
     "output_type": "execute_result"
    }
   ],
   "execution_count": 47
  },
  {
   "cell_type": "markdown",
   "id": "08594893",
   "metadata": {},
   "source": [
    "### 2.2 Konvertierung der Daten\n",
    "\n",
    "Mit `info()` wird herausgefunden welchen Dateityp die einzelnen Attribute besitzen."
   ]
  },
  {
   "cell_type": "code",
   "id": "7156ef1d",
   "metadata": {
    "ExecuteTime": {
     "end_time": "2024-06-25T10:00:47.879490Z",
     "start_time": "2024-06-25T10:00:47.863066Z"
    }
   },
   "source": [
    "insurance_data.info()"
   ],
   "outputs": [
    {
     "name": "stdout",
     "output_type": "stream",
     "text": [
      "<class 'pandas.core.frame.DataFrame'>\n",
      "RangeIndex: 1338 entries, 0 to 1337\n",
      "Data columns (total 7 columns):\n",
      " #   Column    Non-Null Count  Dtype  \n",
      "---  ------    --------------  -----  \n",
      " 0   age       1338 non-null   int64  \n",
      " 1   sex       1338 non-null   object \n",
      " 2   bmi       1338 non-null   float64\n",
      " 3   children  1338 non-null   int64  \n",
      " 4   smoker    1338 non-null   object \n",
      " 5   region    1338 non-null   object \n",
      " 6   charges   1338 non-null   float64\n",
      "dtypes: float64(2), int64(2), object(3)\n",
      "memory usage: 73.3+ KB\n"
     ]
    }
   ],
   "execution_count": 9
  },
  {
   "metadata": {},
   "cell_type": "markdown",
   "source": "Die kategorischen Attribute `sex`, `smoker` und `region` sind als `Dtype: object` definiert. Um sicherzustellen, dass die Daten korrekt typisiert sind, werden die genannten Attribute als `category` definiert. ",
   "id": "92ba292ebfbb30c7"
  },
  {
   "cell_type": "code",
   "id": "a75b3e1c",
   "metadata": {
    "ExecuteTime": {
     "end_time": "2024-06-25T11:03:46.673928Z",
     "start_time": "2024-06-25T11:03:46.670539Z"
    }
   },
   "source": [
    "insurance_data['sex'] = insurance_data['sex'].astype('category')\n",
    "insurance_data['smoker'] = insurance_data['smoker'].astype('category')\n",
    "insurance_data['region'] = insurance_data['region'].astype('category')"
   ],
   "outputs": [],
   "execution_count": 48
  },
  {
   "metadata": {},
   "cell_type": "markdown",
   "source": "Nach der Konvertierung der Attribute können sie für folgende Anwendungen korrekt genutzt werden. Die `insurance_date` wird wiederholt auf die Datentypen überprüft mit `info()`.",
   "id": "c755ae1dd97c4da2"
  },
  {
   "cell_type": "markdown",
   "id": "a2d25fd9",
   "metadata": {},
   "source": "### 2.3 Überprüfung der Daten"
  },
  {
   "cell_type": "code",
   "id": "970aea87",
   "metadata": {
    "ExecuteTime": {
     "end_time": "2024-06-25T10:00:47.959833Z",
     "start_time": "2024-06-25T10:00:47.951705Z"
    }
   },
   "source": [
    "insurance_data.info()"
   ],
   "outputs": [
    {
     "name": "stdout",
     "output_type": "stream",
     "text": [
      "<class 'pandas.core.frame.DataFrame'>\n",
      "RangeIndex: 1338 entries, 0 to 1337\n",
      "Data columns (total 7 columns):\n",
      " #   Column    Non-Null Count  Dtype   \n",
      "---  ------    --------------  -----   \n",
      " 0   age       1338 non-null   int64   \n",
      " 1   sex       1338 non-null   category\n",
      " 2   bmi       1338 non-null   float64 \n",
      " 3   children  1338 non-null   int64   \n",
      " 4   smoker    1338 non-null   category\n",
      " 5   region    1338 non-null   category\n",
      " 6   charges   1338 non-null   float64 \n",
      "dtypes: category(3), float64(2), int64(2)\n",
      "memory usage: 46.3 KB\n"
     ]
    }
   ],
   "execution_count": 11
  },
  {
   "metadata": {},
   "cell_type": "markdown",
   "source": "Es sind keine Attribute als `object` definiert. Zur finalen Überprüfung der Daten wird nochmal der `head()` ausgegeben. ",
   "id": "fcfcc21c83484974"
  },
  {
   "cell_type": "code",
   "id": "22570a14",
   "metadata": {
    "ExecuteTime": {
     "end_time": "2024-06-25T10:00:48.005311Z",
     "start_time": "2024-06-25T10:00:47.986841Z"
    }
   },
   "source": [
    "insurance_data.head()"
   ],
   "outputs": [
    {
     "data": {
      "text/plain": [
       "   age     sex     bmi  children smoker     region      charges\n",
       "0   19  female  27.900         0    yes  southwest  16884.92400\n",
       "1   18    male  33.770         1     no  southeast   1725.55230\n",
       "2   28    male  33.000         3     no  southeast   4449.46200\n",
       "3   33    male  22.705         0     no  northwest  21984.47061\n",
       "4   32    male  28.880         0     no  northwest   3866.85520"
      ],
      "text/html": [
       "<div>\n",
       "<style scoped>\n",
       "    .dataframe tbody tr th:only-of-type {\n",
       "        vertical-align: middle;\n",
       "    }\n",
       "\n",
       "    .dataframe tbody tr th {\n",
       "        vertical-align: top;\n",
       "    }\n",
       "\n",
       "    .dataframe thead th {\n",
       "        text-align: right;\n",
       "    }\n",
       "</style>\n",
       "<table border=\"1\" class=\"dataframe\">\n",
       "  <thead>\n",
       "    <tr style=\"text-align: right;\">\n",
       "      <th></th>\n",
       "      <th>age</th>\n",
       "      <th>sex</th>\n",
       "      <th>bmi</th>\n",
       "      <th>children</th>\n",
       "      <th>smoker</th>\n",
       "      <th>region</th>\n",
       "      <th>charges</th>\n",
       "    </tr>\n",
       "  </thead>\n",
       "  <tbody>\n",
       "    <tr>\n",
       "      <th>0</th>\n",
       "      <td>19</td>\n",
       "      <td>female</td>\n",
       "      <td>27.900</td>\n",
       "      <td>0</td>\n",
       "      <td>yes</td>\n",
       "      <td>southwest</td>\n",
       "      <td>16884.92400</td>\n",
       "    </tr>\n",
       "    <tr>\n",
       "      <th>1</th>\n",
       "      <td>18</td>\n",
       "      <td>male</td>\n",
       "      <td>33.770</td>\n",
       "      <td>1</td>\n",
       "      <td>no</td>\n",
       "      <td>southeast</td>\n",
       "      <td>1725.55230</td>\n",
       "    </tr>\n",
       "    <tr>\n",
       "      <th>2</th>\n",
       "      <td>28</td>\n",
       "      <td>male</td>\n",
       "      <td>33.000</td>\n",
       "      <td>3</td>\n",
       "      <td>no</td>\n",
       "      <td>southeast</td>\n",
       "      <td>4449.46200</td>\n",
       "    </tr>\n",
       "    <tr>\n",
       "      <th>3</th>\n",
       "      <td>33</td>\n",
       "      <td>male</td>\n",
       "      <td>22.705</td>\n",
       "      <td>0</td>\n",
       "      <td>no</td>\n",
       "      <td>northwest</td>\n",
       "      <td>21984.47061</td>\n",
       "    </tr>\n",
       "    <tr>\n",
       "      <th>4</th>\n",
       "      <td>32</td>\n",
       "      <td>male</td>\n",
       "      <td>28.880</td>\n",
       "      <td>0</td>\n",
       "      <td>no</td>\n",
       "      <td>northwest</td>\n",
       "      <td>3866.85520</td>\n",
       "    </tr>\n",
       "  </tbody>\n",
       "</table>\n",
       "</div>"
      ]
     },
     "execution_count": 12,
     "metadata": {},
     "output_type": "execute_result"
    }
   ],
   "execution_count": 12
  },
  {
   "metadata": {},
   "cell_type": "markdown",
   "source": "Mit den nun konvertierten und angepassten Daten kann ein `train_set` und `test_set` erstellt werden.",
   "id": "3c638071d2bd14d4"
  },
  {
   "cell_type": "markdown",
   "id": "9d5421f0",
   "metadata": {},
   "source": [
    "### 2.4 Aufteilung der Daten\n",
    "\n",
    "`insurance_data` wird in ein `train_set` und ein `test_set` aufgeteilt mithilfe der Funktion `train_test_split()`. Die `test_size` beträgt 20 % der Gesamtdaten. Das `test_set` wird zur Seite gelegt und zum Ende des Projektes erst angeschaut, um eine unvoreingenomme Bewertung des Modells zu gewährleisten."
   ]
  },
  {
   "cell_type": "code",
   "id": "7bbdd863",
   "metadata": {
    "ExecuteTime": {
     "end_time": "2024-06-25T10:00:48.144774Z",
     "start_time": "2024-06-25T10:00:48.138707Z"
    }
   },
   "source": [
    "from sklearn.model_selection import train_test_split\n",
    "\n",
    "train_set, test_set = train_test_split(insurance_data, test_size=0.2, random_state=42)"
   ],
   "outputs": [],
   "execution_count": 14
  },
  {
   "metadata": {},
   "cell_type": "markdown",
   "source": "Beide Sätze werden nochmal auf Richtigkeit überprüft.",
   "id": "1273bfcbea1bd20f"
  },
  {
   "metadata": {
    "ExecuteTime": {
     "end_time": "2024-06-25T11:30:53.410154Z",
     "start_time": "2024-06-25T11:30:53.403589Z"
    }
   },
   "cell_type": "code",
   "source": "train_set.info()",
   "id": "be5292d356f7a0ab",
   "outputs": [
    {
     "name": "stdout",
     "output_type": "stream",
     "text": [
      "<class 'pandas.core.frame.DataFrame'>\n",
      "Index: 1060 entries, 560 to 1126\n",
      "Data columns (total 7 columns):\n",
      " #   Column    Non-Null Count  Dtype   \n",
      "---  ------    --------------  -----   \n",
      " 0   age       1060 non-null   int64   \n",
      " 1   sex       1060 non-null   category\n",
      " 2   bmi       1060 non-null   float64 \n",
      " 3   children  1060 non-null   int64   \n",
      " 4   smoker    1060 non-null   category\n",
      " 5   region    1060 non-null   category\n",
      " 6   charges   1060 non-null   float64 \n",
      "dtypes: category(3), float64(2), int64(2)\n",
      "memory usage: 45.0 KB\n"
     ]
    }
   ],
   "execution_count": 50
  },
  {
   "metadata": {
    "ExecuteTime": {
     "end_time": "2024-06-25T11:31:13.565618Z",
     "start_time": "2024-06-25T11:31:13.558593Z"
    }
   },
   "cell_type": "code",
   "source": "test_set.info()",
   "id": "74fcab987f06bc44",
   "outputs": [
    {
     "name": "stdout",
     "output_type": "stream",
     "text": [
      "<class 'pandas.core.frame.DataFrame'>\n",
      "Index: 268 entries, 764 to 846\n",
      "Data columns (total 7 columns):\n",
      " #   Column    Non-Null Count  Dtype   \n",
      "---  ------    --------------  -----   \n",
      " 0   age       268 non-null    int64   \n",
      " 1   sex       268 non-null    category\n",
      " 2   bmi       268 non-null    float64 \n",
      " 3   children  268 non-null    int64   \n",
      " 4   smoker    268 non-null    category\n",
      " 5   region    268 non-null    category\n",
      " 6   charges   268 non-null    float64 \n",
      "dtypes: category(3), float64(2), int64(2)\n",
      "memory usage: 11.7 KB\n"
     ]
    }
   ],
   "execution_count": 51
  },
  {
   "metadata": {},
   "cell_type": "markdown",
   "source": "Das `test_set` hat 20 % der Datensätze von `insurance_data`. Ein extra `validation_set` wurde nicht erstellt, da zum Validieren der Modelle während des Trainings Cross-Validation verwendet wird.",
   "id": "c464f1d10c8f1e00"
  },
  {
   "metadata": {},
   "cell_type": "markdown",
   "source": [
    "## 3. Explore the data\n",
    "\n",
    "### 3.1 Kopie vom Trainingsset\n",
    "\n",
    "Zur Erkundung des Trainingssets wird eine Kopie von `train_set` erstellt."
   ],
   "id": "fdaf5d1741778da0"
  },
  {
   "metadata": {
    "ExecuteTime": {
     "end_time": "2024-06-25T11:42:58.590601Z",
     "start_time": "2024-06-25T11:42:58.587728Z"
    }
   },
   "cell_type": "code",
   "source": "train_set_explore = train_set.copy()",
   "id": "fa3b8fa78cfa17c6",
   "outputs": [],
   "execution_count": 53
  },
  {
   "metadata": {},
   "cell_type": "markdown",
   "source": "Mit dem Datenframe `train_set_explore` werden nun die Daten visualisiert und Charakteristik der Attribute gezeigt. Mit `head()` wird ein erster Blick auf die Daten geworfen. ",
   "id": "d116cf2e09676f59"
  },
  {
   "cell_type": "code",
   "id": "a8330476",
   "metadata": {
    "ExecuteTime": {
     "end_time": "2024-06-25T11:43:00.815448Z",
     "start_time": "2024-06-25T11:43:00.805299Z"
    }
   },
   "source": "train_set_explore.head()",
   "outputs": [
    {
     "data": {
      "text/plain": [
       "      age     sex    bmi  children smoker     region      charges\n",
       "560    46  female  19.95         2     no  northwest   9193.83850\n",
       "1285   47  female  24.32         0     no  northeast   8534.67180\n",
       "1142   52  female  24.86         0     no  southeast  27117.99378\n",
       "969    39  female  34.32         5     no  southeast   8596.82780\n",
       "486    54  female  21.47         3     no  northwest  12475.35130"
      ],
      "text/html": [
       "<div>\n",
       "<style scoped>\n",
       "    .dataframe tbody tr th:only-of-type {\n",
       "        vertical-align: middle;\n",
       "    }\n",
       "\n",
       "    .dataframe tbody tr th {\n",
       "        vertical-align: top;\n",
       "    }\n",
       "\n",
       "    .dataframe thead th {\n",
       "        text-align: right;\n",
       "    }\n",
       "</style>\n",
       "<table border=\"1\" class=\"dataframe\">\n",
       "  <thead>\n",
       "    <tr style=\"text-align: right;\">\n",
       "      <th></th>\n",
       "      <th>age</th>\n",
       "      <th>sex</th>\n",
       "      <th>bmi</th>\n",
       "      <th>children</th>\n",
       "      <th>smoker</th>\n",
       "      <th>region</th>\n",
       "      <th>charges</th>\n",
       "    </tr>\n",
       "  </thead>\n",
       "  <tbody>\n",
       "    <tr>\n",
       "      <th>560</th>\n",
       "      <td>46</td>\n",
       "      <td>female</td>\n",
       "      <td>19.95</td>\n",
       "      <td>2</td>\n",
       "      <td>no</td>\n",
       "      <td>northwest</td>\n",
       "      <td>9193.83850</td>\n",
       "    </tr>\n",
       "    <tr>\n",
       "      <th>1285</th>\n",
       "      <td>47</td>\n",
       "      <td>female</td>\n",
       "      <td>24.32</td>\n",
       "      <td>0</td>\n",
       "      <td>no</td>\n",
       "      <td>northeast</td>\n",
       "      <td>8534.67180</td>\n",
       "    </tr>\n",
       "    <tr>\n",
       "      <th>1142</th>\n",
       "      <td>52</td>\n",
       "      <td>female</td>\n",
       "      <td>24.86</td>\n",
       "      <td>0</td>\n",
       "      <td>no</td>\n",
       "      <td>southeast</td>\n",
       "      <td>27117.99378</td>\n",
       "    </tr>\n",
       "    <tr>\n",
       "      <th>969</th>\n",
       "      <td>39</td>\n",
       "      <td>female</td>\n",
       "      <td>34.32</td>\n",
       "      <td>5</td>\n",
       "      <td>no</td>\n",
       "      <td>southeast</td>\n",
       "      <td>8596.82780</td>\n",
       "    </tr>\n",
       "    <tr>\n",
       "      <th>486</th>\n",
       "      <td>54</td>\n",
       "      <td>female</td>\n",
       "      <td>21.47</td>\n",
       "      <td>3</td>\n",
       "      <td>no</td>\n",
       "      <td>northwest</td>\n",
       "      <td>12475.35130</td>\n",
       "    </tr>\n",
       "  </tbody>\n",
       "</table>\n",
       "</div>"
      ]
     },
     "execution_count": 54,
     "metadata": {},
     "output_type": "execute_result"
    }
   ],
   "execution_count": 54
  },
  {
   "cell_type": "markdown",
   "id": "959dc40b",
   "metadata": {},
   "source": "### 3.2 Charakteristik der Attribute"
  },
  {
   "cell_type": "markdown",
   "id": "cde801f9",
   "metadata": {},
   "source": [
    "Die Anzahl der fehlenden Werte für jedes Attribut wird überprüft."
   ]
  },
  {
   "cell_type": "code",
   "id": "5a2d461c",
   "metadata": {
    "ExecuteTime": {
     "end_time": "2024-06-25T10:00:48.930354Z",
     "start_time": "2024-06-25T10:00:48.918424Z"
    }
   },
   "source": [
    "print(combined_training_plot.isnull().sum())"
   ],
   "outputs": [
    {
     "ename": "NameError",
     "evalue": "name 'combined_training_plot' is not defined",
     "output_type": "error",
     "traceback": [
      "\u001B[1;31m---------------------------------------------------------------------------\u001B[0m",
      "\u001B[1;31mNameError\u001B[0m                                 Traceback (most recent call last)",
      "Cell \u001B[1;32mIn[19], line 1\u001B[0m\n\u001B[1;32m----> 1\u001B[0m \u001B[38;5;28mprint\u001B[39m(\u001B[43mcombined_training_plot\u001B[49m\u001B[38;5;241m.\u001B[39misnull()\u001B[38;5;241m.\u001B[39msum())\n",
      "\u001B[1;31mNameError\u001B[0m: name 'combined_training_plot' is not defined"
     ]
    }
   ],
   "execution_count": 19
  },
  {
   "cell_type": "markdown",
   "id": "750e208f",
   "metadata": {},
   "source": [
    "**3.2 Zielattribut identifizieren**"
   ]
  },
  {
   "cell_type": "code",
   "id": "ade87277",
   "metadata": {
    "ExecuteTime": {
     "end_time": "2024-06-25T10:00:48.988872Z",
     "start_time": "2024-06-25T10:00:48.986363Z"
    }
   },
   "source": [
    "target_attribute = 'charges'\n",
    "print(f'Das Zielattribut für überwachtes Lernen ist: {target_attribute}')"
   ],
   "outputs": [
    {
     "name": "stdout",
     "output_type": "stream",
     "text": [
      "Das Zielattribut für überwachtes Lernen ist: charges\n"
     ]
    }
   ],
   "execution_count": 20
  },
  {
   "cell_type": "markdown",
   "id": "f50c5cde",
   "metadata": {},
   "source": [
    "**3.3 Daten visualisieren**"
   ]
  },
  {
   "cell_type": "code",
   "id": "a989b678",
   "metadata": {
    "ExecuteTime": {
     "end_time": "2024-06-25T10:00:49.062158Z",
     "start_time": "2024-06-25T10:00:49.021876Z"
    }
   },
   "source": [
    "# Histogramm der Behandlungskosten\n",
    "plt.figure()\n",
    "sns.histplot(combined_training_plot['charges'], bins=30, kde=True)\n",
    "plt.title('Verteilung der Behandlungskosten')\n",
    "plt.xlabel('Behandlungskosten')\n",
    "plt.ylabel('Häufigkeit')\n",
    "plt.show()"
   ],
   "outputs": [
    {
     "ename": "NameError",
     "evalue": "name 'combined_training_plot' is not defined",
     "output_type": "error",
     "traceback": [
      "\u001B[1;31m---------------------------------------------------------------------------\u001B[0m",
      "\u001B[1;31mNameError\u001B[0m                                 Traceback (most recent call last)",
      "Cell \u001B[1;32mIn[21], line 3\u001B[0m\n\u001B[0;32m      1\u001B[0m \u001B[38;5;66;03m# Histogramm der Behandlungskosten\u001B[39;00m\n\u001B[0;32m      2\u001B[0m plt\u001B[38;5;241m.\u001B[39mfigure()\n\u001B[1;32m----> 3\u001B[0m sns\u001B[38;5;241m.\u001B[39mhistplot(\u001B[43mcombined_training_plot\u001B[49m[\u001B[38;5;124m'\u001B[39m\u001B[38;5;124mcharges\u001B[39m\u001B[38;5;124m'\u001B[39m], bins\u001B[38;5;241m=\u001B[39m\u001B[38;5;241m30\u001B[39m, kde\u001B[38;5;241m=\u001B[39m\u001B[38;5;28;01mTrue\u001B[39;00m)\n\u001B[0;32m      4\u001B[0m plt\u001B[38;5;241m.\u001B[39mtitle(\u001B[38;5;124m'\u001B[39m\u001B[38;5;124mVerteilung der Behandlungskosten\u001B[39m\u001B[38;5;124m'\u001B[39m)\n\u001B[0;32m      5\u001B[0m plt\u001B[38;5;241m.\u001B[39mxlabel(\u001B[38;5;124m'\u001B[39m\u001B[38;5;124mBehandlungskosten\u001B[39m\u001B[38;5;124m'\u001B[39m)\n",
      "\u001B[1;31mNameError\u001B[0m: name 'combined_training_plot' is not defined"
     ]
    },
    {
     "data": {
      "text/plain": [
       "<Figure size 640x480 with 0 Axes>"
      ]
     },
     "metadata": {},
     "output_type": "display_data"
    }
   ],
   "execution_count": 21
  },
  {
   "cell_type": "code",
   "id": "ade9492f",
   "metadata": {
    "ExecuteTime": {
     "end_time": "2024-06-25T10:00:49.154194Z",
     "start_time": "2024-06-25T10:00:49.138164Z"
    }
   },
   "source": [
    "#Boxplot von Behandlungskosten nach Rauchstatus\n",
    "plt.figure()\n",
    "sns.boxplot(x='smoker', y='charges', data=combined_training_plot)\n",
    "plt.title('Behandlungskosten nach Rauchstatus')\n",
    "plt.xlabel('Rauchstatus')\n",
    "plt.ylabel('Behandlungskosten')\n",
    "plt.show()"
   ],
   "outputs": [
    {
     "ename": "NameError",
     "evalue": "name 'combined_training_plot' is not defined",
     "output_type": "error",
     "traceback": [
      "\u001B[1;31m---------------------------------------------------------------------------\u001B[0m",
      "\u001B[1;31mNameError\u001B[0m                                 Traceback (most recent call last)",
      "Cell \u001B[1;32mIn[22], line 3\u001B[0m\n\u001B[0;32m      1\u001B[0m \u001B[38;5;66;03m#Boxplot von Behandlungskosten nach Rauchstatus\u001B[39;00m\n\u001B[0;32m      2\u001B[0m plt\u001B[38;5;241m.\u001B[39mfigure()\n\u001B[1;32m----> 3\u001B[0m sns\u001B[38;5;241m.\u001B[39mboxplot(x\u001B[38;5;241m=\u001B[39m\u001B[38;5;124m'\u001B[39m\u001B[38;5;124msmoker\u001B[39m\u001B[38;5;124m'\u001B[39m, y\u001B[38;5;241m=\u001B[39m\u001B[38;5;124m'\u001B[39m\u001B[38;5;124mcharges\u001B[39m\u001B[38;5;124m'\u001B[39m, data\u001B[38;5;241m=\u001B[39m\u001B[43mcombined_training_plot\u001B[49m)\n\u001B[0;32m      4\u001B[0m plt\u001B[38;5;241m.\u001B[39mtitle(\u001B[38;5;124m'\u001B[39m\u001B[38;5;124mBehandlungskosten nach Rauchstatus\u001B[39m\u001B[38;5;124m'\u001B[39m)\n\u001B[0;32m      5\u001B[0m plt\u001B[38;5;241m.\u001B[39mxlabel(\u001B[38;5;124m'\u001B[39m\u001B[38;5;124mRauchstatus\u001B[39m\u001B[38;5;124m'\u001B[39m)\n",
      "\u001B[1;31mNameError\u001B[0m: name 'combined_training_plot' is not defined"
     ]
    },
    {
     "data": {
      "text/plain": [
       "<Figure size 640x480 with 0 Axes>"
      ]
     },
     "metadata": {},
     "output_type": "display_data"
    }
   ],
   "execution_count": 22
  },
  {
   "cell_type": "code",
   "id": "07e64790",
   "metadata": {
    "ExecuteTime": {
     "end_time": "2024-06-25T10:00:49.183448Z",
     "start_time": "2024-06-25T10:00:49.170204Z"
    }
   },
   "source": [
    "# Paarweise Streudiagramme (Pairplot) für ausgewählte Attribute\n",
    "selected_features = ['age', 'bmi', 'children', 'charges']\n",
    "sns.pairplot(combined_training_plot[selected_features])\n",
    "plt.show()"
   ],
   "outputs": [
    {
     "ename": "NameError",
     "evalue": "name 'combined_training_plot' is not defined",
     "output_type": "error",
     "traceback": [
      "\u001B[1;31m---------------------------------------------------------------------------\u001B[0m",
      "\u001B[1;31mNameError\u001B[0m                                 Traceback (most recent call last)",
      "Cell \u001B[1;32mIn[23], line 3\u001B[0m\n\u001B[0;32m      1\u001B[0m \u001B[38;5;66;03m# Paarweise Streudiagramme (Pairplot) für ausgewählte Attribute\u001B[39;00m\n\u001B[0;32m      2\u001B[0m selected_features \u001B[38;5;241m=\u001B[39m [\u001B[38;5;124m'\u001B[39m\u001B[38;5;124mage\u001B[39m\u001B[38;5;124m'\u001B[39m, \u001B[38;5;124m'\u001B[39m\u001B[38;5;124mbmi\u001B[39m\u001B[38;5;124m'\u001B[39m, \u001B[38;5;124m'\u001B[39m\u001B[38;5;124mchildren\u001B[39m\u001B[38;5;124m'\u001B[39m, \u001B[38;5;124m'\u001B[39m\u001B[38;5;124mcharges\u001B[39m\u001B[38;5;124m'\u001B[39m]\n\u001B[1;32m----> 3\u001B[0m sns\u001B[38;5;241m.\u001B[39mpairplot(\u001B[43mcombined_training_plot\u001B[49m[selected_features])\n\u001B[0;32m      4\u001B[0m plt\u001B[38;5;241m.\u001B[39mshow()\n",
      "\u001B[1;31mNameError\u001B[0m: name 'combined_training_plot' is not defined"
     ]
    }
   ],
   "execution_count": 23
  },
  {
   "cell_type": "code",
   "id": "c2bd6fed",
   "metadata": {
    "ExecuteTime": {
     "end_time": "2024-06-25T10:00:49.256747Z",
     "start_time": "2024-06-25T10:00:49.248458Z"
    }
   },
   "source": [
    "#Die Variablen, die verschiedene Werte enthalten, zB männlich und weiblich bei Geschlecht, werden jetzt unterteilt in die Anzahl ihrer Werte, sodass die Angaben nur noch True oder False enthalten.\n",
    "# Kategoriale Variablen in numerische Werte umwandeln für Korrelationen\n",
    "combined_training_plot_encoded = pd.get_dummies(insurance_data, columns=['sex', 'smoker', 'region'])"
   ],
   "outputs": [],
   "execution_count": 24
  },
  {
   "cell_type": "code",
   "id": "505a1e99",
   "metadata": {
    "ExecuteTime": {
     "end_time": "2024-06-25T10:00:49.599338Z",
     "start_time": "2024-06-25T10:00:49.294755Z"
    }
   },
   "source": [
    "# Korrelationsmatrix berechnen mit den kodierten Daten\n",
    "correlation_matrix = combined_training_plot_encoded.corr()\n",
    "\n",
    "# Heatmap der Korrelationsmatrix\n",
    "plt.figure(figsize=(12, 8))\n",
    "sns.heatmap(correlation_matrix, annot=True, vmin=-1, vmax=1)\n",
    "plt.title('Korrelationsmatrix der Attribute')\n",
    "plt.show()\n"
   ],
   "outputs": [
    {
     "data": {
      "text/plain": [
       "<Figure size 1200x800 with 2 Axes>"
      ],
      "image/png": "[encoded data removed]"
     },
     "metadata": {},
     "output_type": "display_data"
    }
   ],
   "execution_count": 25
  },
  {
   "cell_type": "markdown",
   "id": "e92eed43",
   "metadata": {},
   "source": [
    "**3.4 Dokumentation der Transformationen**\n",
    "\n",
    "1. **Log-Transformation der Behandlungskosten:**\n",
    "   - Die Spalte `charges` soll logarithmisch transformiert werden, um die rechtsschiefe Verteilung zu normalisieren.\n",
    "\n",
    "2. **Standardisierung der numerischen Variablen:**\n",
    "   - Alle numerischen Features wurden standardisiert, um einen Mittelwert von 0 und eine Standardabweichung von 1 zu haben.\n",
    "\n",
    "3. **One-Hot-Encoding der kategorialen Variablen:**\n",
    "   - Die kategorialen Variablen `sex`, `region` und `smoker` sollen mittels One-Hot-Encoding in numerische Formate umgewandelt werden.\n",
    "\n",
    "4. **Umgang mit Ausreißern:**\n",
    "   - Datenpunkte, die mehr als 3 Standardabweichungen vom Mittelwert sollen entfernt werden,.\n",
    "\n"
   ]
  },
  {
   "cell_type": "markdown",
   "id": "0069cdf0",
   "metadata": {},
   "source": [
    "**3.5 Ergebnisse**"
   ]
  },
  {
   "cell_type": "markdown",
   "id": "46190707",
   "metadata": {},
   "source": [
    "\n",
    "\n",
    "**Übersicht der Daten**\n",
    "- Der Datensatz enthält 1338 Einträge mit 7 Merkmalen und der Zielvariable \"charges\".\n",
    "- Die Merkmale umfassen demografische Informationen wie Alter, Geschlecht, BMI, Anzahl der Kinder, Rauchstatus und Wohnregion.\n",
    "\n",
    "**Verteilungen der Merkmale**\n",
    "- Die Verteilung der Behandlungskosten ist rechtsschief, was auf einige hohe Kostenfälle hinweist.\n",
    "- Das Boxplot der Behandlungskosten nach Rauchstatus zeigt, dass Raucher tendenziell höhere Behandlungskosten haben als Nichtraucher.\n",
    "\n",
    "**Korrelationen**\n",
    "- Es gibt eine starke positive Korrelation zwischen \"charges\" und \"smoker\" (Rauchstatus), was darauf hindeutet, dass Raucher höhere Behandlungskosten haben.\n",
    "- Auch das Alter und der BMI zeigen eine positive Korrelation mit den Behandlungskosten.\n",
    "\n",
    "\n",
    "**Fazit**\n",
    "- Die explorative Analyse hat wertvolle Einblicke in die Struktur und Beziehungen der Daten geliefert. Diese Erkenntnisse werden bei der Auswahl und Vorbereitung der Modelle berücksichtigt.\n"
   ]
  },
  {
   "cell_type": "markdown",
   "id": "9607f0fc",
   "metadata": {},
   "source": [
    "# Prepare the Data"
   ]
  },
  {
   "metadata": {
    "ExecuteTime": {
     "end_time": "2024-06-25T10:00:49.605109Z",
     "start_time": "2024-06-25T10:00:49.600346Z"
    }
   },
   "cell_type": "code",
   "source": [
    "import pandas as pd\n",
    "import numpy as np\n",
    "\n",
    "def remove_outliers(data, columns, threshold):\n",
    "\n",
    "    filtered_data = data.copy()\n",
    "    outliers_dataframes = []\n",
    "    outliers_values = []\n",
    "\n",
    "    # Iterate over specified columns\n",
    "    for col in columns:\n",
    "        # Calculate Z-scores for the column\n",
    "        z_scores = np.abs((filtered_data[col] - filtered_data[col].mean()) / filtered_data[col].std())\n",
    "\n",
    "        # Identify outliers based on the threshold\n",
    "        outliers = z_scores > threshold\n",
    "\n",
    "        # Append outliers to outliers_dataframes list\n",
    "        outliers_dataframes.append(filtered_data[outliers])\n",
    "\n",
    "        # Append outlier values to outliers_values list\n",
    "        outliers_values.extend([col] * np.sum(outliers))\n",
    "\n",
    "        # Remove outliers from the dataframe\n",
    "        filtered_data = filtered_data[~outliers]\n",
    "\n",
    "        removed_outliers = pd.concat(outliers_dataframes)\n",
    "        removed_outliers['outlier_values'] = outliers_values\n",
    "\n",
    "    return filtered_data, removed_outliers\n",
    "\n",
    "\n"
   ],
   "id": "dc21ec672fff1fb2",
   "outputs": [],
   "execution_count": 26
  },
  {
   "metadata": {
    "ExecuteTime": {
     "end_time": "2024-06-25T10:00:49.617404Z",
     "start_time": "2024-06-25T10:00:49.606118Z"
    }
   },
   "cell_type": "code",
   "source": "train_set.info()",
   "id": "8fc5fa8e130217ab",
   "outputs": [
    {
     "name": "stdout",
     "output_type": "stream",
     "text": [
      "<class 'pandas.core.frame.DataFrame'>\n",
      "Index: 1070 entries, 560 to 1126\n",
      "Data columns (total 7 columns):\n",
      " #   Column    Non-Null Count  Dtype   \n",
      "---  ------    --------------  -----   \n",
      " 0   age       1070 non-null   int64   \n",
      " 1   sex       1070 non-null   category\n",
      " 2   bmi       1070 non-null   float64 \n",
      " 3   children  1070 non-null   int64   \n",
      " 4   smoker    1070 non-null   category\n",
      " 5   region    1070 non-null   category\n",
      " 6   charges   1070 non-null   float64 \n",
      "dtypes: category(3), float64(2), int64(2)\n",
      "memory usage: 45.4 KB\n"
     ]
    }
   ],
   "execution_count": 27
  },
  {
   "metadata": {
    "ExecuteTime": {
     "end_time": "2024-06-25T10:00:49.630841Z",
     "start_time": "2024-06-25T10:00:49.618413Z"
    }
   },
   "cell_type": "code",
   "source": "train_set, outliers_df = remove_outliers(train_set, columns=['age', 'bmi', 'charges'], threshold=3)",
   "id": "d4ac15362566424",
   "outputs": [],
   "execution_count": 28
  },
  {
   "metadata": {
    "ExecuteTime": {
     "end_time": "2024-06-25T10:00:49.639153Z",
     "start_time": "2024-06-25T10:00:49.631850Z"
    }
   },
   "cell_type": "code",
   "source": "train_set.info()",
   "id": "287b2b1c558a8b73",
   "outputs": [
    {
     "name": "stdout",
     "output_type": "stream",
     "text": [
      "<class 'pandas.core.frame.DataFrame'>\n",
      "Index: 1060 entries, 560 to 1126\n",
      "Data columns (total 7 columns):\n",
      " #   Column    Non-Null Count  Dtype   \n",
      "---  ------    --------------  -----   \n",
      " 0   age       1060 non-null   int64   \n",
      " 1   sex       1060 non-null   category\n",
      " 2   bmi       1060 non-null   float64 \n",
      " 3   children  1060 non-null   int64   \n",
      " 4   smoker    1060 non-null   category\n",
      " 5   region    1060 non-null   category\n",
      " 6   charges   1060 non-null   float64 \n",
      "dtypes: category(3), float64(2), int64(2)\n",
      "memory usage: 45.0 KB\n"
     ]
    }
   ],
   "execution_count": 29
  },
  {
   "metadata": {
    "ExecuteTime": {
     "end_time": "2024-06-25T10:00:49.653537Z",
     "start_time": "2024-06-25T10:00:49.640162Z"
    }
   },
   "cell_type": "code",
   "source": "outliers_df.head(30)",
   "id": "e1beb6f4e8cde357",
   "outputs": [
    {
     "data": {
      "text/plain": [
       "      age     sex     bmi  children smoker     region      charges  \\\n",
       "847    23    male  50.380         1     no  southeast   2438.05520   \n",
       "1317   18    male  53.130         0     no  southeast   1163.46270   \n",
       "116    58    male  49.060         0     no  southeast  11381.32540   \n",
       "1146   60    male  32.800         0    yes  southwest  52590.82939   \n",
       "1230   52    male  34.485         3    yes  northwest  60021.39897   \n",
       "1241   64    male  36.960         2    yes  southeast  49577.66240   \n",
       "819    33  female  35.530         0    yes  northwest  55135.40209   \n",
       "1300   45    male  30.360         0    yes  southeast  62592.87309   \n",
       "577    31  female  38.095         1    yes  northeast  58571.07448   \n",
       "34     28    male  36.400         1    yes  southwest  51194.55914   \n",
       "\n",
       "     outlier_values  \n",
       "847             bmi  \n",
       "1317            bmi  \n",
       "116             bmi  \n",
       "1146        charges  \n",
       "1230        charges  \n",
       "1241        charges  \n",
       "819         charges  \n",
       "1300        charges  \n",
       "577         charges  \n",
       "34          charges  "
      ],
      "text/html": [
       "<div>\n",
       "<style scoped>\n",
       "    .dataframe tbody tr th:only-of-type {\n",
       "        vertical-align: middle;\n",
       "    }\n",
       "\n",
       "    .dataframe tbody tr th {\n",
       "        vertical-align: top;\n",
       "    }\n",
       "\n",
       "    .dataframe thead th {\n",
       "        text-align: right;\n",
       "    }\n",
       "</style>\n",
       "<table border=\"1\" class=\"dataframe\">\n",
       "  <thead>\n",
       "    <tr style=\"text-align: right;\">\n",
       "      <th></th>\n",
       "      <th>age</th>\n",
       "      <th>sex</th>\n",
       "      <th>bmi</th>\n",
       "      <th>children</th>\n",
       "      <th>smoker</th>\n",
       "      <th>region</th>\n",
       "      <th>charges</th>\n",
       "      <th>outlier_values</th>\n",
       "    </tr>\n",
       "  </thead>\n",
       "  <tbody>\n",
       "    <tr>\n",
       "      <th>847</th>\n",
       "      <td>23</td>\n",
       "      <td>male</td>\n",
       "      <td>50.380</td>\n",
       "      <td>1</td>\n",
       "      <td>no</td>\n",
       "      <td>southeast</td>\n",
       "      <td>2438.05520</td>\n",
       "      <td>bmi</td>\n",
       "    </tr>\n",
       "    <tr>\n",
       "      <th>1317</th>\n",
       "      <td>18</td>\n",
       "      <td>male</td>\n",
       "      <td>53.130</td>\n",
       "      <td>0</td>\n",
       "      <td>no</td>\n",
       "      <td>southeast</td>\n",
       "      <td>1163.46270</td>\n",
       "      <td>bmi</td>\n",
       "    </tr>\n",
       "    <tr>\n",
       "      <th>116</th>\n",
       "      <td>58</td>\n",
       "      <td>male</td>\n",
       "      <td>49.060</td>\n",
       "      <td>0</td>\n",
       "      <td>no</td>\n",
       "      <td>southeast</td>\n",
       "      <td>11381.32540</td>\n",
       "      <td>bmi</td>\n",
       "    </tr>\n",
       "    <tr>\n",
       "      <th>1146</th>\n",
       "      <td>60</td>\n",
       "      <td>male</td>\n",
       "      <td>32.800</td>\n",
       "      <td>0</td>\n",
       "      <td>yes</td>\n",
       "      <td>southwest</td>\n",
       "      <td>52590.82939</td>\n",
       "      <td>charges</td>\n",
       "    </tr>\n",
       "    <tr>\n",
       "      <th>1230</th>\n",
       "      <td>52</td>\n",
       "      <td>male</td>\n",
       "      <td>34.485</td>\n",
       "      <td>3</td>\n",
       "      <td>yes</td>\n",
       "      <td>northwest</td>\n",
       "      <td>60021.39897</td>\n",
       "      <td>charges</td>\n",
       "    </tr>\n",
       "    <tr>\n",
       "      <th>1241</th>\n",
       "      <td>64</td>\n",
       "      <td>male</td>\n",
       "      <td>36.960</td>\n",
       "      <td>2</td>\n",
       "      <td>yes</td>\n",
       "      <td>southeast</td>\n",
       "      <td>49577.66240</td>\n",
       "      <td>charges</td>\n",
       "    </tr>\n",
       "    <tr>\n",
       "      <th>819</th>\n",
       "      <td>33</td>\n",
       "      <td>female</td>\n",
       "      <td>35.530</td>\n",
       "      <td>0</td>\n",
       "      <td>yes</td>\n",
       "      <td>northwest</td>\n",
       "      <td>55135.40209</td>\n",
       "      <td>charges</td>\n",
       "    </tr>\n",
       "    <tr>\n",
       "      <th>1300</th>\n",
       "      <td>45</td>\n",
       "      <td>male</td>\n",
       "      <td>30.360</td>\n",
       "      <td>0</td>\n",
       "      <td>yes</td>\n",
       "      <td>southeast</td>\n",
       "      <td>62592.87309</td>\n",
       "      <td>charges</td>\n",
       "    </tr>\n",
       "    <tr>\n",
       "      <th>577</th>\n",
       "      <td>31</td>\n",
       "      <td>female</td>\n",
       "      <td>38.095</td>\n",
       "      <td>1</td>\n",
       "      <td>yes</td>\n",
       "      <td>northeast</td>\n",
       "      <td>58571.07448</td>\n",
       "      <td>charges</td>\n",
       "    </tr>\n",
       "    <tr>\n",
       "      <th>34</th>\n",
       "      <td>28</td>\n",
       "      <td>male</td>\n",
       "      <td>36.400</td>\n",
       "      <td>1</td>\n",
       "      <td>yes</td>\n",
       "      <td>southwest</td>\n",
       "      <td>51194.55914</td>\n",
       "      <td>charges</td>\n",
       "    </tr>\n",
       "  </tbody>\n",
       "</table>\n",
       "</div>"
      ]
     },
     "execution_count": 30,
     "metadata": {},
     "output_type": "execute_result"
    }
   ],
   "execution_count": 30
  },
  {
   "metadata": {
    "ExecuteTime": {
     "end_time": "2024-06-25T10:00:49.661152Z",
     "start_time": "2024-06-25T10:00:49.653537Z"
    }
   },
   "cell_type": "code",
   "source": [
    "# Merkmale (Features) und Zielvariable (Target) werden definiert\n",
    "x_train = train_set.drop(columns=['charges'], axis=1)\n",
    "y_train = train_set['charges']"
   ],
   "id": "5e3778da06972a98",
   "outputs": [],
   "execution_count": 31
  },
  {
   "cell_type": "markdown",
   "id": "57c07702",
   "metadata": {},
   "source": [
    "**4.1 Clean the Data**"
   ]
  },
  {
   "cell_type": "markdown",
   "id": "47efc888",
   "metadata": {},
   "source": [
    "Das Auffüllen von fehlenden Daten ist nicht notwendig, da es keine fehlenden Werte im Datensatz gibt (siehe 3.1). Allerdings können im Testdatensatz Daten fehlen. "
   ]
  },
  {
   "cell_type": "markdown",
   "id": "d0addebf",
   "metadata": {},
   "source": [
    "Die Features werden aufgeteilt in numerische und kategorische Features anhand von 2.3, um einen passenden Transformer anzuwenden."
   ]
  },
  {
   "metadata": {
    "ExecuteTime": {
     "end_time": "2024-06-25T10:00:49.669033Z",
     "start_time": "2024-06-25T10:00:49.662158Z"
    }
   },
   "cell_type": "code",
   "source": [
    "num_features = ['age', 'bmi', 'children']\n",
    "cat_features = ['sex', 'smoker', 'region']"
   ],
   "id": "3dd139229b38b3d5",
   "outputs": [],
   "execution_count": 32
  },
  {
   "cell_type": "markdown",
   "id": "c37f2ac6",
   "metadata": {},
   "source": [
    "Für die numerische Werte "
   ]
  },
  {
   "metadata": {
    "ExecuteTime": {
     "end_time": "2024-06-25T12:19:12.775444Z",
     "start_time": "2024-06-25T12:19:12.772690Z"
    }
   },
   "cell_type": "code",
   "source": [
    "num_transformer = Pipeline(steps=[\n",
    "    ('imputer', SimpleImputer(strategy='mean')),\n",
    "    ('scaler', StandardScaler())\n",
    "])"
   ],
   "id": "5bef6d15ef336059",
   "outputs": [],
   "execution_count": 61
  },
  {
   "cell_type": "markdown",
   "id": "036e59c1",
   "metadata": {},
   "source": [
    "Für kategorische"
   ]
  },
  {
   "metadata": {
    "ExecuteTime": {
     "end_time": "2024-06-25T12:19:15.658740Z",
     "start_time": "2024-06-25T12:19:15.655360Z"
    }
   },
   "cell_type": "code",
   "source": [
    "from sklearn.impute import SimpleImputer\n",
    "from sklearn.preprocessing import OneHotEncoder\n",
    "from sklearn.pipeline import Pipeline\n",
    "\n",
    "cat_transformer = Pipeline(steps=[\n",
    "    ('imputer', SimpleImputer(strategy='most_frequent')),\n",
    "    ('encoder', OneHotEncoder(drop='first'))\n",
    "])"
   ],
   "id": "e40da747f66c0570",
   "outputs": [],
   "execution_count": 62
  },
  {
   "metadata": {
    "ExecuteTime": {
     "end_time": "2024-06-25T12:19:16.777161Z",
     "start_time": "2024-06-25T12:19:16.773800Z"
    }
   },
   "cell_type": "code",
   "source": [
    "from sklearn.compose import ColumnTransformer\n",
    "\n",
    "preprocessor = ColumnTransformer(transformers=[\n",
    "    ('num', num_transformer, num_features),\n",
    "    ('cat', cat_transformer, cat_features)\n",
    "])"
   ],
   "id": "3687e9a1cbce8e1c",
   "outputs": [],
   "execution_count": 63
  },
  {
   "cell_type": "code",
   "id": "81741d40",
   "metadata": {
    "ExecuteTime": {
     "end_time": "2024-06-25T12:19:18.174232Z",
     "start_time": "2024-06-25T12:19:18.170264Z"
    }
   },
   "source": [
    "from sklearn.tree import DecisionTreeRegressor\n",
    "from sklearn.linear_model import LinearRegression, Ridge, Lasso\n",
    "from sklearn.svm import SVR\n",
    "from sklearn.ensemble import RandomForestRegressor\n",
    "\n",
    "models = {\n",
    "    'Linear Regression': LinearRegression(),\n",
    "    'SVR': SVR(),\n",
    "    'Ridge Regression': Ridge(),\n",
    "    'Lasso Regression': Lasso(),\n",
    "    'Decision Tree': DecisionTreeRegressor(),\n",
    "    'Random Forest': RandomForestRegressor(),\n",
    "}\n",
    "\n"
   ],
   "outputs": [],
   "execution_count": 64
  },
  {
   "cell_type": "code",
   "id": "f357b5f6",
   "metadata": {
    "ExecuteTime": {
     "end_time": "2024-06-25T12:19:26.825424Z",
     "start_time": "2024-06-25T12:19:23.228460Z"
    }
   },
   "source": [
    "from sklearn.metrics import make_scorer, mean_squared_error, r2_score\n",
    "from sklearn.compose import TransformedTargetRegressor\n",
    "from sklearn.model_selection import cross_val_score, KFold\n",
    "from sklearn.pipeline import Pipeline\n",
    "\n",
    "# 4. Kreuzvalidierung und Training der Modelle\n",
    "kf = KFold(n_splits=5, shuffle=True, random_state=42)\n",
    "\n",
    "# Cross-Validation: Modelltraining und Evaluation\n",
    "def evaluate_model_with_cv(model, x, y, cv):\n",
    "    mse_scorer = make_scorer(mean_squared_error, greater_is_better=False)\n",
    "    r2_scorer = make_scorer(r2_score)\n",
    "    mse_scores = cross_val_score(model, x, y, scoring=mse_scorer, cv=cv)\n",
    "    r2_scores = cross_val_score(model, x, y, scoring='r2', cv=cv)\n",
    "    rmse_scores = np.sqrt(-mse_scores)\n",
    "    return rmse_scores, r2_scores\n",
    "\n",
    "def create_full_pipeline(model):\n",
    "    return Pipeline([\n",
    "        ('preprocessor', preprocessor),\n",
    "        ('model', TransformedTargetRegressor(\n",
    "            regressor=model,\n",
    "            func=np.log,\n",
    "            inverse_func=np.exp\n",
    "        ))\n",
    "    ])\n",
    "\n",
    "\n",
    "\n",
    "# Cross-Validation Ergebnisse\n",
    "cv_results = {'Model': [], 'RMSE Mean': [], 'RMSE Std': [], 'R2 Mean': [], 'R2 Std': []}\n",
    "\n",
    "for name, model in models.items():\n",
    "    pipeline = create_full_pipeline(model)\n",
    "    rmse_scores, r2_scores = evaluate_model_with_cv(pipeline, x_train, y_train, kf)\n",
    "    cv_results['Model'].append(name)\n",
    "    cv_results['RMSE Mean'].append(rmse_scores.mean())\n",
    "    cv_results['RMSE Std'].append(rmse_scores.std())\n",
    "    cv_results['R2 Mean'].append(r2_scores.mean())\n",
    "    cv_results['R2 Std'].append(r2_scores.std())\n",
    "\n",
    "final_results = {'Model': [], 'RMSE': [], 'R2 Score': [], 'y_pred': []}\n",
    "\n",
    "'''for name, model in models.items():\n",
    "    pipeline = create_full_pipeline(model)\n",
    "    pipeline.fit(x_train, y_train)\n",
    "    y_pred = pipeline.predict(x_test)\n",
    "    rmse = np.sqrt(mean_squared_error(y_test, y_pred))\n",
    "    r2 = r2_score(y_test, y_pred)\n",
    "    final_results['Model'].append(name)\n",
    "    final_results['RMSE'].append(rmse)\n",
    "    final_results['R2 Score'].append(r2)\n",
    "    final_results['y_pred'].append(y_pred)'''\n",
    "    \n",
    "# Ergebnisse der Cross-Validation\n",
    "cv_results_df = pd.DataFrame(cv_results)\n",
    "\n",
    "# Ergebnisse der finalen Bewertung\n",
    "final_results_df = pd.DataFrame(final_results)\n",
    "\n",
    "# Visualisierung der Ergebnisse\n",
    "plt.figure(figsize=(12, 6))\n",
    "plt.suptitle('Cross Validation Ergebnisse', fontsize=14, fontweight='bold')\n",
    "\n",
    "plt.subplot(1, 2, 1)\n",
    "sns.barplot(x='RMSE Mean', y='Model', data=cv_results_df)\n",
    "plt.title('RMSE Durchschnitt')\n",
    "\n",
    "plt.subplot(1, 2, 2)\n",
    "sns.barplot(x='R2 Mean', y='Model', data=cv_results_df)\n",
    "plt.title('R2-Score Durchschnitt')\n",
    "\n",
    "plt.tight_layout()\n",
    "plt.show()\n"
   ],
   "outputs": [
    {
     "data": {
      "text/plain": [
       "<Figure size 1200x600 with 2 Axes>"
      ],
      "image/png": "[encoded data removed]"
     },
     "metadata": {},
     "output_type": "display_data"
    }
   ],
   "execution_count": 65
  },
  {
   "metadata": {
    "ExecuteTime": {
     "end_time": "2024-06-25T10:00:53.934616Z",
     "start_time": "2024-06-25T10:00:53.934616Z"
    }
   },
   "cell_type": "code",
   "source": [
    "selected_models = {\n",
    "    'Linear Regression': LinearRegression(),\n",
    "    'SVR': SVR(),\n",
    "    'Random Forest': RandomForestRegressor(),\n",
    "}"
   ],
   "id": "e67e7022662091b4",
   "outputs": [],
   "execution_count": null
  },
  {
   "metadata": {},
   "cell_type": "code",
   "source": [
    "def get_model_params(models):\n",
    "    params_list = []\n",
    "\n",
    "    for name, model in models.items():\n",
    "        params_dict = {'Model': name}\n",
    "        params = model.get_params()\n",
    "        for param_name, param_value in params.items():\n",
    "            params_dict[param_name] = param_value\n",
    "        params_list.append(params_dict)\n",
    "\n",
    "    params_df = pd.DataFrame(params_list)\n",
    "    return params_df\n",
    "\n",
    "get_model_params(selected_models)"
   ],
   "id": "ba1268510ce068a5",
   "outputs": [],
   "execution_count": null
  },
  {
   "cell_type": "code",
   "id": "17857b7e",
   "metadata": {},
   "source": [
    "# Modellnamen zur Identifikation in der Ergebnismatrix\n",
    "model_names = [\"Linear Regression\", \"SVR\", \"Ridge Regression\", \"Lasso Regression\", \"Decision Tree\", \"Random Forest\"]\n",
    "\n",
    "# Ermittlung der Indizes der Modelle, basierend auf ihrer Position in results_df und model_names\n",
    "# Wichtig: Stellen Sie sicher, dass die Reihenfolge in results_df mit model_names übereinstimmt.\n",
    "# Dieser Schritt ist abhängig von der genauen Struktur Ihrer results_df.\n",
    "\n",
    "# Erstellen der 3x2 Subplot-Matrix\n",
    "fig, axes = plt.subplots(2,3, figsize=(15, 10))\n",
    "axes = axes.flatten() # Umwandlung der Achsen-Struktur in eine einfache Liste für leichteres Iterieren\n",
    "\n",
    "for i, model_name in enumerate(model_names):\n",
    "    ax = axes[i]\n",
    "\n",
    "    y_pred = final_results_df.iloc[i]['y_pred']\n",
    "    \n",
    "    # Scatter-Plot der vorhergesagten Werte\n",
    "    ax.scatter(y_test, y_pred, color='orange', alpha=0.5, label='Vorhergesagte Werte')\n",
    "    \n",
    "    # Ideal-Linie\n",
    "    ax.plot([y_test.min(), y_test.max()], [y_test.min(), y_test.max()], 'k--', lw=2, label='Ideal')\n",
    "    \n",
    "    # Beschriftungen und Titel\n",
    "    ax.set_xlabel('Wahre Werte')\n",
    "    ax.set_ylabel('Vorhergesagte Werte')\n",
    "    ax.set_title(f'{model_name}')\n",
    "    ax.legend()\n",
    "\n",
    "# Anpassung des Layouts für bessere Lesbarkeit\n",
    "plt.tight_layout()\n",
    "plt.show()"
   ],
   "outputs": [],
   "execution_count": null
  },
  {
   "cell_type": "markdown",
   "id": "29ec8fd5",
   "metadata": {},
   "source": [
    "### 6. Fine-Tune der Modelle\n",
    "\n",
    "Im Folgenden wird probiert die Vorhersagefähigkeit der Modelle noch weiter zu steigern"
   ]
  },
  {
   "metadata": {},
   "cell_type": "code",
   "outputs": [],
   "execution_count": null,
   "source": [
    "from sklearn.model_selection import GridSearchCV, RandomizedSearchCV\n",
    "from sklearn.pipeline import Pipeline\n",
    "\n",
    "def perform_search(X, y, models, preprocessor, cv, search_type):\n",
    "    best_models = {}\n",
    "\n",
    "    for name, model, params in models:\n",
    "        model_pipeline = Pipeline([('preprocessor', preprocessor), ('model', TransformedTargetRegressor(\n",
    "            regressor=model,\n",
    "            func=np.log,\n",
    "            inverse_func=np.exp\n",
    "        ))])\n",
    "\n",
    "        if search_type == 'grid':\n",
    "            search = GridSearchCV(estimator=model_pipeline, param_grid=params, cv=cv, scoring='r2', verbose=1, n_jobs=-1)\n",
    "        elif search_type == 'random':\n",
    "            search = RandomizedSearchCV(estimator=model_pipeline, param_distributions=params, n_iter=100, cv=cv, scoring='r2', verbose=1, n_jobs=-1)\n",
    "\n",
    "        search.fit(X, y)\n",
    "\n",
    "        best_models[name] = {\n",
    "            'model': search.best_estimator_,\n",
    "            'params': search.best_params_,\n",
    "            'score': search.best_score_\n",
    "        }\n",
    "\n",
    "        print(f\"Best parameters for {name}:\")\n",
    "        print(search.best_params_)\n",
    "        print(f\"Best {name} model score: {search.best_score_}\")\n",
    "        print()\n",
    "\n",
    "    return best_models\n"
   ],
   "id": "a07b52fdd0e2c9a9"
  },
  {
   "metadata": {},
   "cell_type": "code",
   "outputs": [],
   "execution_count": null,
   "source": [
    "models_to_search = [\n",
    "    ('Linear Regression', LinearRegression(), {\n",
    "        'model__fit_intercept': [True, False]\n",
    "    }),\n",
    "    ('SVR', SVR(), {\n",
    "        'model__kernel': ['linear', 'poly', 'rbf'],\n",
    "        'model__C': [0.1, 1, 10],\n",
    "        'model__epsilon': [0.01, 0.1, 0.5]\n",
    "    }),\n",
    "    ('Random Forest Regression', RandomForestRegressor(), {\n",
    "        'model__n_estimators': [50, 100, 200],\n",
    "        'model__max_depth': [None, 10, 20],\n",
    "        'model__min_samples_split': [2, 5, 10],\n",
    "        'model__min_samples_leaf': [1, 2, 4]\n",
    "    })\n",
    "]"
   ],
   "id": "391f80e4f913bcff"
  },
  {
   "metadata": {},
   "cell_type": "code",
   "outputs": [],
   "execution_count": null,
   "source": [
    "\n",
    "best_models_grid = perform_search(x_train, y_train, models_to_search, preprocessor, kf, 'grid')\n",
    "best_models_random = perform_search(x_train, y_train, models_to_search, preprocessor, kf, 'random')"
   ],
   "id": "78060216954fa7ec"
  },
  {
   "cell_type": "markdown",
   "id": "3db90bba",
   "metadata": {},
   "source": [
    "#### Decision Tree mithilfe von Random Search"
   ]
  },
  {
   "cell_type": "code",
   "id": "c10cbf3b",
   "metadata": {},
   "source": [
    "from scipy.stats import randint\n",
    "from sklearn.model_selection import RandomizedSearchCV\n",
    "\n",
    "# Definition der Parameterbereiche, angepasst für DecisionTreeRegressor\n",
    "param_distribs_dectree = {\n",
    "    'max_depth': [3, 5, 10, None],  # Einschließlich der Möglichkeit von unbegrenzten Tiefen\n",
    "    'min_samples_split': randint(low=2, high=20),  # Zufällige Auswahl von 2 bis 20\n",
    "    'min_samples_leaf': randint(low=1, high=20),  # Zufällige Auswahl von 1 bis 20\n",
    "    'max_features': randint(low=1, high=transformed_x_train.shape[1] + 1)  # Basierend auf der Anzahl der Features\n",
    "}\n",
    "\n",
    "# Erstellung des DecisionTreeRegressor-Modells\n",
    "decisiontree_reg = DecisionTreeRegressor(random_state=42)\n",
    "\n",
    "# Initialisierung von RandomizedSearchCV mit den spezifischen Einstellungen für den DecisionTree\n",
    "rnd_search_dectree = RandomizedSearchCV(decisiontree_reg, param_distributions=param_distribs_dectree,\n",
    "                                        n_iter=10, cv=5, scoring='neg_mean_squared_error', random_state=42)\n",
    "\n",
    "# Durchführung der Suche auf den Trainingsdaten\n",
    "rnd_search_dectree.fit(transformed_x_train, y_train)\n",
    "\n",
    "# Ausgabe der besten Parameter und des besten Modells\n",
    "print(\"Beste Parameter: \", rnd_search_dectree.best_params_)\n",
    "print(\"Bester Entscheidungsbaum: \", rnd_search_dectree.best_estimator_)"
   ],
   "outputs": [],
   "execution_count": null
  },
  {
   "cell_type": "code",
   "id": "da607962",
   "metadata": {},
   "source": [
    "feature_importances_rnds_dectree = rnd_search_dectree.best_estimator_.feature_importances_"
   ],
   "outputs": [],
   "execution_count": null
  },
  {
   "cell_type": "code",
   "id": "9df76a6e",
   "metadata": {},
   "source": [
    "\n",
    "cat_encoder = transformer.named_transformers_['cat'].named_steps['encoder']\n",
    "\n",
    "cat_one_hot_attribs = cat_encoder.get_feature_names_out(cat_features)\n",
    "\n",
    "# Kombinieren der numerischen und kategorialen Feature-Namen \n",
    "attributes = num_features + list(cat_one_hot_attribs)\n",
    "\n",
    "# Zusammenstellen der Feature-Wichtigkeiten und der Feature-Namen\n",
    "importance_scores = sorted(zip(feature_importances_rnds_dectree, attributes), reverse=True)\n",
    "\n",
    "for score, attrib in importance_scores:\n",
    "    print(attrib, score)"
   ],
   "outputs": [],
   "execution_count": null
  },
  {
   "cell_type": "code",
   "id": "a373ce6f",
   "metadata": {},
   "source": [
    "final_model_rnds_dectree = rnd_search_dectree.best_estimator_\n",
    "\n",
    "\n",
    "final_predictions_rnds_dectree = final_model_rnds_dectree.predict(transformed_x_test)\n",
    "\n",
    "final_mse = mean_squared_error(y_test, final_predictions_rnds_dectree)\n",
    "final_rmse = np.sqrt(final_mse)\n",
    "print(final_rmse)\n",
    "print(final_mse)\n",
    "r2final = r2_score(y_test, final_predictions_rnds_dectree)\n",
    "print(r2final)"
   ],
   "outputs": [],
   "execution_count": null
  },
  {
   "cell_type": "markdown",
   "id": "ee6a1845",
   "metadata": {},
   "source": [
    "#### Decision Tree mithilfe von Grid Search"
   ]
  },
  {
   "cell_type": "code",
   "id": "b17f9d6b",
   "metadata": {},
   "source": [
    "param_grid_dectree = [\n",
    "    {'ccp_alpha': [0.0001, 0.001, 0.01, 0.1], 'max_features': [2, 4, 6, 8]}\n",
    "]\n",
    "\n",
    "decisiontree_reg = DecisionTreeRegressor(random_state=42)\n",
    "# train across 5 folds\n",
    "grid_search_dectree = GridSearchCV(decisiontree_reg, param_grid_dectree, cv=5,\n",
    "                           scoring='neg_mean_squared_error',\n",
    "                           return_train_score=True)\n",
    "grid_search_dectree.fit(transformed_x_train, y_train)\n",
    "\n",
    "# Ausgabe der besten Parameter und des besten Schätzers\n",
    "print(\"Beste Parameter: \", grid_search_dectree.best_params_)\n",
    "print(\"Bester Entscheidungsbaumregressor: \", grid_search_dectree.best_estimator_)"
   ],
   "outputs": [],
   "execution_count": null
  },
  {
   "cell_type": "code",
   "id": "b6af8bc5",
   "metadata": {},
   "source": [
    "feature_importances_grids_dectree = grid_search_dectree.best_estimator_.feature_importances_"
   ],
   "outputs": [],
   "execution_count": null
  },
  {
   "cell_type": "code",
   "id": "1431ab6f",
   "metadata": {},
   "source": [
    "\n",
    "# Zusammenstellen der Feature-Wichtigkeiten und der Feature-Namen\n",
    "importance_scores_dectree_grids = sorted(zip(feature_importances_grids_dectree, attributes), reverse=True)\n",
    "\n",
    "for score, attrib in importance_scores_dectree_grids:\n",
    "    print(attrib, score)"
   ],
   "outputs": [],
   "execution_count": null
  },
  {
   "cell_type": "code",
   "id": "66a8fca1",
   "metadata": {},
   "source": [
    "final_model_grids_dectree = grid_search_dectree.best_estimator_\n",
    "\n",
    "\n",
    "final_predictions_grids_dectree = final_model_grids_dectree.predict(transformed_x_test)\n",
    "\n",
    "final_mse = mean_squared_error(y_test, final_predictions_grids_dectree)\n",
    "final_rmse = np.sqrt(final_mse)\n",
    "print(final_rmse)\n",
    "print(final_mse)\n",
    "r2final = r2_score(y_test, final_predictions_grids_dectree)\n",
    "print(r2final)"
   ],
   "outputs": [],
   "execution_count": null
  },
  {
   "cell_type": "markdown",
   "id": "9cb22408",
   "metadata": {},
   "source": [
    "## Jetzt mit Random Forest und Random Search"
   ]
  },
  {
   "cell_type": "code",
   "id": "e12d79bd",
   "metadata": {},
   "source": [
    "param_distribs_rf_rs = {\n",
    "        'n_estimators': randint(low=1, high=150),\n",
    "        'max_features': randint(low=1, high=8),\n",
    "    }\n",
    "\n",
    "randomforest_reg = RandomForestRegressor(random_state=42)\n",
    "rnd_search_rnd_forest = RandomizedSearchCV(randomforest_reg, param_distributions=param_distribs_rf_rs,\n",
    "                                n_iter=10, cv=5, scoring='neg_mean_squared_error', random_state=42)\n",
    "rnd_search_rnd_forest.fit(transformed_x_train, y_train)"
   ],
   "outputs": [],
   "execution_count": null
  },
  {
   "cell_type": "code",
   "id": "f4afdf1a",
   "metadata": {},
   "source": [
    "rnd_search_rnd_forest.best_params_"
   ],
   "outputs": [],
   "execution_count": null
  },
  {
   "cell_type": "code",
   "id": "1608b621",
   "metadata": {},
   "source": [
    "rnd_search_rnd_forest.best_estimator_"
   ],
   "outputs": [],
   "execution_count": null
  },
  {
   "cell_type": "code",
   "id": "38ef2ab4",
   "metadata": {},
   "source": [
    "feature_importances_rndsearch_rndforest = rnd_search_rnd_forest.best_estimator_.feature_importances_\n",
    "feature_importances_rndsearch_rndforest"
   ],
   "outputs": [],
   "execution_count": null
  },
  {
   "cell_type": "code",
   "id": "0589f5cc",
   "metadata": {},
   "source": [
    "# Zusammenstellen der Feature-Wichtigkeiten und der Feature-Namen\n",
    "importance_scores_rndsearch_randomforest = sorted(zip(feature_importances_rndsearch_rndforest, attributes), reverse=True)\n",
    "\n",
    "for score, attrib in importance_scores_rndsearch_randomforest:\n",
    "    print(attrib, score)"
   ],
   "outputs": [],
   "execution_count": null
  },
  {
   "cell_type": "code",
   "id": "fb115557",
   "metadata": {},
   "source": [
    "final_model_rndsearch_rndforest = rnd_search_rnd_forest.best_estimator_\n",
    "\n",
    "\n",
    "final_predictions_rndsearch_rndforest = final_model_rndsearch_rndforest.predict(transformed_x_test)\n",
    "\n",
    "final_mse = mean_squared_error(y_test, final_predictions_rndsearch_rndforest)\n",
    "final_rmse = np.sqrt(final_mse)\n",
    "print(final_rmse)\n",
    "print(final_mse)\n",
    "r2final = r2_score(y_test, final_predictions_rndsearch_rndforest)\n",
    "print(r2final)"
   ],
   "outputs": [],
   "execution_count": null
  },
  {
   "cell_type": "markdown",
   "id": "f22bc5f3",
   "metadata": {},
   "source": [
    "# Random Forest und Grid Search"
   ]
  }
 ],
 "metadata": {
  "kernelspec": {
   "display_name": "Python 3 (ipykernel)",
   "language": "python",
   "name": "python3"
  },
  "language_info": {
   "codemirror_mode": {
    "name": "ipython",
    "version": 3
   },
   "file_extension": ".py",
   "mimetype": "text/x-python",
   "name": "python",
   "nbconvert_exporter": "python",
   "pygments_lexer": "ipython3",
   "version": "3.9.13"
  }
 },
 "nbformat": 4,
 "nbformat_minor": 5
}
