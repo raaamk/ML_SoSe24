{
 "cells": [
  {
   "cell_type": "markdown",
   "id": "bb78b975",
   "metadata": {},
   "source": [
    "# Medical Treatment Cost Forecasting\n",
    "\n",
    "**Link**\n",
    "\n",
    "https://www.kaggle.com/mirichoi0218/insurance\n",
    "\n",
    "\n",
    "**Context**\n",
    "\n",
    "This dataset contains the cost of medical treatment of different patients.\n",
    "\n",
    "\n",
    "**Content**\n",
    "\n",
    "The cost of treatment depends on many factors: diagnosis, type of clinic, city of residence, age and so on. We have no data on the diagnosis of patients. But we have other information that can help us to make a conclusion about the health of patients and predict the cost of medical treatment by using regression analysis.\n",
    "\n",
    "The dataset consists of the following attributes:\n",
    "- age: age of primary beneficiary\n",
    "- sex: insurance contractor gender, female, male\n",
    "- bmi: body mass index, providing an understanding of body, weights that are relatively high or low relative to height\n",
    "- children: number of children covered by health insurance / Number of dependents\n",
    "- smoker: smoking (0: no, 1: yes)\n",
    "- region: the beneficiary's residential area in the US, northeast, southeast, southwest, northwest.\n",
    "- charges: individual medical costs billed by health insurance\n",
    "\n",
    "The `charges` attribute is our target variable, which should be predicted depending on new patient informations.\n",
    "\n",
    "**Task (Regression)**\n",
    "\n",
    "Your task is to use the present data set to predict the cost of medical treatment for new patients. To do this, use the `Linear Regression` and `SVR` methods for this task. You must also include a third method that you have selected yourself.\n",
    "\n",
    "First of all, get an overview of the project in your group. Then carefully read the checklist for machine learning projects and think about how you want to organize your group work. It is strongly recommended that all task items are completed by all group members. You can divide the focus among yourself, but make sure that all members are as well informed as possible about the content.\n",
    "\n",
    "Use the checklist for machine learning projects as a guide when working on the task. Document all the individual steps that are listed there (main and sub-items). Make sure to use Markdown Cells for your documentation. Document the functionality of your algorithms (all three) with equations and explanations. Dont forget, this project is a task for five students. We expect a detailed documentation of your approach and your results.\n",
    "\n",
    "**Note**\n",
    "\n",
    "We are aware that there are examples and solutions for the selected data sets on popular platforms, e.g. Kaggle. You are welcome to use them as a guide. But remember that at the end of the project, your own work will be assessed. We compare the results with the popular solutions of common platforms. We would like to recognize the independence in your work and see a difference to the existing solution approaches."
   ]
  },
  {
   "cell_type": "markdown",
   "id": "0dc15257",
   "metadata": {},
   "source": [
    "# Code und Dokumentation"
   ]
  },
  {
   "cell_type": "markdown",
   "id": "8b5e8388",
   "metadata": {},
   "source": [
    "# Frame the problem\n",
    "\n",
    "**1.1 Ziel** \n",
    "\n",
    "Das primäre Ziel besteht darin, die Kosten der medizinischen Behandlung für neue Patienten basierend auf verschiedenen Faktoren wie Alter, Geschlecht, BMI, Anzahl der Kinder, Rauchstatus und Wohnregion vorherzusagen. Genaue Vorhersagen können Versicherungsunternehmen helfen, Prämien festzulegen, finanzielle Risiken zu managen und personalisierte Gesundheitspläne zu erstellen.\n",
    "   \n",
    "**1.2 Verwendung der Lösung**\n",
    "\n",
    "Die Lösung wird in den Arbeitsablauf des Versicherungsunternehmens integriert, um die Kosten der medizinischen Behandlung für neue Versicherungsnehmer abzuschätzen oder die Prämien für bestehende Versicherungsnehmer anzupassen. Dieses prädiktive Modell ermöglicht es dem Unternehmen, Risiken genauer zu bewerten und wettbewerbsfähige Preise anzubieten, während die Rentabilität sichergestellt wird\n",
    "\n",
    "**1.3 Aktuelle Lösungen**\n",
    "\n",
    "Versicherungsunternehmen verwenden in der Regel versicherungsmathematische Methoden (Traditionelle statistische Methoden) und manuelle Schätzungen (Komplexe Regeln) zur Kostenschätzung auf der Grundlage historischer Daten und demografischer Profile. Diese Methoden können zeitaufwändig, kostenintensiv, weniger genau sein und möglicherweise keine komplexen Muster in den Daten erfassen. Ein auf maschinellem Lernen basierter Ansatz kann präzisere und skalierbarere Lösungen bieten. [1]\n",
    "\n",
    "[1] U. Orji und E. Ukwandu, \"Machine Learning For An Explainable Cost Prediction of Medical Insurance,\" arXiv, Nov. 2023. [Online]. Verfügbar: https://ar5iv.org/abs/2311.14139. [Zugegriffen: 20. Juni 2024].\n",
    "\n",
    "\n",
    "**1.4 Problemdefinition**\n",
    "\n",
    "Typ: Überwachtes Lernen\n",
    "Herangehensweise: Regression\n",
    "Modus: Offline\n",
    "Begründung:\n",
    "Wir haben historische Daten mit bekannten Kosten (Gebühren) und damit verbundenen Merkmalen. Das Ziel ist die Vorhersage einer kontinuierlichen Variable, was es zu einem Regressionsproblem macht. Ein Offline-Ansatz ist angemessen, da wir das Modell auf historischen Daten trainieren und es dann für zukünftige Vorhersagen einsetzen werden.\n",
    "\n",
    "**1.5 Leistungsmessung**\n",
    "\n",
    "Die Leistung wird anhand des Root Mean Squared Error (RMSE) und des Mean Absolute Error (MAE) gemessen. RMSE wird wegen seiner Empfindlichkeit gegenüber Ausreißern bevorzugt, was bei medizinischen Kosten signifikant sein kann.\n",
    "\n",
    "**1.6 Ausrichtung an den Unternehmenszielen**\n",
    "\n",
    "Die gewählten Leistungsmaße (RMSE und MAE) stimmen mit dem Geschäftsziel überein, Vorhersagefehler zu minimieren, um Behandlungskosten besser abzuschätzen und so finanzielle Risiken zu reduzieren.\n",
    "\n",
    "**1.7 Erforderliche Mindestleistung**\n",
    "\n",
    "Die Mindestleistung des neuen Modells sollte die Leistung bestehender Methoden übertreffen. Angenommen, die aktuellen manuellen Methoden haben folgende Fehlermaße:\n",
    "\n",
    "RMSE: 4000\n",
    "MAE: 3000\n",
    "\n",
    "Ein realistischer Schwellenwert für das maschinelle Lernmodell könnte sein, diese Werte um mindestens 10% zu verbessern. Das bedeutet:\n",
    "\n",
    "RMSE: 3600\n",
    "MAE: 2700\n",
    "\n",
    "Diese Verbesserungen würden signifikant genug sein, um die Überlegenheit des neuen Modells gegenüber den bestehenden Methoden zu demonstrieren.\n",
    "\n",
    "**1.8 Vergleichbare Probleme**\n",
    "- Hauspreisvorhersage\n",
    "- Vorhersage von Kfz-Versicherungsansprüchen\n",
    "- Vorhersage von Darlehenausfällen\n",
    "\n",
    "**1.9 Wiederverwendung von Tools**\n",
    "\n",
    "Wir können auf etablierte maschinelle Lernframeworks und -bibliotheken (wie Scikit-learn, TensorFlow oder XGBoost) und Methoden aus ähnlichen Regressionsaufgaben zurückgreifen. Werkzeuge wie Jupyter Notebooks, pandas und matplotlib werden für die Datenexploration und -visualisierung wesentlich sein.\n",
    "\n",
    "**1.10 Verfügbarkeit von menschlicher Expertise**\n",
    "\n",
    "Domänenexperten für Gesundheitskosten und Versicherungen sowie Datenwissenschaftler mit Erfahrung in der Regressionsanalyse werden entscheidend sein, um die Daten zu verstehen und die Modelle zu verfeinern\n",
    "\n",
    "**1.11 Manuelle Lösung**\n",
    "\n",
    "Manuell würde man historische Kosten analysieren, für Inflation anpassen, Patientendemografie und Gesundheitsindikatoren berücksichtigen und Expertenurteile verwenden, um zukünftige Kosten abzuschätzen. Dieser Prozess ist von Natur aus subjektiv und weniger skalierbar.\n",
    "\n",
    "**1.12 Annahmen**\n",
    "- Der Datensatz ist repräsentativ für die Bevölkerung.\n",
    "- Die einbezogenen Faktoren (Alter, Geschlecht, BMI, Kinder, Raucher, Region) sind ausreichend, um die Kosten vorherzusagen.\n",
    "- Es gibt keine signifikanten externen Faktoren (z. B. politische Veränderungen, große medizinische Fortschritte), die die Kosten drastisch verändern.\n",
    "\n",
    "**1.13 Überprüfen der Annahmen**\n",
    "- Statistische Tests und Visualisierungen (z. B. Korrelationsmatrizen, Streudiagramme) können die Relevanz der Merkmale überprüfen.\n",
    "- Datenbereinigungsprozesse können Datenqualitätsprobleme angehen.\n",
    "- Bewertung der anfängliche Modellleistung an einem Validierungssatz.\n",
    "\n",
    "\n",
    "**1.14 Modellauswahl und Implementierung**\n",
    "- Lineare Regression\n",
    "- Support-Vektor-Regression (SVR)\n",
    "- Random Forest"
   ]
  },
  {
   "cell_type": "markdown",
   "id": "8736a2f2",
   "metadata": {},
   "source": [
    "# Get the Data"
   ]
  },
  {
   "cell_type": "markdown",
   "id": "78030822",
   "metadata": {},
   "source": [
    "**2.1 Impotieren von Bibliotheken die für die gesamte Aufgabe benötigt werden.**"
   ]
  },
  {
   "cell_type": "code",
   "id": "1aed8490",
   "metadata": {
    "ExecuteTime": {
     "end_time": "2024-06-25T00:55:58.218058Z",
     "start_time": "2024-06-25T00:55:58.214228Z"
    }
   },
   "source": [
    "import pandas as pd\n",
    "from sklearn.ensemble import RandomForestRegressor\n",
    "from sklearn.impute import SimpleImputer\n",
    "from sklearn.model_selection import train_test_split as holdout, KFold, cross_val_score, RandomizedSearchCV, GridSearchCV\n",
    "from sklearn.linear_model import LinearRegression\n",
    "from sklearn.model_selection import train_test_split\n",
    "from sklearn import metrics\n",
    "import matplotlib.pyplot as plt\n",
    "import seaborn as sns\n",
    "import numpy as np\n",
    "from sklearn.pipeline import Pipeline\n",
    "from sklearn.preprocessing import MinMaxScaler, StandardScaler, OneHotEncoder\n",
    "from sklearn.model_selection import cross_val_score, KFold\n",
    "from sklearn.compose import ColumnTransformer\n",
    "from sklearn.metrics import mean_squared_error, r2_score, make_scorer"
   ],
   "outputs": [],
   "execution_count": 1279
  },
  {
   "cell_type": "markdown",
   "id": "85603846",
   "metadata": {},
   "source": [
    "**2.2 Einlesen der Excel-Daten (CSV-Datei) 'insurance'. Diese Datei enthält die Informationen über Patienten und die individuellen medizinischen Kosten, die wir vorhersagen wollen. Eine Kopie names 'insurance_data wird im Vorfeld erstellt, die die gleichen Daten enthält.**"
   ]
  },
  {
   "cell_type": "code",
   "id": "1e445d13",
   "metadata": {
    "ExecuteTime": {
     "end_time": "2024-06-25T00:55:58.562605Z",
     "start_time": "2024-06-25T00:55:58.557271Z"
    }
   },
   "source": [
    "data = pd.read_csv('insurance.csv')\n",
    "insurance_data = data.copy()"
   ],
   "outputs": [],
   "execution_count": 1280
  },
  {
   "cell_type": "markdown",
   "id": "08594893",
   "metadata": {},
   "source": [
    "**2.3 Konventierung der Daten in ein Format , das leicht zu manipulieren ist. (Kategorien als kategorische Daten)**"
   ]
  },
  {
   "cell_type": "code",
   "id": "7156ef1d",
   "metadata": {
    "ExecuteTime": {
     "end_time": "2024-06-25T00:55:58.583784Z",
     "start_time": "2024-06-25T00:55:58.577643Z"
    }
   },
   "source": [
    "insurance_data.info()"
   ],
   "outputs": [
    {
     "name": "stdout",
     "output_type": "stream",
     "text": [
      "<class 'pandas.core.frame.DataFrame'>\n",
      "RangeIndex: 1338 entries, 0 to 1337\n",
      "Data columns (total 7 columns):\n",
      " #   Column    Non-Null Count  Dtype  \n",
      "---  ------    --------------  -----  \n",
      " 0   age       1338 non-null   int64  \n",
      " 1   sex       1338 non-null   object \n",
      " 2   bmi       1338 non-null   float64\n",
      " 3   children  1338 non-null   int64  \n",
      " 4   smoker    1338 non-null   object \n",
      " 5   region    1338 non-null   object \n",
      " 6   charges   1338 non-null   float64\n",
      "dtypes: float64(2), int64(2), object(3)\n",
      "memory usage: 73.3+ KB\n"
     ]
    }
   ],
   "execution_count": 1281
  },
  {
   "cell_type": "code",
   "id": "a75b3e1c",
   "metadata": {
    "ExecuteTime": {
     "end_time": "2024-06-25T00:55:58.611922Z",
     "start_time": "2024-06-25T00:55:58.606336Z"
    }
   },
   "source": [
    "# Sicherstellen, dass die Daten korrekt typisiert sind\n",
    "insurance_data['sex'] = insurance_data['sex'].astype('category')\n",
    "insurance_data['smoker'] = insurance_data['smoker'].astype('category')\n",
    "insurance_data['region'] = insurance_data['region'].astype('category')\n",
    "\n",
    "\n",
    "# Prüfen der Datentypen\n",
    "print(insurance_data.dtypes)"
   ],
   "outputs": [
    {
     "name": "stdout",
     "output_type": "stream",
     "text": [
      "age            int64\n",
      "sex         category\n",
      "bmi          float64\n",
      "children       int64\n",
      "smoker      category\n",
      "region      category\n",
      "charges      float64\n",
      "dtype: object\n"
     ]
    }
   ],
   "execution_count": 1282
  },
  {
   "cell_type": "markdown",
   "id": "a2d25fd9",
   "metadata": {},
   "source": [
    "**2.4 Informationen über die Daten ausgeben.**"
   ]
  },
  {
   "cell_type": "code",
   "id": "970aea87",
   "metadata": {
    "ExecuteTime": {
     "end_time": "2024-06-25T00:55:58.690262Z",
     "start_time": "2024-06-25T00:55:58.683771Z"
    }
   },
   "source": [
    "insurance_data.info()"
   ],
   "outputs": [
    {
     "name": "stdout",
     "output_type": "stream",
     "text": [
      "<class 'pandas.core.frame.DataFrame'>\n",
      "RangeIndex: 1338 entries, 0 to 1337\n",
      "Data columns (total 7 columns):\n",
      " #   Column    Non-Null Count  Dtype   \n",
      "---  ------    --------------  -----   \n",
      " 0   age       1338 non-null   int64   \n",
      " 1   sex       1338 non-null   category\n",
      " 2   bmi       1338 non-null   float64 \n",
      " 3   children  1338 non-null   int64   \n",
      " 4   smoker    1338 non-null   category\n",
      " 5   region    1338 non-null   category\n",
      " 6   charges   1338 non-null   float64 \n",
      "dtypes: category(3), float64(2), int64(2)\n",
      "memory usage: 46.3 KB\n"
     ]
    }
   ],
   "execution_count": 1283
  },
  {
   "cell_type": "markdown",
   "id": "2d752b9c",
   "metadata": {},
   "source": [
    "**2.5 Einblick in die ersten Zeilen der Daten**"
   ]
  },
  {
   "cell_type": "code",
   "id": "22570a14",
   "metadata": {
    "ExecuteTime": {
     "end_time": "2024-06-25T00:55:58.737126Z",
     "start_time": "2024-06-25T00:55:58.729576Z"
    }
   },
   "source": [
    "insurance_data.head()"
   ],
   "outputs": [
    {
     "data": {
      "text/plain": [
       "   age     sex     bmi  children smoker     region      charges\n",
       "0   19  female  27.900         0    yes  southwest  16884.92400\n",
       "1   18    male  33.770         1     no  southeast   1725.55230\n",
       "2   28    male  33.000         3     no  southeast   4449.46200\n",
       "3   33    male  22.705         0     no  northwest  21984.47061\n",
       "4   32    male  28.880         0     no  northwest   3866.85520"
      ],
      "text/html": [
       "<div>\n",
       "<style scoped>\n",
       "    .dataframe tbody tr th:only-of-type {\n",
       "        vertical-align: middle;\n",
       "    }\n",
       "\n",
       "    .dataframe tbody tr th {\n",
       "        vertical-align: top;\n",
       "    }\n",
       "\n",
       "    .dataframe thead th {\n",
       "        text-align: right;\n",
       "    }\n",
       "</style>\n",
       "<table border=\"1\" class=\"dataframe\">\n",
       "  <thead>\n",
       "    <tr style=\"text-align: right;\">\n",
       "      <th></th>\n",
       "      <th>age</th>\n",
       "      <th>sex</th>\n",
       "      <th>bmi</th>\n",
       "      <th>children</th>\n",
       "      <th>smoker</th>\n",
       "      <th>region</th>\n",
       "      <th>charges</th>\n",
       "    </tr>\n",
       "  </thead>\n",
       "  <tbody>\n",
       "    <tr>\n",
       "      <th>0</th>\n",
       "      <td>19</td>\n",
       "      <td>female</td>\n",
       "      <td>27.900</td>\n",
       "      <td>0</td>\n",
       "      <td>yes</td>\n",
       "      <td>southwest</td>\n",
       "      <td>16884.92400</td>\n",
       "    </tr>\n",
       "    <tr>\n",
       "      <th>1</th>\n",
       "      <td>18</td>\n",
       "      <td>male</td>\n",
       "      <td>33.770</td>\n",
       "      <td>1</td>\n",
       "      <td>no</td>\n",
       "      <td>southeast</td>\n",
       "      <td>1725.55230</td>\n",
       "    </tr>\n",
       "    <tr>\n",
       "      <th>2</th>\n",
       "      <td>28</td>\n",
       "      <td>male</td>\n",
       "      <td>33.000</td>\n",
       "      <td>3</td>\n",
       "      <td>no</td>\n",
       "      <td>southeast</td>\n",
       "      <td>4449.46200</td>\n",
       "    </tr>\n",
       "    <tr>\n",
       "      <th>3</th>\n",
       "      <td>33</td>\n",
       "      <td>male</td>\n",
       "      <td>22.705</td>\n",
       "      <td>0</td>\n",
       "      <td>no</td>\n",
       "      <td>northwest</td>\n",
       "      <td>21984.47061</td>\n",
       "    </tr>\n",
       "    <tr>\n",
       "      <th>4</th>\n",
       "      <td>32</td>\n",
       "      <td>male</td>\n",
       "      <td>28.880</td>\n",
       "      <td>0</td>\n",
       "      <td>no</td>\n",
       "      <td>northwest</td>\n",
       "      <td>3866.85520</td>\n",
       "    </tr>\n",
       "  </tbody>\n",
       "</table>\n",
       "</div>"
      ]
     },
     "execution_count": 1284,
     "metadata": {},
     "output_type": "execute_result"
    }
   ],
   "execution_count": 1284
  },
  {
   "cell_type": "markdown",
   "id": "9d5421f0",
   "metadata": {},
   "source": [
    "**2.6 Statistische Beschreibung der numerischen Daten**"
   ]
  },
  {
   "cell_type": "code",
   "id": "d465a8e8",
   "metadata": {
    "ExecuteTime": {
     "end_time": "2024-06-25T00:55:58.822904Z",
     "start_time": "2024-06-25T00:55:58.810666Z"
    }
   },
   "source": [
    "insurance_data.describe()"
   ],
   "outputs": [
    {
     "data": {
      "text/plain": [
       "               age          bmi     children       charges\n",
       "count  1338.000000  1338.000000  1338.000000   1338.000000\n",
       "mean     39.207025    30.663397     1.094918  13270.422265\n",
       "std      14.049960     6.098187     1.205493  12110.011237\n",
       "min      18.000000    15.960000     0.000000   1121.873900\n",
       "25%      27.000000    26.296250     0.000000   4740.287150\n",
       "50%      39.000000    30.400000     1.000000   9382.033000\n",
       "75%      51.000000    34.693750     2.000000  16639.912515\n",
       "max      64.000000    53.130000     5.000000  63770.428010"
      ],
      "text/html": [
       "<div>\n",
       "<style scoped>\n",
       "    .dataframe tbody tr th:only-of-type {\n",
       "        vertical-align: middle;\n",
       "    }\n",
       "\n",
       "    .dataframe tbody tr th {\n",
       "        vertical-align: top;\n",
       "    }\n",
       "\n",
       "    .dataframe thead th {\n",
       "        text-align: right;\n",
       "    }\n",
       "</style>\n",
       "<table border=\"1\" class=\"dataframe\">\n",
       "  <thead>\n",
       "    <tr style=\"text-align: right;\">\n",
       "      <th></th>\n",
       "      <th>age</th>\n",
       "      <th>bmi</th>\n",
       "      <th>children</th>\n",
       "      <th>charges</th>\n",
       "    </tr>\n",
       "  </thead>\n",
       "  <tbody>\n",
       "    <tr>\n",
       "      <th>count</th>\n",
       "      <td>1338.000000</td>\n",
       "      <td>1338.000000</td>\n",
       "      <td>1338.000000</td>\n",
       "      <td>1338.000000</td>\n",
       "    </tr>\n",
       "    <tr>\n",
       "      <th>mean</th>\n",
       "      <td>39.207025</td>\n",
       "      <td>30.663397</td>\n",
       "      <td>1.094918</td>\n",
       "      <td>13270.422265</td>\n",
       "    </tr>\n",
       "    <tr>\n",
       "      <th>std</th>\n",
       "      <td>14.049960</td>\n",
       "      <td>6.098187</td>\n",
       "      <td>1.205493</td>\n",
       "      <td>12110.011237</td>\n",
       "    </tr>\n",
       "    <tr>\n",
       "      <th>min</th>\n",
       "      <td>18.000000</td>\n",
       "      <td>15.960000</td>\n",
       "      <td>0.000000</td>\n",
       "      <td>1121.873900</td>\n",
       "    </tr>\n",
       "    <tr>\n",
       "      <th>25%</th>\n",
       "      <td>27.000000</td>\n",
       "      <td>26.296250</td>\n",
       "      <td>0.000000</td>\n",
       "      <td>4740.287150</td>\n",
       "    </tr>\n",
       "    <tr>\n",
       "      <th>50%</th>\n",
       "      <td>39.000000</td>\n",
       "      <td>30.400000</td>\n",
       "      <td>1.000000</td>\n",
       "      <td>9382.033000</td>\n",
       "    </tr>\n",
       "    <tr>\n",
       "      <th>75%</th>\n",
       "      <td>51.000000</td>\n",
       "      <td>34.693750</td>\n",
       "      <td>2.000000</td>\n",
       "      <td>16639.912515</td>\n",
       "    </tr>\n",
       "    <tr>\n",
       "      <th>max</th>\n",
       "      <td>64.000000</td>\n",
       "      <td>53.130000</td>\n",
       "      <td>5.000000</td>\n",
       "      <td>63770.428010</td>\n",
       "    </tr>\n",
       "  </tbody>\n",
       "</table>\n",
       "</div>"
      ]
     },
     "execution_count": 1285,
     "metadata": {},
     "output_type": "execute_result"
    }
   ],
   "execution_count": 1285
  },
  {
   "cell_type": "markdown",
   "id": "07174f7f",
   "metadata": {},
   "source": [
    "**2.7 Testdatenmenge erstellen und zur Seite legen: Der Trainings- und Testdatensatz werden erstellt. Der Testdatensatz wird beiseitegelegt und nicht während des Modelltrainings verwendet, um eine unvoreingenommene Bewertung des Modells zu gewährleisten.**"
   ]
  },
  {
   "cell_type": "code",
   "id": "7bbdd863",
   "metadata": {
    "ExecuteTime": {
     "end_time": "2024-06-25T00:55:58.861809Z",
     "start_time": "2024-06-25T00:55:58.857418Z"
    }
   },
   "source": [
    "from sklearn.model_selection import train_test_split\n",
    "\n",
    "# Aufteilung in Trainings- und Testdatensatz\n",
    "train_set, test_set = train_test_split(insurance_data, test_size=0.2, random_state=42)\n"
   ],
   "outputs": [],
   "execution_count": 1286
  },
  {
   "cell_type": "markdown",
   "id": "df356ce1",
   "metadata": {},
   "source": [
    "**2.8 Daten visualisieren**"
   ]
  },
  {
   "cell_type": "markdown",
   "id": "5df2ea19",
   "metadata": {},
   "source": []
  },
  {
   "cell_type": "code",
   "id": "1e133ca9",
   "metadata": {
    "ExecuteTime": {
     "end_time": "2024-06-25T00:55:58.991494Z",
     "start_time": "2024-06-25T00:55:58.988078Z"
    }
   },
   "source": [
    "# Erstellen einer kombinierten Ansicht der Trainingsdaten zur Visualisierung, um die Erstellung von Diagrammen und die Durchführung von Analysen zu vereinfachen.\n",
    "x_train_plot = x_train.copy()\n",
    "y_train_plot = y_train.copy()\n",
    "\n",
    "combined_training_plot = pd.concat([x_train_plot, y_train_plot], axis=1)"
   ],
   "outputs": [],
   "execution_count": 1287
  },
  {
   "cell_type": "code",
   "id": "a8330476",
   "metadata": {
    "ExecuteTime": {
     "end_time": "2024-06-25T00:55:59.088212Z",
     "start_time": "2024-06-25T00:55:59.082657Z"
    }
   },
   "source": [
    "# Erster Blick auf die kombinierten Trainingsdaten\n",
    "print(combined_training_plot.head())"
   ],
   "outputs": [
    {
     "name": "stdout",
     "output_type": "stream",
     "text": [
      "      age     sex    bmi  children smoker     region      charges\n",
      "560    46  female  19.95         2     no  northwest   9193.83850\n",
      "1285   47  female  24.32         0     no  northeast   8534.67180\n",
      "1142   52  female  24.86         0     no  southeast  27117.99378\n",
      "969    39  female  34.32         5     no  southeast   8596.82780\n",
      "486    54  female  21.47         3     no  northwest  12475.35130\n"
     ]
    }
   ],
   "execution_count": 1288
  },
  {
   "cell_type": "code",
   "id": "6d9b8389",
   "metadata": {
    "ExecuteTime": {
     "end_time": "2024-06-25T00:55:59.347127Z",
     "start_time": "2024-06-25T00:55:59.340842Z"
    }
   },
   "source": [
    "#Umwandeln von Inf-Werten in NaN\n",
    "combined_training_plot.replace([np.inf, -np.inf], np.nan, inplace=True)"
   ],
   "outputs": [],
   "execution_count": 1289
  },
  {
   "cell_type": "markdown",
   "id": "3739fa7a",
   "metadata": {},
   "source": [
    "Brauchen wir das also inf in nan ändern?"
   ]
  },
  {
   "cell_type": "markdown",
   "id": "6cc4d1a2",
   "metadata": {},
   "source": [
    "# Explore the Data"
   ]
  },
  {
   "cell_type": "markdown",
   "id": "959dc40b",
   "metadata": {},
   "source": [
    "**3.1 Es wird, wie in der Aufgabenstellung verlangt, jedes Attribut (jede Spalte) im kombinierten Trainingsdatensatz untersucht und es werden verschiedene statistische Informationen über die Attribute ausgegeben.**"
   ]
  },
  {
   "cell_type": "code",
   "id": "4ce6e3d6",
   "metadata": {
    "ExecuteTime": {
     "end_time": "2024-06-25T00:55:59.386766Z",
     "start_time": "2024-06-25T00:55:59.371167Z"
    }
   },
   "source": [
    "for column in combined_training_plot.columns:\n",
    "    print(f'Attribut: {column}')\n",
    "    print(f'Typ: {combined_training_plot[column].dtype}')\n",
    "    print(f'Fehlende Werte (%): {combined_training_plot[column].isnull().mean() * 100:.2f}%')\n",
    "    print(f'Einzigartige Werte: {combined_training_plot[column].nunique()}')\n",
    "    # Überprüfung der Standardabweichung nur für numerische Spalten\n",
    "    if pd.api.types.is_numeric_dtype(combined_training_plot[column]):\n",
    "        print(f'Standardabweichung (Rauschen): {combined_training_plot[column].std()}')\n",
    "    print(combined_training_plot[column].describe())\n",
    "    print('-' * 100)\n"
   ],
   "outputs": [
    {
     "name": "stdout",
     "output_type": "stream",
     "text": [
      "Attribut: age\n",
      "Typ: int64\n",
      "Fehlende Werte (%): 0.00%\n",
      "Einzigartige Werte: 47\n",
      "Standardabweichung (Rauschen): 14.055324916119611\n",
      "count    1060.000000\n",
      "mean       39.339623\n",
      "std        14.055325\n",
      "min        18.000000\n",
      "25%        27.000000\n",
      "50%        39.500000\n",
      "75%        51.000000\n",
      "max        64.000000\n",
      "Name: age, dtype: float64\n",
      "----------------------------------------------------------------------------------------------------\n",
      "Attribut: sex\n",
      "Typ: category\n",
      "Fehlende Werte (%): 0.00%\n",
      "Einzigartige Werte: 2\n",
      "count     1060\n",
      "unique       2\n",
      "top       male\n",
      "freq       540\n",
      "Name: sex, dtype: object\n",
      "----------------------------------------------------------------------------------------------------\n",
      "Attribut: bmi\n",
      "Typ: float64\n",
      "Fehlende Werte (%): 0.00%\n",
      "Einzigartige Werte: 487\n",
      "Standardabweichung (Rauschen): 5.959671533114349\n",
      "count    1060.000000\n",
      "mean       30.473986\n",
      "std         5.959672\n",
      "min        15.960000\n",
      "25%        26.166250\n",
      "50%        30.200000\n",
      "75%        34.400000\n",
      "max        47.740000\n",
      "Name: bmi, dtype: float64\n",
      "----------------------------------------------------------------------------------------------------\n",
      "Attribut: children\n",
      "Typ: int64\n",
      "Fehlende Werte (%): 0.00%\n",
      "Einzigartige Werte: 6\n",
      "Standardabweichung (Rauschen): 1.2176254578001813\n",
      "count    1060.000000\n",
      "mean        1.110377\n",
      "std         1.217625\n",
      "min         0.000000\n",
      "25%         0.000000\n",
      "50%         1.000000\n",
      "75%         2.000000\n",
      "max         5.000000\n",
      "Name: children, dtype: float64\n",
      "----------------------------------------------------------------------------------------------------\n",
      "Attribut: smoker\n",
      "Typ: category\n",
      "Fehlende Werte (%): 0.00%\n",
      "Einzigartige Werte: 2\n",
      "count     1060\n",
      "unique       2\n",
      "top         no\n",
      "freq       847\n",
      "Name: smoker, dtype: object\n",
      "----------------------------------------------------------------------------------------------------\n",
      "Attribut: region\n",
      "Typ: category\n",
      "Fehlende Werte (%): 0.00%\n",
      "Einzigartige Werte: 4\n",
      "count          1060\n",
      "unique            4\n",
      "top       southeast\n",
      "freq            278\n",
      "Name: region, dtype: object\n",
      "----------------------------------------------------------------------------------------------------\n",
      "Attribut: charges\n",
      "Typ: float64\n",
      "Fehlende Werte (%): 0.00%\n",
      "Einzigartige Werte: 1060\n",
      "Standardabweichung (Rauschen): 11555.812146278742\n",
      "count     1060.000000\n",
      "mean     13090.235259\n",
      "std      11555.812146\n",
      "min       1121.873900\n",
      "25%       4892.031475\n",
      "50%       9545.630325\n",
      "75%      16428.094587\n",
      "max      48970.247600\n",
      "Name: charges, dtype: float64\n",
      "----------------------------------------------------------------------------------------------------\n"
     ]
    }
   ],
   "execution_count": 1290
  },
  {
   "cell_type": "markdown",
   "id": "cde801f9",
   "metadata": {},
   "source": [
    "Die Anzahl der fehlenden Werte für jedes Attribut wird überprüft."
   ]
  },
  {
   "cell_type": "code",
   "id": "5a2d461c",
   "metadata": {
    "ExecuteTime": {
     "end_time": "2024-06-25T00:55:59.468390Z",
     "start_time": "2024-06-25T00:55:59.463537Z"
    }
   },
   "source": [
    "print(combined_training_plot.isnull().sum())"
   ],
   "outputs": [
    {
     "name": "stdout",
     "output_type": "stream",
     "text": [
      "age         0\n",
      "sex         0\n",
      "bmi         0\n",
      "children    0\n",
      "smoker      0\n",
      "region      0\n",
      "charges     0\n",
      "dtype: int64\n"
     ]
    }
   ],
   "execution_count": 1291
  },
  {
   "cell_type": "markdown",
   "id": "750e208f",
   "metadata": {},
   "source": [
    "**3.2 Zielattribut identifizieren**"
   ]
  },
  {
   "cell_type": "code",
   "id": "ade87277",
   "metadata": {
    "ExecuteTime": {
     "end_time": "2024-06-25T00:55:59.531954Z",
     "start_time": "2024-06-25T00:55:59.528402Z"
    }
   },
   "source": [
    "target_attribute = 'charges'\n",
    "print(f'Das Zielattribut für überwachtes Lernen ist: {target_attribute}')"
   ],
   "outputs": [
    {
     "name": "stdout",
     "output_type": "stream",
     "text": [
      "Das Zielattribut für überwachtes Lernen ist: charges\n"
     ]
    }
   ],
   "execution_count": 1292
  },
  {
   "cell_type": "markdown",
   "id": "f50c5cde",
   "metadata": {},
   "source": [
    "**3.3 Daten visualisieren**"
   ]
  },
  {
   "cell_type": "code",
   "id": "a989b678",
   "metadata": {
    "ExecuteTime": {
     "end_time": "2024-06-25T00:55:59.818620Z",
     "start_time": "2024-06-25T00:55:59.598099Z"
    }
   },
   "source": [
    "# Histogramm der Behandlungskosten\n",
    "plt.figure()\n",
    "sns.histplot(combined_training_plot['charges'], bins=30, kde=True)\n",
    "plt.title('Verteilung der Behandlungskosten')\n",
    "plt.xlabel('Behandlungskosten')\n",
    "plt.ylabel('Häufigkeit')\n",
    "plt.show()"
   ],
   "outputs": [
    {
     "ename": "OptionError",
     "evalue": "No such keys(s): 'mode.use_inf_as_null'",
     "output_type": "error",
     "traceback": [
      "\u001B[1;31m---------------------------------------------------------------------------\u001B[0m",
      "\u001B[1;31mOptionError\u001B[0m                               Traceback (most recent call last)",
      "Cell \u001B[1;32mIn[1293], line 3\u001B[0m\n\u001B[0;32m      1\u001B[0m \u001B[38;5;66;03m# Histogramm der Behandlungskosten\u001B[39;00m\n\u001B[0;32m      2\u001B[0m plt\u001B[38;5;241m.\u001B[39mfigure()\n\u001B[1;32m----> 3\u001B[0m \u001B[43msns\u001B[49m\u001B[38;5;241;43m.\u001B[39;49m\u001B[43mhistplot\u001B[49m\u001B[43m(\u001B[49m\u001B[43mcombined_training_plot\u001B[49m\u001B[43m[\u001B[49m\u001B[38;5;124;43m'\u001B[39;49m\u001B[38;5;124;43mcharges\u001B[39;49m\u001B[38;5;124;43m'\u001B[39;49m\u001B[43m]\u001B[49m\u001B[43m,\u001B[49m\u001B[43m \u001B[49m\u001B[43mbins\u001B[49m\u001B[38;5;241;43m=\u001B[39;49m\u001B[38;5;241;43m30\u001B[39;49m\u001B[43m,\u001B[49m\u001B[43m \u001B[49m\u001B[43mkde\u001B[49m\u001B[38;5;241;43m=\u001B[39;49m\u001B[38;5;28;43;01mTrue\u001B[39;49;00m\u001B[43m)\u001B[49m\n\u001B[0;32m      4\u001B[0m plt\u001B[38;5;241m.\u001B[39mtitle(\u001B[38;5;124m'\u001B[39m\u001B[38;5;124mVerteilung der Behandlungskosten\u001B[39m\u001B[38;5;124m'\u001B[39m)\n\u001B[0;32m      5\u001B[0m plt\u001B[38;5;241m.\u001B[39mxlabel(\u001B[38;5;124m'\u001B[39m\u001B[38;5;124mBehandlungskosten\u001B[39m\u001B[38;5;124m'\u001B[39m)\n",
      "File \u001B[1;32m~\\Documents\\Studium\\Master Maschinenbau TH Köln\\Machine Learning\\ML_SoSe24\\venv\\Lib\\site-packages\\seaborn\\distributions.py:1432\u001B[0m, in \u001B[0;36mhistplot\u001B[1;34m(data, x, y, hue, weights, stat, bins, binwidth, binrange, discrete, cumulative, common_bins, common_norm, multiple, element, fill, shrink, kde, kde_kws, line_kws, thresh, pthresh, pmax, cbar, cbar_ax, cbar_kws, palette, hue_order, hue_norm, color, log_scale, legend, ax, **kwargs)\u001B[0m\n\u001B[0;32m   1421\u001B[0m estimate_kws \u001B[38;5;241m=\u001B[39m \u001B[38;5;28mdict\u001B[39m(\n\u001B[0;32m   1422\u001B[0m     stat\u001B[38;5;241m=\u001B[39mstat,\n\u001B[0;32m   1423\u001B[0m     bins\u001B[38;5;241m=\u001B[39mbins,\n\u001B[1;32m   (...)\u001B[0m\n\u001B[0;32m   1427\u001B[0m     cumulative\u001B[38;5;241m=\u001B[39mcumulative,\n\u001B[0;32m   1428\u001B[0m )\n\u001B[0;32m   1430\u001B[0m \u001B[38;5;28;01mif\u001B[39;00m p\u001B[38;5;241m.\u001B[39munivariate:\n\u001B[1;32m-> 1432\u001B[0m     \u001B[43mp\u001B[49m\u001B[38;5;241;43m.\u001B[39;49m\u001B[43mplot_univariate_histogram\u001B[49m\u001B[43m(\u001B[49m\n\u001B[0;32m   1433\u001B[0m \u001B[43m        \u001B[49m\u001B[43mmultiple\u001B[49m\u001B[38;5;241;43m=\u001B[39;49m\u001B[43mmultiple\u001B[49m\u001B[43m,\u001B[49m\n\u001B[0;32m   1434\u001B[0m \u001B[43m        \u001B[49m\u001B[43melement\u001B[49m\u001B[38;5;241;43m=\u001B[39;49m\u001B[43melement\u001B[49m\u001B[43m,\u001B[49m\n\u001B[0;32m   1435\u001B[0m \u001B[43m        \u001B[49m\u001B[43mfill\u001B[49m\u001B[38;5;241;43m=\u001B[39;49m\u001B[43mfill\u001B[49m\u001B[43m,\u001B[49m\n\u001B[0;32m   1436\u001B[0m \u001B[43m        \u001B[49m\u001B[43mshrink\u001B[49m\u001B[38;5;241;43m=\u001B[39;49m\u001B[43mshrink\u001B[49m\u001B[43m,\u001B[49m\n\u001B[0;32m   1437\u001B[0m \u001B[43m        \u001B[49m\u001B[43mcommon_norm\u001B[49m\u001B[38;5;241;43m=\u001B[39;49m\u001B[43mcommon_norm\u001B[49m\u001B[43m,\u001B[49m\n\u001B[0;32m   1438\u001B[0m \u001B[43m        \u001B[49m\u001B[43mcommon_bins\u001B[49m\u001B[38;5;241;43m=\u001B[39;49m\u001B[43mcommon_bins\u001B[49m\u001B[43m,\u001B[49m\n\u001B[0;32m   1439\u001B[0m \u001B[43m        \u001B[49m\u001B[43mkde\u001B[49m\u001B[38;5;241;43m=\u001B[39;49m\u001B[43mkde\u001B[49m\u001B[43m,\u001B[49m\n\u001B[0;32m   1440\u001B[0m \u001B[43m        \u001B[49m\u001B[43mkde_kws\u001B[49m\u001B[38;5;241;43m=\u001B[39;49m\u001B[43mkde_kws\u001B[49m\u001B[43m,\u001B[49m\n\u001B[0;32m   1441\u001B[0m \u001B[43m        \u001B[49m\u001B[43mcolor\u001B[49m\u001B[38;5;241;43m=\u001B[39;49m\u001B[43mcolor\u001B[49m\u001B[43m,\u001B[49m\n\u001B[0;32m   1442\u001B[0m \u001B[43m        \u001B[49m\u001B[43mlegend\u001B[49m\u001B[38;5;241;43m=\u001B[39;49m\u001B[43mlegend\u001B[49m\u001B[43m,\u001B[49m\n\u001B[0;32m   1443\u001B[0m \u001B[43m        \u001B[49m\u001B[43mestimate_kws\u001B[49m\u001B[38;5;241;43m=\u001B[39;49m\u001B[43mestimate_kws\u001B[49m\u001B[43m,\u001B[49m\n\u001B[0;32m   1444\u001B[0m \u001B[43m        \u001B[49m\u001B[43mline_kws\u001B[49m\u001B[38;5;241;43m=\u001B[39;49m\u001B[43mline_kws\u001B[49m\u001B[43m,\u001B[49m\n\u001B[0;32m   1445\u001B[0m \u001B[43m        \u001B[49m\u001B[38;5;241;43m*\u001B[39;49m\u001B[38;5;241;43m*\u001B[39;49m\u001B[43mkwargs\u001B[49m\u001B[43m,\u001B[49m\n\u001B[0;32m   1446\u001B[0m \u001B[43m    \u001B[49m\u001B[43m)\u001B[49m\n\u001B[0;32m   1448\u001B[0m \u001B[38;5;28;01melse\u001B[39;00m:\n\u001B[0;32m   1450\u001B[0m     p\u001B[38;5;241m.\u001B[39mplot_bivariate_histogram(\n\u001B[0;32m   1451\u001B[0m         common_bins\u001B[38;5;241m=\u001B[39mcommon_bins,\n\u001B[0;32m   1452\u001B[0m         common_norm\u001B[38;5;241m=\u001B[39mcommon_norm,\n\u001B[1;32m   (...)\u001B[0m\n\u001B[0;32m   1462\u001B[0m         \u001B[38;5;241m*\u001B[39m\u001B[38;5;241m*\u001B[39mkwargs,\n\u001B[0;32m   1463\u001B[0m     )\n",
      "File \u001B[1;32m~\\Documents\\Studium\\Master Maschinenbau TH Köln\\Machine Learning\\ML_SoSe24\\venv\\Lib\\site-packages\\seaborn\\distributions.py:430\u001B[0m, in \u001B[0;36m_DistributionPlotter.plot_univariate_histogram\u001B[1;34m(self, multiple, element, fill, common_norm, common_bins, shrink, kde, kde_kws, color, legend, line_kws, estimate_kws, **plot_kws)\u001B[0m\n\u001B[0;32m    427\u001B[0m histograms \u001B[38;5;241m=\u001B[39m {}\n\u001B[0;32m    429\u001B[0m \u001B[38;5;66;03m# Do pre-compute housekeeping related to multiple groups\u001B[39;00m\n\u001B[1;32m--> 430\u001B[0m all_data \u001B[38;5;241m=\u001B[39m \u001B[38;5;28;43mself\u001B[39;49m\u001B[38;5;241;43m.\u001B[39;49m\u001B[43mcomp_data\u001B[49m\u001B[38;5;241m.\u001B[39mdropna()\n\u001B[0;32m    431\u001B[0m all_weights \u001B[38;5;241m=\u001B[39m all_data\u001B[38;5;241m.\u001B[39mget(\u001B[38;5;124m\"\u001B[39m\u001B[38;5;124mweights\u001B[39m\u001B[38;5;124m\"\u001B[39m, \u001B[38;5;28;01mNone\u001B[39;00m)\n\u001B[0;32m    433\u001B[0m multiple_histograms \u001B[38;5;241m=\u001B[39m \u001B[38;5;28mset\u001B[39m(\u001B[38;5;28mself\u001B[39m\u001B[38;5;241m.\u001B[39mvariables) \u001B[38;5;241m-\u001B[39m {\u001B[38;5;124m\"\u001B[39m\u001B[38;5;124mx\u001B[39m\u001B[38;5;124m\"\u001B[39m, \u001B[38;5;124m\"\u001B[39m\u001B[38;5;124my\u001B[39m\u001B[38;5;124m\"\u001B[39m}\n",
      "File \u001B[1;32m~\\Documents\\Studium\\Master Maschinenbau TH Köln\\Machine Learning\\ML_SoSe24\\venv\\Lib\\site-packages\\seaborn\\_oldcore.py:1119\u001B[0m, in \u001B[0;36mVectorPlotter.comp_data\u001B[1;34m(self)\u001B[0m\n\u001B[0;32m   1117\u001B[0m grouped \u001B[38;5;241m=\u001B[39m \u001B[38;5;28mself\u001B[39m\u001B[38;5;241m.\u001B[39mplot_data[var]\u001B[38;5;241m.\u001B[39mgroupby(\u001B[38;5;28mself\u001B[39m\u001B[38;5;241m.\u001B[39mconverters[var], sort\u001B[38;5;241m=\u001B[39m\u001B[38;5;28;01mFalse\u001B[39;00m)\n\u001B[0;32m   1118\u001B[0m \u001B[38;5;28;01mfor\u001B[39;00m converter, orig \u001B[38;5;129;01min\u001B[39;00m grouped:\n\u001B[1;32m-> 1119\u001B[0m \u001B[43m    \u001B[49m\u001B[38;5;28;43;01mwith\u001B[39;49;00m\u001B[43m \u001B[49m\u001B[43mpd\u001B[49m\u001B[38;5;241;43m.\u001B[39;49m\u001B[43moption_context\u001B[49m\u001B[43m(\u001B[49m\u001B[38;5;124;43m'\u001B[39;49m\u001B[38;5;124;43mmode.use_inf_as_null\u001B[39;49m\u001B[38;5;124;43m'\u001B[39;49m\u001B[43m,\u001B[49m\u001B[43m \u001B[49m\u001B[38;5;28;43;01mTrue\u001B[39;49;00m\u001B[43m)\u001B[49m\u001B[43m:\u001B[49m\n\u001B[0;32m   1120\u001B[0m \u001B[43m        \u001B[49m\u001B[43morig\u001B[49m\u001B[43m \u001B[49m\u001B[38;5;241;43m=\u001B[39;49m\u001B[43m \u001B[49m\u001B[43morig\u001B[49m\u001B[38;5;241;43m.\u001B[39;49m\u001B[43mdropna\u001B[49m\u001B[43m(\u001B[49m\u001B[43m)\u001B[49m\n\u001B[0;32m   1121\u001B[0m \u001B[43m        \u001B[49m\u001B[38;5;28;43;01mif\u001B[39;49;00m\u001B[43m \u001B[49m\u001B[43mvar\u001B[49m\u001B[43m \u001B[49m\u001B[38;5;129;43;01min\u001B[39;49;00m\u001B[43m \u001B[49m\u001B[38;5;28;43mself\u001B[39;49m\u001B[38;5;241;43m.\u001B[39;49m\u001B[43mvar_levels\u001B[49m\u001B[43m:\u001B[49m\n\u001B[0;32m   1122\u001B[0m \u001B[43m            \u001B[49m\u001B[38;5;66;43;03m# TODO this should happen in some centralized location\u001B[39;49;00m\n\u001B[0;32m   1123\u001B[0m \u001B[43m            \u001B[49m\u001B[38;5;66;43;03m# it is similar to GH2419, but more complicated because\u001B[39;49;00m\n\u001B[0;32m   1124\u001B[0m \u001B[43m            \u001B[49m\u001B[38;5;66;43;03m# supporting `order` in categorical plots is tricky\u001B[39;49;00m\n",
      "File \u001B[1;32m~\\Documents\\Studium\\Master Maschinenbau TH Köln\\Machine Learning\\ML_SoSe24\\venv\\Lib\\site-packages\\pandas\\_config\\config.py:441\u001B[0m, in \u001B[0;36moption_context.__enter__\u001B[1;34m(self)\u001B[0m\n\u001B[0;32m    440\u001B[0m \u001B[38;5;28;01mdef\u001B[39;00m \u001B[38;5;21m__enter__\u001B[39m(\u001B[38;5;28mself\u001B[39m) \u001B[38;5;241m-\u001B[39m\u001B[38;5;241m>\u001B[39m \u001B[38;5;28;01mNone\u001B[39;00m:\n\u001B[1;32m--> 441\u001B[0m     \u001B[38;5;28mself\u001B[39m\u001B[38;5;241m.\u001B[39mundo \u001B[38;5;241m=\u001B[39m \u001B[43m[\u001B[49m\u001B[43m(\u001B[49m\u001B[43mpat\u001B[49m\u001B[43m,\u001B[49m\u001B[43m \u001B[49m\u001B[43m_get_option\u001B[49m\u001B[43m(\u001B[49m\u001B[43mpat\u001B[49m\u001B[43m,\u001B[49m\u001B[43m \u001B[49m\u001B[43msilent\u001B[49m\u001B[38;5;241;43m=\u001B[39;49m\u001B[38;5;28;43;01mTrue\u001B[39;49;00m\u001B[43m)\u001B[49m\u001B[43m)\u001B[49m\u001B[43m \u001B[49m\u001B[38;5;28;43;01mfor\u001B[39;49;00m\u001B[43m \u001B[49m\u001B[43mpat\u001B[49m\u001B[43m,\u001B[49m\u001B[43m \u001B[49m\u001B[43mval\u001B[49m\u001B[43m \u001B[49m\u001B[38;5;129;43;01min\u001B[39;49;00m\u001B[43m \u001B[49m\u001B[38;5;28;43mself\u001B[39;49m\u001B[38;5;241;43m.\u001B[39;49m\u001B[43mops\u001B[49m\u001B[43m]\u001B[49m\n\u001B[0;32m    443\u001B[0m     \u001B[38;5;28;01mfor\u001B[39;00m pat, val \u001B[38;5;129;01min\u001B[39;00m \u001B[38;5;28mself\u001B[39m\u001B[38;5;241m.\u001B[39mops:\n\u001B[0;32m    444\u001B[0m         _set_option(pat, val, silent\u001B[38;5;241m=\u001B[39m\u001B[38;5;28;01mTrue\u001B[39;00m)\n",
      "File \u001B[1;32m~\\Documents\\Studium\\Master Maschinenbau TH Köln\\Machine Learning\\ML_SoSe24\\venv\\Lib\\site-packages\\pandas\\_config\\config.py:441\u001B[0m, in \u001B[0;36m<listcomp>\u001B[1;34m(.0)\u001B[0m\n\u001B[0;32m    440\u001B[0m \u001B[38;5;28;01mdef\u001B[39;00m \u001B[38;5;21m__enter__\u001B[39m(\u001B[38;5;28mself\u001B[39m) \u001B[38;5;241m-\u001B[39m\u001B[38;5;241m>\u001B[39m \u001B[38;5;28;01mNone\u001B[39;00m:\n\u001B[1;32m--> 441\u001B[0m     \u001B[38;5;28mself\u001B[39m\u001B[38;5;241m.\u001B[39mundo \u001B[38;5;241m=\u001B[39m [(pat, \u001B[43m_get_option\u001B[49m\u001B[43m(\u001B[49m\u001B[43mpat\u001B[49m\u001B[43m,\u001B[49m\u001B[43m \u001B[49m\u001B[43msilent\u001B[49m\u001B[38;5;241;43m=\u001B[39;49m\u001B[38;5;28;43;01mTrue\u001B[39;49;00m\u001B[43m)\u001B[49m) \u001B[38;5;28;01mfor\u001B[39;00m pat, val \u001B[38;5;129;01min\u001B[39;00m \u001B[38;5;28mself\u001B[39m\u001B[38;5;241m.\u001B[39mops]\n\u001B[0;32m    443\u001B[0m     \u001B[38;5;28;01mfor\u001B[39;00m pat, val \u001B[38;5;129;01min\u001B[39;00m \u001B[38;5;28mself\u001B[39m\u001B[38;5;241m.\u001B[39mops:\n\u001B[0;32m    444\u001B[0m         _set_option(pat, val, silent\u001B[38;5;241m=\u001B[39m\u001B[38;5;28;01mTrue\u001B[39;00m)\n",
      "File \u001B[1;32m~\\Documents\\Studium\\Master Maschinenbau TH Köln\\Machine Learning\\ML_SoSe24\\venv\\Lib\\site-packages\\pandas\\_config\\config.py:135\u001B[0m, in \u001B[0;36m_get_option\u001B[1;34m(pat, silent)\u001B[0m\n\u001B[0;32m    134\u001B[0m \u001B[38;5;28;01mdef\u001B[39;00m \u001B[38;5;21m_get_option\u001B[39m(pat: \u001B[38;5;28mstr\u001B[39m, silent: \u001B[38;5;28mbool\u001B[39m \u001B[38;5;241m=\u001B[39m \u001B[38;5;28;01mFalse\u001B[39;00m) \u001B[38;5;241m-\u001B[39m\u001B[38;5;241m>\u001B[39m Any:\n\u001B[1;32m--> 135\u001B[0m     key \u001B[38;5;241m=\u001B[39m \u001B[43m_get_single_key\u001B[49m\u001B[43m(\u001B[49m\u001B[43mpat\u001B[49m\u001B[43m,\u001B[49m\u001B[43m \u001B[49m\u001B[43msilent\u001B[49m\u001B[43m)\u001B[49m\n\u001B[0;32m    137\u001B[0m     \u001B[38;5;66;03m# walk the nested dict\u001B[39;00m\n\u001B[0;32m    138\u001B[0m     root, k \u001B[38;5;241m=\u001B[39m _get_root(key)\n",
      "File \u001B[1;32m~\\Documents\\Studium\\Master Maschinenbau TH Köln\\Machine Learning\\ML_SoSe24\\venv\\Lib\\site-packages\\pandas\\_config\\config.py:121\u001B[0m, in \u001B[0;36m_get_single_key\u001B[1;34m(pat, silent)\u001B[0m\n\u001B[0;32m    119\u001B[0m     \u001B[38;5;28;01mif\u001B[39;00m \u001B[38;5;129;01mnot\u001B[39;00m silent:\n\u001B[0;32m    120\u001B[0m         _warn_if_deprecated(pat)\n\u001B[1;32m--> 121\u001B[0m     \u001B[38;5;28;01mraise\u001B[39;00m OptionError(\u001B[38;5;124mf\u001B[39m\u001B[38;5;124m\"\u001B[39m\u001B[38;5;124mNo such keys(s): \u001B[39m\u001B[38;5;132;01m{\u001B[39;00m\u001B[38;5;28mrepr\u001B[39m(pat)\u001B[38;5;132;01m}\u001B[39;00m\u001B[38;5;124m\"\u001B[39m)\n\u001B[0;32m    122\u001B[0m \u001B[38;5;28;01mif\u001B[39;00m \u001B[38;5;28mlen\u001B[39m(keys) \u001B[38;5;241m>\u001B[39m \u001B[38;5;241m1\u001B[39m:\n\u001B[0;32m    123\u001B[0m     \u001B[38;5;28;01mraise\u001B[39;00m OptionError(\u001B[38;5;124m\"\u001B[39m\u001B[38;5;124mPattern matched multiple keys\u001B[39m\u001B[38;5;124m\"\u001B[39m)\n",
      "\u001B[1;31mOptionError\u001B[0m: No such keys(s): 'mode.use_inf_as_null'"
     ]
    },
    {
     "data": {
      "text/plain": [
       "<Figure size 640x480 with 1 Axes>"
      ],
      "image/png": "[encoded data removed]"
     },
     "metadata": {},
     "output_type": "display_data"
    }
   ],
   "execution_count": 1293
  },
  {
   "cell_type": "code",
   "id": "ade9492f",
   "metadata": {},
   "source": [
    "#Boxplot von Behandlungskosten nach Rauchstatus\n",
    "plt.figure()\n",
    "sns.boxplot(x='smoker', y='charges', data=combined_training_plot)\n",
    "plt.title('Behandlungskosten nach Rauchstatus')\n",
    "plt.xlabel('Rauchstatus')\n",
    "plt.ylabel('Behandlungskosten')\n",
    "plt.show()"
   ],
   "outputs": [],
   "execution_count": null
  },
  {
   "cell_type": "code",
   "id": "07e64790",
   "metadata": {},
   "source": [
    "# Paarweise Streudiagramme (Pairplot) für ausgewählte Attribute\n",
    "selected_features = ['age', 'bmi', 'children', 'charges']\n",
    "sns.pairplot(combined_training_plot[selected_features])\n",
    "plt.show()"
   ],
   "outputs": [],
   "execution_count": null
  },
  {
   "cell_type": "code",
   "id": "c2bd6fed",
   "metadata": {},
   "source": [
    "#Die Variablen, die verschiedene Werte enthalten, zB männlich und weiblich bei Geschlecht, werden jetzt unterteilt in die Anzahl ihrer Werte, sodass die Angaben nur noch True oder False enthalten.\n",
    "# Kategoriale Variablen in numerische Werte umwandeln für Korrelationen\n",
    "combined_training_plot_encoded = pd.get_dummies(insurance_data, columns=['sex', 'smoker', 'region'])"
   ],
   "outputs": [],
   "execution_count": null
  },
  {
   "cell_type": "code",
   "id": "505a1e99",
   "metadata": {},
   "source": [
    "# Korrelationsmatrix berechnen mit den kodierten Daten\n",
    "correlation_matrix = combined_training_plot_encoded.corr()\n",
    "\n",
    "# Heatmap der Korrelationsmatrix\n",
    "plt.figure(figsize=(12, 8))\n",
    "sns.heatmap(correlation_matrix, annot=True, vmin=-1, vmax=1)\n",
    "plt.title('Korrelationsmatrix der Attribute')\n",
    "plt.show()\n"
   ],
   "outputs": [],
   "execution_count": null
  },
  {
   "cell_type": "markdown",
   "id": "e92eed43",
   "metadata": {},
   "source": [
    "**3.4 Dokumentation der Transformationen**\n",
    "\n",
    "1. **Log-Transformation der Behandlungskosten:**\n",
    "   - Die Spalte `charges` soll logarithmisch transformiert werden, um die rechtsschiefe Verteilung zu normalisieren.\n",
    "\n",
    "2. **Standardisierung der numerischen Variablen:**\n",
    "   - Alle numerischen Features wurden standardisiert, um einen Mittelwert von 0 und eine Standardabweichung von 1 zu haben.\n",
    "\n",
    "3. **One-Hot-Encoding der kategorialen Variablen:**\n",
    "   - Die kategorialen Variablen `sex` und `smoker` sollen mittels One-Hot-Encoding in numerische Formate umgewandelt werden.\n",
    "\n",
    "4. **Umgang mit Ausreißern:**\n",
    "   - Datenpunkte, die mehr als 3 Standardabweichungen vom Mittelwert sollen entfernt werden,.\n",
    "\n"
   ]
  },
  {
   "cell_type": "markdown",
   "id": "0069cdf0",
   "metadata": {},
   "source": [
    "**3.5 Ergebnisse**"
   ]
  },
  {
   "cell_type": "markdown",
   "id": "46190707",
   "metadata": {},
   "source": [
    "\n",
    "\n",
    "**Übersicht der Daten**\n",
    "- Der Datensatz enthält 1338 Einträge mit 7 Merkmalen und der Zielvariable \"charges\".\n",
    "- Die Merkmale umfassen demografische Informationen wie Alter, Geschlecht, BMI, Anzahl der Kinder, Rauchstatus und Wohnregion.\n",
    "\n",
    "**Verteilungen der Merkmale**\n",
    "- Die Verteilung der Behandlungskosten ist rechtsschief, was auf einige hohe Kostenfälle hinweist.\n",
    "- Das Boxplot der Behandlungskosten nach Rauchstatus zeigt, dass Raucher tendenziell höhere Behandlungskosten haben als Nichtraucher.\n",
    "\n",
    "**Korrelationen**\n",
    "- Es gibt eine starke positive Korrelation zwischen \"charges\" und \"smoker\" (Rauchstatus), was darauf hindeutet, dass Raucher höhere Behandlungskosten haben.\n",
    "- Auch das Alter und der BMI zeigen eine positive Korrelation mit den Behandlungskosten.\n",
    "\n",
    "\n",
    "**Fazit**\n",
    "- Die explorative Analyse hat wertvolle Einblicke in die Struktur und Beziehungen der Daten geliefert. Diese Erkenntnisse werden bei der Auswahl und Vorbereitung der Modelle berücksichtigt.\n"
   ]
  },
  {
   "cell_type": "markdown",
   "id": "9607f0fc",
   "metadata": {},
   "source": [
    "# Prepare the Data"
   ]
  },
  {
   "metadata": {},
   "cell_type": "code",
   "source": [
    "import pandas as pd\n",
    "import numpy as np\n",
    "\n",
    "def remove_outliers(data, columns, threshold):\n",
    "\n",
    "    filtered_data = data.copy()\n",
    "    outliers_dataframes = []\n",
    "    outliers_values = []\n",
    "\n",
    "    # Iterate over specified columns\n",
    "    for col in columns:\n",
    "        # Calculate Z-scores for the column\n",
    "        z_scores = np.abs((filtered_data[col] - filtered_data[col].mean()) / filtered_data[col].std())\n",
    "\n",
    "        # Identify outliers based on the threshold\n",
    "        outliers = z_scores > threshold\n",
    "\n",
    "        # Append outliers to outliers_dataframes list\n",
    "        outliers_dataframes.append(filtered_data[outliers])\n",
    "\n",
    "        # Append outlier values to outliers_values list\n",
    "        outliers_values.extend([col] * np.sum(outliers))\n",
    "\n",
    "        # Remove outliers from the dataframe\n",
    "        filtered_data = filtered_data[~outliers]\n",
    "\n",
    "        removed_outliers = pd.concat(outliers_dataframes)\n",
    "        removed_outliers['outlier_values'] = outliers_values\n",
    "\n",
    "    return filtered_data, removed_outliers\n",
    "\n",
    "\n"
   ],
   "id": "dc21ec672fff1fb2",
   "outputs": [],
   "execution_count": null
  },
  {
   "metadata": {
    "ExecuteTime": {
     "end_time": "2024-06-25T00:55:59.860525Z",
     "start_time": "2024-06-25T00:55:59.854229Z"
    }
   },
   "cell_type": "code",
   "source": "train_set.info()",
   "id": "8fc5fa8e130217ab",
   "outputs": [
    {
     "name": "stdout",
     "output_type": "stream",
     "text": [
      "<class 'pandas.core.frame.DataFrame'>\n",
      "Index: 1070 entries, 560 to 1126\n",
      "Data columns (total 7 columns):\n",
      " #   Column    Non-Null Count  Dtype   \n",
      "---  ------    --------------  -----   \n",
      " 0   age       1070 non-null   int64   \n",
      " 1   sex       1070 non-null   category\n",
      " 2   bmi       1070 non-null   float64 \n",
      " 3   children  1070 non-null   int64   \n",
      " 4   smoker    1070 non-null   category\n",
      " 5   region    1070 non-null   category\n",
      " 6   charges   1070 non-null   float64 \n",
      "dtypes: category(3), float64(2), int64(2)\n",
      "memory usage: 45.4 KB\n"
     ]
    }
   ],
   "execution_count": 1294
  },
  {
   "metadata": {
    "ExecuteTime": {
     "end_time": "2024-06-25T00:55:59.895277Z",
     "start_time": "2024-06-25T00:55:59.885567Z"
    }
   },
   "cell_type": "code",
   "source": "train_set, outliers_df = remove_outliers(train_set, columns=['age', 'bmi', 'charges'], threshold=3)",
   "id": "d4ac15362566424",
   "outputs": [],
   "execution_count": 1295
  },
  {
   "metadata": {
    "ExecuteTime": {
     "end_time": "2024-06-25T00:56:00.197370Z",
     "start_time": "2024-06-25T00:56:00.190374Z"
    }
   },
   "cell_type": "code",
   "source": "train_set.info()",
   "id": "287b2b1c558a8b73",
   "outputs": [
    {
     "name": "stdout",
     "output_type": "stream",
     "text": [
      "<class 'pandas.core.frame.DataFrame'>\n",
      "Index: 1060 entries, 560 to 1126\n",
      "Data columns (total 7 columns):\n",
      " #   Column    Non-Null Count  Dtype   \n",
      "---  ------    --------------  -----   \n",
      " 0   age       1060 non-null   int64   \n",
      " 1   sex       1060 non-null   category\n",
      " 2   bmi       1060 non-null   float64 \n",
      " 3   children  1060 non-null   int64   \n",
      " 4   smoker    1060 non-null   category\n",
      " 5   region    1060 non-null   category\n",
      " 6   charges   1060 non-null   float64 \n",
      "dtypes: category(3), float64(2), int64(2)\n",
      "memory usage: 45.0 KB\n"
     ]
    }
   ],
   "execution_count": 1296
  },
  {
   "metadata": {
    "ExecuteTime": {
     "end_time": "2024-06-25T00:56:00.239087Z",
     "start_time": "2024-06-25T00:56:00.230416Z"
    }
   },
   "cell_type": "code",
   "source": "outliers_df.head(30)",
   "id": "e1beb6f4e8cde357",
   "outputs": [
    {
     "data": {
      "text/plain": [
       "      age     sex     bmi  children smoker     region      charges  \\\n",
       "847    23    male  50.380         1     no  southeast   2438.05520   \n",
       "1317   18    male  53.130         0     no  southeast   1163.46270   \n",
       "116    58    male  49.060         0     no  southeast  11381.32540   \n",
       "1146   60    male  32.800         0    yes  southwest  52590.82939   \n",
       "1230   52    male  34.485         3    yes  northwest  60021.39897   \n",
       "1241   64    male  36.960         2    yes  southeast  49577.66240   \n",
       "819    33  female  35.530         0    yes  northwest  55135.40209   \n",
       "1300   45    male  30.360         0    yes  southeast  62592.87309   \n",
       "577    31  female  38.095         1    yes  northeast  58571.07448   \n",
       "34     28    male  36.400         1    yes  southwest  51194.55914   \n",
       "\n",
       "     outlier_values  \n",
       "847             bmi  \n",
       "1317            bmi  \n",
       "116             bmi  \n",
       "1146        charges  \n",
       "1230        charges  \n",
       "1241        charges  \n",
       "819         charges  \n",
       "1300        charges  \n",
       "577         charges  \n",
       "34          charges  "
      ],
      "text/html": [
       "<div>\n",
       "<style scoped>\n",
       "    .dataframe tbody tr th:only-of-type {\n",
       "        vertical-align: middle;\n",
       "    }\n",
       "\n",
       "    .dataframe tbody tr th {\n",
       "        vertical-align: top;\n",
       "    }\n",
       "\n",
       "    .dataframe thead th {\n",
       "        text-align: right;\n",
       "    }\n",
       "</style>\n",
       "<table border=\"1\" class=\"dataframe\">\n",
       "  <thead>\n",
       "    <tr style=\"text-align: right;\">\n",
       "      <th></th>\n",
       "      <th>age</th>\n",
       "      <th>sex</th>\n",
       "      <th>bmi</th>\n",
       "      <th>children</th>\n",
       "      <th>smoker</th>\n",
       "      <th>region</th>\n",
       "      <th>charges</th>\n",
       "      <th>outlier_values</th>\n",
       "    </tr>\n",
       "  </thead>\n",
       "  <tbody>\n",
       "    <tr>\n",
       "      <th>847</th>\n",
       "      <td>23</td>\n",
       "      <td>male</td>\n",
       "      <td>50.380</td>\n",
       "      <td>1</td>\n",
       "      <td>no</td>\n",
       "      <td>southeast</td>\n",
       "      <td>2438.05520</td>\n",
       "      <td>bmi</td>\n",
       "    </tr>\n",
       "    <tr>\n",
       "      <th>1317</th>\n",
       "      <td>18</td>\n",
       "      <td>male</td>\n",
       "      <td>53.130</td>\n",
       "      <td>0</td>\n",
       "      <td>no</td>\n",
       "      <td>southeast</td>\n",
       "      <td>1163.46270</td>\n",
       "      <td>bmi</td>\n",
       "    </tr>\n",
       "    <tr>\n",
       "      <th>116</th>\n",
       "      <td>58</td>\n",
       "      <td>male</td>\n",
       "      <td>49.060</td>\n",
       "      <td>0</td>\n",
       "      <td>no</td>\n",
       "      <td>southeast</td>\n",
       "      <td>11381.32540</td>\n",
       "      <td>bmi</td>\n",
       "    </tr>\n",
       "    <tr>\n",
       "      <th>1146</th>\n",
       "      <td>60</td>\n",
       "      <td>male</td>\n",
       "      <td>32.800</td>\n",
       "      <td>0</td>\n",
       "      <td>yes</td>\n",
       "      <td>southwest</td>\n",
       "      <td>52590.82939</td>\n",
       "      <td>charges</td>\n",
       "    </tr>\n",
       "    <tr>\n",
       "      <th>1230</th>\n",
       "      <td>52</td>\n",
       "      <td>male</td>\n",
       "      <td>34.485</td>\n",
       "      <td>3</td>\n",
       "      <td>yes</td>\n",
       "      <td>northwest</td>\n",
       "      <td>60021.39897</td>\n",
       "      <td>charges</td>\n",
       "    </tr>\n",
       "    <tr>\n",
       "      <th>1241</th>\n",
       "      <td>64</td>\n",
       "      <td>male</td>\n",
       "      <td>36.960</td>\n",
       "      <td>2</td>\n",
       "      <td>yes</td>\n",
       "      <td>southeast</td>\n",
       "      <td>49577.66240</td>\n",
       "      <td>charges</td>\n",
       "    </tr>\n",
       "    <tr>\n",
       "      <th>819</th>\n",
       "      <td>33</td>\n",
       "      <td>female</td>\n",
       "      <td>35.530</td>\n",
       "      <td>0</td>\n",
       "      <td>yes</td>\n",
       "      <td>northwest</td>\n",
       "      <td>55135.40209</td>\n",
       "      <td>charges</td>\n",
       "    </tr>\n",
       "    <tr>\n",
       "      <th>1300</th>\n",
       "      <td>45</td>\n",
       "      <td>male</td>\n",
       "      <td>30.360</td>\n",
       "      <td>0</td>\n",
       "      <td>yes</td>\n",
       "      <td>southeast</td>\n",
       "      <td>62592.87309</td>\n",
       "      <td>charges</td>\n",
       "    </tr>\n",
       "    <tr>\n",
       "      <th>577</th>\n",
       "      <td>31</td>\n",
       "      <td>female</td>\n",
       "      <td>38.095</td>\n",
       "      <td>1</td>\n",
       "      <td>yes</td>\n",
       "      <td>northeast</td>\n",
       "      <td>58571.07448</td>\n",
       "      <td>charges</td>\n",
       "    </tr>\n",
       "    <tr>\n",
       "      <th>34</th>\n",
       "      <td>28</td>\n",
       "      <td>male</td>\n",
       "      <td>36.400</td>\n",
       "      <td>1</td>\n",
       "      <td>yes</td>\n",
       "      <td>southwest</td>\n",
       "      <td>51194.55914</td>\n",
       "      <td>charges</td>\n",
       "    </tr>\n",
       "  </tbody>\n",
       "</table>\n",
       "</div>"
      ]
     },
     "execution_count": 1297,
     "metadata": {},
     "output_type": "execute_result"
    }
   ],
   "execution_count": 1297
  },
  {
   "metadata": {
    "ExecuteTime": {
     "end_time": "2024-06-25T00:56:00.297316Z",
     "start_time": "2024-06-25T00:56:00.293687Z"
    }
   },
   "cell_type": "code",
   "source": [
    "# Merkmale (Features) und Zielvariable (Target) werden definiert\n",
    "x_train = train_set.drop(columns=['charges'], axis=1)\n",
    "y_train = train_set['charges']"
   ],
   "id": "5e3778da06972a98",
   "outputs": [],
   "execution_count": 1298
  },
  {
   "cell_type": "markdown",
   "id": "57c07702",
   "metadata": {},
   "source": [
    "**4.1 Clean the Data**"
   ]
  },
  {
   "cell_type": "markdown",
   "id": "47efc888",
   "metadata": {},
   "source": [
    "Das Auffüllen von fehlenden Daten ist nicht notwendig, da es keine fehlenden Werte im Datensatz gibt (siehe 3.1). Allerdings können im Testdatensatz Daten fehlen. "
   ]
  },
  {
   "cell_type": "markdown",
   "id": "d0addebf",
   "metadata": {},
   "source": [
    "Die Features werden aufgeteilt in numerische und kategorische Features anhand von 2.3, um einen passenden Transformer anzuwenden."
   ]
  },
  {
   "metadata": {
    "ExecuteTime": {
     "end_time": "2024-06-25T00:56:00.340639Z",
     "start_time": "2024-06-25T00:56:00.337909Z"
    }
   },
   "cell_type": "code",
   "source": [
    "num_features = ['age', 'bmi', 'children']\n",
    "cat_features = ['sex', 'smoker', 'region']"
   ],
   "id": "3dd139229b38b3d5",
   "outputs": [],
   "execution_count": 1299
  },
  {
   "cell_type": "markdown",
   "id": "c37f2ac6",
   "metadata": {},
   "source": [
    "Für die numerische Werte "
   ]
  },
  {
   "metadata": {
    "ExecuteTime": {
     "end_time": "2024-06-25T00:56:00.420232Z",
     "start_time": "2024-06-25T00:56:00.417352Z"
    }
   },
   "cell_type": "code",
   "source": [
    "num_transformer = Pipeline(steps=[\n",
    "    ('imputer', SimpleImputer(strategy='mean')),\n",
    "    ('scaler', StandardScaler())\n",
    "])"
   ],
   "id": "5bef6d15ef336059",
   "outputs": [],
   "execution_count": 1300
  },
  {
   "cell_type": "markdown",
   "id": "036e59c1",
   "metadata": {},
   "source": [
    "Für kategorische"
   ]
  },
  {
   "metadata": {
    "ExecuteTime": {
     "end_time": "2024-06-25T00:56:00.482897Z",
     "start_time": "2024-06-25T00:56:00.479741Z"
    }
   },
   "cell_type": "code",
   "source": [
    "cat_transformer = Pipeline(steps=[\n",
    "    ('imputer', SimpleImputer(strategy='most_frequent')),\n",
    "    ('encoder', OneHotEncoder(handle_unknown='ignore'))\n",
    "])"
   ],
   "id": "e40da747f66c0570",
   "outputs": [],
   "execution_count": 1301
  },
  {
   "metadata": {
    "ExecuteTime": {
     "end_time": "2024-06-25T00:56:00.638789Z",
     "start_time": "2024-06-25T00:56:00.634849Z"
    }
   },
   "cell_type": "code",
   "source": [
    "preprocessor = ColumnTransformer(transformers=[\n",
    "    ('num', num_transformer, num_features),\n",
    "    ('cat', cat_transformer, cat_features)\n",
    "])"
   ],
   "id": "3687e9a1cbce8e1c",
   "outputs": [],
   "execution_count": 1302
  },
  {
   "cell_type": "code",
   "id": "81741d40",
   "metadata": {
    "ExecuteTime": {
     "end_time": "2024-06-25T00:56:00.717545Z",
     "start_time": "2024-06-25T00:56:00.713413Z"
    }
   },
   "source": [
    "from sklearn.tree import DecisionTreeRegressor\n",
    "from sklearn.linear_model import LinearRegression, Ridge, Lasso\n",
    "from sklearn.svm import SVR\n",
    "\n",
    "models = {\n",
    "    'Linear Regression': LinearRegression(),\n",
    "    'SVR': SVR(),\n",
    "    'Ridge Regression': Ridge(),\n",
    "    'Lasso Regression': Lasso(),\n",
    "    'Decision Tree': DecisionTreeRegressor(),\n",
    "    'Random Forest': RandomForestRegressor(),\n",
    "}\n",
    "\n"
   ],
   "outputs": [],
   "execution_count": 1303
  },
  {
   "cell_type": "code",
   "id": "f357b5f6",
   "metadata": {
    "ExecuteTime": {
     "end_time": "2024-06-25T00:56:05.019593Z",
     "start_time": "2024-06-25T00:56:00.776286Z"
    }
   },
   "source": [
    "# 4. Kreuzvalidierung und Training der Modelle\n",
    "kf = KFold(n_splits=5, shuffle=True, random_state=42)\n",
    "\n",
    "# Cross-Validation: Modelltraining und Evaluation\n",
    "def evaluate_model_with_cv(model, x, y, cv):\n",
    "    mse_scorer = make_scorer(mean_squared_error, greater_is_better=False)\n",
    "    r2_scorer = make_scorer(r2_score)\n",
    "    mse_scores = cross_val_score(model, x, y, scoring=mse_scorer, cv=cv)\n",
    "    r2_scores = cross_val_score(model, x, y, scoring=r2_scorer, cv=cv)\n",
    "    rmse_scores = np.sqrt(-mse_scores)\n",
    "    return rmse_scores, r2_scores\n",
    "\n",
    "\n",
    "\n",
    "# Cross-Validation Ergebnisse\n",
    "cv_results = {'Model': [], 'RMSE Mean': [], 'RMSE Std': [], 'R2 Mean': [], 'R2 Std': []}\n",
    "\n",
    "for name, model in models.items():\n",
    "    pipeline = Pipeline(steps=[('preprocessor', preprocessor), ('model', model)])\n",
    "    rmse_scores, r2_scores = evaluate_model_with_cv(pipeline, x_train, y_train, kf)\n",
    "    cv_results['Model'].append(name)\n",
    "    cv_results['RMSE Mean'].append(rmse_scores.mean())\n",
    "    cv_results['RMSE Std'].append(rmse_scores.std())\n",
    "    cv_results['R2 Mean'].append(r2_scores.mean())\n",
    "    cv_results['R2 Std'].append(r2_scores.std())\n",
    "\n",
    "final_results = {'Model': [], 'RMSE': [], 'R2 Score': [], 'y_pred': []}\n",
    "\n",
    "'''for name, model in models.items():\n",
    "    pipeline = Pipeline(steps=[('preprocessor', preprocessor), ('model', model)])\n",
    "    pipeline.fit(x_train, y_train)\n",
    "    y_pred = pipeline.predict(x_test)\n",
    "    rmse = np.sqrt(mean_squared_error(y_test, y_pred))\n",
    "    r2 = r2_score(y_test, y_pred)\n",
    "    final_results['Model'].append(name)\n",
    "    final_results['RMSE'].append(rmse)\n",
    "    final_results['R2 Score'].append(r2)\n",
    "    final_results['y_pred'].append(y_pred)'''\n",
    "    \n",
    "# Ergebnisse der Cross-Validation\n",
    "cv_results_df = pd.DataFrame(cv_results)\n",
    "\n",
    "# Ergebnisse der finalen Bewertung\n",
    "final_results_df = pd.DataFrame(final_results)\n",
    "\n",
    "# Visualisierung der Ergebnisse\n",
    "plt.figure(figsize=(12, 6))\n",
    "plt.subplot(1, 2, 1)\n",
    "sns.barplot(x='Model', y='RMSE Mean', data=cv_results_df)\n",
    "plt.title('Cross-Validation Ergebnisse')\n",
    "\n",
    "plt.subplot(1, 2, 2)\n",
    "sns.barplot(x='Model', y='RMSE', data=final_results_df)\n",
    "plt.title('Finale Ergebnisse auf dem Testdatensatz')\n",
    "\n",
    "plt.tight_layout()\n",
    "plt.show()\n"
   ],
   "outputs": [
    {
     "ename": "ValueError",
     "evalue": "min() arg is an empty sequence",
     "output_type": "error",
     "traceback": [
      "\u001B[1;31m---------------------------------------------------------------------------\u001B[0m",
      "\u001B[1;31mValueError\u001B[0m                                Traceback (most recent call last)",
      "Cell \u001B[1;32mIn[1304], line 53\u001B[0m\n\u001B[0;32m     50\u001B[0m plt\u001B[38;5;241m.\u001B[39mtitle(\u001B[38;5;124m'\u001B[39m\u001B[38;5;124mCross-Validation Ergebnisse\u001B[39m\u001B[38;5;124m'\u001B[39m)\n\u001B[0;32m     52\u001B[0m plt\u001B[38;5;241m.\u001B[39msubplot(\u001B[38;5;241m1\u001B[39m, \u001B[38;5;241m2\u001B[39m, \u001B[38;5;241m2\u001B[39m)\n\u001B[1;32m---> 53\u001B[0m \u001B[43msns\u001B[49m\u001B[38;5;241;43m.\u001B[39;49m\u001B[43mbarplot\u001B[49m\u001B[43m(\u001B[49m\u001B[43mx\u001B[49m\u001B[38;5;241;43m=\u001B[39;49m\u001B[38;5;124;43m'\u001B[39;49m\u001B[38;5;124;43mModel\u001B[39;49m\u001B[38;5;124;43m'\u001B[39;49m\u001B[43m,\u001B[49m\u001B[43m \u001B[49m\u001B[43my\u001B[49m\u001B[38;5;241;43m=\u001B[39;49m\u001B[38;5;124;43m'\u001B[39;49m\u001B[38;5;124;43mRMSE\u001B[39;49m\u001B[38;5;124;43m'\u001B[39;49m\u001B[43m,\u001B[49m\u001B[43m \u001B[49m\u001B[43mdata\u001B[49m\u001B[38;5;241;43m=\u001B[39;49m\u001B[43mfinal_results_df\u001B[49m\u001B[43m)\u001B[49m\n\u001B[0;32m     54\u001B[0m plt\u001B[38;5;241m.\u001B[39mtitle(\u001B[38;5;124m'\u001B[39m\u001B[38;5;124mFinale Ergebnisse auf dem Testdatensatz\u001B[39m\u001B[38;5;124m'\u001B[39m)\n\u001B[0;32m     56\u001B[0m plt\u001B[38;5;241m.\u001B[39mtight_layout()\n",
      "File \u001B[1;32m~\\Documents\\Studium\\Master Maschinenbau TH Köln\\Machine Learning\\ML_SoSe24\\venv\\Lib\\site-packages\\seaborn\\categorical.py:2754\u001B[0m, in \u001B[0;36mbarplot\u001B[1;34m(data, x, y, hue, order, hue_order, estimator, errorbar, n_boot, units, seed, orient, color, palette, saturation, width, errcolor, errwidth, capsize, dodge, ci, ax, **kwargs)\u001B[0m\n\u001B[0;32m   2751\u001B[0m \u001B[38;5;28;01mif\u001B[39;00m estimator \u001B[38;5;129;01mis\u001B[39;00m \u001B[38;5;28mlen\u001B[39m:\n\u001B[0;32m   2752\u001B[0m     estimator \u001B[38;5;241m=\u001B[39m \u001B[38;5;124m\"\u001B[39m\u001B[38;5;124msize\u001B[39m\u001B[38;5;124m\"\u001B[39m\n\u001B[1;32m-> 2754\u001B[0m plotter \u001B[38;5;241m=\u001B[39m \u001B[43m_BarPlotter\u001B[49m\u001B[43m(\u001B[49m\u001B[43mx\u001B[49m\u001B[43m,\u001B[49m\u001B[43m \u001B[49m\u001B[43my\u001B[49m\u001B[43m,\u001B[49m\u001B[43m \u001B[49m\u001B[43mhue\u001B[49m\u001B[43m,\u001B[49m\u001B[43m \u001B[49m\u001B[43mdata\u001B[49m\u001B[43m,\u001B[49m\u001B[43m \u001B[49m\u001B[43morder\u001B[49m\u001B[43m,\u001B[49m\u001B[43m \u001B[49m\u001B[43mhue_order\u001B[49m\u001B[43m,\u001B[49m\n\u001B[0;32m   2755\u001B[0m \u001B[43m                      \u001B[49m\u001B[43mestimator\u001B[49m\u001B[43m,\u001B[49m\u001B[43m \u001B[49m\u001B[43merrorbar\u001B[49m\u001B[43m,\u001B[49m\u001B[43m \u001B[49m\u001B[43mn_boot\u001B[49m\u001B[43m,\u001B[49m\u001B[43m \u001B[49m\u001B[43munits\u001B[49m\u001B[43m,\u001B[49m\u001B[43m \u001B[49m\u001B[43mseed\u001B[49m\u001B[43m,\u001B[49m\n\u001B[0;32m   2756\u001B[0m \u001B[43m                      \u001B[49m\u001B[43morient\u001B[49m\u001B[43m,\u001B[49m\u001B[43m \u001B[49m\u001B[43mcolor\u001B[49m\u001B[43m,\u001B[49m\u001B[43m \u001B[49m\u001B[43mpalette\u001B[49m\u001B[43m,\u001B[49m\u001B[43m \u001B[49m\u001B[43msaturation\u001B[49m\u001B[43m,\u001B[49m\n\u001B[0;32m   2757\u001B[0m \u001B[43m                      \u001B[49m\u001B[43mwidth\u001B[49m\u001B[43m,\u001B[49m\u001B[43m \u001B[49m\u001B[43merrcolor\u001B[49m\u001B[43m,\u001B[49m\u001B[43m \u001B[49m\u001B[43merrwidth\u001B[49m\u001B[43m,\u001B[49m\u001B[43m \u001B[49m\u001B[43mcapsize\u001B[49m\u001B[43m,\u001B[49m\u001B[43m \u001B[49m\u001B[43mdodge\u001B[49m\u001B[43m)\u001B[49m\n\u001B[0;32m   2759\u001B[0m \u001B[38;5;28;01mif\u001B[39;00m ax \u001B[38;5;129;01mis\u001B[39;00m \u001B[38;5;28;01mNone\u001B[39;00m:\n\u001B[0;32m   2760\u001B[0m     ax \u001B[38;5;241m=\u001B[39m plt\u001B[38;5;241m.\u001B[39mgca()\n",
      "File \u001B[1;32m~\\Documents\\Studium\\Master Maschinenbau TH Köln\\Machine Learning\\ML_SoSe24\\venv\\Lib\\site-packages\\seaborn\\categorical.py:1532\u001B[0m, in \u001B[0;36m_BarPlotter.__init__\u001B[1;34m(self, x, y, hue, data, order, hue_order, estimator, errorbar, n_boot, units, seed, orient, color, palette, saturation, width, errcolor, errwidth, capsize, dodge)\u001B[0m\n\u001B[0;32m   1529\u001B[0m \u001B[38;5;250m\u001B[39m\u001B[38;5;124;03m\"\"\"Initialize the plotter.\"\"\"\u001B[39;00m\n\u001B[0;32m   1530\u001B[0m \u001B[38;5;28mself\u001B[39m\u001B[38;5;241m.\u001B[39mestablish_variables(x, y, hue, data, orient,\n\u001B[0;32m   1531\u001B[0m                          order, hue_order, units)\n\u001B[1;32m-> 1532\u001B[0m \u001B[38;5;28;43mself\u001B[39;49m\u001B[38;5;241;43m.\u001B[39;49m\u001B[43mestablish_colors\u001B[49m\u001B[43m(\u001B[49m\u001B[43mcolor\u001B[49m\u001B[43m,\u001B[49m\u001B[43m \u001B[49m\u001B[43mpalette\u001B[49m\u001B[43m,\u001B[49m\u001B[43m \u001B[49m\u001B[43msaturation\u001B[49m\u001B[43m)\u001B[49m\n\u001B[0;32m   1533\u001B[0m \u001B[38;5;28mself\u001B[39m\u001B[38;5;241m.\u001B[39mestimate_statistic(estimator, errorbar, n_boot, seed)\n\u001B[0;32m   1535\u001B[0m \u001B[38;5;28mself\u001B[39m\u001B[38;5;241m.\u001B[39mdodge \u001B[38;5;241m=\u001B[39m dodge\n",
      "File \u001B[1;32m~\\Documents\\Studium\\Master Maschinenbau TH Köln\\Machine Learning\\ML_SoSe24\\venv\\Lib\\site-packages\\seaborn\\categorical.py:707\u001B[0m, in \u001B[0;36m_CategoricalPlotter.establish_colors\u001B[1;34m(self, color, palette, saturation)\u001B[0m\n\u001B[0;32m    705\u001B[0m \u001B[38;5;66;03m# Determine the gray color to use for the lines framing the plot\u001B[39;00m\n\u001B[0;32m    706\u001B[0m light_vals \u001B[38;5;241m=\u001B[39m [rgb_to_hls(\u001B[38;5;241m*\u001B[39mc)[\u001B[38;5;241m1\u001B[39m] \u001B[38;5;28;01mfor\u001B[39;00m c \u001B[38;5;129;01min\u001B[39;00m rgb_colors]\n\u001B[1;32m--> 707\u001B[0m lum \u001B[38;5;241m=\u001B[39m \u001B[38;5;28;43mmin\u001B[39;49m\u001B[43m(\u001B[49m\u001B[43mlight_vals\u001B[49m\u001B[43m)\u001B[49m \u001B[38;5;241m*\u001B[39m \u001B[38;5;241m.6\u001B[39m\n\u001B[0;32m    708\u001B[0m gray \u001B[38;5;241m=\u001B[39m mpl\u001B[38;5;241m.\u001B[39mcolors\u001B[38;5;241m.\u001B[39mrgb2hex((lum, lum, lum))\n\u001B[0;32m    710\u001B[0m \u001B[38;5;66;03m# Assign object attributes\u001B[39;00m\n",
      "\u001B[1;31mValueError\u001B[0m: min() arg is an empty sequence"
     ]
    },
    {
     "data": {
      "text/plain": [
       "<Figure size 1200x600 with 2 Axes>"
      ],
      "image/png": "[encoded data removed]"
     },
     "metadata": {},
     "output_type": "display_data"
    }
   ],
   "execution_count": 1304
  },
  {
   "metadata": {
    "ExecuteTime": {
     "end_time": "2024-06-25T00:56:05.021599Z",
     "start_time": "2024-06-25T00:56:05.020600Z"
    }
   },
   "cell_type": "code",
   "source": [
    "selected_models = {\n",
    "    'Linear Regression': LinearRegression(),\n",
    "    'SVR': SVR(),\n",
    "    'Random Forest': RandomForestRegressor(),\n",
    "}"
   ],
   "id": "e67e7022662091b4",
   "outputs": [],
   "execution_count": null
  },
  {
   "metadata": {
    "ExecuteTime": {
     "end_time": "2024-06-25T00:56:05.022601Z",
     "start_time": "2024-06-25T00:56:05.022601Z"
    }
   },
   "cell_type": "code",
   "source": [
    "def get_model_params(models):\n",
    "    params_list = []\n",
    "\n",
    "    for name, model in models.items():\n",
    "        params_dict = {'Model': name}\n",
    "        params = model.get_params()\n",
    "        for param_name, param_value in params.items():\n",
    "            params_dict[param_name] = param_value\n",
    "        params_list.append(params_dict)\n",
    "\n",
    "    params_df = pd.DataFrame(params_list)\n",
    "    return params_df\n",
    "\n",
    "get_model_params(selected_models)"
   ],
   "id": "ba1268510ce068a5",
   "outputs": [],
   "execution_count": null
  },
  {
   "cell_type": "code",
   "id": "17857b7e",
   "metadata": {},
   "source": [
    "# Modellnamen zur Identifikation in der Ergebnismatrix\n",
    "model_names = [\"Linear Regression\", \"SVR\", \"Ridge Regression\", \"Lasso Regression\", \"Decision Tree\", \"Random Forest\"]\n",
    "\n",
    "# Ermittlung der Indizes der Modelle, basierend auf ihrer Position in results_df und model_names\n",
    "# Wichtig: Stellen Sie sicher, dass die Reihenfolge in results_df mit model_names übereinstimmt.\n",
    "# Dieser Schritt ist abhängig von der genauen Struktur Ihrer results_df.\n",
    "\n",
    "# Erstellen der 3x2 Subplot-Matrix\n",
    "fig, axes = plt.subplots(2,3, figsize=(15, 10))\n",
    "axes = axes.flatten() # Umwandlung der Achsen-Struktur in eine einfache Liste für leichteres Iterieren\n",
    "\n",
    "for i, model_name in enumerate(model_names):\n",
    "    ax = axes[i]\n",
    "\n",
    "    y_pred = final_results_df.iloc[i]['y_pred']\n",
    "    \n",
    "    # Scatter-Plot der vorhergesagten Werte\n",
    "    ax.scatter(y_test, y_pred, color='orange', alpha=0.5, label='Vorhergesagte Werte')\n",
    "    \n",
    "    # Ideal-Linie\n",
    "    ax.plot([y_test.min(), y_test.max()], [y_test.min(), y_test.max()], 'k--', lw=2, label='Ideal')\n",
    "    \n",
    "    # Beschriftungen und Titel\n",
    "    ax.set_xlabel('Wahre Werte')\n",
    "    ax.set_ylabel('Vorhergesagte Werte')\n",
    "    ax.set_title(f'{model_name}')\n",
    "    ax.legend()\n",
    "\n",
    "# Anpassung des Layouts für bessere Lesbarkeit\n",
    "plt.tight_layout()\n",
    "plt.show()"
   ],
   "outputs": [],
   "execution_count": null
  },
  {
   "cell_type": "markdown",
   "id": "29ec8fd5",
   "metadata": {},
   "source": [
    "### 6. Fine-Tune der Modelle\n",
    "\n",
    "Im Folgenden wird probiert die Vorhersagefähigkeit der Modelle noch weiter zu steigern"
   ]
  },
  {
   "metadata": {},
   "cell_type": "code",
   "source": [
    "models_to_search = [\n",
    "    ('Linear Regression', LinearRegression(), {\n",
    "        'model__fit_intercept': [True, False]\n",
    "    }),\n",
    "    ('SVR', SVR(), {\n",
    "        'model__kernel': ['linear', 'poly', 'rbf'],\n",
    "        'model__C': [0.1, 1, 10],\n",
    "        'model__epsilon': [0.01, 0.1, 0.5]\n",
    "    }),\n",
    "    ('Random Forest Regression', RandomForestRegressor(), {\n",
    "        'model__n_estimators': [50, 100, 200],\n",
    "        'model__max_depth': [None, 10, 20],\n",
    "        'model__min_samples_split': [2, 5, 10],\n",
    "        'model__min_samples_leaf': [1, 2, 4]\n",
    "    })\n",
    "]"
   ],
   "id": "391f80e4f913bcff",
   "outputs": [],
   "execution_count": null
  },
  {
   "metadata": {},
   "cell_type": "code",
   "source": [
    "def perform_grid_search(X, y, models, preprocessor, cv):\n",
    "    best_models = {}\n",
    "\n",
    "    for name, model, param_grid in models:\n",
    "        \n",
    "        model_pipeline = Pipeline([('preprocessor', preprocessor), ('model', model)])\n",
    "\n",
    "        grid_search = GridSearchCV(estimator=model_pipeline, param_grid=param_grid, cv=cv, scoring='r2', verbose=1, n_jobs=-1)\n",
    "        grid_search.fit(X, y)\n",
    "\n",
    "        best_models[name] = {\n",
    "            'model': grid_search.best_estimator_,\n",
    "            'params': grid_search.best_params_,\n",
    "            'score': grid_search.best_score_\n",
    "        }\n",
    "\n",
    "        print(f\"Best parameters for {name}:\")\n",
    "        print(grid_search.best_params_)\n",
    "        print(f\"Best {name} model score: {grid_search.best_score_}\")\n",
    "        print()\n",
    "\n",
    "    return best_models\n",
    "\n",
    "best_models = perform_grid_search(x_train, y_train, models_to_search, preprocessor, kf)\n"
   ],
   "id": "78060216954fa7ec",
   "outputs": [],
   "execution_count": null
  },
  {
   "cell_type": "markdown",
   "id": "3db90bba",
   "metadata": {},
   "source": [
    "#### Decision Tree mithilfe von Random Search"
   ]
  },
  {
   "cell_type": "code",
   "id": "c10cbf3b",
   "metadata": {},
   "source": [
    "from scipy.stats import randint\n",
    "from sklearn.model_selection import RandomizedSearchCV\n",
    "\n",
    "# Definition der Parameterbereiche, angepasst für DecisionTreeRegressor\n",
    "param_distribs_dectree = {\n",
    "    'max_depth': [3, 5, 10, None],  # Einschließlich der Möglichkeit von unbegrenzten Tiefen\n",
    "    'min_samples_split': randint(low=2, high=20),  # Zufällige Auswahl von 2 bis 20\n",
    "    'min_samples_leaf': randint(low=1, high=20),  # Zufällige Auswahl von 1 bis 20\n",
    "    'max_features': randint(low=1, high=transformed_x_train.shape[1] + 1)  # Basierend auf der Anzahl der Features\n",
    "}\n",
    "\n",
    "# Erstellung des DecisionTreeRegressor-Modells\n",
    "decisiontree_reg = DecisionTreeRegressor(random_state=42)\n",
    "\n",
    "# Initialisierung von RandomizedSearchCV mit den spezifischen Einstellungen für den DecisionTree\n",
    "rnd_search_dectree = RandomizedSearchCV(decisiontree_reg, param_distributions=param_distribs_dectree,\n",
    "                                        n_iter=10, cv=5, scoring='neg_mean_squared_error', random_state=42)\n",
    "\n",
    "# Durchführung der Suche auf den Trainingsdaten\n",
    "rnd_search_dectree.fit(transformed_x_train, y_train)\n",
    "\n",
    "# Ausgabe der besten Parameter und des besten Modells\n",
    "print(\"Beste Parameter: \", rnd_search_dectree.best_params_)\n",
    "print(\"Bester Entscheidungsbaum: \", rnd_search_dectree.best_estimator_)"
   ],
   "outputs": [],
   "execution_count": null
  },
  {
   "cell_type": "code",
   "id": "da607962",
   "metadata": {},
   "source": [
    "feature_importances_rnds_dectree = rnd_search_dectree.best_estimator_.feature_importances_"
   ],
   "outputs": [],
   "execution_count": null
  },
  {
   "cell_type": "code",
   "id": "9df76a6e",
   "metadata": {},
   "source": [
    "\n",
    "cat_encoder = transformer.named_transformers_['cat'].named_steps['encoder']\n",
    "\n",
    "cat_one_hot_attribs = cat_encoder.get_feature_names_out(cat_features)\n",
    "\n",
    "# Kombinieren der numerischen und kategorialen Feature-Namen \n",
    "attributes = num_features + list(cat_one_hot_attribs)\n",
    "\n",
    "# Zusammenstellen der Feature-Wichtigkeiten und der Feature-Namen\n",
    "importance_scores = sorted(zip(feature_importances_rnds_dectree, attributes), reverse=True)\n",
    "\n",
    "for score, attrib in importance_scores:\n",
    "    print(attrib, score)"
   ],
   "outputs": [],
   "execution_count": null
  },
  {
   "cell_type": "code",
   "id": "a373ce6f",
   "metadata": {},
   "source": [
    "final_model_rnds_dectree = rnd_search_dectree.best_estimator_\n",
    "\n",
    "\n",
    "final_predictions_rnds_dectree = final_model_rnds_dectree.predict(transformed_x_test)\n",
    "\n",
    "final_mse = mean_squared_error(y_test, final_predictions_rnds_dectree)\n",
    "final_rmse = np.sqrt(final_mse)\n",
    "print(final_rmse)\n",
    "print(final_mse)\n",
    "r2final = r2_score(y_test, final_predictions_rnds_dectree)\n",
    "print(r2final)"
   ],
   "outputs": [],
   "execution_count": null
  },
  {
   "cell_type": "markdown",
   "id": "ee6a1845",
   "metadata": {},
   "source": [
    "#### Decision Tree mithilfe von Grid Search"
   ]
  },
  {
   "cell_type": "code",
   "id": "b17f9d6b",
   "metadata": {},
   "source": [
    "param_grid_dectree = [\n",
    "    {'ccp_alpha': [0.0001, 0.001, 0.01, 0.1], 'max_features': [2, 4, 6, 8]}\n",
    "]\n",
    "\n",
    "decisiontree_reg = DecisionTreeRegressor(random_state=42)\n",
    "# train across 5 folds\n",
    "grid_search_dectree = GridSearchCV(decisiontree_reg, param_grid_dectree, cv=5,\n",
    "                           scoring='neg_mean_squared_error',\n",
    "                           return_train_score=True)\n",
    "grid_search_dectree.fit(transformed_x_train, y_train)\n",
    "\n",
    "# Ausgabe der besten Parameter und des besten Schätzers\n",
    "print(\"Beste Parameter: \", grid_search_dectree.best_params_)\n",
    "print(\"Bester Entscheidungsbaumregressor: \", grid_search_dectree.best_estimator_)"
   ],
   "outputs": [],
   "execution_count": null
  },
  {
   "cell_type": "code",
   "id": "b6af8bc5",
   "metadata": {},
   "source": [
    "feature_importances_grids_dectree = grid_search_dectree.best_estimator_.feature_importances_"
   ],
   "outputs": [],
   "execution_count": null
  },
  {
   "cell_type": "code",
   "id": "1431ab6f",
   "metadata": {},
   "source": [
    "\n",
    "# Zusammenstellen der Feature-Wichtigkeiten und der Feature-Namen\n",
    "importance_scores_dectree_grids = sorted(zip(feature_importances_grids_dectree, attributes), reverse=True)\n",
    "\n",
    "for score, attrib in importance_scores_dectree_grids:\n",
    "    print(attrib, score)"
   ],
   "outputs": [],
   "execution_count": null
  },
  {
   "cell_type": "code",
   "id": "66a8fca1",
   "metadata": {},
   "source": [
    "final_model_grids_dectree = grid_search_dectree.best_estimator_\n",
    "\n",
    "\n",
    "final_predictions_grids_dectree = final_model_grids_dectree.predict(transformed_x_test)\n",
    "\n",
    "final_mse = mean_squared_error(y_test, final_predictions_grids_dectree)\n",
    "final_rmse = np.sqrt(final_mse)\n",
    "print(final_rmse)\n",
    "print(final_mse)\n",
    "r2final = r2_score(y_test, final_predictions_grids_dectree)\n",
    "print(r2final)"
   ],
   "outputs": [],
   "execution_count": null
  },
  {
   "cell_type": "markdown",
   "id": "9cb22408",
   "metadata": {},
   "source": [
    "## Jetzt mit Random Forest und Random Search"
   ]
  },
  {
   "cell_type": "code",
   "id": "e12d79bd",
   "metadata": {},
   "source": [
    "param_distribs_rf_rs = {\n",
    "        'n_estimators': randint(low=1, high=150),\n",
    "        'max_features': randint(low=1, high=8),\n",
    "    }\n",
    "\n",
    "randomforest_reg = RandomForestRegressor(random_state=42)\n",
    "rnd_search_rnd_forest = RandomizedSearchCV(randomforest_reg, param_distributions=param_distribs_rf_rs,\n",
    "                                n_iter=10, cv=5, scoring='neg_mean_squared_error', random_state=42)\n",
    "rnd_search_rnd_forest.fit(transformed_x_train, y_train)"
   ],
   "outputs": [],
   "execution_count": null
  },
  {
   "cell_type": "code",
   "id": "f4afdf1a",
   "metadata": {},
   "source": [
    "rnd_search_rnd_forest.best_params_"
   ],
   "outputs": [],
   "execution_count": null
  },
  {
   "cell_type": "code",
   "id": "1608b621",
   "metadata": {},
   "source": [
    "rnd_search_rnd_forest.best_estimator_"
   ],
   "outputs": [],
   "execution_count": null
  },
  {
   "cell_type": "code",
   "id": "38ef2ab4",
   "metadata": {},
   "source": [
    "feature_importances_rndsearch_rndforest = rnd_search_rnd_forest.best_estimator_.feature_importances_\n",
    "feature_importances_rndsearch_rndforest"
   ],
   "outputs": [],
   "execution_count": null
  },
  {
   "cell_type": "code",
   "id": "0589f5cc",
   "metadata": {},
   "source": [
    "# Zusammenstellen der Feature-Wichtigkeiten und der Feature-Namen\n",
    "importance_scores_rndsearch_randomforest = sorted(zip(feature_importances_rndsearch_rndforest, attributes), reverse=True)\n",
    "\n",
    "for score, attrib in importance_scores_rndsearch_randomforest:\n",
    "    print(attrib, score)"
   ],
   "outputs": [],
   "execution_count": null
  },
  {
   "cell_type": "code",
   "id": "fb115557",
   "metadata": {},
   "source": [
    "final_model_rndsearch_rndforest = rnd_search_rnd_forest.best_estimator_\n",
    "\n",
    "\n",
    "final_predictions_rndsearch_rndforest = final_model_rndsearch_rndforest.predict(transformed_x_test)\n",
    "\n",
    "final_mse = mean_squared_error(y_test, final_predictions_rndsearch_rndforest)\n",
    "final_rmse = np.sqrt(final_mse)\n",
    "print(final_rmse)\n",
    "print(final_mse)\n",
    "r2final = r2_score(y_test, final_predictions_rndsearch_rndforest)\n",
    "print(r2final)"
   ],
   "outputs": [],
   "execution_count": null
  },
  {
   "cell_type": "markdown",
   "id": "f22bc5f3",
   "metadata": {},
   "source": [
    "# Random Forest und Grid Search"
   ]
  }
 ],
 "metadata": {
  "kernelspec": {
   "display_name": "Python 3 (ipykernel)",
   "language": "python",
   "name": "python3"
  },
  "language_info": {
   "codemirror_mode": {
    "name": "ipython",
    "version": 3
   },
   "file_extension": ".py",
   "mimetype": "text/x-python",
   "name": "python",
   "nbconvert_exporter": "python",
   "pygments_lexer": "ipython3",
   "version": "3.9.13"
  }
 },
 "nbformat": 4,
 "nbformat_minor": 5
}
