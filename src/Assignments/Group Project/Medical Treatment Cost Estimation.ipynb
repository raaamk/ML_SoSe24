{
 "cells": [
  {
   "cell_type": "markdown",
   "id": "bb78b975",
   "metadata": {},
   "source": [
    "# Medical Treatment Cost Forecasting\n",
    "\n",
    "**Link**\n",
    "\n",
    "https://www.kaggle.com/mirichoi0218/insurance\n",
    "\n",
    "\n",
    "**Context**\n",
    "\n",
    "This dataset contains the cost of medical treatment of different patients.\n",
    "\n",
    "\n",
    "**Content**\n",
    "\n",
    "The cost of treatment depends on many factors: diagnosis, type of clinic, city of residence, age and so on. We have no data on the diagnosis of patients. But we have other information that can help us to make a conclusion about the health of patients and predict the cost of medical treatment by using regression analysis.\n",
    "\n",
    "The dataset consists of the following attributes:\n",
    "- age: age of primary beneficiary\n",
    "- sex: insurance contractor gender, female, male\n",
    "- bmi: body mass index, providing an understanding of body, weights that are relatively high or low relative to height\n",
    "- children: number of children covered by health insurance / Number of dependents\n",
    "- smoker: smoking (0: no, 1: yes)\n",
    "- region: the beneficiary's residential area in the US, northeast, southeast, southwest, northwest.\n",
    "- charges: individual medical costs billed by health insurance\n",
    "\n",
    "The `charges` attribute is our target variable, which should be predicted depending on new patient informations.\n",
    "\n",
    "**Task (Regression)**\n",
    "\n",
    "Your task is to use the present data set to predict the cost of medical treatment for new patients. To do this, use the `Linear Regression` and `SVR` methods for this task. You must also include a third method that you have selected yourself.\n",
    "\n",
    "First of all, get an overview of the project in your group. Then carefully read the checklist for machine learning projects and think about how you want to organize your group work. It is strongly recommended that all task items are completed by all group members. You can divide the focus among yourself, but make sure that all members are as well informed as possible about the content.\n",
    "\n",
    "Use the checklist for machine learning projects as a guide when working on the task. Document all the individual steps that are listed there (main and sub-items). Make sure to use Markdown Cells for your documentation. Document the functionality of your algorithms (all three) with equations and explanations. Dont forget, this project is a task for five students. We expect a detailed documentation of your approach and your results.\n",
    "\n",
    "**Note**\n",
    "\n",
    "We are aware that there are examples and solutions for the selected data sets on popular platforms, e.g. Kaggle. You are welcome to use them as a guide. But remember that at the end of the project, your own work will be assessed. We compare the results with the popular solutions of common platforms. We would like to recognize the independence in your work and see a difference to the existing solution approaches."
   ]
  },
  {
   "cell_type": "markdown",
   "id": "0dc15257",
   "metadata": {},
   "source": [
    "# Inhaltsverzeichnis\n",
    "\n",
    "1. [Frame the problem](#id1) <br>\n",
    "    1.1 [Ziel](#id1.1) <br>\n",
    "    1.2 [Verwendung der Lösung](#id1.2) <br>\n",
    "    1.3 [Aktuelle Lösungen](#id1.3) <br>\n",
    "    1.4 [Problemdefinition](#id1.4) <br>\n",
    "    1.5 [Leistungsmessung](#id1.5) <br>\n",
    "    1.6 [Ausrichtung an den Unternehmenszielen](#id1.6) <br>\n",
    "    1.7 [Erforderliche Mindestleistung](#id1.7) <br>\n",
    "    1.8 [Vergleichbare Probleme](#id1.8) <br>\n",
    "    1.9 [Wiederverwendung von Tools](#id1.9) <br>\n",
    "    1.10 [Verfügbarkeit von menschlicher Expertise](#id1.10) <br>\n",
    "    1.11 [Manuelle Lösung](#id1.11) <br>\n",
    "    1.12 [Annahmen](#id1.12) <br>\n",
    "    1.13 [Überprüfen der Annahmen](#id1.13) <br>\n",
    "    1.14 [Modellauswahl und Implementierung](#id1.14) <br>\n",
    "2. [Get the data](#id2) <br>\n",
    "    2.1 [Einlesen der Daten](#id2.1) <br>\n",
    "    2.2 [Konvertierung der Daten](#id2.2) <br>\n",
    "    2.3 [Überprüfung der Daten](#id2.3) <br>\n",
    "    2.4 [Aufteilung der Daten](#id2.4) <br>\n",
    "3. [Explore the data](#id3) <br>\n",
    "    3.1 [Kopie vom Trainingsset](#id3.1) <br>\n",
    "    3.2 [Charakteristik der Attribute](#id3.2) <br>\n",
    "    3.3 [Zielattribut identifizieren](#id3.3) <br>\n",
    "    3.4 [Daten visualisieren](#id3.4) <br>\n",
    "    3.5 [Korrelationen](#id3.5) <br>\n",
    "    3.6 [Festlegung der notwendigen Transformationen](#id3.6) <br>\n",
    "    3.7 [Ergebnisse](#id3.7) <br>\n",
    "4. [Prepare the Data](#id4) <br>\n",
    "    4.1 [Ausreißer entfernen](#id4.1) <br>\n",
    "    4.2 [Trainingsset aufteilen in Features und Target](#id4.2) <br>\n",
    "    4.3 [Daten transformieren](#4.3) <br>\n",
    "5. [Select and train the models](#id5) <br>\n",
    "    5.1 [Auswahl des dritten Modells](#id5.1) <br>\n",
    "    5.2 [Erklärung der ausgewählten Modelle](#id5.2) <br>\n",
    "    5.3 [Plan für Modelltraining](#id5.3) <br>\n",
    "    5.4 [Modelle erstellen](#id5.4) <br>\n",
    "    5.5 [Modelle trainieren und validieren](#id5.5) <br>\n",
    "    5.6 [Performance der Modelle](#id5.6) <br>\n",
    "    5.7 [Signifikante Parameter der Modelle](#id5.7) <br>\n",
    "6. [Fine-Tune the models](#id6) <br>\n",
    "    6.1 [Hyperparametertuning mit GridSearchCV() und RandomizedSearchCV()](#id6.1) <br>\n",
    "    6.2 [Festlegung des Parameter-Grids und Auswertung der Ergebnisse](#id6.2) <br>\n",
    "    6.3 [Finale Modell trainieren](#id6.3) <br>\n",
    "    6.4 [Feature-Wichtigkeit](#id6.4) <br>\n",
    "    6.5 [Auswertung des finalen Modells anhand Testset](#id6.5) <br>\n",
    "7. [Zusammenfassung](#id7) <br>\n"
   ]
  },
  {
   "cell_type": "markdown",
   "id": "8b5e8388",
   "metadata": {},
   "source": [
    "## 1 Frame the problem  <a class=\"anchor\" id=\"id1\"></a>\n",
    "\n",
    "### 1.1 Ziel <a class=\"anchor\" id=\"id1.1\"></a>\n",
    "\n",
    "Das primäre Ziel besteht darin, die Kosten der medizinischen Behandlung für neue Patienten basierend auf verschiedenen Faktoren wie Alter, Geschlecht, BMI, Anzahl der Kinder, Rauchstatus und Wohnregion vorherzusagen. Genaue Vorhersagen können Versicherungsunternehmen helfen, Prämien festzulegen, finanzielle Risiken zu managen und personalisierte Gesundheitspläne zu erstellen.\n",
    "   \n",
    "### 1.2 Verwendung der Lösung <a class=\"anchor\" id=\"id1.2\"></a>\n",
    "\n",
    "Die Lösung wird in den Arbeitsablauf des Versicherungsunternehmens integriert, um die Kosten der medizinischen Behandlung für neue Versicherungsnehmer abzuschätzen oder die Prämien für bestehende Versicherungsnehmer anzupassen. Dieses prädiktive Modell ermöglicht es dem Unternehmen, Risiken genauer zu bewerten und wettbewerbsfähige Preise anzubieten, während die Rentabilität sichergestellt wird\n",
    "\n",
    "### 1.3 Aktuelle Lösungen <a class=\"anchor\" id=\"id1.3\"></a>\n",
    "\n",
    "Versicherungsunternehmen verwenden in der Regel versicherungsmathematische Methoden (Traditionelle statistische Methoden) und manuelle Schätzungen (Komplexe Regeln) zur Kostenschätzung auf der Grundlage historischer Daten und demografischer Profile. Diese Methoden können zeitaufwändig, kostenintensiv, weniger genau sein und möglicherweise keine komplexen Muster in den Daten erfassen. Ein auf maschinellem Lernen basierter Ansatz kann präzisere und skalierbarere Lösungen bieten. [1]\n",
    "\n",
    "[1] U. Orji und E. Ukwandu, \"Machine Learning For An Explainable Cost Prediction of Medical Insurance,\" arXiv, Nov. 2023. [Online]. Verfügbar: https://ar5iv.org/abs/2311.14139. [Zugegriffen: 20. Juni 2024].\n",
    "\n",
    "\n",
    "### 1.4 Problemdefinition <a class=\"anchor\" id=\"id1.4\"></a>\n",
    "\n",
    "Typ: Überwachtes Lernen\n",
    "Herangehensweise: Regression\n",
    "Modus: Offline\n",
    "Begründung:\n",
    "Wir haben historische Daten mit bekannten Kosten (Gebühren) und damit verbundenen Merkmalen. Das Ziel ist die Vorhersage einer kontinuierlichen Variable, was es zu einem Regressionsproblem macht. Ein Offline-Ansatz ist angemessen, da wir das Modell auf historischen Daten trainieren und es dann für zukünftige Vorhersagen einsetzen werden.\n",
    "\n",
    "### 1.5 Leistungsmessung <a class=\"anchor\" id=\"id1.5\"></a>\n",
    "\n",
    "Die Leistung wird anhand des Root Mean Squared Error (RMSE) und des Bestimmtheitsmaß (R2) gemessen. RMSE wird wegen seiner Empfindlichkeit gegenüber Ausreißern bevorzugt, was bei medizinischen Kosten signifikant sein kann.\n",
    "\n",
    "### 1.6 Ausrichtung an den Unternehmenszielen <a class=\"anchor\" id=\"id1.6\"></a>\n",
    "\n",
    "Die gewählten Leistungsmaße (RMSE und MAE) stimmen mit dem Geschäftsziel überein, Vorhersagefehler zu minimieren, um Behandlungskosten besser abzuschätzen und so finanzielle Risiken zu reduzieren.\n",
    "\n",
    "### 1.7 Erforderliche Mindestleistung <a class=\"anchor\" id=\"id1.7\"></a>\n",
    "\n",
    "Die Mindestleistung des neuen Modells sollte die Leistung bestehender Methoden übertreffen. Angenommen, die aktuellen manuellen Methoden haben folgende Fehlermaße:\n",
    "\n",
    "RMSE: 4000\n",
    "MAE: 3000\n",
    "\n",
    "Ein realistischer Schwellenwert für das maschinelle Lernmodell könnte sein, diese Werte um mindestens 10% zu verbessern. Das bedeutet:\n",
    "\n",
    "RMSE: 3600\n",
    "MAE: 2700\n",
    "\n",
    "Diese Verbesserungen würden signifikant genug sein, um die Überlegenheit des neuen Modells gegenüber den bestehenden Methoden zu demonstrieren.\n",
    "\n",
    "### 1.8 Vergleichbare Probleme <a class=\"anchor\" id=\"id1.8\"></a>\n",
    "- Hauspreisvorhersage\n",
    "- Vorhersage von Kfz-Versicherungsansprüchen\n",
    "- Vorhersage von Darlehenausfällen\n",
    "\n",
    "### 1.9 Wiederverwendung von Tools <a class=\"anchor\" id=\"id1.9\"></a>\n",
    "\n",
    "Wir können auf etablierte maschinelle Lernframeworks und -bibliotheken (wie Scikit-learn, TensorFlow oder XGBoost) und Methoden aus ähnlichen Regressionsaufgaben zurückgreifen. Werkzeuge wie Jupyter Notebooks, pandas und matplotlib werden für die Datenexploration und -visualisierung wesentlich sein.\n",
    "\n",
    "### 1.10 Verfügbarkeit von menschlicher Expertise <a class=\"anchor\" id=\"id1.10\"></a>\n",
    "\n",
    "Domänenexperten für Gesundheitskosten und Versicherungen sowie Datenwissenschaftler mit Erfahrung in der Regressionsanalyse werden entscheidend sein, um die Daten zu verstehen und die Modelle zu verfeinern\n",
    "\n",
    "### 1.11 Manuelle Lösung <a class=\"anchor\" id=\"id1.11\"></a>\n",
    "\n",
    "Manuell würde man historische Kosten analysieren, für Inflation anpassen, Patientendemografie und Gesundheitsindikatoren berücksichtigen und Expertenurteile verwenden, um zukünftige Kosten abzuschätzen. Dieser Prozess ist von Natur aus subjektiv und weniger skalierbar.\n",
    "\n",
    "### 1.12 Annahmen <a class=\"anchor\" id=\"id1.12\"></a>\n",
    "- Der Datensatz ist repräsentativ für die Bevölkerung.\n",
    "- Die einbezogenen Faktoren (Alter, Geschlecht, BMI, Kinder, Raucher, Region) sind ausreichend, um die Kosten vorherzusagen.\n",
    "- Es gibt keine signifikanten externen Faktoren (z. B. politische Veränderungen, große medizinische Fortschritte), die die Kosten drastisch verändern.\n",
    "\n",
    "### 1.13 Überprüfen der Annahmen <a class=\"anchor\" id=\"id1.13\"></a>\n",
    "- Statistische Tests und Visualisierungen (z. B. Korrelationsmatrizen, Streudiagramme) können die Relevanz der Merkmale überprüfen.\n",
    "- Datenbereinigungsprozesse können Datenqualitätsprobleme angehen.\n",
    "- Bewertung der anfängliche Modellleistung an einem Validierungssatz.\n",
    "\n",
    "\n",
    "### 1.14 Modellauswahl und Implementierung <a class=\"anchor\" id=\"id1.14\"></a>\n",
    "- Lineare Regression\n",
    "- Support-Vektor-Regression (SVR)\n",
    "- Random Forest"
   ]
  },
  {
   "cell_type": "markdown",
   "id": "8736a2f2",
   "metadata": {},
   "source": [
    "## 2 Get the data <a class=\"anchor\" id=\"id2\"></a>\n",
    "\n",
    "### 2.1 Einlesen der Daten <a class=\"anchor\" id=\"id2.1\"></a>\n",
    "Die Datei `insurance.csv` wird mit Panda eingelesen. Diese Datei enthält die Informationen über Patienten und die individuellen medizinischen Kosten, die vorhergesagt werden sollen. Eine Kopie namens `insurance_data` wird im Vorfeld erstellt."
   ]
  },
  {
   "cell_type": "code",
   "id": "1e445d13",
   "metadata": {
    "ExecuteTime": {
     "end_time": "2024-06-25T21:51:45.956725Z",
     "start_time": "2024-06-25T21:51:45.951224Z"
    }
   },
   "source": [
    "import pandas as pd\n",
    "\n",
    "data = pd.read_csv('insurance.csv')\n",
    "insurance_data = data.copy()"
   ],
   "outputs": [],
   "execution_count": 56
  },
  {
   "cell_type": "markdown",
   "id": "b455d8f400d24f81",
   "metadata": {},
   "source": [
    "Um einen kurzen Überblick über die eingelesen Daten zu bekommen, wird der `head()` der `insurance_data` angezeigt."
   ]
  },
  {
   "cell_type": "code",
   "id": "83d58e5854d1f142",
   "metadata": {
    "ExecuteTime": {
     "end_time": "2024-06-25T21:51:46.662129Z",
     "start_time": "2024-06-25T21:51:46.655545Z"
    }
   },
   "source": [
    "insurance_data.head()"
   ],
   "outputs": [
    {
     "data": {
      "text/plain": [
       "   age     sex     bmi  children smoker     region      charges\n",
       "0   19  female  27.900         0    yes  southwest  16884.92400\n",
       "1   18    male  33.770         1     no  southeast   1725.55230\n",
       "2   28    male  33.000         3     no  southeast   4449.46200\n",
       "3   33    male  22.705         0     no  northwest  21984.47061\n",
       "4   32    male  28.880         0     no  northwest   3866.85520"
      ],
      "text/html": [
       "<div>\n",
       "<style scoped>\n",
       "    .dataframe tbody tr th:only-of-type {\n",
       "        vertical-align: middle;\n",
       "    }\n",
       "\n",
       "    .dataframe tbody tr th {\n",
       "        vertical-align: top;\n",
       "    }\n",
       "\n",
       "    .dataframe thead th {\n",
       "        text-align: right;\n",
       "    }\n",
       "</style>\n",
       "<table border=\"1\" class=\"dataframe\">\n",
       "  <thead>\n",
       "    <tr style=\"text-align: right;\">\n",
       "      <th></th>\n",
       "      <th>age</th>\n",
       "      <th>sex</th>\n",
       "      <th>bmi</th>\n",
       "      <th>children</th>\n",
       "      <th>smoker</th>\n",
       "      <th>region</th>\n",
       "      <th>charges</th>\n",
       "    </tr>\n",
       "  </thead>\n",
       "  <tbody>\n",
       "    <tr>\n",
       "      <th>0</th>\n",
       "      <td>19</td>\n",
       "      <td>female</td>\n",
       "      <td>27.900</td>\n",
       "      <td>0</td>\n",
       "      <td>yes</td>\n",
       "      <td>southwest</td>\n",
       "      <td>16884.92400</td>\n",
       "    </tr>\n",
       "    <tr>\n",
       "      <th>1</th>\n",
       "      <td>18</td>\n",
       "      <td>male</td>\n",
       "      <td>33.770</td>\n",
       "      <td>1</td>\n",
       "      <td>no</td>\n",
       "      <td>southeast</td>\n",
       "      <td>1725.55230</td>\n",
       "    </tr>\n",
       "    <tr>\n",
       "      <th>2</th>\n",
       "      <td>28</td>\n",
       "      <td>male</td>\n",
       "      <td>33.000</td>\n",
       "      <td>3</td>\n",
       "      <td>no</td>\n",
       "      <td>southeast</td>\n",
       "      <td>4449.46200</td>\n",
       "    </tr>\n",
       "    <tr>\n",
       "      <th>3</th>\n",
       "      <td>33</td>\n",
       "      <td>male</td>\n",
       "      <td>22.705</td>\n",
       "      <td>0</td>\n",
       "      <td>no</td>\n",
       "      <td>northwest</td>\n",
       "      <td>21984.47061</td>\n",
       "    </tr>\n",
       "    <tr>\n",
       "      <th>4</th>\n",
       "      <td>32</td>\n",
       "      <td>male</td>\n",
       "      <td>28.880</td>\n",
       "      <td>0</td>\n",
       "      <td>no</td>\n",
       "      <td>northwest</td>\n",
       "      <td>3866.85520</td>\n",
       "    </tr>\n",
       "  </tbody>\n",
       "</table>\n",
       "</div>"
      ]
     },
     "execution_count": 57,
     "metadata": {},
     "output_type": "execute_result"
    }
   ],
   "execution_count": 57
  },
  {
   "cell_type": "markdown",
   "id": "08594893",
   "metadata": {},
   "source": [
    "### 2.2 Konvertierung der Daten <a class=\"anchor\" id=\"id2.2\"></a>\n",
    "\n",
    "Mit `info()` wird herausgefunden welchen Dateityp die einzelnen Attribute besitzen."
   ]
  },
  {
   "cell_type": "code",
   "id": "7156ef1d",
   "metadata": {
    "ExecuteTime": {
     "end_time": "2024-06-25T21:51:46.744653Z",
     "start_time": "2024-06-25T21:51:46.737546Z"
    }
   },
   "source": [
    "insurance_data.info()"
   ],
   "outputs": [
    {
     "name": "stdout",
     "output_type": "stream",
     "text": [
      "<class 'pandas.core.frame.DataFrame'>\n",
      "RangeIndex: 1338 entries, 0 to 1337\n",
      "Data columns (total 7 columns):\n",
      " #   Column    Non-Null Count  Dtype  \n",
      "---  ------    --------------  -----  \n",
      " 0   age       1338 non-null   int64  \n",
      " 1   sex       1338 non-null   object \n",
      " 2   bmi       1338 non-null   float64\n",
      " 3   children  1338 non-null   int64  \n",
      " 4   smoker    1338 non-null   object \n",
      " 5   region    1338 non-null   object \n",
      " 6   charges   1338 non-null   float64\n",
      "dtypes: float64(2), int64(2), object(3)\n",
      "memory usage: 73.3+ KB\n"
     ]
    }
   ],
   "execution_count": 58
  },
  {
   "cell_type": "markdown",
   "id": "92ba292ebfbb30c7",
   "metadata": {},
   "source": [
    "Die kategorischen Attribute `sex`, `smoker` und `region` sind als `Dtype: object` definiert. Um sicherzustellen, dass die Daten korrekt typisiert sind, werden die genannten Attribute als `category` definiert. "
   ]
  },
  {
   "cell_type": "code",
   "id": "a75b3e1c",
   "metadata": {
    "ExecuteTime": {
     "end_time": "2024-06-25T21:51:46.842378Z",
     "start_time": "2024-06-25T21:51:46.838118Z"
    }
   },
   "source": [
    "insurance_data['sex'] = insurance_data['sex'].astype('category')\n",
    "insurance_data['smoker'] = insurance_data['smoker'].astype('category')\n",
    "insurance_data['region'] = insurance_data['region'].astype('category')"
   ],
   "outputs": [],
   "execution_count": 59
  },
  {
   "cell_type": "markdown",
   "id": "c755ae1dd97c4da2",
   "metadata": {},
   "source": [
    "Nach der Konvertierung der Attribute können sie für folgende Anwendungen korrekt genutzt werden. Die `insurance_date` wird wiederholt auf die Datentypen überprüft mit `info()`."
   ]
  },
  {
   "cell_type": "markdown",
   "id": "a2d25fd9",
   "metadata": {},
   "source": [
    "### 2.3 Überprüfung der Daten <a class=\"anchor\" id=\"id2.3\"></a>"
   ]
  },
  {
   "cell_type": "code",
   "id": "970aea87",
   "metadata": {
    "ExecuteTime": {
     "end_time": "2024-06-25T21:51:46.912505Z",
     "start_time": "2024-06-25T21:51:46.904874Z"
    }
   },
   "source": [
    "insurance_data.info()"
   ],
   "outputs": [
    {
     "name": "stdout",
     "output_type": "stream",
     "text": [
      "<class 'pandas.core.frame.DataFrame'>\n",
      "RangeIndex: 1338 entries, 0 to 1337\n",
      "Data columns (total 7 columns):\n",
      " #   Column    Non-Null Count  Dtype   \n",
      "---  ------    --------------  -----   \n",
      " 0   age       1338 non-null   int64   \n",
      " 1   sex       1338 non-null   category\n",
      " 2   bmi       1338 non-null   float64 \n",
      " 3   children  1338 non-null   int64   \n",
      " 4   smoker    1338 non-null   category\n",
      " 5   region    1338 non-null   category\n",
      " 6   charges   1338 non-null   float64 \n",
      "dtypes: category(3), float64(2), int64(2)\n",
      "memory usage: 46.3 KB\n"
     ]
    }
   ],
   "execution_count": 60
  },
  {
   "cell_type": "markdown",
   "id": "fcfcc21c83484974",
   "metadata": {},
   "source": [
    "Es sind keine Attribute als `object` definiert. Zur finalen Überprüfung der Daten wird nochmal der `head()` ausgegeben. "
   ]
  },
  {
   "cell_type": "code",
   "id": "22570a14",
   "metadata": {
    "ExecuteTime": {
     "end_time": "2024-06-25T21:51:47.184587Z",
     "start_time": "2024-06-25T21:51:47.178025Z"
    }
   },
   "source": [
    "insurance_data.head()"
   ],
   "outputs": [
    {
     "data": {
      "text/plain": [
       "   age     sex     bmi  children smoker     region      charges\n",
       "0   19  female  27.900         0    yes  southwest  16884.92400\n",
       "1   18    male  33.770         1     no  southeast   1725.55230\n",
       "2   28    male  33.000         3     no  southeast   4449.46200\n",
       "3   33    male  22.705         0     no  northwest  21984.47061\n",
       "4   32    male  28.880         0     no  northwest   3866.85520"
      ],
      "text/html": [
       "<div>\n",
       "<style scoped>\n",
       "    .dataframe tbody tr th:only-of-type {\n",
       "        vertical-align: middle;\n",
       "    }\n",
       "\n",
       "    .dataframe tbody tr th {\n",
       "        vertical-align: top;\n",
       "    }\n",
       "\n",
       "    .dataframe thead th {\n",
       "        text-align: right;\n",
       "    }\n",
       "</style>\n",
       "<table border=\"1\" class=\"dataframe\">\n",
       "  <thead>\n",
       "    <tr style=\"text-align: right;\">\n",
       "      <th></th>\n",
       "      <th>age</th>\n",
       "      <th>sex</th>\n",
       "      <th>bmi</th>\n",
       "      <th>children</th>\n",
       "      <th>smoker</th>\n",
       "      <th>region</th>\n",
       "      <th>charges</th>\n",
       "    </tr>\n",
       "  </thead>\n",
       "  <tbody>\n",
       "    <tr>\n",
       "      <th>0</th>\n",
       "      <td>19</td>\n",
       "      <td>female</td>\n",
       "      <td>27.900</td>\n",
       "      <td>0</td>\n",
       "      <td>yes</td>\n",
       "      <td>southwest</td>\n",
       "      <td>16884.92400</td>\n",
       "    </tr>\n",
       "    <tr>\n",
       "      <th>1</th>\n",
       "      <td>18</td>\n",
       "      <td>male</td>\n",
       "      <td>33.770</td>\n",
       "      <td>1</td>\n",
       "      <td>no</td>\n",
       "      <td>southeast</td>\n",
       "      <td>1725.55230</td>\n",
       "    </tr>\n",
       "    <tr>\n",
       "      <th>2</th>\n",
       "      <td>28</td>\n",
       "      <td>male</td>\n",
       "      <td>33.000</td>\n",
       "      <td>3</td>\n",
       "      <td>no</td>\n",
       "      <td>southeast</td>\n",
       "      <td>4449.46200</td>\n",
       "    </tr>\n",
       "    <tr>\n",
       "      <th>3</th>\n",
       "      <td>33</td>\n",
       "      <td>male</td>\n",
       "      <td>22.705</td>\n",
       "      <td>0</td>\n",
       "      <td>no</td>\n",
       "      <td>northwest</td>\n",
       "      <td>21984.47061</td>\n",
       "    </tr>\n",
       "    <tr>\n",
       "      <th>4</th>\n",
       "      <td>32</td>\n",
       "      <td>male</td>\n",
       "      <td>28.880</td>\n",
       "      <td>0</td>\n",
       "      <td>no</td>\n",
       "      <td>northwest</td>\n",
       "      <td>3866.85520</td>\n",
       "    </tr>\n",
       "  </tbody>\n",
       "</table>\n",
       "</div>"
      ]
     },
     "execution_count": 61,
     "metadata": {},
     "output_type": "execute_result"
    }
   ],
   "execution_count": 61
  },
  {
   "cell_type": "markdown",
   "id": "3c638071d2bd14d4",
   "metadata": {},
   "source": [
    "Mit den nun konvertierten und angepassten Daten kann ein `train_set` und `test_set` erstellt werden."
   ]
  },
  {
   "cell_type": "markdown",
   "id": "9d5421f0",
   "metadata": {},
   "source": [
    "### 2.4 Aufteilung der Daten <a class=\"anchor\" id=\"id2.4\"></a>\n",
    "\n",
    "`insurance_data` wird in ein `train_set` und ein `test_set` aufgeteilt mithilfe der Funktion `train_test_split()`. Die `test_size` beträgt 20 % der Gesamtdaten. Das `test_set` wird zur Seite gelegt und zum Ende des Projektes erst angeschaut, um eine unvoreingenomme Bewertung des Modells zu gewährleisten."
   ]
  },
  {
   "cell_type": "code",
   "id": "7bbdd863",
   "metadata": {
    "ExecuteTime": {
     "end_time": "2024-06-25T21:51:47.215050Z",
     "start_time": "2024-06-25T21:51:47.210140Z"
    }
   },
   "source": [
    "from sklearn.model_selection import train_test_split\n",
    "\n",
    "train_set, test_set = train_test_split(insurance_data, test_size=0.2, random_state=42)"
   ],
   "outputs": [],
   "execution_count": 62
  },
  {
   "cell_type": "markdown",
   "id": "1273bfcbea1bd20f",
   "metadata": {},
   "source": [
    "Beide Sätze werden nochmal auf Richtigkeit überprüft."
   ]
  },
  {
   "cell_type": "code",
   "id": "be5292d356f7a0ab",
   "metadata": {
    "ExecuteTime": {
     "end_time": "2024-06-25T21:51:47.342772Z",
     "start_time": "2024-06-25T21:51:47.336087Z"
    }
   },
   "source": [
    "train_set.info()"
   ],
   "outputs": [
    {
     "name": "stdout",
     "output_type": "stream",
     "text": [
      "<class 'pandas.core.frame.DataFrame'>\n",
      "Index: 1070 entries, 560 to 1126\n",
      "Data columns (total 7 columns):\n",
      " #   Column    Non-Null Count  Dtype   \n",
      "---  ------    --------------  -----   \n",
      " 0   age       1070 non-null   int64   \n",
      " 1   sex       1070 non-null   category\n",
      " 2   bmi       1070 non-null   float64 \n",
      " 3   children  1070 non-null   int64   \n",
      " 4   smoker    1070 non-null   category\n",
      " 5   region    1070 non-null   category\n",
      " 6   charges   1070 non-null   float64 \n",
      "dtypes: category(3), float64(2), int64(2)\n",
      "memory usage: 45.4 KB\n"
     ]
    }
   ],
   "execution_count": 63
  },
  {
   "cell_type": "code",
   "id": "74fcab987f06bc44",
   "metadata": {
    "ExecuteTime": {
     "end_time": "2024-06-25T21:51:47.436930Z",
     "start_time": "2024-06-25T21:51:47.430431Z"
    }
   },
   "source": [
    "test_set.info()"
   ],
   "outputs": [
    {
     "name": "stdout",
     "output_type": "stream",
     "text": [
      "<class 'pandas.core.frame.DataFrame'>\n",
      "Index: 268 entries, 764 to 846\n",
      "Data columns (total 7 columns):\n",
      " #   Column    Non-Null Count  Dtype   \n",
      "---  ------    --------------  -----   \n",
      " 0   age       268 non-null    int64   \n",
      " 1   sex       268 non-null    category\n",
      " 2   bmi       268 non-null    float64 \n",
      " 3   children  268 non-null    int64   \n",
      " 4   smoker    268 non-null    category\n",
      " 5   region    268 non-null    category\n",
      " 6   charges   268 non-null    float64 \n",
      "dtypes: category(3), float64(2), int64(2)\n",
      "memory usage: 11.7 KB\n"
     ]
    }
   ],
   "execution_count": 64
  },
  {
   "cell_type": "markdown",
   "id": "c464f1d10c8f1e00",
   "metadata": {},
   "source": [
    "Das `test_set` hat 20 % der Datensätze von `insurance_data`. Ein extra `validation_set` wurde nicht erstellt, da zum Validieren der Modelle während des Trainings Cross-Validation verwendet wird."
   ]
  },
  {
   "cell_type": "markdown",
   "id": "fdaf5d1741778da0",
   "metadata": {},
   "source": [
    "## 3 Explore the data <a class=\"anchor\" id=\"id3\"></a>\n",
    "\n",
    "### 3.1 Kopie vom Trainingsset <a class=\"anchor\" id=\"id3.1\"></a>\n",
    "\n",
    "Zur Erkundung des Trainingssets wird eine Kopie von `train_set` erstellt."
   ]
  },
  {
   "cell_type": "code",
   "id": "fa3b8fa78cfa17c6",
   "metadata": {
    "ExecuteTime": {
     "end_time": "2024-06-25T21:51:47.604989Z",
     "start_time": "2024-06-25T21:51:47.601807Z"
    }
   },
   "source": [
    "train_set_explore = train_set.copy()"
   ],
   "outputs": [],
   "execution_count": 65
  },
  {
   "cell_type": "markdown",
   "id": "d116cf2e09676f59",
   "metadata": {},
   "source": [
    "Mit dem Datenframe `train_set_explore` werden nun die Daten visualisiert und Charakteristik der Attribute gezeigt. Mit `head()` wird ein erster Blick auf die Daten geworfen. "
   ]
  },
  {
   "cell_type": "code",
   "id": "a8330476",
   "metadata": {
    "ExecuteTime": {
     "end_time": "2024-06-25T21:51:47.688221Z",
     "start_time": "2024-06-25T21:51:47.680872Z"
    }
   },
   "source": [
    "train_set_explore.head()"
   ],
   "outputs": [
    {
     "data": {
      "text/plain": [
       "      age     sex    bmi  children smoker     region      charges\n",
       "560    46  female  19.95         2     no  northwest   9193.83850\n",
       "1285   47  female  24.32         0     no  northeast   8534.67180\n",
       "1142   52  female  24.86         0     no  southeast  27117.99378\n",
       "969    39  female  34.32         5     no  southeast   8596.82780\n",
       "486    54  female  21.47         3     no  northwest  12475.35130"
      ],
      "text/html": [
       "<div>\n",
       "<style scoped>\n",
       "    .dataframe tbody tr th:only-of-type {\n",
       "        vertical-align: middle;\n",
       "    }\n",
       "\n",
       "    .dataframe tbody tr th {\n",
       "        vertical-align: top;\n",
       "    }\n",
       "\n",
       "    .dataframe thead th {\n",
       "        text-align: right;\n",
       "    }\n",
       "</style>\n",
       "<table border=\"1\" class=\"dataframe\">\n",
       "  <thead>\n",
       "    <tr style=\"text-align: right;\">\n",
       "      <th></th>\n",
       "      <th>age</th>\n",
       "      <th>sex</th>\n",
       "      <th>bmi</th>\n",
       "      <th>children</th>\n",
       "      <th>smoker</th>\n",
       "      <th>region</th>\n",
       "      <th>charges</th>\n",
       "    </tr>\n",
       "  </thead>\n",
       "  <tbody>\n",
       "    <tr>\n",
       "      <th>560</th>\n",
       "      <td>46</td>\n",
       "      <td>female</td>\n",
       "      <td>19.95</td>\n",
       "      <td>2</td>\n",
       "      <td>no</td>\n",
       "      <td>northwest</td>\n",
       "      <td>9193.83850</td>\n",
       "    </tr>\n",
       "    <tr>\n",
       "      <th>1285</th>\n",
       "      <td>47</td>\n",
       "      <td>female</td>\n",
       "      <td>24.32</td>\n",
       "      <td>0</td>\n",
       "      <td>no</td>\n",
       "      <td>northeast</td>\n",
       "      <td>8534.67180</td>\n",
       "    </tr>\n",
       "    <tr>\n",
       "      <th>1142</th>\n",
       "      <td>52</td>\n",
       "      <td>female</td>\n",
       "      <td>24.86</td>\n",
       "      <td>0</td>\n",
       "      <td>no</td>\n",
       "      <td>southeast</td>\n",
       "      <td>27117.99378</td>\n",
       "    </tr>\n",
       "    <tr>\n",
       "      <th>969</th>\n",
       "      <td>39</td>\n",
       "      <td>female</td>\n",
       "      <td>34.32</td>\n",
       "      <td>5</td>\n",
       "      <td>no</td>\n",
       "      <td>southeast</td>\n",
       "      <td>8596.82780</td>\n",
       "    </tr>\n",
       "    <tr>\n",
       "      <th>486</th>\n",
       "      <td>54</td>\n",
       "      <td>female</td>\n",
       "      <td>21.47</td>\n",
       "      <td>3</td>\n",
       "      <td>no</td>\n",
       "      <td>northwest</td>\n",
       "      <td>12475.35130</td>\n",
       "    </tr>\n",
       "  </tbody>\n",
       "</table>\n",
       "</div>"
      ]
     },
     "execution_count": 66,
     "metadata": {},
     "output_type": "execute_result"
    }
   ],
   "execution_count": 66
  },
  {
   "cell_type": "markdown",
   "id": "959dc40b",
   "metadata": {},
   "source": [
    "### 3.2 Charakteristik der Attribute <a class=\"anchor\" id=\"id3.2\"></a>\n",
    "\n",
    "Mit `describe()` werden alle Attribute auf ihre Charakteristik überprüft."
   ]
  },
  {
   "cell_type": "code",
   "id": "5e685fffe092d438",
   "metadata": {
    "ExecuteTime": {
     "end_time": "2024-06-25T21:51:47.789820Z",
     "start_time": "2024-06-25T21:51:47.779644Z"
    }
   },
   "source": [
    "train_set_explore.describe()"
   ],
   "outputs": [
    {
     "data": {
      "text/plain": [
       "               age          bmi     children       charges\n",
       "count  1070.000000  1070.000000  1070.000000   1070.000000\n",
       "mean     39.357009    30.560397     1.107477  13346.089736\n",
       "std      14.073960     6.043386     1.215983  12019.510778\n",
       "min      18.000000    15.960000     0.000000   1121.873900\n",
       "25%      27.000000    26.205000     0.000000   4897.667387\n",
       "50%      39.500000    30.210000     1.000000   9575.442100\n",
       "75%      51.000000    34.496250     2.000000  16746.657400\n",
       "max      64.000000    53.130000     5.000000  62592.873090"
      ],
      "text/html": [
       "<div>\n",
       "<style scoped>\n",
       "    .dataframe tbody tr th:only-of-type {\n",
       "        vertical-align: middle;\n",
       "    }\n",
       "\n",
       "    .dataframe tbody tr th {\n",
       "        vertical-align: top;\n",
       "    }\n",
       "\n",
       "    .dataframe thead th {\n",
       "        text-align: right;\n",
       "    }\n",
       "</style>\n",
       "<table border=\"1\" class=\"dataframe\">\n",
       "  <thead>\n",
       "    <tr style=\"text-align: right;\">\n",
       "      <th></th>\n",
       "      <th>age</th>\n",
       "      <th>bmi</th>\n",
       "      <th>children</th>\n",
       "      <th>charges</th>\n",
       "    </tr>\n",
       "  </thead>\n",
       "  <tbody>\n",
       "    <tr>\n",
       "      <th>count</th>\n",
       "      <td>1070.000000</td>\n",
       "      <td>1070.000000</td>\n",
       "      <td>1070.000000</td>\n",
       "      <td>1070.000000</td>\n",
       "    </tr>\n",
       "    <tr>\n",
       "      <th>mean</th>\n",
       "      <td>39.357009</td>\n",
       "      <td>30.560397</td>\n",
       "      <td>1.107477</td>\n",
       "      <td>13346.089736</td>\n",
       "    </tr>\n",
       "    <tr>\n",
       "      <th>std</th>\n",
       "      <td>14.073960</td>\n",
       "      <td>6.043386</td>\n",
       "      <td>1.215983</td>\n",
       "      <td>12019.510778</td>\n",
       "    </tr>\n",
       "    <tr>\n",
       "      <th>min</th>\n",
       "      <td>18.000000</td>\n",
       "      <td>15.960000</td>\n",
       "      <td>0.000000</td>\n",
       "      <td>1121.873900</td>\n",
       "    </tr>\n",
       "    <tr>\n",
       "      <th>25%</th>\n",
       "      <td>27.000000</td>\n",
       "      <td>26.205000</td>\n",
       "      <td>0.000000</td>\n",
       "      <td>4897.667387</td>\n",
       "    </tr>\n",
       "    <tr>\n",
       "      <th>50%</th>\n",
       "      <td>39.500000</td>\n",
       "      <td>30.210000</td>\n",
       "      <td>1.000000</td>\n",
       "      <td>9575.442100</td>\n",
       "    </tr>\n",
       "    <tr>\n",
       "      <th>75%</th>\n",
       "      <td>51.000000</td>\n",
       "      <td>34.496250</td>\n",
       "      <td>2.000000</td>\n",
       "      <td>16746.657400</td>\n",
       "    </tr>\n",
       "    <tr>\n",
       "      <th>max</th>\n",
       "      <td>64.000000</td>\n",
       "      <td>53.130000</td>\n",
       "      <td>5.000000</td>\n",
       "      <td>62592.873090</td>\n",
       "    </tr>\n",
       "  </tbody>\n",
       "</table>\n",
       "</div>"
      ]
     },
     "execution_count": 67,
     "metadata": {},
     "output_type": "execute_result"
    }
   ],
   "execution_count": 67
  },
  {
   "cell_type": "code",
   "id": "ee906d6c6b7d647a",
   "metadata": {
    "ExecuteTime": {
     "end_time": "2024-06-25T21:51:47.852779Z",
     "start_time": "2024-06-25T21:51:47.838506Z"
    }
   },
   "source": [
    "train_set_explore.describe(include='all')"
   ],
   "outputs": [
    {
     "data": {
      "text/plain": [
       "                age   sex          bmi     children smoker     region  \\\n",
       "count   1070.000000  1070  1070.000000  1070.000000   1070       1070   \n",
       "unique          NaN     2          NaN          NaN      2          4   \n",
       "top             NaN  male          NaN          NaN     no  southeast   \n",
       "freq            NaN   548          NaN          NaN    850        283   \n",
       "mean      39.357009   NaN    30.560397     1.107477    NaN        NaN   \n",
       "std       14.073960   NaN     6.043386     1.215983    NaN        NaN   \n",
       "min       18.000000   NaN    15.960000     0.000000    NaN        NaN   \n",
       "25%       27.000000   NaN    26.205000     0.000000    NaN        NaN   \n",
       "50%       39.500000   NaN    30.210000     1.000000    NaN        NaN   \n",
       "75%       51.000000   NaN    34.496250     2.000000    NaN        NaN   \n",
       "max       64.000000   NaN    53.130000     5.000000    NaN        NaN   \n",
       "\n",
       "             charges  \n",
       "count    1070.000000  \n",
       "unique           NaN  \n",
       "top              NaN  \n",
       "freq             NaN  \n",
       "mean    13346.089736  \n",
       "std     12019.510778  \n",
       "min      1121.873900  \n",
       "25%      4897.667387  \n",
       "50%      9575.442100  \n",
       "75%     16746.657400  \n",
       "max     62592.873090  "
      ],
      "text/html": [
       "<div>\n",
       "<style scoped>\n",
       "    .dataframe tbody tr th:only-of-type {\n",
       "        vertical-align: middle;\n",
       "    }\n",
       "\n",
       "    .dataframe tbody tr th {\n",
       "        vertical-align: top;\n",
       "    }\n",
       "\n",
       "    .dataframe thead th {\n",
       "        text-align: right;\n",
       "    }\n",
       "</style>\n",
       "<table border=\"1\" class=\"dataframe\">\n",
       "  <thead>\n",
       "    <tr style=\"text-align: right;\">\n",
       "      <th></th>\n",
       "      <th>age</th>\n",
       "      <th>sex</th>\n",
       "      <th>bmi</th>\n",
       "      <th>children</th>\n",
       "      <th>smoker</th>\n",
       "      <th>region</th>\n",
       "      <th>charges</th>\n",
       "    </tr>\n",
       "  </thead>\n",
       "  <tbody>\n",
       "    <tr>\n",
       "      <th>count</th>\n",
       "      <td>1070.000000</td>\n",
       "      <td>1070</td>\n",
       "      <td>1070.000000</td>\n",
       "      <td>1070.000000</td>\n",
       "      <td>1070</td>\n",
       "      <td>1070</td>\n",
       "      <td>1070.000000</td>\n",
       "    </tr>\n",
       "    <tr>\n",
       "      <th>unique</th>\n",
       "      <td>NaN</td>\n",
       "      <td>2</td>\n",
       "      <td>NaN</td>\n",
       "      <td>NaN</td>\n",
       "      <td>2</td>\n",
       "      <td>4</td>\n",
       "      <td>NaN</td>\n",
       "    </tr>\n",
       "    <tr>\n",
       "      <th>top</th>\n",
       "      <td>NaN</td>\n",
       "      <td>male</td>\n",
       "      <td>NaN</td>\n",
       "      <td>NaN</td>\n",
       "      <td>no</td>\n",
       "      <td>southeast</td>\n",
       "      <td>NaN</td>\n",
       "    </tr>\n",
       "    <tr>\n",
       "      <th>freq</th>\n",
       "      <td>NaN</td>\n",
       "      <td>548</td>\n",
       "      <td>NaN</td>\n",
       "      <td>NaN</td>\n",
       "      <td>850</td>\n",
       "      <td>283</td>\n",
       "      <td>NaN</td>\n",
       "    </tr>\n",
       "    <tr>\n",
       "      <th>mean</th>\n",
       "      <td>39.357009</td>\n",
       "      <td>NaN</td>\n",
       "      <td>30.560397</td>\n",
       "      <td>1.107477</td>\n",
       "      <td>NaN</td>\n",
       "      <td>NaN</td>\n",
       "      <td>13346.089736</td>\n",
       "    </tr>\n",
       "    <tr>\n",
       "      <th>std</th>\n",
       "      <td>14.073960</td>\n",
       "      <td>NaN</td>\n",
       "      <td>6.043386</td>\n",
       "      <td>1.215983</td>\n",
       "      <td>NaN</td>\n",
       "      <td>NaN</td>\n",
       "      <td>12019.510778</td>\n",
       "    </tr>\n",
       "    <tr>\n",
       "      <th>min</th>\n",
       "      <td>18.000000</td>\n",
       "      <td>NaN</td>\n",
       "      <td>15.960000</td>\n",
       "      <td>0.000000</td>\n",
       "      <td>NaN</td>\n",
       "      <td>NaN</td>\n",
       "      <td>1121.873900</td>\n",
       "    </tr>\n",
       "    <tr>\n",
       "      <th>25%</th>\n",
       "      <td>27.000000</td>\n",
       "      <td>NaN</td>\n",
       "      <td>26.205000</td>\n",
       "      <td>0.000000</td>\n",
       "      <td>NaN</td>\n",
       "      <td>NaN</td>\n",
       "      <td>4897.667387</td>\n",
       "    </tr>\n",
       "    <tr>\n",
       "      <th>50%</th>\n",
       "      <td>39.500000</td>\n",
       "      <td>NaN</td>\n",
       "      <td>30.210000</td>\n",
       "      <td>1.000000</td>\n",
       "      <td>NaN</td>\n",
       "      <td>NaN</td>\n",
       "      <td>9575.442100</td>\n",
       "    </tr>\n",
       "    <tr>\n",
       "      <th>75%</th>\n",
       "      <td>51.000000</td>\n",
       "      <td>NaN</td>\n",
       "      <td>34.496250</td>\n",
       "      <td>2.000000</td>\n",
       "      <td>NaN</td>\n",
       "      <td>NaN</td>\n",
       "      <td>16746.657400</td>\n",
       "    </tr>\n",
       "    <tr>\n",
       "      <th>max</th>\n",
       "      <td>64.000000</td>\n",
       "      <td>NaN</td>\n",
       "      <td>53.130000</td>\n",
       "      <td>5.000000</td>\n",
       "      <td>NaN</td>\n",
       "      <td>NaN</td>\n",
       "      <td>62592.873090</td>\n",
       "    </tr>\n",
       "  </tbody>\n",
       "</table>\n",
       "</div>"
      ]
     },
     "execution_count": 68,
     "metadata": {},
     "output_type": "execute_result"
    }
   ],
   "execution_count": 68
  },
  {
   "cell_type": "markdown",
   "id": "25b0b27896217da8",
   "metadata": {},
   "source": [
    "Zum korrekten Trainieren des Modells dürfen keine Werte fehlen in dem Datensatz. Daher wird der Datensatz auf fehlende Werte mit `isnull()` überprüft. "
   ]
  },
  {
   "cell_type": "code",
   "id": "5a2d461c",
   "metadata": {
    "ExecuteTime": {
     "end_time": "2024-06-25T21:51:47.957783Z",
     "start_time": "2024-06-25T21:51:47.953277Z"
    }
   },
   "source": [
    "train_set_explore.isnull().sum()"
   ],
   "outputs": [
    {
     "data": {
      "text/plain": [
       "age         0\n",
       "sex         0\n",
       "bmi         0\n",
       "children    0\n",
       "smoker      0\n",
       "region      0\n",
       "charges     0\n",
       "dtype: int64"
      ]
     },
     "execution_count": 69,
     "metadata": {},
     "output_type": "execute_result"
    }
   ],
   "execution_count": 69
  },
  {
   "cell_type": "markdown",
   "id": "aec938d7196de6b9",
   "metadata": {},
   "source": [
    "In dem Datensatz gibt es keine fehlenden Werte. Somit muss theoretisch kein Imputer auf die Daten angewendet werden. Zur Sicherheit wird dies trotzdem durchgeführt, da im Testdatensatz Daten fehlen könnten."
   ]
  },
  {
   "cell_type": "markdown",
   "id": "750e208f",
   "metadata": {},
   "source": [
    "### 3.3 Zielattribut identifizieren <a class=\"anchor\" id=\"id3.3\"></a>\n",
    "\n",
    "Das Zielattribut ist `charges` und wurde zum einen durch die Aufgabe vorgegeben, zum anderen lässt sich aus dem Datensatz sinnvollerweise die `charges` vorhersagen."
   ]
  },
  {
   "cell_type": "markdown",
   "id": "f50c5cde",
   "metadata": {},
   "source": [
    "### 3.4 Daten visualisieren <a class=\"anchor\" id=\"id3.4\"></a>\n",
    "\n",
    "Nun werden die Daten visualisiert, um ein besseres Verständnis der Korrelationen zu bekommen und möglichweise die benötigten Transformer herauszufinden. <br>\n",
    "Zuerst wird ein Histogramm der Behandlungskosten erstellt mit `matplotlib`."
   ]
  },
  {
   "cell_type": "code",
   "id": "a989b678",
   "metadata": {
    "ExecuteTime": {
     "end_time": "2024-06-25T21:51:48.510708Z",
     "start_time": "2024-06-25T21:51:48.070419Z"
    }
   },
   "source": [
    "import matplotlib.pyplot as plt\n",
    "\n",
    "fig1, (ax1, ax2) = plt.subplots(1, 2, figsize=(12, 4))\n",
    "\n",
    "ax1.hist(train_set_explore['charges'], bins=50, edgecolor='black')\n",
    "ax1.set_title('Verteilung der Behandlungskosten')\n",
    "ax1.set_xlabel('Behandlungskosten')\n",
    "ax1.set_ylabel('Häufigkeit')\n",
    "\n",
    "ax2.hist(train_set_explore['charges'], bins=50, edgecolor='black', log=True)\n",
    "ax2.set_title('Verteilung der Behandlungskosten (Logarithmisch)')\n",
    "ax2.set_xlabel('Behandlungskosten')\n",
    "ax2.set_ylabel('Häufigkeit')\n",
    "\n",
    "plt.tight_layout()\n",
    "plt.show()"
   ],
   "outputs": [
    {
     "data": {
      "text/plain": [
       "<Figure size 1200x400 with 2 Axes>"
      ],
      "image/png": "[encoded data removed]"
     },
     "metadata": {},
     "output_type": "display_data"
    }
   ],
   "execution_count": 70
  },
  {
   "cell_type": "markdown",
   "id": "3b0a0258f4d59c84",
   "metadata": {},
   "source": [
    "Die Verteilung von `charges` ist rechtsschief. Zur optimalen Verwendung der Daten wird `charges` logarithmisch transformiert. Es ist zu erkennen, dass die Verteilung normalverteilt ist, was für das Training von Regressionmodellen optimaler funktioniert."
   ]
  },
  {
   "cell_type": "markdown",
   "id": "3abac4abc11c3224",
   "metadata": {},
   "source": [
    "Nun werden die Bahandlungskosten anhand des Raucherstatus `smoker` geplottet. "
   ]
  },
  {
   "cell_type": "code",
   "id": "ade9492f",
   "metadata": {
    "ExecuteTime": {
     "end_time": "2024-06-25T21:51:48.614732Z",
     "start_time": "2024-06-25T21:51:48.511716Z"
    }
   },
   "source": [
    "import seaborn as sns\n",
    "\n",
    "plt.figure()\n",
    "sns.boxplot(x='smoker', y='charges', data=train_set_explore)\n",
    "plt.title('Behandlungskosten nach Rauchstatus')\n",
    "plt.xlabel('Rauchstatus')\n",
    "plt.ylabel('Behandlungskosten')\n",
    "plt.show()"
   ],
   "outputs": [
    {
     "data": {
      "text/plain": [
       "<Figure size 640x480 with 1 Axes>"
      ],
      "image/png": "[encoded data removed]"
     },
     "metadata": {},
     "output_type": "display_data"
    }
   ],
   "execution_count": 71
  },
  {
   "cell_type": "markdown",
   "id": "4acdbd5ba98e439f",
   "metadata": {},
   "source": [
    "Es ist zu erkennen, dass Raucher höhere durchschnittliche Behandlungskosten haben als Nicht-Raucher. Das Attribut `smoker` hat also einen Einfluss auf die `charges`."
   ]
  },
  {
   "cell_type": "markdown",
   "id": "4656cd8bab57049d",
   "metadata": {},
   "source": [
    "Es werden die Verteilungen von `age` und `children` im Histogramm dargestellt."
   ]
  },
  {
   "cell_type": "code",
   "id": "ab2197b37c69051f",
   "metadata": {
    "ExecuteTime": {
     "end_time": "2024-06-25T21:51:48.865417Z",
     "start_time": "2024-06-25T21:51:48.614732Z"
    }
   },
   "source": [
    "fig2, (ax1, ax2) = plt.subplots(1, 2, figsize=(12, 4))\n",
    "\n",
    "ax1.hist(train_set_explore['age'], bins=10, edgecolor='black')\n",
    "ax1.set_title('Verteilung des Alters')\n",
    "ax1.set_xlabel('Alter')\n",
    "ax1.set_ylabel('Häufigkeit')\n",
    "\n",
    "ax2.hist(train_set_explore['children'], bins=6, edgecolor='black')\n",
    "ax2.set_title('Verteilung der Anzahl der Kinder')\n",
    "ax2.set_xlabel('Anzahl Kinder')\n",
    "ax2.set_ylabel('Häufigkeit')\n",
    "\n",
    "plt.tight_layout()\n",
    "plt.show()"
   ],
   "outputs": [
    {
     "data": {
      "text/plain": [
       "<Figure size 1200x400 with 2 Axes>"
      ],
      "image/png": "[encoded data removed]"
     },
     "metadata": {},
     "output_type": "display_data"
    }
   ],
   "execution_count": 72
  },
  {
   "cell_type": "markdown",
   "id": "34b74862537b5656",
   "metadata": {},
   "source": [
    "Die meisten Patienten im Datensatz sind im Alter von 20. Der Rest ist gleichverteilt. Am häufigsten haben die Patienten keine oder ein Kind. Mit zunehmender Anzahl an Kindern nimmt die Häufigkeit ab."
   ]
  },
  {
   "cell_type": "markdown",
   "id": "c41f0b74a5cbe2fd",
   "metadata": {},
   "source": [
    "Es werden die `charges` abhängig von `age` und vom `bmi` dargestellt."
   ]
  },
  {
   "cell_type": "code",
   "id": "5251975acf725af3",
   "metadata": {
    "ExecuteTime": {
     "end_time": "2024-06-25T21:51:49.175975Z",
     "start_time": "2024-06-25T21:51:48.865417Z"
    }
   },
   "source": [
    "fig3, (ax1, ax2) = plt.subplots(1, 2, figsize=(12, 4))\n",
    "\n",
    "\n",
    "scatter1 = ax1.scatter(train_set_explore['age'], train_set_explore['charges'], c=train_set_explore['smoker'].map({'yes': 'red', 'no': 'blue'}))\n",
    "ax1.set_title('Kosten abhängig vom Alter')\n",
    "ax1.set_xlabel('Alter')\n",
    "ax1.set_ylabel('Behandlungskosten')\n",
    "\n",
    "ax2.scatter(train_set_explore['bmi'], train_set_explore['charges'], c=train_set_explore['smoker'].map({'yes': 'red', 'no': 'blue'}))\n",
    "ax2.set_title('Kosten abhängig vom BMI')\n",
    "ax2.set_xlabel('BMI')\n",
    "ax2.set_ylabel('Behandlungskosten')\n",
    "\n",
    "plt.tight_layout()\n",
    "plt.show()"
   ],
   "outputs": [
    {
     "data": {
      "text/plain": [
       "<Figure size 1200x400 with 2 Axes>"
      ],
      "image/png": "[encoded data removed]"
     },
     "metadata": {},
     "output_type": "display_data"
    }
   ],
   "execution_count": 73
  },
  {
   "cell_type": "markdown",
   "id": "4068e6f0159557ad",
   "metadata": {},
   "source": [
    "Eine hohe positive Korrelation zwischen `charges` und `bmi` kann erkannt werden, das heißt, dass höhere BMI-Werte mit höheren Behandlungskosten verbunden sind. Gleiches ist mit dem Attribut `age` zu erkennen."
   ]
  },
  {
   "cell_type": "markdown",
   "id": "c98101f5ae9c2070",
   "metadata": {},
   "source": [
    "### 3.5 Korrelationen <a class=\"anchor\" id=\"id3.5\"></a>\n",
    "\n",
    "Attribute wie `region`, `sex` und `smoker` sind kategorische Werte und werden in numerische umgewandelt, um eine Korrelationsmatrix erstellen zu können."
   ]
  },
  {
   "cell_type": "code",
   "id": "c2bd6fed",
   "metadata": {
    "ExecuteTime": {
     "end_time": "2024-06-25T21:51:49.183937Z",
     "start_time": "2024-06-25T21:51:49.177491Z"
    }
   },
   "source": [
    "train_set_explore_encoded = pd.get_dummies(train_set_explore, columns=['sex', 'smoker', 'region'])"
   ],
   "outputs": [],
   "execution_count": 74
  },
  {
   "cell_type": "code",
   "id": "c06dd895f0f66f72",
   "metadata": {
    "ExecuteTime": {
     "end_time": "2024-06-25T21:51:49.199634Z",
     "start_time": "2024-06-25T21:51:49.184943Z"
    }
   },
   "source": [
    "train_set_explore_encoded.head()"
   ],
   "outputs": [
    {
     "data": {
      "text/plain": [
       "      age    bmi  children      charges  sex_female  sex_male  smoker_no  \\\n",
       "560    46  19.95         2   9193.83850        True     False       True   \n",
       "1285   47  24.32         0   8534.67180        True     False       True   \n",
       "1142   52  24.86         0  27117.99378        True     False       True   \n",
       "969    39  34.32         5   8596.82780        True     False       True   \n",
       "486    54  21.47         3  12475.35130        True     False       True   \n",
       "\n",
       "      smoker_yes  region_northeast  region_northwest  region_southeast  \\\n",
       "560        False             False              True             False   \n",
       "1285       False              True             False             False   \n",
       "1142       False             False             False              True   \n",
       "969        False             False             False              True   \n",
       "486        False             False              True             False   \n",
       "\n",
       "      region_southwest  \n",
       "560              False  \n",
       "1285             False  \n",
       "1142             False  \n",
       "969              False  \n",
       "486              False  "
      ],
      "text/html": [
       "<div>\n",
       "<style scoped>\n",
       "    .dataframe tbody tr th:only-of-type {\n",
       "        vertical-align: middle;\n",
       "    }\n",
       "\n",
       "    .dataframe tbody tr th {\n",
       "        vertical-align: top;\n",
       "    }\n",
       "\n",
       "    .dataframe thead th {\n",
       "        text-align: right;\n",
       "    }\n",
       "</style>\n",
       "<table border=\"1\" class=\"dataframe\">\n",
       "  <thead>\n",
       "    <tr style=\"text-align: right;\">\n",
       "      <th></th>\n",
       "      <th>age</th>\n",
       "      <th>bmi</th>\n",
       "      <th>children</th>\n",
       "      <th>charges</th>\n",
       "      <th>sex_female</th>\n",
       "      <th>sex_male</th>\n",
       "      <th>smoker_no</th>\n",
       "      <th>smoker_yes</th>\n",
       "      <th>region_northeast</th>\n",
       "      <th>region_northwest</th>\n",
       "      <th>region_southeast</th>\n",
       "      <th>region_southwest</th>\n",
       "    </tr>\n",
       "  </thead>\n",
       "  <tbody>\n",
       "    <tr>\n",
       "      <th>560</th>\n",
       "      <td>46</td>\n",
       "      <td>19.95</td>\n",
       "      <td>2</td>\n",
       "      <td>9193.83850</td>\n",
       "      <td>True</td>\n",
       "      <td>False</td>\n",
       "      <td>True</td>\n",
       "      <td>False</td>\n",
       "      <td>False</td>\n",
       "      <td>True</td>\n",
       "      <td>False</td>\n",
       "      <td>False</td>\n",
       "    </tr>\n",
       "    <tr>\n",
       "      <th>1285</th>\n",
       "      <td>47</td>\n",
       "      <td>24.32</td>\n",
       "      <td>0</td>\n",
       "      <td>8534.67180</td>\n",
       "      <td>True</td>\n",
       "      <td>False</td>\n",
       "      <td>True</td>\n",
       "      <td>False</td>\n",
       "      <td>True</td>\n",
       "      <td>False</td>\n",
       "      <td>False</td>\n",
       "      <td>False</td>\n",
       "    </tr>\n",
       "    <tr>\n",
       "      <th>1142</th>\n",
       "      <td>52</td>\n",
       "      <td>24.86</td>\n",
       "      <td>0</td>\n",
       "      <td>27117.99378</td>\n",
       "      <td>True</td>\n",
       "      <td>False</td>\n",
       "      <td>True</td>\n",
       "      <td>False</td>\n",
       "      <td>False</td>\n",
       "      <td>False</td>\n",
       "      <td>True</td>\n",
       "      <td>False</td>\n",
       "    </tr>\n",
       "    <tr>\n",
       "      <th>969</th>\n",
       "      <td>39</td>\n",
       "      <td>34.32</td>\n",
       "      <td>5</td>\n",
       "      <td>8596.82780</td>\n",
       "      <td>True</td>\n",
       "      <td>False</td>\n",
       "      <td>True</td>\n",
       "      <td>False</td>\n",
       "      <td>False</td>\n",
       "      <td>False</td>\n",
       "      <td>True</td>\n",
       "      <td>False</td>\n",
       "    </tr>\n",
       "    <tr>\n",
       "      <th>486</th>\n",
       "      <td>54</td>\n",
       "      <td>21.47</td>\n",
       "      <td>3</td>\n",
       "      <td>12475.35130</td>\n",
       "      <td>True</td>\n",
       "      <td>False</td>\n",
       "      <td>True</td>\n",
       "      <td>False</td>\n",
       "      <td>False</td>\n",
       "      <td>True</td>\n",
       "      <td>False</td>\n",
       "      <td>False</td>\n",
       "    </tr>\n",
       "  </tbody>\n",
       "</table>\n",
       "</div>"
      ]
     },
     "execution_count": 75,
     "metadata": {},
     "output_type": "execute_result"
    }
   ],
   "execution_count": 75
  },
  {
   "cell_type": "markdown",
   "id": "b557ef4efbc6ba6",
   "metadata": {},
   "source": [
    "Die Attribute `region`, `sex` und `smoker` sind nun umgewandelt in numerische bzw. True/False-Werte. So können sie für die Korrelationsmatrix verwendet werden. Die Korrelationsmatrix wird erstellt."
   ]
  },
  {
   "cell_type": "code",
   "id": "505a1e99",
   "metadata": {
    "ExecuteTime": {
     "end_time": "2024-06-25T21:51:49.207669Z",
     "start_time": "2024-06-25T21:51:49.201643Z"
    }
   },
   "source": [
    "correlation_matrix = train_set_explore_encoded.corr()"
   ],
   "outputs": [],
   "execution_count": 76
  },
  {
   "cell_type": "markdown",
   "id": "cd22ddb5b305a681",
   "metadata": {},
   "source": [
    "Mit der `heatmap()` von Seaborn wird die Matrix visualisiert."
   ]
  },
  {
   "cell_type": "code",
   "id": "d8b8434858541070",
   "metadata": {
    "ExecuteTime": {
     "end_time": "2024-06-25T21:51:49.634501Z",
     "start_time": "2024-06-25T21:51:49.208676Z"
    }
   },
   "source": [
    "plt.figure(figsize=(12, 8))\n",
    "sns.heatmap(correlation_matrix, annot=True, vmin=-1, vmax=1)\n",
    "plt.title('Korrelationsmatrix der Attribute')\n",
    "plt.show()"
   ],
   "outputs": [
    {
     "data": {
      "text/plain": [
       "<Figure size 1200x800 with 2 Axes>"
      ],
      "image/png": "[encoded data removed]"
     },
     "metadata": {},
     "output_type": "display_data"
    }
   ],
   "execution_count": 77
  },
  {
   "cell_type": "markdown",
   "id": "97d96c943bcfd468",
   "metadata": {},
   "source": [
    "Aus der Heatmap der Matrix ist zu erkennen und wird auch bestätigt, dass es eine starke positive Korrelation zwischen `charges` und `smoker` (Rauchstatus), was darauf hindeutet, dass Raucher höhere Behandlungskosten haben. Auch das Alter `age` und der `bmi` zeigen eine positive Korrelation mit den Behandlungskosten."
   ]
  },
  {
   "cell_type": "markdown",
   "id": "e92eed43",
   "metadata": {},
   "source": [
    "### 3.6 Festlegung der notwendigen Transformationen <a class=\"anchor\" id=\"id3.6\"></a>\n",
    "\n",
    "1. **Log-Transformation der Behandlungskosten**\n",
    "   - Die Spalte `charges` soll logarithmisch transformiert werden, um die rechtsschiefe Verteilung zu normalisieren.\n",
    "\n",
    "2. **Standardisierung der numerischen Variablen**\n",
    "   - Alle numerischen Features werden standardisiert, um einen Mittelwert von 0 und eine Standardabweichung von 1 zu haben.\n",
    "\n",
    "3. **One-Hot-Encoding der kategorialen Variablen**\n",
    "   - Die kategorialen Variablen `sex`, `region` und `smoker` sollen mittels One-Hot-Encoding in numerische Formate umgewandelt werden. Dabei soll immer eine Kategorie pro Features gedroppt werden mit `drop = first`, um kollineare Feature-Probleme zu verhindern.\n",
    "\n",
    "4. **Umgang mit Ausreißern:**\n",
    "   - Ausreißer sollen mithilfe der Z-Score-Methode entfernt werden wobei: $x$ der Beobachtungswert ist, $\\mu$ der Mittelwert der Population ist,  und $\\sigma$ die Standardabweichung der Population ist.\n",
    "   Wenn der z-Wert über 3 ist, wird der Ausreißer entfernt. Bei einer Normalverteilung wären 99,7 % der Datenpunkte keine Ausreißer. Der Z-Score wird mit folgender Gleichung berechnet:\n",
    "    $$\n",
    "    z = \\frac{(x - \\mu)}{\\sigma}\n",
    "    $$\n",
    "\n",
    "5. **Umgang mit fehlenden Werten**\n",
    "    - Fehlende Werte werden mit dem `SimpleImputer()` aufgefüllt. Für die numerischen Werte wird die `strategy = mean` verwendet, da Ausreißer entfernt wurden und so der Mittelwert optimal fehlende Werte auffüllt. Kategorische Werte sollen mit `strategy = most_frequent` aufgefüllt werden.\n",
    "\n",
    "\n",
    "\n"
   ]
  },
  {
   "cell_type": "markdown",
   "id": "0069cdf0",
   "metadata": {},
   "source": [
    "### 3.7 Ergebnisse <a class=\"anchor\" id=\"id3.7\"></a>\n",
    "\n",
    "**Übersicht der Daten**\n",
    "- Der Datensatz enthält 1338 Einträge mit 7 Merkmalen und der Zielvariable `charges`.\n",
    "- Die Merkmale umfassen demografische Informationen wie Alter, Geschlecht, BMI, Anzahl der Kinder, Rauchstatus und Wohnregion.\n",
    "\n",
    "**Verteilungen der Merkmale**\n",
    "- Die Verteilung der Behandlungskosten ist rechtsschief, was auf einige hohe Kostenfälle hinweist.\n",
    "- Das Boxplot der Behandlungskosten nach Rauchstatus zeigt, dass Raucher tendenziell höhere Behandlungskosten haben als Nichtraucher.\n",
    "\n",
    "**Korrelationen**\n",
    "- Es gibt eine starke positive Korrelation zwischen \"charges\" und \"smoker\" (Rauchstatus), was darauf hindeutet, dass Raucher höhere Behandlungskosten haben.\n",
    "- Auch das Alter und der BMI zeigen eine positive Korrelation mit den Behandlungskosten.\n",
    "\n",
    "**Fazit**\n",
    "- Die explorative Analyse hat wertvolle Einblicke in die Struktur und Beziehungen der Daten geliefert. Diese Erkenntnisse werden bei der Auswahl und Vorbereitung der Modelle berücksichtigt. Es werden alle Features zum Trainieren der Modelle verwendet.\n"
   ]
  },
  {
   "cell_type": "markdown",
   "id": "9607f0fc",
   "metadata": {},
   "source": [
    "## 4 Prepare the Data <a class=\"anchor\" id=\"id4\"></a>\n",
    "\n",
    "### 4.1 Ausreißer entfernen <a class=\"anchor\" id=\"id4.1\"></a>\n",
    "\n",
    "<span style=\"color:yellow\">erklären</span>"
   ]
  },
  {
   "cell_type": "code",
   "id": "dc21ec672fff1fb2",
   "metadata": {
    "ExecuteTime": {
     "end_time": "2024-06-25T21:51:49.640045Z",
     "start_time": "2024-06-25T21:51:49.635510Z"
    }
   },
   "source": [
    "import pandas as pd\n",
    "import numpy as np\n",
    "\n",
    "def remove_outliers(data, columns, threshold):\n",
    "\n",
    "    filtered_data = data.copy()\n",
    "    outliers_dataframes = []\n",
    "    outliers_values = []\n",
    "\n",
    "    # Iterate over specified columns\n",
    "    for col in columns:\n",
    "        # Calculate Z-scores for the column\n",
    "        z_scores = np.abs((filtered_data[col] - filtered_data[col].mean()) / filtered_data[col].std())\n",
    "\n",
    "        # Identify outliers based on the threshold\n",
    "        outliers = z_scores > threshold\n",
    "\n",
    "        # Append outliers to outliers_dataframes list\n",
    "        outliers_dataframes.append(filtered_data[outliers])\n",
    "\n",
    "        # Append outlier values to outliers_values list\n",
    "        outliers_values.extend([col] * np.sum(outliers))\n",
    "\n",
    "        # Remove outliers from the dataframe\n",
    "        filtered_data = filtered_data[~outliers]\n",
    "\n",
    "        removed_outliers = pd.concat(outliers_dataframes)\n",
    "        removed_outliers['outlier_values'] = outliers_values\n",
    "\n",
    "    return filtered_data, removed_outliers"
   ],
   "outputs": [],
   "execution_count": 78
  },
  {
   "cell_type": "markdown",
   "id": "fe9d86adfa53fc95",
   "metadata": {},
   "source": [
    "<span style=\"color:yellow\">anzahl erklären</span>"
   ]
  },
  {
   "cell_type": "code",
   "id": "8fc5fa8e130217ab",
   "metadata": {
    "ExecuteTime": {
     "end_time": "2024-06-25T21:51:49.651495Z",
     "start_time": "2024-06-25T21:51:49.641051Z"
    }
   },
   "source": [
    "train_set.info()"
   ],
   "outputs": [
    {
     "name": "stdout",
     "output_type": "stream",
     "text": [
      "<class 'pandas.core.frame.DataFrame'>\n",
      "Index: 1070 entries, 560 to 1126\n",
      "Data columns (total 7 columns):\n",
      " #   Column    Non-Null Count  Dtype   \n",
      "---  ------    --------------  -----   \n",
      " 0   age       1070 non-null   int64   \n",
      " 1   sex       1070 non-null   category\n",
      " 2   bmi       1070 non-null   float64 \n",
      " 3   children  1070 non-null   int64   \n",
      " 4   smoker    1070 non-null   category\n",
      " 5   region    1070 non-null   category\n",
      " 6   charges   1070 non-null   float64 \n",
      "dtypes: category(3), float64(2), int64(2)\n",
      "memory usage: 45.4 KB\n"
     ]
    }
   ],
   "execution_count": 79
  },
  {
   "cell_type": "markdown",
   "id": "410688b68582744d",
   "metadata": {},
   "source": [
    "<span style=\"color:yellow\">erklären</span>"
   ]
  },
  {
   "cell_type": "code",
   "id": "d4ac15362566424",
   "metadata": {
    "ExecuteTime": {
     "end_time": "2024-06-25T21:51:49.663833Z",
     "start_time": "2024-06-25T21:51:49.652503Z"
    }
   },
   "source": [
    "train_set, outliers_df = remove_outliers(train_set, columns=['age', 'bmi', 'charges'], threshold=3)"
   ],
   "outputs": [],
   "execution_count": 80
  },
  {
   "cell_type": "markdown",
   "id": "69d67bf04daaab2f",
   "metadata": {},
   "source": [
    "<span style=\"color:yellow\">erklären</span>"
   ]
  },
  {
   "cell_type": "code",
   "id": "287b2b1c558a8b73",
   "metadata": {
    "ExecuteTime": {
     "end_time": "2024-06-25T21:51:49.672012Z",
     "start_time": "2024-06-25T21:51:49.665841Z"
    }
   },
   "source": [
    "train_set.info()"
   ],
   "outputs": [
    {
     "name": "stdout",
     "output_type": "stream",
     "text": [
      "<class 'pandas.core.frame.DataFrame'>\n",
      "Index: 1060 entries, 560 to 1126\n",
      "Data columns (total 7 columns):\n",
      " #   Column    Non-Null Count  Dtype   \n",
      "---  ------    --------------  -----   \n",
      " 0   age       1060 non-null   int64   \n",
      " 1   sex       1060 non-null   category\n",
      " 2   bmi       1060 non-null   float64 \n",
      " 3   children  1060 non-null   int64   \n",
      " 4   smoker    1060 non-null   category\n",
      " 5   region    1060 non-null   category\n",
      " 6   charges   1060 non-null   float64 \n",
      "dtypes: category(3), float64(2), int64(2)\n",
      "memory usage: 45.0 KB\n"
     ]
    }
   ],
   "execution_count": 81
  },
  {
   "cell_type": "markdown",
   "id": "e2dcd8cef0e75f84",
   "metadata": {},
   "source": [
    "<span style=\"color:yellow\">erklären</span>"
   ]
  },
  {
   "cell_type": "code",
   "id": "e1beb6f4e8cde357",
   "metadata": {
    "ExecuteTime": {
     "end_time": "2024-06-25T21:51:49.685016Z",
     "start_time": "2024-06-25T21:51:49.673023Z"
    }
   },
   "source": [
    "outliers_df.head(30)"
   ],
   "outputs": [
    {
     "data": {
      "text/plain": [
       "      age     sex     bmi  children smoker     region      charges  \\\n",
       "847    23    male  50.380         1     no  southeast   2438.05520   \n",
       "1317   18    male  53.130         0     no  southeast   1163.46270   \n",
       "116    58    male  49.060         0     no  southeast  11381.32540   \n",
       "1146   60    male  32.800         0    yes  southwest  52590.82939   \n",
       "1230   52    male  34.485         3    yes  northwest  60021.39897   \n",
       "1241   64    male  36.960         2    yes  southeast  49577.66240   \n",
       "819    33  female  35.530         0    yes  northwest  55135.40209   \n",
       "1300   45    male  30.360         0    yes  southeast  62592.87309   \n",
       "577    31  female  38.095         1    yes  northeast  58571.07448   \n",
       "34     28    male  36.400         1    yes  southwest  51194.55914   \n",
       "\n",
       "     outlier_values  \n",
       "847             bmi  \n",
       "1317            bmi  \n",
       "116             bmi  \n",
       "1146        charges  \n",
       "1230        charges  \n",
       "1241        charges  \n",
       "819         charges  \n",
       "1300        charges  \n",
       "577         charges  \n",
       "34          charges  "
      ],
      "text/html": [
       "<div>\n",
       "<style scoped>\n",
       "    .dataframe tbody tr th:only-of-type {\n",
       "        vertical-align: middle;\n",
       "    }\n",
       "\n",
       "    .dataframe tbody tr th {\n",
       "        vertical-align: top;\n",
       "    }\n",
       "\n",
       "    .dataframe thead th {\n",
       "        text-align: right;\n",
       "    }\n",
       "</style>\n",
       "<table border=\"1\" class=\"dataframe\">\n",
       "  <thead>\n",
       "    <tr style=\"text-align: right;\">\n",
       "      <th></th>\n",
       "      <th>age</th>\n",
       "      <th>sex</th>\n",
       "      <th>bmi</th>\n",
       "      <th>children</th>\n",
       "      <th>smoker</th>\n",
       "      <th>region</th>\n",
       "      <th>charges</th>\n",
       "      <th>outlier_values</th>\n",
       "    </tr>\n",
       "  </thead>\n",
       "  <tbody>\n",
       "    <tr>\n",
       "      <th>847</th>\n",
       "      <td>23</td>\n",
       "      <td>male</td>\n",
       "      <td>50.380</td>\n",
       "      <td>1</td>\n",
       "      <td>no</td>\n",
       "      <td>southeast</td>\n",
       "      <td>2438.05520</td>\n",
       "      <td>bmi</td>\n",
       "    </tr>\n",
       "    <tr>\n",
       "      <th>1317</th>\n",
       "      <td>18</td>\n",
       "      <td>male</td>\n",
       "      <td>53.130</td>\n",
       "      <td>0</td>\n",
       "      <td>no</td>\n",
       "      <td>southeast</td>\n",
       "      <td>1163.46270</td>\n",
       "      <td>bmi</td>\n",
       "    </tr>\n",
       "    <tr>\n",
       "      <th>116</th>\n",
       "      <td>58</td>\n",
       "      <td>male</td>\n",
       "      <td>49.060</td>\n",
       "      <td>0</td>\n",
       "      <td>no</td>\n",
       "      <td>southeast</td>\n",
       "      <td>11381.32540</td>\n",
       "      <td>bmi</td>\n",
       "    </tr>\n",
       "    <tr>\n",
       "      <th>1146</th>\n",
       "      <td>60</td>\n",
       "      <td>male</td>\n",
       "      <td>32.800</td>\n",
       "      <td>0</td>\n",
       "      <td>yes</td>\n",
       "      <td>southwest</td>\n",
       "      <td>52590.82939</td>\n",
       "      <td>charges</td>\n",
       "    </tr>\n",
       "    <tr>\n",
       "      <th>1230</th>\n",
       "      <td>52</td>\n",
       "      <td>male</td>\n",
       "      <td>34.485</td>\n",
       "      <td>3</td>\n",
       "      <td>yes</td>\n",
       "      <td>northwest</td>\n",
       "      <td>60021.39897</td>\n",
       "      <td>charges</td>\n",
       "    </tr>\n",
       "    <tr>\n",
       "      <th>1241</th>\n",
       "      <td>64</td>\n",
       "      <td>male</td>\n",
       "      <td>36.960</td>\n",
       "      <td>2</td>\n",
       "      <td>yes</td>\n",
       "      <td>southeast</td>\n",
       "      <td>49577.66240</td>\n",
       "      <td>charges</td>\n",
       "    </tr>\n",
       "    <tr>\n",
       "      <th>819</th>\n",
       "      <td>33</td>\n",
       "      <td>female</td>\n",
       "      <td>35.530</td>\n",
       "      <td>0</td>\n",
       "      <td>yes</td>\n",
       "      <td>northwest</td>\n",
       "      <td>55135.40209</td>\n",
       "      <td>charges</td>\n",
       "    </tr>\n",
       "    <tr>\n",
       "      <th>1300</th>\n",
       "      <td>45</td>\n",
       "      <td>male</td>\n",
       "      <td>30.360</td>\n",
       "      <td>0</td>\n",
       "      <td>yes</td>\n",
       "      <td>southeast</td>\n",
       "      <td>62592.87309</td>\n",
       "      <td>charges</td>\n",
       "    </tr>\n",
       "    <tr>\n",
       "      <th>577</th>\n",
       "      <td>31</td>\n",
       "      <td>female</td>\n",
       "      <td>38.095</td>\n",
       "      <td>1</td>\n",
       "      <td>yes</td>\n",
       "      <td>northeast</td>\n",
       "      <td>58571.07448</td>\n",
       "      <td>charges</td>\n",
       "    </tr>\n",
       "    <tr>\n",
       "      <th>34</th>\n",
       "      <td>28</td>\n",
       "      <td>male</td>\n",
       "      <td>36.400</td>\n",
       "      <td>1</td>\n",
       "      <td>yes</td>\n",
       "      <td>southwest</td>\n",
       "      <td>51194.55914</td>\n",
       "      <td>charges</td>\n",
       "    </tr>\n",
       "  </tbody>\n",
       "</table>\n",
       "</div>"
      ]
     },
     "execution_count": 82,
     "metadata": {},
     "output_type": "execute_result"
    }
   ],
   "execution_count": 82
  },
  {
   "cell_type": "markdown",
   "id": "add17dfb4b368a63",
   "metadata": {},
   "source": [
    "### 4.2 Trainingsset aufteilen in Features und Target <a class=\"anchor\" id=\"id4.2\"></a>\n",
    "\n",
    "<span style=\"color:yellow\">erklären</span>"
   ]
  },
  {
   "cell_type": "code",
   "id": "5e3778da06972a98",
   "metadata": {
    "ExecuteTime": {
     "end_time": "2024-06-25T21:51:49.695955Z",
     "start_time": "2024-06-25T21:51:49.686022Z"
    }
   },
   "source": [
    "x_train = train_set.drop(columns=['charges'], axis=1)\n",
    "y_train = train_set['charges']"
   ],
   "outputs": [],
   "execution_count": 83
  },
  {
   "cell_type": "markdown",
   "id": "57c07702",
   "metadata": {},
   "source": [
    "### 4.3 Daten transformieren <a class=\"anchor\" id=\"id4.3\"></a>\n",
    "\n",
    "<span style=\"color:yellow\">erklären</span>\n",
    "Das Auffüllen von fehlenden Daten ist nicht notwendig, da es keine fehlenden Werte im Datensatz gibt (siehe 3.1). Allerdings können im Testdatensatz Daten fehlen. "
   ]
  },
  {
   "cell_type": "markdown",
   "id": "d0addebf",
   "metadata": {},
   "source": [
    "<span style=\"color:yellow\">erklären</span> Die Features werden aufgeteilt in numerische und kategorische Features anhand von 2.3, um einen passenden Transformer anzuwenden."
   ]
  },
  {
   "cell_type": "code",
   "id": "3dd139229b38b3d5",
   "metadata": {
    "ExecuteTime": {
     "end_time": "2024-06-25T21:51:49.704271Z",
     "start_time": "2024-06-25T21:51:49.697467Z"
    }
   },
   "source": [
    "num_features = ['age', 'bmi', 'children']\n",
    "cat_features = ['sex', 'smoker', 'region']"
   ],
   "outputs": [],
   "execution_count": 84
  },
  {
   "cell_type": "markdown",
   "id": "c37f2ac6",
   "metadata": {},
   "source": [
    "Für die numerische Werte <span style=\"color:yellow\">erklären</span>"
   ]
  },
  {
   "cell_type": "code",
   "id": "5bef6d15ef336059",
   "metadata": {
    "ExecuteTime": {
     "end_time": "2024-06-25T21:51:49.826892Z",
     "start_time": "2024-06-25T21:51:49.823387Z"
    }
   },
   "source": [
    "from sklearn.preprocessing import StandardScaler\n",
    "from sklearn.impute import SimpleImputer\n",
    "from sklearn.pipeline import Pipeline\n",
    "\n",
    "num_transformer = Pipeline(steps=[\n",
    "    ('imputer', SimpleImputer(strategy='mean')),\n",
    "    ('scaler', StandardScaler())\n",
    "])"
   ],
   "outputs": [],
   "execution_count": 85
  },
  {
   "cell_type": "markdown",
   "id": "036e59c1",
   "metadata": {},
   "source": [
    "Für kategorische <span style=\"color:yellow\">erklären</span>"
   ]
  },
  {
   "cell_type": "code",
   "id": "e40da747f66c0570",
   "metadata": {
    "ExecuteTime": {
     "end_time": "2024-06-25T21:51:50.153011Z",
     "start_time": "2024-06-25T21:51:50.149514Z"
    }
   },
   "source": [
    "from sklearn.preprocessing import OneHotEncoder\n",
    "\n",
    "cat_transformer = Pipeline(steps=[\n",
    "    ('imputer', SimpleImputer(strategy='most_frequent')),\n",
    "    ('encoder', OneHotEncoder(drop='first'))\n",
    "])"
   ],
   "outputs": [],
   "execution_count": 86
  },
  {
   "cell_type": "markdown",
   "id": "e4b960c359fc5d7f",
   "metadata": {},
   "source": [
    "<span style=\"color:yellow\">erklären</span>"
   ]
  },
  {
   "cell_type": "code",
   "id": "3687e9a1cbce8e1c",
   "metadata": {
    "ExecuteTime": {
     "end_time": "2024-06-25T21:51:50.236076Z",
     "start_time": "2024-06-25T21:51:50.232718Z"
    }
   },
   "source": [
    "from sklearn.compose import ColumnTransformer\n",
    "\n",
    "preprocessor = ColumnTransformer(transformers=[\n",
    "    ('num', num_transformer, num_features),\n",
    "    ('cat', cat_transformer, cat_features)\n",
    "])"
   ],
   "outputs": [],
   "execution_count": 87
  },
  {
   "cell_type": "markdown",
   "id": "951c4f4dd0ebf947",
   "metadata": {},
   "source": [
    "## 5 Select and train the models <a class=\"anchor\" id=\"id5\"></a>\n",
    "\n",
    "### 5.1 Auswahl des dritten Modells <a class=\"anchor\" id=\"id5.1\"></a>\n",
    "\n",
    "<span style=\"color:yellow\">erklären</span>\n",
    "\n",
    "### 5.2 Erklärung der ausgewählten Modelle <a class=\"anchor\" id=\"id5.2\"></a>\n",
    "\n",
    "<span style=\"color:yellow\">erklären</span>\n",
    "\n",
    "### 5.3 Plan für Modelltraining <a class=\"anchor\" id=\"id5.3\"></a>\n",
    "\n",
    "<span style=\"color:yellow\">erklären</span>\n",
    "\n",
    "### 5.4 Modelle erstellen <a class=\"anchor\" id=\"id5.4\"></a>\n",
    "\n",
    "<span style=\"color:yellow\">erklären</span>"
   ]
  },
  {
   "cell_type": "code",
   "id": "81741d40",
   "metadata": {
    "ExecuteTime": {
     "end_time": "2024-06-25T21:51:50.377249Z",
     "start_time": "2024-06-25T21:51:50.374247Z"
    }
   },
   "source": [
    "from sklearn.tree import DecisionTreeRegressor\n",
    "from sklearn.linear_model import LinearRegression, Ridge, Lasso\n",
    "from sklearn.svm import SVR\n",
    "from sklearn.ensemble import RandomForestRegressor\n",
    "\n",
    "models = {\n",
    "    'Linear Regression': LinearRegression(),\n",
    "    'SVR': SVR(),\n",
    "    'Ridge Regression': Ridge(),\n",
    "    'Lasso Regression': Lasso(),\n",
    "    'Decision Tree': DecisionTreeRegressor(),\n",
    "    'Random Forest': RandomForestRegressor(),\n",
    "}"
   ],
   "outputs": [],
   "execution_count": 88
  },
  {
   "cell_type": "markdown",
   "id": "eed71229119b6792",
   "metadata": {},
   "source": [
    "### 5.5 Modelle trainieren und validieren <a class=\"anchor\" id=\"id5.5\"></a>\n",
    "\n",
    "<span style=\"color:yellow\">erklären</span>"
   ]
  },
  {
   "cell_type": "code",
   "id": "db9d8ecc69a443e",
   "metadata": {
    "ExecuteTime": {
     "end_time": "2024-06-25T21:51:50.447398Z",
     "start_time": "2024-06-25T21:51:50.443891Z"
    }
   },
   "source": [
    "from sklearn.model_selection import KFold\n",
    "\n",
    "kf = KFold(n_splits=5, shuffle=True, random_state=42)"
   ],
   "outputs": [],
   "execution_count": 89
  },
  {
   "cell_type": "markdown",
   "id": "2a370ec644129070",
   "metadata": {},
   "source": [
    "<span style=\"color:yellow\">erklären</span>"
   ]
  },
  {
   "cell_type": "code",
   "id": "f357b5f6",
   "metadata": {
    "ExecuteTime": {
     "end_time": "2024-06-25T21:51:50.541021Z",
     "start_time": "2024-06-25T21:51:50.537016Z"
    }
   },
   "source": [
    "from sklearn.metrics import make_scorer, mean_squared_error, r2_score\n",
    "from sklearn.compose import TransformedTargetRegressor\n",
    "from sklearn.model_selection import cross_val_score\n",
    "\n",
    "def evaluate_model_with_cv(model, x, y, cv):\n",
    "    mse_scores = cross_val_score(model, x, y, scoring='neg_mean_squared_error', cv=cv)\n",
    "    r2_scores = cross_val_score(model, x, y, scoring='r2', cv=cv)\n",
    "    rmse_scores = np.sqrt(-mse_scores)\n",
    "    return rmse_scores, r2_scores"
   ],
   "outputs": [],
   "execution_count": 90
  },
  {
   "cell_type": "markdown",
   "id": "bfbef263b202b66d",
   "metadata": {},
   "source": [
    "<span style=\"color:yellow\">erklären</span>"
   ]
  },
  {
   "cell_type": "code",
   "id": "2ba0916ad650384e",
   "metadata": {
    "ExecuteTime": {
     "end_time": "2024-06-25T21:51:50.571718Z",
     "start_time": "2024-06-25T21:51:50.568334Z"
    }
   },
   "source": [
    "def create_full_pipeline(model):\n",
    "    return Pipeline([\n",
    "        ('preprocessor', preprocessor),\n",
    "        ('model', TransformedTargetRegressor(\n",
    "            regressor=model,\n",
    "            func=np.log,\n",
    "            inverse_func=np.exp\n",
    "        ))\n",
    "    ])"
   ],
   "outputs": [],
   "execution_count": 91
  },
  {
   "cell_type": "markdown",
   "id": "326f711b3abb7430",
   "metadata": {},
   "source": [
    "<span style=\"color:yellow\">erklären</span>"
   ]
  },
  {
   "cell_type": "code",
   "id": "8e3e6a7015b9a2dd",
   "metadata": {
    "ExecuteTime": {
     "end_time": "2024-06-25T21:51:53.993335Z",
     "start_time": "2024-06-25T21:51:50.662381Z"
    }
   },
   "source": [
    "cv_results = {'Model': [], 'RMSE Mean': [], 'RMSE Std': [], 'R2 Mean': [], 'R2 Std': []}\n",
    "\n",
    "for name, model in models.items():\n",
    "    pipeline = create_full_pipeline(model)\n",
    "    rmse_scores, r2_scores = evaluate_model_with_cv(pipeline, x_train, y_train, kf)\n",
    "    cv_results['Model'].append(name)\n",
    "    cv_results['RMSE Mean'].append(rmse_scores.mean())\n",
    "    cv_results['RMSE Std'].append(rmse_scores.std())\n",
    "    cv_results['R2 Mean'].append(r2_scores.mean())\n",
    "    cv_results['R2 Std'].append(r2_scores.std())"
   ],
   "outputs": [],
   "execution_count": 92
  },
  {
   "cell_type": "markdown",
   "id": "9be05f744a7bf470",
   "metadata": {},
   "source": [
    "### 5.6 Performance der Modelle <a class=\"anchor\" id=\"id5.6\"></a>\n",
    "\n",
    "<span style=\"color:yellow\">erklären</span>"
   ]
  },
  {
   "cell_type": "code",
   "id": "69e7226e295e6590",
   "metadata": {
    "ExecuteTime": {
     "end_time": "2024-06-25T21:51:54.259961Z",
     "start_time": "2024-06-25T21:51:53.994343Z"
    }
   },
   "source": [
    "cv_results_df = pd.DataFrame(cv_results)\n",
    "\n",
    "plt.figure(figsize=(12, 6))\n",
    "plt.suptitle('Cross Validation Ergebnisse', fontsize=14, fontweight='bold')\n",
    "\n",
    "plt.subplot(1, 2, 1)\n",
    "sns.barplot(x='RMSE Mean', y='Model', data=cv_results_df)\n",
    "plt.title('RMSE Durchschnitt')\n",
    "\n",
    "plt.subplot(1, 2, 2)\n",
    "sns.barplot(x='R2 Mean', y='Model', data=cv_results_df)\n",
    "plt.title('R2-Score Durchschnitt')\n",
    "\n",
    "plt.tight_layout()\n",
    "plt.show()"
   ],
   "outputs": [
    {
     "data": {
      "text/plain": [
       "<Figure size 1200x600 with 2 Axes>"
      ],
      "image/png": "[encoded data removed]"
     },
     "metadata": {},
     "output_type": "display_data"
    }
   ],
   "execution_count": 93
  },
  {
   "cell_type": "markdown",
   "id": "2e2a28eb1732a2de",
   "metadata": {},
   "source": [
    "<span style=\"color:yellow\">erklären</span>\n"
   ]
  },
  {
   "cell_type": "code",
   "id": "e67e7022662091b4",
   "metadata": {
    "ExecuteTime": {
     "end_time": "2024-06-25T21:51:54.263269Z",
     "start_time": "2024-06-25T21:51:54.259961Z"
    }
   },
   "source": [
    "selected_models = {\n",
    "    'Linear Regression': LinearRegression(),\n",
    "    'SVR': SVR(),\n",
    "    'Random Forest': RandomForestRegressor(),\n",
    "}"
   ],
   "outputs": [],
   "execution_count": 94
  },
  {
   "cell_type": "markdown",
   "id": "48561a572d10ff7b",
   "metadata": {},
   "source": [
    "### 5.7 Signifikante Parameter der Modelle <a class=\"anchor\" id=\"id5.7\"></a>\n",
    "\n",
    "<span style=\"color:yellow\">erklären</span>"
   ]
  },
  {
   "cell_type": "code",
   "id": "ba1268510ce068a5",
   "metadata": {
    "ExecuteTime": {
     "end_time": "2024-06-25T21:51:54.281573Z",
     "start_time": "2024-06-25T21:51:54.264275Z"
    }
   },
   "source": [
    "def get_model_params(models):\n",
    "    params_list = []\n",
    "\n",
    "    for name, model in models.items():\n",
    "        params_dict = {'Model': name}\n",
    "        params = model.get_params()\n",
    "        for param_name, param_value in params.items():\n",
    "            params_dict[param_name] = param_value\n",
    "        params_list.append(params_dict)\n",
    "\n",
    "    params_df = pd.DataFrame(params_list)\n",
    "    return params_df\n",
    "\n",
    "get_model_params(selected_models)"
   ],
   "outputs": [
    {
     "data": {
      "text/plain": [
       "               Model copy_X fit_intercept  n_jobs positive    C  cache_size  \\\n",
       "0  Linear Regression   True          True     NaN    False  NaN         NaN   \n",
       "1                SVR    NaN           NaN     NaN      NaN  1.0       200.0   \n",
       "2      Random Forest    NaN           NaN     NaN      NaN  NaN         NaN   \n",
       "\n",
       "   coef0  degree  epsilon  ... max_samples min_impurity_decrease  \\\n",
       "0    NaN     NaN      NaN  ...         NaN                   NaN   \n",
       "1    0.0     3.0      0.1  ...         NaN                   NaN   \n",
       "2    NaN     NaN      NaN  ...         NaN                   0.0   \n",
       "\n",
       "   min_samples_leaf min_samples_split  min_weight_fraction_leaf monotonic_cst  \\\n",
       "0               NaN               NaN                       NaN           NaN   \n",
       "1               NaN               NaN                       NaN           NaN   \n",
       "2               1.0               2.0                       0.0           NaN   \n",
       "\n",
       "  n_estimators  oob_score random_state  warm_start  \n",
       "0          NaN        NaN          NaN         NaN  \n",
       "1          NaN        NaN          NaN         NaN  \n",
       "2        100.0      False          NaN       False  \n",
       "\n",
       "[3 rows x 32 columns]"
      ],
      "text/html": [
       "<div>\n",
       "<style scoped>\n",
       "    .dataframe tbody tr th:only-of-type {\n",
       "        vertical-align: middle;\n",
       "    }\n",
       "\n",
       "    .dataframe tbody tr th {\n",
       "        vertical-align: top;\n",
       "    }\n",
       "\n",
       "    .dataframe thead th {\n",
       "        text-align: right;\n",
       "    }\n",
       "</style>\n",
       "<table border=\"1\" class=\"dataframe\">\n",
       "  <thead>\n",
       "    <tr style=\"text-align: right;\">\n",
       "      <th></th>\n",
       "      <th>Model</th>\n",
       "      <th>copy_X</th>\n",
       "      <th>fit_intercept</th>\n",
       "      <th>n_jobs</th>\n",
       "      <th>positive</th>\n",
       "      <th>C</th>\n",
       "      <th>cache_size</th>\n",
       "      <th>coef0</th>\n",
       "      <th>degree</th>\n",
       "      <th>epsilon</th>\n",
       "      <th>...</th>\n",
       "      <th>max_samples</th>\n",
       "      <th>min_impurity_decrease</th>\n",
       "      <th>min_samples_leaf</th>\n",
       "      <th>min_samples_split</th>\n",
       "      <th>min_weight_fraction_leaf</th>\n",
       "      <th>monotonic_cst</th>\n",
       "      <th>n_estimators</th>\n",
       "      <th>oob_score</th>\n",
       "      <th>random_state</th>\n",
       "      <th>warm_start</th>\n",
       "    </tr>\n",
       "  </thead>\n",
       "  <tbody>\n",
       "    <tr>\n",
       "      <th>0</th>\n",
       "      <td>Linear Regression</td>\n",
       "      <td>True</td>\n",
       "      <td>True</td>\n",
       "      <td>NaN</td>\n",
       "      <td>False</td>\n",
       "      <td>NaN</td>\n",
       "      <td>NaN</td>\n",
       "      <td>NaN</td>\n",
       "      <td>NaN</td>\n",
       "      <td>NaN</td>\n",
       "      <td>...</td>\n",
       "      <td>NaN</td>\n",
       "      <td>NaN</td>\n",
       "      <td>NaN</td>\n",
       "      <td>NaN</td>\n",
       "      <td>NaN</td>\n",
       "      <td>NaN</td>\n",
       "      <td>NaN</td>\n",
       "      <td>NaN</td>\n",
       "      <td>NaN</td>\n",
       "      <td>NaN</td>\n",
       "    </tr>\n",
       "    <tr>\n",
       "      <th>1</th>\n",
       "      <td>SVR</td>\n",
       "      <td>NaN</td>\n",
       "      <td>NaN</td>\n",
       "      <td>NaN</td>\n",
       "      <td>NaN</td>\n",
       "      <td>1.0</td>\n",
       "      <td>200.0</td>\n",
       "      <td>0.0</td>\n",
       "      <td>3.0</td>\n",
       "      <td>0.1</td>\n",
       "      <td>...</td>\n",
       "      <td>NaN</td>\n",
       "      <td>NaN</td>\n",
       "      <td>NaN</td>\n",
       "      <td>NaN</td>\n",
       "      <td>NaN</td>\n",
       "      <td>NaN</td>\n",
       "      <td>NaN</td>\n",
       "      <td>NaN</td>\n",
       "      <td>NaN</td>\n",
       "      <td>NaN</td>\n",
       "    </tr>\n",
       "    <tr>\n",
       "      <th>2</th>\n",
       "      <td>Random Forest</td>\n",
       "      <td>NaN</td>\n",
       "      <td>NaN</td>\n",
       "      <td>NaN</td>\n",
       "      <td>NaN</td>\n",
       "      <td>NaN</td>\n",
       "      <td>NaN</td>\n",
       "      <td>NaN</td>\n",
       "      <td>NaN</td>\n",
       "      <td>NaN</td>\n",
       "      <td>...</td>\n",
       "      <td>NaN</td>\n",
       "      <td>0.0</td>\n",
       "      <td>1.0</td>\n",
       "      <td>2.0</td>\n",
       "      <td>0.0</td>\n",
       "      <td>NaN</td>\n",
       "      <td>100.0</td>\n",
       "      <td>False</td>\n",
       "      <td>NaN</td>\n",
       "      <td>False</td>\n",
       "    </tr>\n",
       "  </tbody>\n",
       "</table>\n",
       "<p>3 rows × 32 columns</p>\n",
       "</div>"
      ]
     },
     "execution_count": 95,
     "metadata": {},
     "output_type": "execute_result"
    }
   ],
   "execution_count": 95
  },
  {
   "cell_type": "markdown",
   "id": "f855e96859687103",
   "metadata": {},
   "source": [
    "<span style=\"color:yellow\">erklären</span>"
   ]
  },
  {
   "cell_type": "markdown",
   "id": "29ec8fd5",
   "metadata": {},
   "source": [
    "## 6 Fine-Tune the models <a class=\"anchor\" id=\"id6\"></a>\n",
    "\n",
    "### 6.1 Hyperparametertuning mit `GridSearchCV()` und `RandomizedSearchCV()` <a class=\"anchor\" id=\"id6.1\"></a>\n",
    "\n",
    "<span style=\"color:yellow\">erklären</span>\n"
   ]
  },
  {
   "cell_type": "code",
   "id": "a07b52fdd0e2c9a9",
   "metadata": {
    "ExecuteTime": {
     "end_time": "2024-06-25T21:51:54.289781Z",
     "start_time": "2024-06-25T21:51:54.281573Z"
    }
   },
   "source": [
    "import warnings\n",
    "from sklearn.model_selection import GridSearchCV, RandomizedSearchCV\n",
    "\n",
    "def perform_search(X, y, models, preprocessor, cv, search_type):\n",
    "    best_models = {}\n",
    "    if search_type == 'grid':\n",
    "        print('-' * 40 + 'Grid Search' + '-' * 40)\n",
    "    elif search_type == 'random':\n",
    "        print('-' * 40 + 'Random Search' + '-' * 40)\n",
    "\n",
    "    for name, model, params in models:\n",
    "        model_pipeline = Pipeline([('preprocessor', preprocessor), ('model', TransformedTargetRegressor(\n",
    "            regressor=model,\n",
    "            func=np.log,\n",
    "            inverse_func=np.exp\n",
    "        ))])\n",
    "\n",
    "        if search_type == 'grid':\n",
    "            search = GridSearchCV(estimator=model_pipeline, param_grid=params, cv=cv, scoring='r2', verbose=1, n_jobs=-1)\n",
    "        elif search_type == 'random':\n",
    "            search = RandomizedSearchCV(estimator=model_pipeline, param_distributions=params, n_iter=50, cv=cv, scoring='r2', verbose=1, n_jobs=-1)\n",
    "\n",
    "        search.fit(X, y)\n",
    "\n",
    "        best_models[name] = {\n",
    "            'model': search.best_estimator_,\n",
    "            'params': search.best_params_,\n",
    "            'score': search.best_score_\n",
    "        }\n",
    "\n",
    "        print(f\"Beste Parameter für {name}:\")\n",
    "        print(search.best_params_)\n",
    "        print(f\"Bester {name} R2-Score: {search.best_score_}\")\n",
    "        print()\n",
    "\n",
    "    return best_models\n"
   ],
   "outputs": [],
   "execution_count": 96
  },
  {
   "cell_type": "markdown",
   "id": "f7f387e027129b5a",
   "metadata": {},
   "source": [
    "<span style=\"color:yellow\">erklären</span>"
   ]
  },
  {
   "cell_type": "markdown",
   "id": "246026bdc26bde12",
   "metadata": {},
   "source": [
    "### 6.2 Festlegung des Parameter-Grids und Auswertung der Ergebnisse <a class=\"anchor\" id=\"id6.2\"></a>\n",
    "\n",
    "<span style=\"color:yellow\">erklären</span>"
   ]
  },
  {
   "cell_type": "code",
   "id": "391f80e4f913bcff",
   "metadata": {
    "ExecuteTime": {
     "end_time": "2024-06-25T21:51:54.297782Z",
     "start_time": "2024-06-25T21:51:54.290788Z"
    }
   },
   "source": [
    "models_to_search = [\n",
    "    ('Linear Regression', LinearRegression(), {\n",
    "        'model__regressor__fit_intercept': [True, False]\n",
    "    }),\n",
    "    ('SVR', SVR(), {\n",
    "        'model__regressor__kernel': ['linear', 'poly', 'rbf'],\n",
    "        'model__regressor__C': [0.1, 1, 10],\n",
    "        'model__regressor__epsilon': [0.01, 0.1, 0.5]\n",
    "    }),\n",
    "    ('Random Forest Regression', RandomForestRegressor(), {\n",
    "        'model__regressor__n_estimators': [50, 100, 200],\n",
    "        'model__regressor__max_depth': [None, 10, 20],\n",
    "        'model__regressor__min_samples_split': [2, 5, 10],\n",
    "        'model__regressor__min_samples_leaf': [1, 2, 4]\n",
    "    })\n",
    "]"
   ],
   "outputs": [],
   "execution_count": 97
  },
  {
   "cell_type": "markdown",
   "id": "ffa2586555a8ce51",
   "metadata": {},
   "source": [
    "<span style=\"color:yellow\">erklären</span>"
   ]
  },
  {
   "cell_type": "code",
   "id": "78060216954fa7ec",
   "metadata": {
    "ExecuteTime": {
     "end_time": "2024-06-25T21:52:14.433417Z",
     "start_time": "2024-06-25T21:51:54.298789Z"
    }
   },
   "source": [
    "best_models_grid = perform_search(x_train, y_train, models_to_search, preprocessor, kf, 'grid')\n",
    "best_models_random = perform_search(x_train, y_train, models_to_search, preprocessor, kf, 'random')"
   ],
   "outputs": [
    {
     "name": "stdout",
     "output_type": "stream",
     "text": [
      "----------------------------------------Grid Search----------------------------------------\n",
      "Fitting 5 folds for each of 2 candidates, totalling 10 fits\n",
      "Beste Parameter für Linear Regression:\n",
      "{'model__regressor__fit_intercept': True}\n",
      "Bester Linear Regression R2-Score: 0.47777259009165435\n",
      "\n",
      "Fitting 5 folds for each of 27 candidates, totalling 135 fits\n",
      "Beste Parameter für SVR:\n",
      "{'model__regressor__C': 1, 'model__regressor__epsilon': 0.1, 'model__regressor__kernel': 'rbf'}\n",
      "Bester SVR R2-Score: 0.805374161334688\n",
      "\n",
      "Fitting 5 folds for each of 81 candidates, totalling 405 fits\n",
      "Beste Parameter für Random Forest Regression:\n",
      "{'model__regressor__max_depth': 10, 'model__regressor__min_samples_leaf': 4, 'model__regressor__min_samples_split': 5, 'model__regressor__n_estimators': 100}\n",
      "Bester Random Forest Regression R2-Score: 0.8469525138249511\n",
      "\n",
      "----------------------------------------Random Search----------------------------------------\n",
      "Fitting 5 folds for each of 2 candidates, totalling 10 fits\n",
      "Beste Parameter für Linear Regression:\n",
      "{'model__regressor__fit_intercept': True}\n",
      "Bester Linear Regression R2-Score: 0.47777259009165435\n",
      "\n",
      "Fitting 5 folds for each of 27 candidates, totalling 135 fits\n"
     ]
    },
    {
     "name": "stderr",
     "output_type": "stream",
     "text": [
      "C:\\Users\\markj\\Documents\\Studium\\Master Maschinenbau TH Köln\\Machine Learning\\ML_SoSe24\\venv\\Lib\\site-packages\\sklearn\\model_selection\\_search.py:320: UserWarning: The total space of parameters 2 is smaller than n_iter=50. Running 2 iterations. For exhaustive searches, use GridSearchCV.\n",
      "  warnings.warn(\n",
      "C:\\Users\\markj\\Documents\\Studium\\Master Maschinenbau TH Köln\\Machine Learning\\ML_SoSe24\\venv\\Lib\\site-packages\\sklearn\\model_selection\\_search.py:320: UserWarning: The total space of parameters 27 is smaller than n_iter=50. Running 27 iterations. For exhaustive searches, use GridSearchCV.\n",
      "  warnings.warn(\n"
     ]
    },
    {
     "name": "stdout",
     "output_type": "stream",
     "text": [
      "Beste Parameter für SVR:\n",
      "{'model__regressor__kernel': 'rbf', 'model__regressor__epsilon': 0.1, 'model__regressor__C': 1}\n",
      "Bester SVR R2-Score: 0.805374161334688\n",
      "\n",
      "Fitting 5 folds for each of 50 candidates, totalling 250 fits\n",
      "Beste Parameter für Random Forest Regression:\n",
      "{'model__regressor__n_estimators': 100, 'model__regressor__min_samples_split': 2, 'model__regressor__min_samples_leaf': 4, 'model__regressor__max_depth': 20}\n",
      "Bester Random Forest Regression R2-Score: 0.8470116154120053\n",
      "\n"
     ]
    }
   ],
   "execution_count": 98
  },
  {
   "cell_type": "code",
   "id": "e6e31e8852706347",
   "metadata": {
    "ExecuteTime": {
     "end_time": "2024-06-25T21:52:14.437464Z",
     "start_time": "2024-06-25T21:52:14.433417Z"
    }
   },
   "source": [
    "best_models_grid_df = pd.DataFrame(best_models_grid)"
   ],
   "outputs": [],
   "execution_count": 99
  },
  {
   "cell_type": "code",
   "id": "5dd43cb24ea8f37e",
   "metadata": {
    "ExecuteTime": {
     "end_time": "2024-06-25T21:52:14.483483Z",
     "start_time": "2024-06-25T21:52:14.437464Z"
    }
   },
   "source": [
    "best_models_grid_df.head()"
   ],
   "outputs": [
    {
     "data": {
      "text/plain": [
       "                                        Linear Regression  \\\n",
       "model   (ColumnTransformer(transformers=[('num',\\n    ...   \n",
       "params          {'model__regressor__fit_intercept': True}   \n",
       "score                                            0.477773   \n",
       "\n",
       "                                                      SVR  \\\n",
       "model   (ColumnTransformer(transformers=[('num',\\n    ...   \n",
       "params  {'model__regressor__C': 1, 'model__regressor__...   \n",
       "score                                            0.805374   \n",
       "\n",
       "                                 Random Forest Regression  \n",
       "model   (ColumnTransformer(transformers=[('num',\\n    ...  \n",
       "params  {'model__regressor__max_depth': 10, 'model__re...  \n",
       "score                                            0.846953  "
      ],
      "text/html": [
       "<div>\n",
       "<style scoped>\n",
       "    .dataframe tbody tr th:only-of-type {\n",
       "        vertical-align: middle;\n",
       "    }\n",
       "\n",
       "    .dataframe tbody tr th {\n",
       "        vertical-align: top;\n",
       "    }\n",
       "\n",
       "    .dataframe thead th {\n",
       "        text-align: right;\n",
       "    }\n",
       "</style>\n",
       "<table border=\"1\" class=\"dataframe\">\n",
       "  <thead>\n",
       "    <tr style=\"text-align: right;\">\n",
       "      <th></th>\n",
       "      <th>Linear Regression</th>\n",
       "      <th>SVR</th>\n",
       "      <th>Random Forest Regression</th>\n",
       "    </tr>\n",
       "  </thead>\n",
       "  <tbody>\n",
       "    <tr>\n",
       "      <th>model</th>\n",
       "      <td>(ColumnTransformer(transformers=[('num',\\n    ...</td>\n",
       "      <td>(ColumnTransformer(transformers=[('num',\\n    ...</td>\n",
       "      <td>(ColumnTransformer(transformers=[('num',\\n    ...</td>\n",
       "    </tr>\n",
       "    <tr>\n",
       "      <th>params</th>\n",
       "      <td>{'model__regressor__fit_intercept': True}</td>\n",
       "      <td>{'model__regressor__C': 1, 'model__regressor__...</td>\n",
       "      <td>{'model__regressor__max_depth': 10, 'model__re...</td>\n",
       "    </tr>\n",
       "    <tr>\n",
       "      <th>score</th>\n",
       "      <td>0.477773</td>\n",
       "      <td>0.805374</td>\n",
       "      <td>0.846953</td>\n",
       "    </tr>\n",
       "  </tbody>\n",
       "</table>\n",
       "</div>"
      ]
     },
     "execution_count": 100,
     "metadata": {},
     "output_type": "execute_result"
    }
   ],
   "execution_count": 100
  },
  {
   "cell_type": "markdown",
   "id": "d4db26b80608fc76",
   "metadata": {},
   "source": [
    "<span style=\"color:yellow\">erklären</span>"
   ]
  },
  {
   "cell_type": "markdown",
   "id": "93e6efe5b36bdc9",
   "metadata": {},
   "source": [
    "### 6.3 Finale Modell trainieren <a class=\"anchor\" id=\"id6.3\"></a>\n",
    "\n",
    "<span style=\"color:yellow\">erklären</span>"
   ]
  },
  {
   "cell_type": "code",
   "id": "f5827dba30c4f57e",
   "metadata": {
    "ExecuteTime": {
     "end_time": "2024-06-25T21:52:14.487522Z",
     "start_time": "2024-06-25T21:52:14.484489Z"
    }
   },
   "source": [
    "final_estimator = best_models_grid['Random Forest Regression']['model']"
   ],
   "outputs": [],
   "execution_count": 101
  },
  {
   "cell_type": "markdown",
   "id": "6383d542500015e2",
   "metadata": {},
   "source": [
    "<span style=\"color:yellow\">erklären</span>\n"
   ]
  },
  {
   "cell_type": "code",
   "id": "39059036a5867d93",
   "metadata": {
    "ExecuteTime": {
     "end_time": "2024-06-25T21:52:14.495411Z",
     "start_time": "2024-06-25T21:52:14.487522Z"
    }
   },
   "source": [
    "x_test = test_set.drop(columns=['charges'], axis=1)\n",
    "y_test = test_set['charges']"
   ],
   "outputs": [],
   "execution_count": 102
  },
  {
   "cell_type": "markdown",
   "id": "2332a065ed03b4bc",
   "metadata": {},
   "source": [
    "<span style=\"color:yellow\">erklären</span>\n"
   ]
  },
  {
   "cell_type": "code",
   "id": "82d1c134af6d5ad4",
   "metadata": {
    "ExecuteTime": {
     "end_time": "2024-06-25T21:52:14.722634Z",
     "start_time": "2024-06-25T21:52:14.495411Z"
    }
   },
   "source": [
    "final_estimator.fit(x_train, y_train)"
   ],
   "outputs": [
    {
     "data": {
      "text/plain": [
       "Pipeline(steps=[('preprocessor',\n",
       "                 ColumnTransformer(transformers=[('num',\n",
       "                                                  Pipeline(steps=[('imputer',\n",
       "                                                                   SimpleImputer()),\n",
       "                                                                  ('scaler',\n",
       "                                                                   StandardScaler())]),\n",
       "                                                  ['age', 'bmi', 'children']),\n",
       "                                                 ('cat',\n",
       "                                                  Pipeline(steps=[('imputer',\n",
       "                                                                   SimpleImputer(strategy='most_frequent')),\n",
       "                                                                  ('encoder',\n",
       "                                                                   OneHotEncoder(drop='first'))]),\n",
       "                                                  ['sex', 'smoker',\n",
       "                                                   'region'])])),\n",
       "                ('model',\n",
       "                 TransformedTargetRegressor(func=<ufunc 'log'>,\n",
       "                                            inverse_func=<ufunc 'exp'>,\n",
       "                                            regressor=RandomForestRegressor(max_depth=10,\n",
       "                                                                            min_samples_leaf=4,\n",
       "                                                                            min_samples_split=5)))])"
      ],
      "text/html": [
       "<style>#sk-container-id-2 {\n",
       "  /* Definition of color scheme common for light and dark mode */\n",
       "  --sklearn-color-text: black;\n",
       "  --sklearn-color-line: gray;\n",
       "  /* Definition of color scheme for unfitted estimators */\n",
       "  --sklearn-color-unfitted-level-0: #fff5e6;\n",
       "  --sklearn-color-unfitted-level-1: #f6e4d2;\n",
       "  --sklearn-color-unfitted-level-2: #ffe0b3;\n",
       "  --sklearn-color-unfitted-level-3: chocolate;\n",
       "  /* Definition of color scheme for fitted estimators */\n",
       "  --sklearn-color-fitted-level-0: #f0f8ff;\n",
       "  --sklearn-color-fitted-level-1: #d4ebff;\n",
       "  --sklearn-color-fitted-level-2: #b3dbfd;\n",
       "  --sklearn-color-fitted-level-3: cornflowerblue;\n",
       "\n",
       "  /* Specific color for light theme */\n",
       "  --sklearn-color-text-on-default-background: var(--sg-text-color, var(--theme-code-foreground, var(--jp-content-font-color1, black)));\n",
       "  --sklearn-color-background: var(--sg-background-color, var(--theme-background, var(--jp-layout-color0, white)));\n",
       "  --sklearn-color-border-box: var(--sg-text-color, var(--theme-code-foreground, var(--jp-content-font-color1, black)));\n",
       "  --sklearn-color-icon: #696969;\n",
       "\n",
       "  @media (prefers-color-scheme: dark) {\n",
       "    /* Redefinition of color scheme for dark theme */\n",
       "    --sklearn-color-text-on-default-background: var(--sg-text-color, var(--theme-code-foreground, var(--jp-content-font-color1, white)));\n",
       "    --sklearn-color-background: var(--sg-background-color, var(--theme-background, var(--jp-layout-color0, #111)));\n",
       "    --sklearn-color-border-box: var(--sg-text-color, var(--theme-code-foreground, var(--jp-content-font-color1, white)));\n",
       "    --sklearn-color-icon: #878787;\n",
       "  }\n",
       "}\n",
       "\n",
       "#sk-container-id-2 {\n",
       "  color: var(--sklearn-color-text);\n",
       "}\n",
       "\n",
       "#sk-container-id-2 pre {\n",
       "  padding: 0;\n",
       "}\n",
       "\n",
       "#sk-container-id-2 input.sk-hidden--visually {\n",
       "  border: 0;\n",
       "  clip: rect(1px 1px 1px 1px);\n",
       "  clip: rect(1px, 1px, 1px, 1px);\n",
       "  height: 1px;\n",
       "  margin: -1px;\n",
       "  overflow: hidden;\n",
       "  padding: 0;\n",
       "  position: absolute;\n",
       "  width: 1px;\n",
       "}\n",
       "\n",
       "#sk-container-id-2 div.sk-dashed-wrapped {\n",
       "  border: 1px dashed var(--sklearn-color-line);\n",
       "  margin: 0 0.4em 0.5em 0.4em;\n",
       "  box-sizing: border-box;\n",
       "  padding-bottom: 0.4em;\n",
       "  background-color: var(--sklearn-color-background);\n",
       "}\n",
       "\n",
       "#sk-container-id-2 div.sk-container {\n",
       "  /* jupyter's `normalize.less` sets `[hidden] { display: none; }`\n",
       "     but bootstrap.min.css set `[hidden] { display: none !important; }`\n",
       "     so we also need the `!important` here to be able to override the\n",
       "     default hidden behavior on the sphinx rendered scikit-learn.org.\n",
       "     See: https://github.com/scikit-learn/scikit-learn/issues/21755 */\n",
       "  display: inline-block !important;\n",
       "  position: relative;\n",
       "}\n",
       "\n",
       "#sk-container-id-2 div.sk-text-repr-fallback {\n",
       "  display: none;\n",
       "}\n",
       "\n",
       "div.sk-parallel-item,\n",
       "div.sk-serial,\n",
       "div.sk-item {\n",
       "  /* draw centered vertical line to link estimators */\n",
       "  background-image: linear-gradient(var(--sklearn-color-text-on-default-background), var(--sklearn-color-text-on-default-background));\n",
       "  background-size: 2px 100%;\n",
       "  background-repeat: no-repeat;\n",
       "  background-position: center center;\n",
       "}\n",
       "\n",
       "/* Parallel-specific style estimator block */\n",
       "\n",
       "#sk-container-id-2 div.sk-parallel-item::after {\n",
       "  content: \"\";\n",
       "  width: 100%;\n",
       "  border-bottom: 2px solid var(--sklearn-color-text-on-default-background);\n",
       "  flex-grow: 1;\n",
       "}\n",
       "\n",
       "#sk-container-id-2 div.sk-parallel {\n",
       "  display: flex;\n",
       "  align-items: stretch;\n",
       "  justify-content: center;\n",
       "  background-color: var(--sklearn-color-background);\n",
       "  position: relative;\n",
       "}\n",
       "\n",
       "#sk-container-id-2 div.sk-parallel-item {\n",
       "  display: flex;\n",
       "  flex-direction: column;\n",
       "}\n",
       "\n",
       "#sk-container-id-2 div.sk-parallel-item:first-child::after {\n",
       "  align-self: flex-end;\n",
       "  width: 50%;\n",
       "}\n",
       "\n",
       "#sk-container-id-2 div.sk-parallel-item:last-child::after {\n",
       "  align-self: flex-start;\n",
       "  width: 50%;\n",
       "}\n",
       "\n",
       "#sk-container-id-2 div.sk-parallel-item:only-child::after {\n",
       "  width: 0;\n",
       "}\n",
       "\n",
       "/* Serial-specific style estimator block */\n",
       "\n",
       "#sk-container-id-2 div.sk-serial {\n",
       "  display: flex;\n",
       "  flex-direction: column;\n",
       "  align-items: center;\n",
       "  background-color: var(--sklearn-color-background);\n",
       "  padding-right: 1em;\n",
       "  padding-left: 1em;\n",
       "}\n",
       "\n",
       "\n",
       "/* Toggleable style: style used for estimator/Pipeline/ColumnTransformer box that is\n",
       "clickable and can be expanded/collapsed.\n",
       "- Pipeline and ColumnTransformer use this feature and define the default style\n",
       "- Estimators will overwrite some part of the style using the `sk-estimator` class\n",
       "*/\n",
       "\n",
       "/* Pipeline and ColumnTransformer style (default) */\n",
       "\n",
       "#sk-container-id-2 div.sk-toggleable {\n",
       "  /* Default theme specific background. It is overwritten whether we have a\n",
       "  specific estimator or a Pipeline/ColumnTransformer */\n",
       "  background-color: var(--sklearn-color-background);\n",
       "}\n",
       "\n",
       "/* Toggleable label */\n",
       "#sk-container-id-2 label.sk-toggleable__label {\n",
       "  cursor: pointer;\n",
       "  display: block;\n",
       "  width: 100%;\n",
       "  margin-bottom: 0;\n",
       "  padding: 0.5em;\n",
       "  box-sizing: border-box;\n",
       "  text-align: center;\n",
       "}\n",
       "\n",
       "#sk-container-id-2 label.sk-toggleable__label-arrow:before {\n",
       "  /* Arrow on the left of the label */\n",
       "  content: \"▸\";\n",
       "  float: left;\n",
       "  margin-right: 0.25em;\n",
       "  color: var(--sklearn-color-icon);\n",
       "}\n",
       "\n",
       "#sk-container-id-2 label.sk-toggleable__label-arrow:hover:before {\n",
       "  color: var(--sklearn-color-text);\n",
       "}\n",
       "\n",
       "/* Toggleable content - dropdown */\n",
       "\n",
       "#sk-container-id-2 div.sk-toggleable__content {\n",
       "  max-height: 0;\n",
       "  max-width: 0;\n",
       "  overflow: hidden;\n",
       "  text-align: left;\n",
       "  /* unfitted */\n",
       "  background-color: var(--sklearn-color-unfitted-level-0);\n",
       "}\n",
       "\n",
       "#sk-container-id-2 div.sk-toggleable__content.fitted {\n",
       "  /* fitted */\n",
       "  background-color: var(--sklearn-color-fitted-level-0);\n",
       "}\n",
       "\n",
       "#sk-container-id-2 div.sk-toggleable__content pre {\n",
       "  margin: 0.2em;\n",
       "  border-radius: 0.25em;\n",
       "  color: var(--sklearn-color-text);\n",
       "  /* unfitted */\n",
       "  background-color: var(--sklearn-color-unfitted-level-0);\n",
       "}\n",
       "\n",
       "#sk-container-id-2 div.sk-toggleable__content.fitted pre {\n",
       "  /* unfitted */\n",
       "  background-color: var(--sklearn-color-fitted-level-0);\n",
       "}\n",
       "\n",
       "#sk-container-id-2 input.sk-toggleable__control:checked~div.sk-toggleable__content {\n",
       "  /* Expand drop-down */\n",
       "  max-height: 200px;\n",
       "  max-width: 100%;\n",
       "  overflow: auto;\n",
       "}\n",
       "\n",
       "#sk-container-id-2 input.sk-toggleable__control:checked~label.sk-toggleable__label-arrow:before {\n",
       "  content: \"▾\";\n",
       "}\n",
       "\n",
       "/* Pipeline/ColumnTransformer-specific style */\n",
       "\n",
       "#sk-container-id-2 div.sk-label input.sk-toggleable__control:checked~label.sk-toggleable__label {\n",
       "  color: var(--sklearn-color-text);\n",
       "  background-color: var(--sklearn-color-unfitted-level-2);\n",
       "}\n",
       "\n",
       "#sk-container-id-2 div.sk-label.fitted input.sk-toggleable__control:checked~label.sk-toggleable__label {\n",
       "  background-color: var(--sklearn-color-fitted-level-2);\n",
       "}\n",
       "\n",
       "/* Estimator-specific style */\n",
       "\n",
       "/* Colorize estimator box */\n",
       "#sk-container-id-2 div.sk-estimator input.sk-toggleable__control:checked~label.sk-toggleable__label {\n",
       "  /* unfitted */\n",
       "  background-color: var(--sklearn-color-unfitted-level-2);\n",
       "}\n",
       "\n",
       "#sk-container-id-2 div.sk-estimator.fitted input.sk-toggleable__control:checked~label.sk-toggleable__label {\n",
       "  /* fitted */\n",
       "  background-color: var(--sklearn-color-fitted-level-2);\n",
       "}\n",
       "\n",
       "#sk-container-id-2 div.sk-label label.sk-toggleable__label,\n",
       "#sk-container-id-2 div.sk-label label {\n",
       "  /* The background is the default theme color */\n",
       "  color: var(--sklearn-color-text-on-default-background);\n",
       "}\n",
       "\n",
       "/* On hover, darken the color of the background */\n",
       "#sk-container-id-2 div.sk-label:hover label.sk-toggleable__label {\n",
       "  color: var(--sklearn-color-text);\n",
       "  background-color: var(--sklearn-color-unfitted-level-2);\n",
       "}\n",
       "\n",
       "/* Label box, darken color on hover, fitted */\n",
       "#sk-container-id-2 div.sk-label.fitted:hover label.sk-toggleable__label.fitted {\n",
       "  color: var(--sklearn-color-text);\n",
       "  background-color: var(--sklearn-color-fitted-level-2);\n",
       "}\n",
       "\n",
       "/* Estimator label */\n",
       "\n",
       "#sk-container-id-2 div.sk-label label {\n",
       "  font-family: monospace;\n",
       "  font-weight: bold;\n",
       "  display: inline-block;\n",
       "  line-height: 1.2em;\n",
       "}\n",
       "\n",
       "#sk-container-id-2 div.sk-label-container {\n",
       "  text-align: center;\n",
       "}\n",
       "\n",
       "/* Estimator-specific */\n",
       "#sk-container-id-2 div.sk-estimator {\n",
       "  font-family: monospace;\n",
       "  border: 1px dotted var(--sklearn-color-border-box);\n",
       "  border-radius: 0.25em;\n",
       "  box-sizing: border-box;\n",
       "  margin-bottom: 0.5em;\n",
       "  /* unfitted */\n",
       "  background-color: var(--sklearn-color-unfitted-level-0);\n",
       "}\n",
       "\n",
       "#sk-container-id-2 div.sk-estimator.fitted {\n",
       "  /* fitted */\n",
       "  background-color: var(--sklearn-color-fitted-level-0);\n",
       "}\n",
       "\n",
       "/* on hover */\n",
       "#sk-container-id-2 div.sk-estimator:hover {\n",
       "  /* unfitted */\n",
       "  background-color: var(--sklearn-color-unfitted-level-2);\n",
       "}\n",
       "\n",
       "#sk-container-id-2 div.sk-estimator.fitted:hover {\n",
       "  /* fitted */\n",
       "  background-color: var(--sklearn-color-fitted-level-2);\n",
       "}\n",
       "\n",
       "/* Specification for estimator info (e.g. \"i\" and \"?\") */\n",
       "\n",
       "/* Common style for \"i\" and \"?\" */\n",
       "\n",
       ".sk-estimator-doc-link,\n",
       "a:link.sk-estimator-doc-link,\n",
       "a:visited.sk-estimator-doc-link {\n",
       "  float: right;\n",
       "  font-size: smaller;\n",
       "  line-height: 1em;\n",
       "  font-family: monospace;\n",
       "  background-color: var(--sklearn-color-background);\n",
       "  border-radius: 1em;\n",
       "  height: 1em;\n",
       "  width: 1em;\n",
       "  text-decoration: none !important;\n",
       "  margin-left: 1ex;\n",
       "  /* unfitted */\n",
       "  border: var(--sklearn-color-unfitted-level-1) 1pt solid;\n",
       "  color: var(--sklearn-color-unfitted-level-1);\n",
       "}\n",
       "\n",
       ".sk-estimator-doc-link.fitted,\n",
       "a:link.sk-estimator-doc-link.fitted,\n",
       "a:visited.sk-estimator-doc-link.fitted {\n",
       "  /* fitted */\n",
       "  border: var(--sklearn-color-fitted-level-1) 1pt solid;\n",
       "  color: var(--sklearn-color-fitted-level-1);\n",
       "}\n",
       "\n",
       "/* On hover */\n",
       "div.sk-estimator:hover .sk-estimator-doc-link:hover,\n",
       ".sk-estimator-doc-link:hover,\n",
       "div.sk-label-container:hover .sk-estimator-doc-link:hover,\n",
       ".sk-estimator-doc-link:hover {\n",
       "  /* unfitted */\n",
       "  background-color: var(--sklearn-color-unfitted-level-3);\n",
       "  color: var(--sklearn-color-background);\n",
       "  text-decoration: none;\n",
       "}\n",
       "\n",
       "div.sk-estimator.fitted:hover .sk-estimator-doc-link.fitted:hover,\n",
       ".sk-estimator-doc-link.fitted:hover,\n",
       "div.sk-label-container:hover .sk-estimator-doc-link.fitted:hover,\n",
       ".sk-estimator-doc-link.fitted:hover {\n",
       "  /* fitted */\n",
       "  background-color: var(--sklearn-color-fitted-level-3);\n",
       "  color: var(--sklearn-color-background);\n",
       "  text-decoration: none;\n",
       "}\n",
       "\n",
       "/* Span, style for the box shown on hovering the info icon */\n",
       ".sk-estimator-doc-link span {\n",
       "  display: none;\n",
       "  z-index: 9999;\n",
       "  position: relative;\n",
       "  font-weight: normal;\n",
       "  right: .2ex;\n",
       "  padding: .5ex;\n",
       "  margin: .5ex;\n",
       "  width: min-content;\n",
       "  min-width: 20ex;\n",
       "  max-width: 50ex;\n",
       "  color: var(--sklearn-color-text);\n",
       "  box-shadow: 2pt 2pt 4pt #999;\n",
       "  /* unfitted */\n",
       "  background: var(--sklearn-color-unfitted-level-0);\n",
       "  border: .5pt solid var(--sklearn-color-unfitted-level-3);\n",
       "}\n",
       "\n",
       ".sk-estimator-doc-link.fitted span {\n",
       "  /* fitted */\n",
       "  background: var(--sklearn-color-fitted-level-0);\n",
       "  border: var(--sklearn-color-fitted-level-3);\n",
       "}\n",
       "\n",
       ".sk-estimator-doc-link:hover span {\n",
       "  display: block;\n",
       "}\n",
       "\n",
       "/* \"?\"-specific style due to the `<a>` HTML tag */\n",
       "\n",
       "#sk-container-id-2 a.estimator_doc_link {\n",
       "  float: right;\n",
       "  font-size: 1rem;\n",
       "  line-height: 1em;\n",
       "  font-family: monospace;\n",
       "  background-color: var(--sklearn-color-background);\n",
       "  border-radius: 1rem;\n",
       "  height: 1rem;\n",
       "  width: 1rem;\n",
       "  text-decoration: none;\n",
       "  /* unfitted */\n",
       "  color: var(--sklearn-color-unfitted-level-1);\n",
       "  border: var(--sklearn-color-unfitted-level-1) 1pt solid;\n",
       "}\n",
       "\n",
       "#sk-container-id-2 a.estimator_doc_link.fitted {\n",
       "  /* fitted */\n",
       "  border: var(--sklearn-color-fitted-level-1) 1pt solid;\n",
       "  color: var(--sklearn-color-fitted-level-1);\n",
       "}\n",
       "\n",
       "/* On hover */\n",
       "#sk-container-id-2 a.estimator_doc_link:hover {\n",
       "  /* unfitted */\n",
       "  background-color: var(--sklearn-color-unfitted-level-3);\n",
       "  color: var(--sklearn-color-background);\n",
       "  text-decoration: none;\n",
       "}\n",
       "\n",
       "#sk-container-id-2 a.estimator_doc_link.fitted:hover {\n",
       "  /* fitted */\n",
       "  background-color: var(--sklearn-color-fitted-level-3);\n",
       "}\n",
       "</style><div id=\"sk-container-id-2\" class=\"sk-top-container\"><div class=\"sk-text-repr-fallback\"><pre>Pipeline(steps=[(&#x27;preprocessor&#x27;,\n",
       "                 ColumnTransformer(transformers=[(&#x27;num&#x27;,\n",
       "                                                  Pipeline(steps=[(&#x27;imputer&#x27;,\n",
       "                                                                   SimpleImputer()),\n",
       "                                                                  (&#x27;scaler&#x27;,\n",
       "                                                                   StandardScaler())]),\n",
       "                                                  [&#x27;age&#x27;, &#x27;bmi&#x27;, &#x27;children&#x27;]),\n",
       "                                                 (&#x27;cat&#x27;,\n",
       "                                                  Pipeline(steps=[(&#x27;imputer&#x27;,\n",
       "                                                                   SimpleImputer(strategy=&#x27;most_frequent&#x27;)),\n",
       "                                                                  (&#x27;encoder&#x27;,\n",
       "                                                                   OneHotEncoder(drop=&#x27;first&#x27;))]),\n",
       "                                                  [&#x27;sex&#x27;, &#x27;smoker&#x27;,\n",
       "                                                   &#x27;region&#x27;])])),\n",
       "                (&#x27;model&#x27;,\n",
       "                 TransformedTargetRegressor(func=&lt;ufunc &#x27;log&#x27;&gt;,\n",
       "                                            inverse_func=&lt;ufunc &#x27;exp&#x27;&gt;,\n",
       "                                            regressor=RandomForestRegressor(max_depth=10,\n",
       "                                                                            min_samples_leaf=4,\n",
       "                                                                            min_samples_split=5)))])</pre><b>In a Jupyter environment, please rerun this cell to show the HTML representation or trust the notebook. <br />On GitHub, the HTML representation is unable to render, please try loading this page with nbviewer.org.</b></div><div class=\"sk-container\" hidden><div class=\"sk-item sk-dashed-wrapped\"><div class=\"sk-label-container\"><div class=\"sk-label fitted sk-toggleable\"><input class=\"sk-toggleable__control sk-hidden--visually\" id=\"sk-estimator-id-12\" type=\"checkbox\" ><label for=\"sk-estimator-id-12\" class=\"sk-toggleable__label fitted sk-toggleable__label-arrow fitted\">&nbsp;&nbsp;Pipeline<a class=\"sk-estimator-doc-link fitted\" rel=\"noreferrer\" target=\"_blank\" href=\"https://scikit-learn.org/1.5/modules/generated/sklearn.pipeline.Pipeline.html\">?<span>Documentation for Pipeline</span></a><span class=\"sk-estimator-doc-link fitted\">i<span>Fitted</span></span></label><div class=\"sk-toggleable__content fitted\"><pre>Pipeline(steps=[(&#x27;preprocessor&#x27;,\n",
       "                 ColumnTransformer(transformers=[(&#x27;num&#x27;,\n",
       "                                                  Pipeline(steps=[(&#x27;imputer&#x27;,\n",
       "                                                                   SimpleImputer()),\n",
       "                                                                  (&#x27;scaler&#x27;,\n",
       "                                                                   StandardScaler())]),\n",
       "                                                  [&#x27;age&#x27;, &#x27;bmi&#x27;, &#x27;children&#x27;]),\n",
       "                                                 (&#x27;cat&#x27;,\n",
       "                                                  Pipeline(steps=[(&#x27;imputer&#x27;,\n",
       "                                                                   SimpleImputer(strategy=&#x27;most_frequent&#x27;)),\n",
       "                                                                  (&#x27;encoder&#x27;,\n",
       "                                                                   OneHotEncoder(drop=&#x27;first&#x27;))]),\n",
       "                                                  [&#x27;sex&#x27;, &#x27;smoker&#x27;,\n",
       "                                                   &#x27;region&#x27;])])),\n",
       "                (&#x27;model&#x27;,\n",
       "                 TransformedTargetRegressor(func=&lt;ufunc &#x27;log&#x27;&gt;,\n",
       "                                            inverse_func=&lt;ufunc &#x27;exp&#x27;&gt;,\n",
       "                                            regressor=RandomForestRegressor(max_depth=10,\n",
       "                                                                            min_samples_leaf=4,\n",
       "                                                                            min_samples_split=5)))])</pre></div> </div></div><div class=\"sk-serial\"><div class=\"sk-item sk-dashed-wrapped\"><div class=\"sk-label-container\"><div class=\"sk-label fitted sk-toggleable\"><input class=\"sk-toggleable__control sk-hidden--visually\" id=\"sk-estimator-id-13\" type=\"checkbox\" ><label for=\"sk-estimator-id-13\" class=\"sk-toggleable__label fitted sk-toggleable__label-arrow fitted\">&nbsp;preprocessor: ColumnTransformer<a class=\"sk-estimator-doc-link fitted\" rel=\"noreferrer\" target=\"_blank\" href=\"https://scikit-learn.org/1.5/modules/generated/sklearn.compose.ColumnTransformer.html\">?<span>Documentation for preprocessor: ColumnTransformer</span></a></label><div class=\"sk-toggleable__content fitted\"><pre>ColumnTransformer(transformers=[(&#x27;num&#x27;,\n",
       "                                 Pipeline(steps=[(&#x27;imputer&#x27;, SimpleImputer()),\n",
       "                                                 (&#x27;scaler&#x27;, StandardScaler())]),\n",
       "                                 [&#x27;age&#x27;, &#x27;bmi&#x27;, &#x27;children&#x27;]),\n",
       "                                (&#x27;cat&#x27;,\n",
       "                                 Pipeline(steps=[(&#x27;imputer&#x27;,\n",
       "                                                  SimpleImputer(strategy=&#x27;most_frequent&#x27;)),\n",
       "                                                 (&#x27;encoder&#x27;,\n",
       "                                                  OneHotEncoder(drop=&#x27;first&#x27;))]),\n",
       "                                 [&#x27;sex&#x27;, &#x27;smoker&#x27;, &#x27;region&#x27;])])</pre></div> </div></div><div class=\"sk-parallel\"><div class=\"sk-parallel-item\"><div class=\"sk-item\"><div class=\"sk-label-container\"><div class=\"sk-label fitted sk-toggleable\"><input class=\"sk-toggleable__control sk-hidden--visually\" id=\"sk-estimator-id-14\" type=\"checkbox\" ><label for=\"sk-estimator-id-14\" class=\"sk-toggleable__label fitted sk-toggleable__label-arrow fitted\">num</label><div class=\"sk-toggleable__content fitted\"><pre>[&#x27;age&#x27;, &#x27;bmi&#x27;, &#x27;children&#x27;]</pre></div> </div></div><div class=\"sk-serial\"><div class=\"sk-item\"><div class=\"sk-serial\"><div class=\"sk-item\"><div class=\"sk-estimator fitted sk-toggleable\"><input class=\"sk-toggleable__control sk-hidden--visually\" id=\"sk-estimator-id-15\" type=\"checkbox\" ><label for=\"sk-estimator-id-15\" class=\"sk-toggleable__label fitted sk-toggleable__label-arrow fitted\">&nbsp;SimpleImputer<a class=\"sk-estimator-doc-link fitted\" rel=\"noreferrer\" target=\"_blank\" href=\"https://scikit-learn.org/1.5/modules/generated/sklearn.impute.SimpleImputer.html\">?<span>Documentation for SimpleImputer</span></a></label><div class=\"sk-toggleable__content fitted\"><pre>SimpleImputer()</pre></div> </div></div><div class=\"sk-item\"><div class=\"sk-estimator fitted sk-toggleable\"><input class=\"sk-toggleable__control sk-hidden--visually\" id=\"sk-estimator-id-16\" type=\"checkbox\" ><label for=\"sk-estimator-id-16\" class=\"sk-toggleable__label fitted sk-toggleable__label-arrow fitted\">&nbsp;StandardScaler<a class=\"sk-estimator-doc-link fitted\" rel=\"noreferrer\" target=\"_blank\" href=\"https://scikit-learn.org/1.5/modules/generated/sklearn.preprocessing.StandardScaler.html\">?<span>Documentation for StandardScaler</span></a></label><div class=\"sk-toggleable__content fitted\"><pre>StandardScaler()</pre></div> </div></div></div></div></div></div></div><div class=\"sk-parallel-item\"><div class=\"sk-item\"><div class=\"sk-label-container\"><div class=\"sk-label fitted sk-toggleable\"><input class=\"sk-toggleable__control sk-hidden--visually\" id=\"sk-estimator-id-17\" type=\"checkbox\" ><label for=\"sk-estimator-id-17\" class=\"sk-toggleable__label fitted sk-toggleable__label-arrow fitted\">cat</label><div class=\"sk-toggleable__content fitted\"><pre>[&#x27;sex&#x27;, &#x27;smoker&#x27;, &#x27;region&#x27;]</pre></div> </div></div><div class=\"sk-serial\"><div class=\"sk-item\"><div class=\"sk-serial\"><div class=\"sk-item\"><div class=\"sk-estimator fitted sk-toggleable\"><input class=\"sk-toggleable__control sk-hidden--visually\" id=\"sk-estimator-id-18\" type=\"checkbox\" ><label for=\"sk-estimator-id-18\" class=\"sk-toggleable__label fitted sk-toggleable__label-arrow fitted\">&nbsp;SimpleImputer<a class=\"sk-estimator-doc-link fitted\" rel=\"noreferrer\" target=\"_blank\" href=\"https://scikit-learn.org/1.5/modules/generated/sklearn.impute.SimpleImputer.html\">?<span>Documentation for SimpleImputer</span></a></label><div class=\"sk-toggleable__content fitted\"><pre>SimpleImputer(strategy=&#x27;most_frequent&#x27;)</pre></div> </div></div><div class=\"sk-item\"><div class=\"sk-estimator fitted sk-toggleable\"><input class=\"sk-toggleable__control sk-hidden--visually\" id=\"sk-estimator-id-19\" type=\"checkbox\" ><label for=\"sk-estimator-id-19\" class=\"sk-toggleable__label fitted sk-toggleable__label-arrow fitted\">&nbsp;OneHotEncoder<a class=\"sk-estimator-doc-link fitted\" rel=\"noreferrer\" target=\"_blank\" href=\"https://scikit-learn.org/1.5/modules/generated/sklearn.preprocessing.OneHotEncoder.html\">?<span>Documentation for OneHotEncoder</span></a></label><div class=\"sk-toggleable__content fitted\"><pre>OneHotEncoder(drop=&#x27;first&#x27;)</pre></div> </div></div></div></div></div></div></div></div></div><div class=\"sk-item sk-dashed-wrapped\"><div class=\"sk-label-container\"><div class=\"sk-label fitted sk-toggleable\"><input class=\"sk-toggleable__control sk-hidden--visually\" id=\"sk-estimator-id-20\" type=\"checkbox\" ><label for=\"sk-estimator-id-20\" class=\"sk-toggleable__label fitted sk-toggleable__label-arrow fitted\">&nbsp;model: TransformedTargetRegressor<a class=\"sk-estimator-doc-link fitted\" rel=\"noreferrer\" target=\"_blank\" href=\"https://scikit-learn.org/1.5/modules/generated/sklearn.compose.TransformedTargetRegressor.html\">?<span>Documentation for model: TransformedTargetRegressor</span></a></label><div class=\"sk-toggleable__content fitted\"><pre>TransformedTargetRegressor(func=&lt;ufunc &#x27;log&#x27;&gt;, inverse_func=&lt;ufunc &#x27;exp&#x27;&gt;,\n",
       "                           regressor=RandomForestRegressor(max_depth=10,\n",
       "                                                           min_samples_leaf=4,\n",
       "                                                           min_samples_split=5))</pre></div> </div></div><div class=\"sk-parallel\"><div class=\"sk-parallel-item\"><div class=\"sk-item\"><div class=\"sk-label-container\"><div class=\"sk-label fitted sk-toggleable\"><input class=\"sk-toggleable__control sk-hidden--visually\" id=\"sk-estimator-id-21\" type=\"checkbox\" ><label for=\"sk-estimator-id-21\" class=\"sk-toggleable__label fitted sk-toggleable__label-arrow fitted\">regressor: RandomForestRegressor</label><div class=\"sk-toggleable__content fitted\"><pre>RandomForestRegressor(max_depth=10, min_samples_leaf=4, min_samples_split=5)</pre></div> </div></div><div class=\"sk-serial\"><div class=\"sk-item\"><div class=\"sk-estimator fitted sk-toggleable\"><input class=\"sk-toggleable__control sk-hidden--visually\" id=\"sk-estimator-id-22\" type=\"checkbox\" ><label for=\"sk-estimator-id-22\" class=\"sk-toggleable__label fitted sk-toggleable__label-arrow fitted\">&nbsp;RandomForestRegressor<a class=\"sk-estimator-doc-link fitted\" rel=\"noreferrer\" target=\"_blank\" href=\"https://scikit-learn.org/1.5/modules/generated/sklearn.ensemble.RandomForestRegressor.html\">?<span>Documentation for RandomForestRegressor</span></a></label><div class=\"sk-toggleable__content fitted\"><pre>RandomForestRegressor(max_depth=10, min_samples_leaf=4, min_samples_split=5)</pre></div> </div></div></div></div></div></div></div></div></div></div></div>"
      ]
     },
     "execution_count": 103,
     "metadata": {},
     "output_type": "execute_result"
    }
   ],
   "execution_count": 103
  },
  {
   "cell_type": "markdown",
   "id": "f2ded68050c84979",
   "metadata": {},
   "source": [
    "<span style=\"color:yellow\">erklären</span>\n"
   ]
  },
  {
   "cell_type": "markdown",
   "id": "943b80978758862e",
   "metadata": {},
   "source": [
    "### 6.4 Feature-Wichtigkeit <a class=\"anchor\" id=\"id6.4\"></a>\n",
    "\n",
    "<span style=\"color:yellow\">erklären</span>\n"
   ]
  },
  {
   "cell_type": "code",
   "id": "cef942dd8c2a09a5",
   "metadata": {
    "ExecuteTime": {
     "end_time": "2024-06-25T21:52:14.732465Z",
     "start_time": "2024-06-25T21:52:14.723641Z"
    }
   },
   "source": [
    "model = final_estimator.named_steps['model'].regressor_\n",
    "\n",
    "feature_importances = model.feature_importances_\n",
    "x_train_encoded = pd.get_dummies(x_train, columns=['sex', 'smoker', 'region'], drop_first=True)\n",
    "features = x_train_encoded.columns\n",
    "\n",
    "\n",
    "importance_df = pd.DataFrame({\n",
    "    'Importance': feature_importances,\n",
    "    'Features': features\n",
    "})\n",
    "\n",
    "importance_df = importance_df.sort_values(by='Importance', ascending=False).reset_index(drop=True)"
   ],
   "outputs": [],
   "execution_count": 104
  },
  {
   "cell_type": "markdown",
   "id": "416bdf42dc426582",
   "metadata": {},
   "source": [
    "<span style=\"color:yellow\">erklären</span>\n"
   ]
  },
  {
   "cell_type": "code",
   "id": "849b0fb92591d3d1",
   "metadata": {
    "ExecuteTime": {
     "end_time": "2024-06-25T21:52:14.739493Z",
     "start_time": "2024-06-25T21:52:14.733472Z"
    }
   },
   "source": [
    "importance_df.head(20)"
   ],
   "outputs": [
    {
     "data": {
      "text/plain": [
       "   Importance          Features\n",
       "0    0.463443        smoker_yes\n",
       "1    0.411731               age\n",
       "2    0.062496               bmi\n",
       "3    0.040876          children\n",
       "4    0.009128          sex_male\n",
       "5    0.004856  region_southwest\n",
       "6    0.003993  region_southeast\n",
       "7    0.003477  region_northwest"
      ],
      "text/html": [
       "<div>\n",
       "<style scoped>\n",
       "    .dataframe tbody tr th:only-of-type {\n",
       "        vertical-align: middle;\n",
       "    }\n",
       "\n",
       "    .dataframe tbody tr th {\n",
       "        vertical-align: top;\n",
       "    }\n",
       "\n",
       "    .dataframe thead th {\n",
       "        text-align: right;\n",
       "    }\n",
       "</style>\n",
       "<table border=\"1\" class=\"dataframe\">\n",
       "  <thead>\n",
       "    <tr style=\"text-align: right;\">\n",
       "      <th></th>\n",
       "      <th>Importance</th>\n",
       "      <th>Features</th>\n",
       "    </tr>\n",
       "  </thead>\n",
       "  <tbody>\n",
       "    <tr>\n",
       "      <th>0</th>\n",
       "      <td>0.463443</td>\n",
       "      <td>smoker_yes</td>\n",
       "    </tr>\n",
       "    <tr>\n",
       "      <th>1</th>\n",
       "      <td>0.411731</td>\n",
       "      <td>age</td>\n",
       "    </tr>\n",
       "    <tr>\n",
       "      <th>2</th>\n",
       "      <td>0.062496</td>\n",
       "      <td>bmi</td>\n",
       "    </tr>\n",
       "    <tr>\n",
       "      <th>3</th>\n",
       "      <td>0.040876</td>\n",
       "      <td>children</td>\n",
       "    </tr>\n",
       "    <tr>\n",
       "      <th>4</th>\n",
       "      <td>0.009128</td>\n",
       "      <td>sex_male</td>\n",
       "    </tr>\n",
       "    <tr>\n",
       "      <th>5</th>\n",
       "      <td>0.004856</td>\n",
       "      <td>region_southwest</td>\n",
       "    </tr>\n",
       "    <tr>\n",
       "      <th>6</th>\n",
       "      <td>0.003993</td>\n",
       "      <td>region_southeast</td>\n",
       "    </tr>\n",
       "    <tr>\n",
       "      <th>7</th>\n",
       "      <td>0.003477</td>\n",
       "      <td>region_northwest</td>\n",
       "    </tr>\n",
       "  </tbody>\n",
       "</table>\n",
       "</div>"
      ]
     },
     "execution_count": 105,
     "metadata": {},
     "output_type": "execute_result"
    }
   ],
   "execution_count": 105
  },
  {
   "cell_type": "markdown",
   "id": "6fa52fed9fd72862",
   "metadata": {},
   "source": [
    "### 6.5 Auswertung des finalen Modells anhand Testset <a class=\"anchor\" id=\"id6.5\"></a>\n",
    "\n",
    "<span style=\"color:yellow\">erklären</span>\n"
   ]
  },
  {
   "cell_type": "code",
   "id": "bd06919498c8ba3e",
   "metadata": {
    "ExecuteTime": {
     "end_time": "2024-06-25T21:52:14.757019Z",
     "start_time": "2024-06-25T21:52:14.740505Z"
    }
   },
   "source": [
    "final_results = {'Model': [], 'RMSE': [], 'R2 Score': [], 'y_pred': []}\n",
    "\n",
    "y_pred = final_estimator.predict(x_test)\n",
    "rmse = np.sqrt(mean_squared_error(y_test, y_pred))\n",
    "r2 = r2_score(y_test, y_pred)\n",
    "final_results['Model'].append(name)\n",
    "final_results['RMSE'].append(rmse)\n",
    "final_results['R2 Score'].append(r2)\n",
    "final_results['y_pred'].append(y_pred)\n",
    "\n",
    "final_results_df = pd.DataFrame(final_results)"
   ],
   "outputs": [],
   "execution_count": 106
  },
  {
   "cell_type": "markdown",
   "id": "36ce95cde89ea64d",
   "metadata": {},
   "source": [
    "<span style=\"color:yellow\">erklären</span>\n"
   ]
  },
  {
   "cell_type": "code",
   "id": "7dbd779fa09295ef",
   "metadata": {
    "ExecuteTime": {
     "end_time": "2024-06-25T21:52:14.764070Z",
     "start_time": "2024-06-25T21:52:14.757528Z"
    }
   },
   "source": [
    "final_results_df.head()"
   ],
   "outputs": [
    {
     "data": {
      "text/plain": [
       "           Model        RMSE  R2 Score  \\\n",
       "0  Random Forest  4282.26244  0.881881   \n",
       "\n",
       "                                              y_pred  \n",
       "0  [9442.882693461363, 5055.446796928192, 27184.3...  "
      ],
      "text/html": [
       "<div>\n",
       "<style scoped>\n",
       "    .dataframe tbody tr th:only-of-type {\n",
       "        vertical-align: middle;\n",
       "    }\n",
       "\n",
       "    .dataframe tbody tr th {\n",
       "        vertical-align: top;\n",
       "    }\n",
       "\n",
       "    .dataframe thead th {\n",
       "        text-align: right;\n",
       "    }\n",
       "</style>\n",
       "<table border=\"1\" class=\"dataframe\">\n",
       "  <thead>\n",
       "    <tr style=\"text-align: right;\">\n",
       "      <th></th>\n",
       "      <th>Model</th>\n",
       "      <th>RMSE</th>\n",
       "      <th>R2 Score</th>\n",
       "      <th>y_pred</th>\n",
       "    </tr>\n",
       "  </thead>\n",
       "  <tbody>\n",
       "    <tr>\n",
       "      <th>0</th>\n",
       "      <td>Random Forest</td>\n",
       "      <td>4282.26244</td>\n",
       "      <td>0.881881</td>\n",
       "      <td>[9442.882693461363, 5055.446796928192, 27184.3...</td>\n",
       "    </tr>\n",
       "  </tbody>\n",
       "</table>\n",
       "</div>"
      ]
     },
     "execution_count": 107,
     "metadata": {},
     "output_type": "execute_result"
    }
   ],
   "execution_count": 107
  },
  {
   "cell_type": "markdown",
   "id": "55013edb836134c3",
   "metadata": {},
   "source": [
    "<span style=\"color:yellow\">erklären</span>\n"
   ]
  },
  {
   "cell_type": "code",
   "id": "e72044a988ed480",
   "metadata": {
    "ExecuteTime": {
     "end_time": "2024-06-25T21:52:14.934847Z",
     "start_time": "2024-06-25T21:52:14.765078Z"
    }
   },
   "source": [
    "y_pred = final_results_df.iloc[0]['y_pred']\n",
    "\n",
    "plt.scatter(y_test, y_pred, color='orange', alpha=0.5, label='Vorhergesagte Werte')\n",
    "plt.plot([y_test.min(), y_test.max()], [y_test.min(), y_test.max()], 'k--', lw=2, label='Ideal')\n",
    "\n",
    "plt.xlabel('Wahre Werte')\n",
    "plt.ylabel('Vorhergesagte Werte')\n",
    "plt.title('Random Forest')\n",
    "plt.legend()\n",
    "\n",
    "plt.tight_layout()\n",
    "plt.show()"
   ],
   "outputs": [
    {
     "data": {
      "text/plain": [
       "<Figure size 640x480 with 1 Axes>"
      ],
      "image/png": "[encoded data removed]"
     },
     "metadata": {},
     "output_type": "display_data"
    }
   ],
   "execution_count": 108
  },
  {
   "cell_type": "markdown",
   "id": "97d00ebdc3abba3c",
   "metadata": {},
   "source": [
    "<span style=\"color:yellow\">erklären</span>\n"
   ]
  },
  {
   "cell_type": "code",
   "id": "ffdfc9ee1b2bf777",
   "metadata": {
    "ExecuteTime": {
     "end_time": "2024-06-25T21:52:14.940415Z",
     "start_time": "2024-06-25T21:52:14.935856Z"
    }
   },
   "source": [
    "from scipy import stats\n",
    "\n",
    "confidence = 0.95\n",
    "squared_errors = (y_pred - y_test) ** 2\n",
    "generalization_error = np.sqrt(stats.t.interval(confidence, len(squared_errors) - 1,\n",
    "                         loc=squared_errors.mean(),\n",
    "                         scale=stats.sem(squared_errors)))\n",
    "print('Generalisierungs-Error:', generalization_error)"
   ],
   "outputs": [
    {
     "name": "stdout",
     "output_type": "stream",
     "text": [
      "Generalisierungs-Error: [3199.94791842 5141.5830761 ]\n"
     ]
    }
   ],
   "execution_count": 109
  },
  {
   "cell_type": "markdown",
   "id": "f2ed6958f16c0411",
   "metadata": {},
   "source": [
    "<span style=\"color:yellow\">erklären</span>\n"
   ]
  },
  {
   "cell_type": "markdown",
   "id": "28262f67e749d404",
   "metadata": {},
   "source": [
    "## 7 Zusammenfassung <a class=\"anchor\" id=\"id7\"></a>\n",
    "\n",
    "<span style=\"color:yellow\">erklären</span>\n"
   ]
  }
 ],
 "metadata": {
  "kernelspec": {
   "display_name": "Python 3 (ipykernel)",
   "language": "python",
   "name": "python3"
  },
  "language_info": {
   "codemirror_mode": {
    "name": "ipython",
    "version": 3
   },
   "file_extension": ".py",
   "mimetype": "text/x-python",
   "name": "python",
   "nbconvert_exporter": "python",
   "pygments_lexer": "ipython3",
   "version": "3.11.8"
  }
 },
 "nbformat": 4,
 "nbformat_minor": 5
}
