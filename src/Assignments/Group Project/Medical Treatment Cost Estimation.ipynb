{
 "cells": [
  {
   "cell_type": "markdown",
   "id": "dynamic-robertson",
   "metadata": {},
   "source": [
    "# Medical Treatment Cost Forecasting\n",
    "\n",
    "**Link**\n",
    "\n",
    "https://www.kaggle.com/mirichoi0218/insurance\n",
    "\n",
    "\n",
    "**Context**\n",
    "\n",
    "This dataset contains the cost of medical treatment of different patients.\n",
    "\n",
    "\n",
    "**Content**\n",
    "\n",
    "The cost of treatment depends on many factors: diagnosis, type of clinic, city of residence, age and so on. We have no data on the diagnosis of patients. But we have other information that can help us to make a conclusion about the health of patients and predict the cost of medical treatment by using regression analysis.\n",
    "\n",
    "The dataset consists of the following attributes:\n",
    "- age: age of primary beneficiary\n",
    "- sex: insurance contractor gender, female, male\n",
    "- bmi: body mass index, providing an understanding of body, weights that are relatively high or low relative to height\n",
    "- children: number of children covered by health insurance / Number of dependents\n",
    "- smoker: smoking (0: no, 1: yes)\n",
    "- region: the beneficiary's residential area in the US, northeast, southeast, southwest, northwest.\n",
    "- charges: individual medical costs billed by health insurance\n",
    "\n",
    "The `charges` attribute is our target variable, which should be predicted depending on new patient informations.\n",
    "\n",
    "**Task (Regression)**\n",
    "\n",
    "Your task is to use the present data set to predict the cost of medical treatment for new patients. To do this, use the `Linear Regression` and `SVR` methods for this task. You must also include a third method that you have selected yourself.\n",
    "\n",
    "First of all, get an overview of the project in your group. Then carefully read the checklist for machine learning projects and think about how you want to organize your group work. It is strongly recommended that all task items are completed by all group members. You can divide the focus among yourself, but make sure that all members are as well informed as possible about the content.\n",
    "\n",
    "Use the checklist for machine learning projects as a guide when working on the task. Document all the individual steps that are listed there (main and sub-items). Make sure to use Markdown Cells for your documentation. Document the functionality of your algorithms (all three) with equations and explanations. Dont forget, this project is a task for five students. We expect a detailed documentation of your approach and your results.\n",
    "\n",
    "**Note**\n",
    "\n",
    "We are aware that there are examples and solutions for the selected data sets on popular platforms, e.g. Kaggle. You are welcome to use them as a guide. But remember that at the end of the project, your own work will be assessed. We compare the results with the popular solutions of common platforms. We would like to recognize the independence in your work and see a difference to the existing solution approaches."
   ]
  },
  {
   "cell_type": "markdown",
   "id": "5caa143c5e21651b",
   "metadata": {},
   "source": [
    "# Code und Dokumentation"
   ]
  },
  {
   "metadata": {},
   "cell_type": "markdown",
   "source": [
    "# Frame the problem\n",
    "\n",
    "**1.1 Ziel** \n",
    "Das Ziel dieses Projektes ist es, die Kosten für die medizinische Behandlung von Patienten anhand ihrer demografischen Daten und ihres Lebensstils genau vorhertzusagen.\n",
    "   \n",
    "**1.2 Verwendung der Lösung**\n",
    "Das Prognosemodell wird von Versicherungsunternehmen verwendet, um medizinische Behandlungskosten für neue und bestehende Versicherungsnehmer zu schätzen. Dies wird bei der Prämienfestsetzung, Risikobewertung und Finanzplanung helfen.\n",
    "\n",
    "**1.3 Aktuelle Lösungen**\n",
    "Versicherungsunternehmen verwenden in der Regel versicherungsmathematische Methoden (Traditionelle statistische Methoden) und manuelle Schätzungen (Komplexe Regeln) zur Kostenschätzung auf der Grundlage historischer Daten und demografischer Profile. Diese Methoden nutzen die verfügbaren Daten oder die neuesten Fortschritte im Bereich des maschinellen Lernens möglicherweise nicht vollständig aus. Diese könenn zeitaufwändig, teuer und ungenau sein.  \n",
    "\n",
    "**1.4 Einordnung des Problems**\n",
    "\n",
    "Typ: Überwachtes Lernen\n",
    "Herangehensweise: Regression\n",
    "Modus: Offline\n",
    "Begründung:\n",
    "Wir haben historische Daten mit bekannten Kosten (Gebühren) und damit verbundenen Merkmalen. Das Ziel ist die Vorhersage einer kontinuierlichen Variable, was es zu einem Regressionsproblem macht. Ein Offline-Ansatz ist angemessen, da wir das Modell auf historischen Daten trainieren und es dann für zukünftige Vorhersagen einsetzen werden.\n",
    "\n",
    "**1.5 Messung der Genauigkeit**\n",
    "Die Genauigkeit wird anhand von Kennzahlen wie dem mittleren absoluten Fehler (MAE) und dem mittleren quadratischen Wurzelfehler (RMSE) gemessen.\n",
    "\n",
    "**1.6 Ausrichtung an den Unternehmenszielen**\n",
    "Niedrigere Werte dieser Fehlermetriken deuten auf genauere Vorhersagen hin, was mit dem Ziel einer genauen Vorhersage der medizinischen Kosten übereinstimmt.\n",
    "\n",
    "**1.7 Erforderliche Mindestleistung**\n",
    "Die geforderte Mindestleistung sollte mit aktuellen versicherungsmathematischen Methoden verglichen werden. Eine Verbesserung der Vorhersagegenauigkeit gegenüber diesen traditionellen Methoden würde als Erfolg gewertet werden. Spezifische Schwellenwerte können nach einer ersten Bewertung der derzeitigen Methoden festgelegt werden.\n",
    "\n",
    "**1.8 Vergleichbare Probleme**\n",
    "- Hauspreisvorhersage\n",
    "- Vorhersage von Kfz-Versicherungsansprüchen\n",
    "- Vorhersage von Darlehenausfällen\n",
    "\n",
    "**1.9 Wiederverwendung von Tools**\n",
    "- Erfahrungen und Tools aus diesen vergleichbaren Regressionsproblemen können genutzt werden, z. B.: Techniken der Merkmalstechnik, Strategien zur Modellauswahl\n",
    "Bewertungsmetriken\n",
    "\n",
    "**1.10 Menschliches Fachwissen**\n",
    "- Versicherungsmathematischen Experten, die Fachwissen zur verfügungstellen\n",
    "- Datenwissenschaftler mit Erfahrung in der Regressionsanalyse\n",
    "- Medizinische Fachleute, die die Auswirkungen von Gesundheitsfaktoren auf die Kosten verstehen\n",
    "\n",
    "**1.11 Manueller Ansatz**\n",
    "Versicherungsmathematiker verwenden derzeit statistische Methoden und die Analyse historischer Daten, um die Kosten zu schätzen. Sie können Patienten anhand von Alter, BMI, Raucherstatus usw. in verschiedene Risikokategorien einteilen und diesen Kategorien Durchschnittskosten zuordnen.\n",
    "\n",
    "**1.12 Annahmen**\n",
    "\n",
    "- Der Datensatz ist repräsentativ für die Bevölkerung.\n",
    "- Die einbezogenen Faktoren (Alter, Geschlecht, BMI, Kinder, Raucher, Region) sind ausreichend, um die Kosten vorherzusagen.\n",
    "- Es gibt keine signifikanten externen Faktoren (z. B. politische Veränderungen, große medizinische Fortschritte), die die Kosten drastisch verändern.\n",
    "\n",
    "\n",
    "**1.13 Modellauswahl und Implementierung**\n",
    "\n",
    "- Lineare Regression\n",
    "- Support-Vektor-Regression (SVR)\n",
    "- (dritte von der Gruppe ausgewählte Methode)\n",
    "\n"
   ],
   "id": "6d766b033cbea10f"
  },
  {
   "cell_type": "code",
   "id": "8a44ed0a6695e35b",
   "metadata": {
    "ExecuteTime": {
     "end_time": "2024-06-12T18:56:37.111633Z",
     "start_time": "2024-06-12T18:56:37.109127Z"
    }
   },
   "source": [
    "import pandas as pd"
   ],
   "outputs": [],
   "execution_count": 25
  },
  {
   "cell_type": "code",
   "id": "70b8c7debfe05870",
   "metadata": {
    "ExecuteTime": {
     "end_time": "2024-06-12T18:56:37.145576Z",
     "start_time": "2024-06-12T18:56:37.140196Z"
    }
   },
   "source": [
    "data = pd.read_csv('insurance.csv')\n",
    "insurance_data = data.copy()"
   ],
   "outputs": [],
   "execution_count": 26
  },
  {
   "cell_type": "code",
   "id": "489bff0c66c62d13",
   "metadata": {
    "ExecuteTime": {
     "end_time": "2024-06-12T18:56:37.195618Z",
     "start_time": "2024-06-12T18:56:37.189181Z"
    }
   },
   "source": [
    "insurance_data.info()"
   ],
   "outputs": [
    {
     "name": "stdout",
     "output_type": "stream",
     "text": [
      "<class 'pandas.core.frame.DataFrame'>\n",
      "RangeIndex: 1338 entries, 0 to 1337\n",
      "Data columns (total 7 columns):\n",
      " #   Column    Non-Null Count  Dtype  \n",
      "---  ------    --------------  -----  \n",
      " 0   age       1338 non-null   int64  \n",
      " 1   sex       1338 non-null   object \n",
      " 2   bmi       1338 non-null   float64\n",
      " 3   children  1338 non-null   int64  \n",
      " 4   smoker    1338 non-null   object \n",
      " 5   region    1338 non-null   object \n",
      " 6   charges   1338 non-null   float64\n",
      "dtypes: float64(2), int64(2), object(3)\n",
      "memory usage: 73.3+ KB\n"
     ]
    }
   ],
   "execution_count": 27
  },
  {
   "cell_type": "code",
   "id": "9cb94e70f69785b7",
   "metadata": {
    "ExecuteTime": {
     "end_time": "2024-06-12T18:56:37.206570Z",
     "start_time": "2024-06-12T18:56:37.200144Z"
    }
   },
   "source": [
    "insurance_data.head()"
   ],
   "outputs": [
    {
     "data": {
      "text/plain": [
       "   age     sex     bmi  children smoker     region      charges\n",
       "0   19  female  27.900         0    yes  southwest  16884.92400\n",
       "1   18    male  33.770         1     no  southeast   1725.55230\n",
       "2   28    male  33.000         3     no  southeast   4449.46200\n",
       "3   33    male  22.705         0     no  northwest  21984.47061\n",
       "4   32    male  28.880         0     no  northwest   3866.85520"
      ],
      "text/html": [
       "<div>\n",
       "<style scoped>\n",
       "    .dataframe tbody tr th:only-of-type {\n",
       "        vertical-align: middle;\n",
       "    }\n",
       "\n",
       "    .dataframe tbody tr th {\n",
       "        vertical-align: top;\n",
       "    }\n",
       "\n",
       "    .dataframe thead th {\n",
       "        text-align: right;\n",
       "    }\n",
       "</style>\n",
       "<table border=\"1\" class=\"dataframe\">\n",
       "  <thead>\n",
       "    <tr style=\"text-align: right;\">\n",
       "      <th></th>\n",
       "      <th>age</th>\n",
       "      <th>sex</th>\n",
       "      <th>bmi</th>\n",
       "      <th>children</th>\n",
       "      <th>smoker</th>\n",
       "      <th>region</th>\n",
       "      <th>charges</th>\n",
       "    </tr>\n",
       "  </thead>\n",
       "  <tbody>\n",
       "    <tr>\n",
       "      <th>0</th>\n",
       "      <td>19</td>\n",
       "      <td>female</td>\n",
       "      <td>27.900</td>\n",
       "      <td>0</td>\n",
       "      <td>yes</td>\n",
       "      <td>southwest</td>\n",
       "      <td>16884.92400</td>\n",
       "    </tr>\n",
       "    <tr>\n",
       "      <th>1</th>\n",
       "      <td>18</td>\n",
       "      <td>male</td>\n",
       "      <td>33.770</td>\n",
       "      <td>1</td>\n",
       "      <td>no</td>\n",
       "      <td>southeast</td>\n",
       "      <td>1725.55230</td>\n",
       "    </tr>\n",
       "    <tr>\n",
       "      <th>2</th>\n",
       "      <td>28</td>\n",
       "      <td>male</td>\n",
       "      <td>33.000</td>\n",
       "      <td>3</td>\n",
       "      <td>no</td>\n",
       "      <td>southeast</td>\n",
       "      <td>4449.46200</td>\n",
       "    </tr>\n",
       "    <tr>\n",
       "      <th>3</th>\n",
       "      <td>33</td>\n",
       "      <td>male</td>\n",
       "      <td>22.705</td>\n",
       "      <td>0</td>\n",
       "      <td>no</td>\n",
       "      <td>northwest</td>\n",
       "      <td>21984.47061</td>\n",
       "    </tr>\n",
       "    <tr>\n",
       "      <th>4</th>\n",
       "      <td>32</td>\n",
       "      <td>male</td>\n",
       "      <td>28.880</td>\n",
       "      <td>0</td>\n",
       "      <td>no</td>\n",
       "      <td>northwest</td>\n",
       "      <td>3866.85520</td>\n",
       "    </tr>\n",
       "  </tbody>\n",
       "</table>\n",
       "</div>"
      ]
     },
     "execution_count": 28,
     "metadata": {},
     "output_type": "execute_result"
    }
   ],
   "execution_count": 28
  },
  {
   "cell_type": "code",
   "id": "8bbafe057f4169f5",
   "metadata": {
    "ExecuteTime": {
     "end_time": "2024-06-12T18:56:37.215961Z",
     "start_time": "2024-06-12T18:56:37.206570Z"
    }
   },
   "source": [
    "insurance_data['sex'].value_counts()"
   ],
   "outputs": [
    {
     "data": {
      "text/plain": [
       "sex\n",
       "male      676\n",
       "female    662\n",
       "Name: count, dtype: int64"
      ]
     },
     "execution_count": 29,
     "metadata": {},
     "output_type": "execute_result"
    }
   ],
   "execution_count": 29
  },
  {
   "cell_type": "code",
   "id": "bcf779fcabc734a5",
   "metadata": {
    "ExecuteTime": {
     "end_time": "2024-06-12T18:56:37.224778Z",
     "start_time": "2024-06-12T18:56:37.216967Z"
    }
   },
   "source": [
    "insurance_data['smoker'].value_counts()"
   ],
   "outputs": [
    {
     "data": {
      "text/plain": [
       "smoker\n",
       "no     1064\n",
       "yes     274\n",
       "Name: count, dtype: int64"
      ]
     },
     "execution_count": 30,
     "metadata": {},
     "output_type": "execute_result"
    }
   ],
   "execution_count": 30
  },
  {
   "cell_type": "code",
   "id": "d1d1591a83825a44",
   "metadata": {
    "ExecuteTime": {
     "end_time": "2024-06-12T18:56:37.234684Z",
     "start_time": "2024-06-12T18:56:37.230304Z"
    }
   },
   "source": [
    "insurance_data['region'].value_counts()"
   ],
   "outputs": [
    {
     "data": {
      "text/plain": [
       "region\n",
       "southeast    364\n",
       "southwest    325\n",
       "northwest    325\n",
       "northeast    324\n",
       "Name: count, dtype: int64"
      ]
     },
     "execution_count": 31,
     "metadata": {},
     "output_type": "execute_result"
    }
   ],
   "execution_count": 31
  },
  {
   "cell_type": "code",
   "id": "79fd8c8efc0516c7",
   "metadata": {
    "ExecuteTime": {
     "end_time": "2024-06-12T18:56:37.270424Z",
     "start_time": "2024-06-12T18:56:37.260238Z"
    }
   },
   "source": [
    "insurance_data.describe()"
   ],
   "outputs": [
    {
     "data": {
      "text/plain": [
       "               age          bmi     children       charges\n",
       "count  1338.000000  1338.000000  1338.000000   1338.000000\n",
       "mean     39.207025    30.663397     1.094918  13270.422265\n",
       "std      14.049960     6.098187     1.205493  12110.011237\n",
       "min      18.000000    15.960000     0.000000   1121.873900\n",
       "25%      27.000000    26.296250     0.000000   4740.287150\n",
       "50%      39.000000    30.400000     1.000000   9382.033000\n",
       "75%      51.000000    34.693750     2.000000  16639.912515\n",
       "max      64.000000    53.130000     5.000000  63770.428010"
      ],
      "text/html": [
       "<div>\n",
       "<style scoped>\n",
       "    .dataframe tbody tr th:only-of-type {\n",
       "        vertical-align: middle;\n",
       "    }\n",
       "\n",
       "    .dataframe tbody tr th {\n",
       "        vertical-align: top;\n",
       "    }\n",
       "\n",
       "    .dataframe thead th {\n",
       "        text-align: right;\n",
       "    }\n",
       "</style>\n",
       "<table border=\"1\" class=\"dataframe\">\n",
       "  <thead>\n",
       "    <tr style=\"text-align: right;\">\n",
       "      <th></th>\n",
       "      <th>age</th>\n",
       "      <th>bmi</th>\n",
       "      <th>children</th>\n",
       "      <th>charges</th>\n",
       "    </tr>\n",
       "  </thead>\n",
       "  <tbody>\n",
       "    <tr>\n",
       "      <th>count</th>\n",
       "      <td>1338.000000</td>\n",
       "      <td>1338.000000</td>\n",
       "      <td>1338.000000</td>\n",
       "      <td>1338.000000</td>\n",
       "    </tr>\n",
       "    <tr>\n",
       "      <th>mean</th>\n",
       "      <td>39.207025</td>\n",
       "      <td>30.663397</td>\n",
       "      <td>1.094918</td>\n",
       "      <td>13270.422265</td>\n",
       "    </tr>\n",
       "    <tr>\n",
       "      <th>std</th>\n",
       "      <td>14.049960</td>\n",
       "      <td>6.098187</td>\n",
       "      <td>1.205493</td>\n",
       "      <td>12110.011237</td>\n",
       "    </tr>\n",
       "    <tr>\n",
       "      <th>min</th>\n",
       "      <td>18.000000</td>\n",
       "      <td>15.960000</td>\n",
       "      <td>0.000000</td>\n",
       "      <td>1121.873900</td>\n",
       "    </tr>\n",
       "    <tr>\n",
       "      <th>25%</th>\n",
       "      <td>27.000000</td>\n",
       "      <td>26.296250</td>\n",
       "      <td>0.000000</td>\n",
       "      <td>4740.287150</td>\n",
       "    </tr>\n",
       "    <tr>\n",
       "      <th>50%</th>\n",
       "      <td>39.000000</td>\n",
       "      <td>30.400000</td>\n",
       "      <td>1.000000</td>\n",
       "      <td>9382.033000</td>\n",
       "    </tr>\n",
       "    <tr>\n",
       "      <th>75%</th>\n",
       "      <td>51.000000</td>\n",
       "      <td>34.693750</td>\n",
       "      <td>2.000000</td>\n",
       "      <td>16639.912515</td>\n",
       "    </tr>\n",
       "    <tr>\n",
       "      <th>max</th>\n",
       "      <td>64.000000</td>\n",
       "      <td>53.130000</td>\n",
       "      <td>5.000000</td>\n",
       "      <td>63770.428010</td>\n",
       "    </tr>\n",
       "  </tbody>\n",
       "</table>\n",
       "</div>"
      ]
     },
     "execution_count": 32,
     "metadata": {},
     "output_type": "execute_result"
    }
   ],
   "execution_count": 32
  },
  {
   "cell_type": "code",
   "id": "aa14aa177a53ef3a",
   "metadata": {
    "ExecuteTime": {
     "end_time": "2024-06-12T18:56:37.296921Z",
     "start_time": "2024-06-12T18:56:37.293189Z"
    }
   },
   "source": [
    "print(insurance_data.isnull().sum())"
   ],
   "outputs": [
    {
     "name": "stdout",
     "output_type": "stream",
     "text": [
      "age         0\n",
      "sex         0\n",
      "bmi         0\n",
      "children    0\n",
      "smoker      0\n",
      "region      0\n",
      "charges     0\n",
      "dtype: int64\n"
     ]
    }
   ],
   "execution_count": 33
  },
  {
   "cell_type": "code",
   "id": "ff05eee669cb7103",
   "metadata": {
    "ExecuteTime": {
     "end_time": "2024-06-12T18:56:37.429981Z",
     "start_time": "2024-06-12T18:56:37.424577Z"
    }
   },
   "source": [
    "insurance_data = pd.get_dummies(insurance_data, columns=['sex', 'smoker', 'region'])\n",
    "#insurance_data['sex'] = pd.factorize(insurance_data['sex'])[0]"
   ],
   "outputs": [],
   "execution_count": 34
  },
  {
   "cell_type": "code",
   "id": "88eca29b59dca7e4",
   "metadata": {
    "ExecuteTime": {
     "end_time": "2024-06-12T18:56:37.458794Z",
     "start_time": "2024-06-12T18:56:37.452736Z"
    }
   },
   "source": [
    "insurance_data.info()"
   ],
   "outputs": [
    {
     "name": "stdout",
     "output_type": "stream",
     "text": [
      "<class 'pandas.core.frame.DataFrame'>\n",
      "RangeIndex: 1338 entries, 0 to 1337\n",
      "Data columns (total 12 columns):\n",
      " #   Column            Non-Null Count  Dtype  \n",
      "---  ------            --------------  -----  \n",
      " 0   age               1338 non-null   int64  \n",
      " 1   bmi               1338 non-null   float64\n",
      " 2   children          1338 non-null   int64  \n",
      " 3   charges           1338 non-null   float64\n",
      " 4   sex_female        1338 non-null   bool   \n",
      " 5   sex_male          1338 non-null   bool   \n",
      " 6   smoker_no         1338 non-null   bool   \n",
      " 7   smoker_yes        1338 non-null   bool   \n",
      " 8   region_northeast  1338 non-null   bool   \n",
      " 9   region_northwest  1338 non-null   bool   \n",
      " 10  region_southeast  1338 non-null   bool   \n",
      " 11  region_southwest  1338 non-null   bool   \n",
      "dtypes: bool(8), float64(2), int64(2)\n",
      "memory usage: 52.4 KB\n"
     ]
    }
   ],
   "execution_count": 35
  },
  {
   "cell_type": "code",
   "id": "8065baeeba4909fc",
   "metadata": {
    "ExecuteTime": {
     "end_time": "2024-06-12T18:56:37.550420Z",
     "start_time": "2024-06-12T18:56:37.542440Z"
    }
   },
   "source": [
    "insurance_data.head()"
   ],
   "outputs": [
    {
     "data": {
      "text/plain": [
       "   age     bmi  children      charges  sex_female  sex_male  smoker_no  \\\n",
       "0   19  27.900         0  16884.92400        True     False      False   \n",
       "1   18  33.770         1   1725.55230       False      True       True   \n",
       "2   28  33.000         3   4449.46200       False      True       True   \n",
       "3   33  22.705         0  21984.47061       False      True       True   \n",
       "4   32  28.880         0   3866.85520       False      True       True   \n",
       "\n",
       "   smoker_yes  region_northeast  region_northwest  region_southeast  \\\n",
       "0        True             False             False             False   \n",
       "1       False             False             False              True   \n",
       "2       False             False             False              True   \n",
       "3       False             False              True             False   \n",
       "4       False             False              True             False   \n",
       "\n",
       "   region_southwest  \n",
       "0              True  \n",
       "1             False  \n",
       "2             False  \n",
       "3             False  \n",
       "4             False  "
      ],
      "text/html": [
       "<div>\n",
       "<style scoped>\n",
       "    .dataframe tbody tr th:only-of-type {\n",
       "        vertical-align: middle;\n",
       "    }\n",
       "\n",
       "    .dataframe tbody tr th {\n",
       "        vertical-align: top;\n",
       "    }\n",
       "\n",
       "    .dataframe thead th {\n",
       "        text-align: right;\n",
       "    }\n",
       "</style>\n",
       "<table border=\"1\" class=\"dataframe\">\n",
       "  <thead>\n",
       "    <tr style=\"text-align: right;\">\n",
       "      <th></th>\n",
       "      <th>age</th>\n",
       "      <th>bmi</th>\n",
       "      <th>children</th>\n",
       "      <th>charges</th>\n",
       "      <th>sex_female</th>\n",
       "      <th>sex_male</th>\n",
       "      <th>smoker_no</th>\n",
       "      <th>smoker_yes</th>\n",
       "      <th>region_northeast</th>\n",
       "      <th>region_northwest</th>\n",
       "      <th>region_southeast</th>\n",
       "      <th>region_southwest</th>\n",
       "    </tr>\n",
       "  </thead>\n",
       "  <tbody>\n",
       "    <tr>\n",
       "      <th>0</th>\n",
       "      <td>19</td>\n",
       "      <td>27.900</td>\n",
       "      <td>0</td>\n",
       "      <td>16884.92400</td>\n",
       "      <td>True</td>\n",
       "      <td>False</td>\n",
       "      <td>False</td>\n",
       "      <td>True</td>\n",
       "      <td>False</td>\n",
       "      <td>False</td>\n",
       "      <td>False</td>\n",
       "      <td>True</td>\n",
       "    </tr>\n",
       "    <tr>\n",
       "      <th>1</th>\n",
       "      <td>18</td>\n",
       "      <td>33.770</td>\n",
       "      <td>1</td>\n",
       "      <td>1725.55230</td>\n",
       "      <td>False</td>\n",
       "      <td>True</td>\n",
       "      <td>True</td>\n",
       "      <td>False</td>\n",
       "      <td>False</td>\n",
       "      <td>False</td>\n",
       "      <td>True</td>\n",
       "      <td>False</td>\n",
       "    </tr>\n",
       "    <tr>\n",
       "      <th>2</th>\n",
       "      <td>28</td>\n",
       "      <td>33.000</td>\n",
       "      <td>3</td>\n",
       "      <td>4449.46200</td>\n",
       "      <td>False</td>\n",
       "      <td>True</td>\n",
       "      <td>True</td>\n",
       "      <td>False</td>\n",
       "      <td>False</td>\n",
       "      <td>False</td>\n",
       "      <td>True</td>\n",
       "      <td>False</td>\n",
       "    </tr>\n",
       "    <tr>\n",
       "      <th>3</th>\n",
       "      <td>33</td>\n",
       "      <td>22.705</td>\n",
       "      <td>0</td>\n",
       "      <td>21984.47061</td>\n",
       "      <td>False</td>\n",
       "      <td>True</td>\n",
       "      <td>True</td>\n",
       "      <td>False</td>\n",
       "      <td>False</td>\n",
       "      <td>True</td>\n",
       "      <td>False</td>\n",
       "      <td>False</td>\n",
       "    </tr>\n",
       "    <tr>\n",
       "      <th>4</th>\n",
       "      <td>32</td>\n",
       "      <td>28.880</td>\n",
       "      <td>0</td>\n",
       "      <td>3866.85520</td>\n",
       "      <td>False</td>\n",
       "      <td>True</td>\n",
       "      <td>True</td>\n",
       "      <td>False</td>\n",
       "      <td>False</td>\n",
       "      <td>True</td>\n",
       "      <td>False</td>\n",
       "      <td>False</td>\n",
       "    </tr>\n",
       "  </tbody>\n",
       "</table>\n",
       "</div>"
      ]
     },
     "execution_count": 36,
     "metadata": {},
     "output_type": "execute_result"
    }
   ],
   "execution_count": 36
  },
  {
   "cell_type": "markdown",
   "id": "a0b783d6",
   "metadata": {},
   "source": []
  }
 ],
 "metadata": {
  "kernelspec": {
   "display_name": "Python 3 (ipykernel)",
   "language": "python",
   "name": "python3"
  },
  "language_info": {
   "codemirror_mode": {
    "name": "ipython",
    "version": 3
   },
   "file_extension": ".py",
   "mimetype": "text/x-python",
   "name": "python",
   "nbconvert_exporter": "python",
   "pygments_lexer": "ipython3",
   "version": "3.11.5"
  }
 },
 "nbformat": 4,
 "nbformat_minor": 5
}
