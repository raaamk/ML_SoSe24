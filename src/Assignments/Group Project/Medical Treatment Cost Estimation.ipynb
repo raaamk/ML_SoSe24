{
 "cells": [
  {
   "cell_type": "markdown",
   "id": "bb78b975",
   "metadata": {},
   "source": [
    "# Medical Treatment Cost Forecasting\n",
    "\n",
    "**Link**\n",
    "\n",
    "https://www.kaggle.com/mirichoi0218/insurance\n",
    "\n",
    "\n",
    "**Context**\n",
    "\n",
    "This dataset contains the cost of medical treatment of different patients.\n",
    "\n",
    "\n",
    "**Content**\n",
    "\n",
    "The cost of treatment depends on many factors: diagnosis, type of clinic, city of residence, age and so on. We have no data on the diagnosis of patients. But we have other information that can help us to make a conclusion about the health of patients and predict the cost of medical treatment by using regression analysis.\n",
    "\n",
    "The dataset consists of the following attributes:\n",
    "- age: age of primary beneficiary\n",
    "- sex: insurance contractor gender, female, male\n",
    "- bmi: body mass index, providing an understanding of body, weights that are relatively high or low relative to height\n",
    "- children: number of children covered by health insurance / Number of dependents\n",
    "- smoker: smoking (0: no, 1: yes)\n",
    "- region: the beneficiary's residential area in the US, northeast, southeast, southwest, northwest.\n",
    "- charges: individual medical costs billed by health insurance\n",
    "\n",
    "The `charges` attribute is our target variable, which should be predicted depending on new patient informations.\n",
    "\n",
    "**Task (Regression)**\n",
    "\n",
    "Your task is to use the present data set to predict the cost of medical treatment for new patients. To do this, use the `Linear Regression` and `SVR` methods for this task. You must also include a third method that you have selected yourself.\n",
    "\n",
    "First of all, get an overview of the project in your group. Then carefully read the checklist for machine learning projects and think about how you want to organize your group work. It is strongly recommended that all task items are completed by all group members. You can divide the focus among yourself, but make sure that all members are as well informed as possible about the content.\n",
    "\n",
    "Use the checklist for machine learning projects as a guide when working on the task. Document all the individual steps that are listed there (main and sub-items). Make sure to use Markdown Cells for your documentation. Document the functionality of your algorithms (all three) with equations and explanations. Dont forget, this project is a task for five students. We expect a detailed documentation of your approach and your results.\n",
    "\n",
    "**Note**\n",
    "\n",
    "We are aware that there are examples and solutions for the selected data sets on popular platforms, e.g. Kaggle. You are welcome to use them as a guide. But remember that at the end of the project, your own work will be assessed. We compare the results with the popular solutions of common platforms. We would like to recognize the independence in your work and see a difference to the existing solution approaches."
   ]
  },
  {
   "cell_type": "markdown",
   "id": "0dc15257",
   "metadata": {},
   "source": [
    "# Inhaltsverzeichnis\n",
    "\n",
    "1. [Frame the problem](#id1) <br>\n",
    "    1.1 [Ziel](#id1.1) <br>\n",
    "    1.2 \n",
    "2. [Get the data](#id2) <br>\n"
   ]
  },
  {
   "cell_type": "markdown",
   "id": "8b5e8388",
   "metadata": {},
   "source": [
    "## 1 Frame the problem  <a class=\"anchor\" id=\"id1\"></a>\n",
    "\n",
    "### 1.1 Ziel <a class=\"anchor\" id=\"id1.1\"></a>\n",
    "\n",
    "Das primäre Ziel besteht darin, die Kosten der medizinischen Behandlung für neue Patienten basierend auf verschiedenen Faktoren wie Alter, Geschlecht, BMI, Anzahl der Kinder, Rauchstatus und Wohnregion vorherzusagen. Genaue Vorhersagen können Versicherungsunternehmen helfen, Prämien festzulegen, finanzielle Risiken zu managen und personalisierte Gesundheitspläne zu erstellen.\n",
    "   \n",
    "### 1.2 Verwendung der Lösung\n",
    "\n",
    "Die Lösung wird in den Arbeitsablauf des Versicherungsunternehmens integriert, um die Kosten der medizinischen Behandlung für neue Versicherungsnehmer abzuschätzen oder die Prämien für bestehende Versicherungsnehmer anzupassen. Dieses prädiktive Modell ermöglicht es dem Unternehmen, Risiken genauer zu bewerten und wettbewerbsfähige Preise anzubieten, während die Rentabilität sichergestellt wird\n",
    "\n",
    "### 1.3 Aktuelle Lösungen\n",
    "\n",
    "Versicherungsunternehmen verwenden in der Regel versicherungsmathematische Methoden (Traditionelle statistische Methoden) und manuelle Schätzungen (Komplexe Regeln) zur Kostenschätzung auf der Grundlage historischer Daten und demografischer Profile. Diese Methoden können zeitaufwändig, kostenintensiv, weniger genau sein und möglicherweise keine komplexen Muster in den Daten erfassen. Ein auf maschinellem Lernen basierter Ansatz kann präzisere und skalierbarere Lösungen bieten. [1]\n",
    "\n",
    "[1] U. Orji und E. Ukwandu, \"Machine Learning For An Explainable Cost Prediction of Medical Insurance,\" arXiv, Nov. 2023. [Online]. Verfügbar: https://ar5iv.org/abs/2311.14139. [Zugegriffen: 20. Juni 2024].\n",
    "\n",
    "\n",
    "### 1.4 Problemdefinition\n",
    "\n",
    "Typ: Überwachtes Lernen\n",
    "Herangehensweise: Regression\n",
    "Modus: Offline\n",
    "Begründung:\n",
    "Wir haben historische Daten mit bekannten Kosten (Gebühren) und damit verbundenen Merkmalen. Das Ziel ist die Vorhersage einer kontinuierlichen Variable, was es zu einem Regressionsproblem macht. Ein Offline-Ansatz ist angemessen, da wir das Modell auf historischen Daten trainieren und es dann für zukünftige Vorhersagen einsetzen werden.\n",
    "\n",
    "### 1.5 Leistungsmessung\n",
    "\n",
    "Die Leistung wird anhand des Root Mean Squared Error (RMSE) und des Bestimmtheitsmaß (R2) gemessen. RMSE wird wegen seiner Empfindlichkeit gegenüber Ausreißern bevorzugt, was bei medizinischen Kosten signifikant sein kann.\n",
    "\n",
    "### 1.6 Ausrichtung an den Unternehmenszielen\n",
    "\n",
    "Die gewählten Leistungsmaße (RMSE und MAE) stimmen mit dem Geschäftsziel überein, Vorhersagefehler zu minimieren, um Behandlungskosten besser abzuschätzen und so finanzielle Risiken zu reduzieren.\n",
    "\n",
    "### 1.7 Erforderliche Mindestleistung\n",
    "\n",
    "Die Mindestleistung des neuen Modells sollte die Leistung bestehender Methoden übertreffen. Angenommen, die aktuellen manuellen Methoden haben folgende Fehlermaße:\n",
    "\n",
    "RMSE: 4000\n",
    "MAE: 3000\n",
    "\n",
    "Ein realistischer Schwellenwert für das maschinelle Lernmodell könnte sein, diese Werte um mindestens 10% zu verbessern. Das bedeutet:\n",
    "\n",
    "RMSE: 3600\n",
    "MAE: 2700\n",
    "\n",
    "Diese Verbesserungen würden signifikant genug sein, um die Überlegenheit des neuen Modells gegenüber den bestehenden Methoden zu demonstrieren.\n",
    "\n",
    "### 1.8 Vergleichbare Probleme\n",
    "- Hauspreisvorhersage\n",
    "- Vorhersage von Kfz-Versicherungsansprüchen\n",
    "- Vorhersage von Darlehenausfällen\n",
    "\n",
    "### 1.9 Wiederverwendung von Tools\n",
    "\n",
    "Wir können auf etablierte maschinelle Lernframeworks und -bibliotheken (wie Scikit-learn, TensorFlow oder XGBoost) und Methoden aus ähnlichen Regressionsaufgaben zurückgreifen. Werkzeuge wie Jupyter Notebooks, pandas und matplotlib werden für die Datenexploration und -visualisierung wesentlich sein.\n",
    "\n",
    "### 1.10 Verfügbarkeit von menschlicher Expertise\n",
    "\n",
    "Domänenexperten für Gesundheitskosten und Versicherungen sowie Datenwissenschaftler mit Erfahrung in der Regressionsanalyse werden entscheidend sein, um die Daten zu verstehen und die Modelle zu verfeinern\n",
    "\n",
    "### 1.11 Manuelle Lösung\n",
    "\n",
    "Manuell würde man historische Kosten analysieren, für Inflation anpassen, Patientendemografie und Gesundheitsindikatoren berücksichtigen und Expertenurteile verwenden, um zukünftige Kosten abzuschätzen. Dieser Prozess ist von Natur aus subjektiv und weniger skalierbar.\n",
    "\n",
    "### 1.12 Annahmen\n",
    "- Der Datensatz ist repräsentativ für die Bevölkerung.\n",
    "- Die einbezogenen Faktoren (Alter, Geschlecht, BMI, Kinder, Raucher, Region) sind ausreichend, um die Kosten vorherzusagen.\n",
    "- Es gibt keine signifikanten externen Faktoren (z. B. politische Veränderungen, große medizinische Fortschritte), die die Kosten drastisch verändern.\n",
    "\n",
    "### 1.13 Überprüfen der Annahmen\n",
    "- Statistische Tests und Visualisierungen (z. B. Korrelationsmatrizen, Streudiagramme) können die Relevanz der Merkmale überprüfen.\n",
    "- Datenbereinigungsprozesse können Datenqualitätsprobleme angehen.\n",
    "- Bewertung der anfängliche Modellleistung an einem Validierungssatz.\n",
    "\n",
    "\n",
    "### 1.14 Modellauswahl und Implementierung\n",
    "- Lineare Regression\n",
    "- Support-Vektor-Regression (SVR)\n",
    "- Random Forest"
   ]
  },
  {
   "cell_type": "markdown",
   "id": "8736a2f2",
   "metadata": {},
   "source": [
    "## 2 Get the data <a class=\"anchor\" id=\"id2\"></a>\n",
    "\n",
    "### 2.1 Einlesen der Daten \n",
    "Die Datei `insurance.csv` wird mit Panda eingelesen. Diese Datei enthält die Informationen über Patienten und die individuellen medizinischen Kosten, die vorhergesagt werden sollen. Eine Kopie namens `insurance_data` wird im Vorfeld erstellt."
   ]
  },
  {
   "cell_type": "code",
   "id": "1e445d13",
   "metadata": {
    "ExecuteTime": {
     "end_time": "2024-06-25T16:43:26.071991Z",
     "start_time": "2024-06-25T16:43:26.065861Z"
    }
   },
   "source": [
    "import pandas as pd\n",
    "\n",
    "data = pd.read_csv('insurance.csv')\n",
    "insurance_data = data.copy()"
   ],
   "outputs": [],
   "execution_count": 246
  },
  {
   "metadata": {},
   "cell_type": "markdown",
   "source": "Um einen kurzen Überblick über die eingelesen Daten zu bekommen, wird der `head()` der `insurance_data` angezeigt.",
   "id": "b455d8f400d24f81"
  },
  {
   "metadata": {
    "ExecuteTime": {
     "end_time": "2024-06-25T16:43:26.796261Z",
     "start_time": "2024-06-25T16:43:26.789907Z"
    }
   },
   "cell_type": "code",
   "source": "insurance_data.head()",
   "id": "83d58e5854d1f142",
   "outputs": [
    {
     "data": {
      "text/plain": [
       "   age     sex     bmi  children smoker     region      charges\n",
       "0   19  female  27.900         0    yes  southwest  16884.92400\n",
       "1   18    male  33.770         1     no  southeast   1725.55230\n",
       "2   28    male  33.000         3     no  southeast   4449.46200\n",
       "3   33    male  22.705         0     no  northwest  21984.47061\n",
       "4   32    male  28.880         0     no  northwest   3866.85520"
      ],
      "text/html": [
       "<div>\n",
       "<style scoped>\n",
       "    .dataframe tbody tr th:only-of-type {\n",
       "        vertical-align: middle;\n",
       "    }\n",
       "\n",
       "    .dataframe tbody tr th {\n",
       "        vertical-align: top;\n",
       "    }\n",
       "\n",
       "    .dataframe thead th {\n",
       "        text-align: right;\n",
       "    }\n",
       "</style>\n",
       "<table border=\"1\" class=\"dataframe\">\n",
       "  <thead>\n",
       "    <tr style=\"text-align: right;\">\n",
       "      <th></th>\n",
       "      <th>age</th>\n",
       "      <th>sex</th>\n",
       "      <th>bmi</th>\n",
       "      <th>children</th>\n",
       "      <th>smoker</th>\n",
       "      <th>region</th>\n",
       "      <th>charges</th>\n",
       "    </tr>\n",
       "  </thead>\n",
       "  <tbody>\n",
       "    <tr>\n",
       "      <th>0</th>\n",
       "      <td>19</td>\n",
       "      <td>female</td>\n",
       "      <td>27.900</td>\n",
       "      <td>0</td>\n",
       "      <td>yes</td>\n",
       "      <td>southwest</td>\n",
       "      <td>16884.92400</td>\n",
       "    </tr>\n",
       "    <tr>\n",
       "      <th>1</th>\n",
       "      <td>18</td>\n",
       "      <td>male</td>\n",
       "      <td>33.770</td>\n",
       "      <td>1</td>\n",
       "      <td>no</td>\n",
       "      <td>southeast</td>\n",
       "      <td>1725.55230</td>\n",
       "    </tr>\n",
       "    <tr>\n",
       "      <th>2</th>\n",
       "      <td>28</td>\n",
       "      <td>male</td>\n",
       "      <td>33.000</td>\n",
       "      <td>3</td>\n",
       "      <td>no</td>\n",
       "      <td>southeast</td>\n",
       "      <td>4449.46200</td>\n",
       "    </tr>\n",
       "    <tr>\n",
       "      <th>3</th>\n",
       "      <td>33</td>\n",
       "      <td>male</td>\n",
       "      <td>22.705</td>\n",
       "      <td>0</td>\n",
       "      <td>no</td>\n",
       "      <td>northwest</td>\n",
       "      <td>21984.47061</td>\n",
       "    </tr>\n",
       "    <tr>\n",
       "      <th>4</th>\n",
       "      <td>32</td>\n",
       "      <td>male</td>\n",
       "      <td>28.880</td>\n",
       "      <td>0</td>\n",
       "      <td>no</td>\n",
       "      <td>northwest</td>\n",
       "      <td>3866.85520</td>\n",
       "    </tr>\n",
       "  </tbody>\n",
       "</table>\n",
       "</div>"
      ]
     },
     "execution_count": 247,
     "metadata": {},
     "output_type": "execute_result"
    }
   ],
   "execution_count": 247
  },
  {
   "cell_type": "markdown",
   "id": "08594893",
   "metadata": {},
   "source": [
    "### 2.2 Konvertierung der Daten\n",
    "\n",
    "Mit `info()` wird herausgefunden welchen Dateityp die einzelnen Attribute besitzen."
   ]
  },
  {
   "cell_type": "code",
   "id": "7156ef1d",
   "metadata": {
    "ExecuteTime": {
     "end_time": "2024-06-25T16:43:26.855366Z",
     "start_time": "2024-06-25T16:43:26.849367Z"
    }
   },
   "source": [
    "insurance_data.info()"
   ],
   "outputs": [
    {
     "name": "stdout",
     "output_type": "stream",
     "text": [
      "<class 'pandas.core.frame.DataFrame'>\n",
      "RangeIndex: 1338 entries, 0 to 1337\n",
      "Data columns (total 7 columns):\n",
      " #   Column    Non-Null Count  Dtype  \n",
      "---  ------    --------------  -----  \n",
      " 0   age       1338 non-null   int64  \n",
      " 1   sex       1338 non-null   object \n",
      " 2   bmi       1338 non-null   float64\n",
      " 3   children  1338 non-null   int64  \n",
      " 4   smoker    1338 non-null   object \n",
      " 5   region    1338 non-null   object \n",
      " 6   charges   1338 non-null   float64\n",
      "dtypes: float64(2), int64(2), object(3)\n",
      "memory usage: 73.3+ KB\n"
     ]
    }
   ],
   "execution_count": 248
  },
  {
   "metadata": {},
   "cell_type": "markdown",
   "source": "Die kategorischen Attribute `sex`, `smoker` und `region` sind als `Dtype: object` definiert. Um sicherzustellen, dass die Daten korrekt typisiert sind, werden die genannten Attribute als `category` definiert. ",
   "id": "92ba292ebfbb30c7"
  },
  {
   "cell_type": "code",
   "id": "a75b3e1c",
   "metadata": {
    "ExecuteTime": {
     "end_time": "2024-06-25T16:43:26.955144Z",
     "start_time": "2024-06-25T16:43:26.950582Z"
    }
   },
   "source": [
    "insurance_data['sex'] = insurance_data['sex'].astype('category')\n",
    "insurance_data['smoker'] = insurance_data['smoker'].astype('category')\n",
    "insurance_data['region'] = insurance_data['region'].astype('category')"
   ],
   "outputs": [],
   "execution_count": 249
  },
  {
   "metadata": {},
   "cell_type": "markdown",
   "source": "Nach der Konvertierung der Attribute können sie für folgende Anwendungen korrekt genutzt werden. Die `insurance_date` wird wiederholt auf die Datentypen überprüft mit `info()`.",
   "id": "c755ae1dd97c4da2"
  },
  {
   "cell_type": "markdown",
   "id": "a2d25fd9",
   "metadata": {},
   "source": "### 2.3 Überprüfung der Daten"
  },
  {
   "cell_type": "code",
   "id": "970aea87",
   "metadata": {
    "ExecuteTime": {
     "end_time": "2024-06-25T16:43:27.103748Z",
     "start_time": "2024-06-25T16:43:27.097181Z"
    }
   },
   "source": [
    "insurance_data.info()"
   ],
   "outputs": [
    {
     "name": "stdout",
     "output_type": "stream",
     "text": [
      "<class 'pandas.core.frame.DataFrame'>\n",
      "RangeIndex: 1338 entries, 0 to 1337\n",
      "Data columns (total 7 columns):\n",
      " #   Column    Non-Null Count  Dtype   \n",
      "---  ------    --------------  -----   \n",
      " 0   age       1338 non-null   int64   \n",
      " 1   sex       1338 non-null   category\n",
      " 2   bmi       1338 non-null   float64 \n",
      " 3   children  1338 non-null   int64   \n",
      " 4   smoker    1338 non-null   category\n",
      " 5   region    1338 non-null   category\n",
      " 6   charges   1338 non-null   float64 \n",
      "dtypes: category(3), float64(2), int64(2)\n",
      "memory usage: 46.3 KB\n"
     ]
    }
   ],
   "execution_count": 250
  },
  {
   "metadata": {},
   "cell_type": "markdown",
   "source": "Es sind keine Attribute als `object` definiert. Zur finalen Überprüfung der Daten wird nochmal der `head()` ausgegeben. ",
   "id": "fcfcc21c83484974"
  },
  {
   "cell_type": "code",
   "id": "22570a14",
   "metadata": {
    "ExecuteTime": {
     "end_time": "2024-06-25T16:43:27.306901Z",
     "start_time": "2024-06-25T16:43:27.299716Z"
    }
   },
   "source": [
    "insurance_data.head()"
   ],
   "outputs": [
    {
     "data": {
      "text/plain": [
       "   age     sex     bmi  children smoker     region      charges\n",
       "0   19  female  27.900         0    yes  southwest  16884.92400\n",
       "1   18    male  33.770         1     no  southeast   1725.55230\n",
       "2   28    male  33.000         3     no  southeast   4449.46200\n",
       "3   33    male  22.705         0     no  northwest  21984.47061\n",
       "4   32    male  28.880         0     no  northwest   3866.85520"
      ],
      "text/html": [
       "<div>\n",
       "<style scoped>\n",
       "    .dataframe tbody tr th:only-of-type {\n",
       "        vertical-align: middle;\n",
       "    }\n",
       "\n",
       "    .dataframe tbody tr th {\n",
       "        vertical-align: top;\n",
       "    }\n",
       "\n",
       "    .dataframe thead th {\n",
       "        text-align: right;\n",
       "    }\n",
       "</style>\n",
       "<table border=\"1\" class=\"dataframe\">\n",
       "  <thead>\n",
       "    <tr style=\"text-align: right;\">\n",
       "      <th></th>\n",
       "      <th>age</th>\n",
       "      <th>sex</th>\n",
       "      <th>bmi</th>\n",
       "      <th>children</th>\n",
       "      <th>smoker</th>\n",
       "      <th>region</th>\n",
       "      <th>charges</th>\n",
       "    </tr>\n",
       "  </thead>\n",
       "  <tbody>\n",
       "    <tr>\n",
       "      <th>0</th>\n",
       "      <td>19</td>\n",
       "      <td>female</td>\n",
       "      <td>27.900</td>\n",
       "      <td>0</td>\n",
       "      <td>yes</td>\n",
       "      <td>southwest</td>\n",
       "      <td>16884.92400</td>\n",
       "    </tr>\n",
       "    <tr>\n",
       "      <th>1</th>\n",
       "      <td>18</td>\n",
       "      <td>male</td>\n",
       "      <td>33.770</td>\n",
       "      <td>1</td>\n",
       "      <td>no</td>\n",
       "      <td>southeast</td>\n",
       "      <td>1725.55230</td>\n",
       "    </tr>\n",
       "    <tr>\n",
       "      <th>2</th>\n",
       "      <td>28</td>\n",
       "      <td>male</td>\n",
       "      <td>33.000</td>\n",
       "      <td>3</td>\n",
       "      <td>no</td>\n",
       "      <td>southeast</td>\n",
       "      <td>4449.46200</td>\n",
       "    </tr>\n",
       "    <tr>\n",
       "      <th>3</th>\n",
       "      <td>33</td>\n",
       "      <td>male</td>\n",
       "      <td>22.705</td>\n",
       "      <td>0</td>\n",
       "      <td>no</td>\n",
       "      <td>northwest</td>\n",
       "      <td>21984.47061</td>\n",
       "    </tr>\n",
       "    <tr>\n",
       "      <th>4</th>\n",
       "      <td>32</td>\n",
       "      <td>male</td>\n",
       "      <td>28.880</td>\n",
       "      <td>0</td>\n",
       "      <td>no</td>\n",
       "      <td>northwest</td>\n",
       "      <td>3866.85520</td>\n",
       "    </tr>\n",
       "  </tbody>\n",
       "</table>\n",
       "</div>"
      ]
     },
     "execution_count": 251,
     "metadata": {},
     "output_type": "execute_result"
    }
   ],
   "execution_count": 251
  },
  {
   "metadata": {},
   "cell_type": "markdown",
   "source": "Mit den nun konvertierten und angepassten Daten kann ein `train_set` und `test_set` erstellt werden.",
   "id": "3c638071d2bd14d4"
  },
  {
   "cell_type": "markdown",
   "id": "9d5421f0",
   "metadata": {},
   "source": [
    "### 2.4 Aufteilung der Daten\n",
    "\n",
    "`insurance_data` wird in ein `train_set` und ein `test_set` aufgeteilt mithilfe der Funktion `train_test_split()`. Die `test_size` beträgt 20 % der Gesamtdaten. Das `test_set` wird zur Seite gelegt und zum Ende des Projektes erst angeschaut, um eine unvoreingenomme Bewertung des Modells zu gewährleisten."
   ]
  },
  {
   "cell_type": "code",
   "id": "7bbdd863",
   "metadata": {
    "ExecuteTime": {
     "end_time": "2024-06-25T16:43:27.367569Z",
     "start_time": "2024-06-25T16:43:27.363021Z"
    }
   },
   "source": [
    "from sklearn.model_selection import train_test_split\n",
    "\n",
    "train_set, test_set = train_test_split(insurance_data, test_size=0.2, random_state=42)"
   ],
   "outputs": [],
   "execution_count": 252
  },
  {
   "metadata": {},
   "cell_type": "markdown",
   "source": "Beide Sätze werden nochmal auf Richtigkeit überprüft.",
   "id": "1273bfcbea1bd20f"
  },
  {
   "metadata": {
    "ExecuteTime": {
     "end_time": "2024-06-25T16:43:27.474623Z",
     "start_time": "2024-06-25T16:43:27.465884Z"
    }
   },
   "cell_type": "code",
   "source": "train_set.info()",
   "id": "be5292d356f7a0ab",
   "outputs": [
    {
     "name": "stdout",
     "output_type": "stream",
     "text": [
      "<class 'pandas.core.frame.DataFrame'>\n",
      "Index: 1070 entries, 560 to 1126\n",
      "Data columns (total 7 columns):\n",
      " #   Column    Non-Null Count  Dtype   \n",
      "---  ------    --------------  -----   \n",
      " 0   age       1070 non-null   int64   \n",
      " 1   sex       1070 non-null   category\n",
      " 2   bmi       1070 non-null   float64 \n",
      " 3   children  1070 non-null   int64   \n",
      " 4   smoker    1070 non-null   category\n",
      " 5   region    1070 non-null   category\n",
      " 6   charges   1070 non-null   float64 \n",
      "dtypes: category(3), float64(2), int64(2)\n",
      "memory usage: 45.4 KB\n"
     ]
    }
   ],
   "execution_count": 253
  },
  {
   "metadata": {
    "ExecuteTime": {
     "end_time": "2024-06-25T16:43:27.562996Z",
     "start_time": "2024-06-25T16:43:27.556305Z"
    }
   },
   "cell_type": "code",
   "source": "test_set.info()",
   "id": "74fcab987f06bc44",
   "outputs": [
    {
     "name": "stdout",
     "output_type": "stream",
     "text": [
      "<class 'pandas.core.frame.DataFrame'>\n",
      "Index: 268 entries, 764 to 846\n",
      "Data columns (total 7 columns):\n",
      " #   Column    Non-Null Count  Dtype   \n",
      "---  ------    --------------  -----   \n",
      " 0   age       268 non-null    int64   \n",
      " 1   sex       268 non-null    category\n",
      " 2   bmi       268 non-null    float64 \n",
      " 3   children  268 non-null    int64   \n",
      " 4   smoker    268 non-null    category\n",
      " 5   region    268 non-null    category\n",
      " 6   charges   268 non-null    float64 \n",
      "dtypes: category(3), float64(2), int64(2)\n",
      "memory usage: 11.7 KB\n"
     ]
    }
   ],
   "execution_count": 254
  },
  {
   "metadata": {},
   "cell_type": "markdown",
   "source": "Das `test_set` hat 20 % der Datensätze von `insurance_data`. Ein extra `validation_set` wurde nicht erstellt, da zum Validieren der Modelle während des Trainings Cross-Validation verwendet wird.",
   "id": "c464f1d10c8f1e00"
  },
  {
   "metadata": {},
   "cell_type": "markdown",
   "source": [
    "## 3 Explore the data\n",
    "\n",
    "### 3.1 Kopie vom Trainingsset\n",
    "\n",
    "Zur Erkundung des Trainingssets wird eine Kopie von `train_set` erstellt."
   ],
   "id": "fdaf5d1741778da0"
  },
  {
   "metadata": {
    "ExecuteTime": {
     "end_time": "2024-06-25T16:43:27.746522Z",
     "start_time": "2024-06-25T16:43:27.743573Z"
    }
   },
   "cell_type": "code",
   "source": "train_set_explore = train_set.copy()",
   "id": "fa3b8fa78cfa17c6",
   "outputs": [],
   "execution_count": 255
  },
  {
   "metadata": {},
   "cell_type": "markdown",
   "source": "Mit dem Datenframe `train_set_explore` werden nun die Daten visualisiert und Charakteristik der Attribute gezeigt. Mit `head()` wird ein erster Blick auf die Daten geworfen. ",
   "id": "d116cf2e09676f59"
  },
  {
   "cell_type": "code",
   "id": "a8330476",
   "metadata": {
    "ExecuteTime": {
     "end_time": "2024-06-25T16:43:27.829500Z",
     "start_time": "2024-06-25T16:43:27.822379Z"
    }
   },
   "source": "train_set_explore.head()",
   "outputs": [
    {
     "data": {
      "text/plain": [
       "      age     sex    bmi  children smoker     region      charges\n",
       "560    46  female  19.95         2     no  northwest   9193.83850\n",
       "1285   47  female  24.32         0     no  northeast   8534.67180\n",
       "1142   52  female  24.86         0     no  southeast  27117.99378\n",
       "969    39  female  34.32         5     no  southeast   8596.82780\n",
       "486    54  female  21.47         3     no  northwest  12475.35130"
      ],
      "text/html": [
       "<div>\n",
       "<style scoped>\n",
       "    .dataframe tbody tr th:only-of-type {\n",
       "        vertical-align: middle;\n",
       "    }\n",
       "\n",
       "    .dataframe tbody tr th {\n",
       "        vertical-align: top;\n",
       "    }\n",
       "\n",
       "    .dataframe thead th {\n",
       "        text-align: right;\n",
       "    }\n",
       "</style>\n",
       "<table border=\"1\" class=\"dataframe\">\n",
       "  <thead>\n",
       "    <tr style=\"text-align: right;\">\n",
       "      <th></th>\n",
       "      <th>age</th>\n",
       "      <th>sex</th>\n",
       "      <th>bmi</th>\n",
       "      <th>children</th>\n",
       "      <th>smoker</th>\n",
       "      <th>region</th>\n",
       "      <th>charges</th>\n",
       "    </tr>\n",
       "  </thead>\n",
       "  <tbody>\n",
       "    <tr>\n",
       "      <th>560</th>\n",
       "      <td>46</td>\n",
       "      <td>female</td>\n",
       "      <td>19.95</td>\n",
       "      <td>2</td>\n",
       "      <td>no</td>\n",
       "      <td>northwest</td>\n",
       "      <td>9193.83850</td>\n",
       "    </tr>\n",
       "    <tr>\n",
       "      <th>1285</th>\n",
       "      <td>47</td>\n",
       "      <td>female</td>\n",
       "      <td>24.32</td>\n",
       "      <td>0</td>\n",
       "      <td>no</td>\n",
       "      <td>northeast</td>\n",
       "      <td>8534.67180</td>\n",
       "    </tr>\n",
       "    <tr>\n",
       "      <th>1142</th>\n",
       "      <td>52</td>\n",
       "      <td>female</td>\n",
       "      <td>24.86</td>\n",
       "      <td>0</td>\n",
       "      <td>no</td>\n",
       "      <td>southeast</td>\n",
       "      <td>27117.99378</td>\n",
       "    </tr>\n",
       "    <tr>\n",
       "      <th>969</th>\n",
       "      <td>39</td>\n",
       "      <td>female</td>\n",
       "      <td>34.32</td>\n",
       "      <td>5</td>\n",
       "      <td>no</td>\n",
       "      <td>southeast</td>\n",
       "      <td>8596.82780</td>\n",
       "    </tr>\n",
       "    <tr>\n",
       "      <th>486</th>\n",
       "      <td>54</td>\n",
       "      <td>female</td>\n",
       "      <td>21.47</td>\n",
       "      <td>3</td>\n",
       "      <td>no</td>\n",
       "      <td>northwest</td>\n",
       "      <td>12475.35130</td>\n",
       "    </tr>\n",
       "  </tbody>\n",
       "</table>\n",
       "</div>"
      ]
     },
     "execution_count": 256,
     "metadata": {},
     "output_type": "execute_result"
    }
   ],
   "execution_count": 256
  },
  {
   "cell_type": "markdown",
   "id": "959dc40b",
   "metadata": {},
   "source": [
    "### 3.2 Charakteristik der Attribute\n",
    "\n",
    "Mit `describe()` werden alle Attribute auf ihre Charakteristik überprüft."
   ]
  },
  {
   "metadata": {
    "ExecuteTime": {
     "end_time": "2024-06-25T16:43:27.935181Z",
     "start_time": "2024-06-25T16:43:27.924612Z"
    }
   },
   "cell_type": "code",
   "source": "train_set_explore.describe()",
   "id": "5e685fffe092d438",
   "outputs": [
    {
     "data": {
      "text/plain": [
       "               age          bmi     children       charges\n",
       "count  1070.000000  1070.000000  1070.000000   1070.000000\n",
       "mean     39.357009    30.560397     1.107477  13346.089736\n",
       "std      14.073960     6.043386     1.215983  12019.510778\n",
       "min      18.000000    15.960000     0.000000   1121.873900\n",
       "25%      27.000000    26.205000     0.000000   4897.667387\n",
       "50%      39.500000    30.210000     1.000000   9575.442100\n",
       "75%      51.000000    34.496250     2.000000  16746.657400\n",
       "max      64.000000    53.130000     5.000000  62592.873090"
      ],
      "text/html": [
       "<div>\n",
       "<style scoped>\n",
       "    .dataframe tbody tr th:only-of-type {\n",
       "        vertical-align: middle;\n",
       "    }\n",
       "\n",
       "    .dataframe tbody tr th {\n",
       "        vertical-align: top;\n",
       "    }\n",
       "\n",
       "    .dataframe thead th {\n",
       "        text-align: right;\n",
       "    }\n",
       "</style>\n",
       "<table border=\"1\" class=\"dataframe\">\n",
       "  <thead>\n",
       "    <tr style=\"text-align: right;\">\n",
       "      <th></th>\n",
       "      <th>age</th>\n",
       "      <th>bmi</th>\n",
       "      <th>children</th>\n",
       "      <th>charges</th>\n",
       "    </tr>\n",
       "  </thead>\n",
       "  <tbody>\n",
       "    <tr>\n",
       "      <th>count</th>\n",
       "      <td>1070.000000</td>\n",
       "      <td>1070.000000</td>\n",
       "      <td>1070.000000</td>\n",
       "      <td>1070.000000</td>\n",
       "    </tr>\n",
       "    <tr>\n",
       "      <th>mean</th>\n",
       "      <td>39.357009</td>\n",
       "      <td>30.560397</td>\n",
       "      <td>1.107477</td>\n",
       "      <td>13346.089736</td>\n",
       "    </tr>\n",
       "    <tr>\n",
       "      <th>std</th>\n",
       "      <td>14.073960</td>\n",
       "      <td>6.043386</td>\n",
       "      <td>1.215983</td>\n",
       "      <td>12019.510778</td>\n",
       "    </tr>\n",
       "    <tr>\n",
       "      <th>min</th>\n",
       "      <td>18.000000</td>\n",
       "      <td>15.960000</td>\n",
       "      <td>0.000000</td>\n",
       "      <td>1121.873900</td>\n",
       "    </tr>\n",
       "    <tr>\n",
       "      <th>25%</th>\n",
       "      <td>27.000000</td>\n",
       "      <td>26.205000</td>\n",
       "      <td>0.000000</td>\n",
       "      <td>4897.667387</td>\n",
       "    </tr>\n",
       "    <tr>\n",
       "      <th>50%</th>\n",
       "      <td>39.500000</td>\n",
       "      <td>30.210000</td>\n",
       "      <td>1.000000</td>\n",
       "      <td>9575.442100</td>\n",
       "    </tr>\n",
       "    <tr>\n",
       "      <th>75%</th>\n",
       "      <td>51.000000</td>\n",
       "      <td>34.496250</td>\n",
       "      <td>2.000000</td>\n",
       "      <td>16746.657400</td>\n",
       "    </tr>\n",
       "    <tr>\n",
       "      <th>max</th>\n",
       "      <td>64.000000</td>\n",
       "      <td>53.130000</td>\n",
       "      <td>5.000000</td>\n",
       "      <td>62592.873090</td>\n",
       "    </tr>\n",
       "  </tbody>\n",
       "</table>\n",
       "</div>"
      ]
     },
     "execution_count": 257,
     "metadata": {},
     "output_type": "execute_result"
    }
   ],
   "execution_count": 257
  },
  {
   "metadata": {
    "ExecuteTime": {
     "end_time": "2024-06-25T16:43:27.994730Z",
     "start_time": "2024-06-25T16:43:27.979446Z"
    }
   },
   "cell_type": "code",
   "source": "train_set_explore.describe(include='all')",
   "id": "ee906d6c6b7d647a",
   "outputs": [
    {
     "data": {
      "text/plain": [
       "                age   sex          bmi     children smoker     region  \\\n",
       "count   1070.000000  1070  1070.000000  1070.000000   1070       1070   \n",
       "unique          NaN     2          NaN          NaN      2          4   \n",
       "top             NaN  male          NaN          NaN     no  southeast   \n",
       "freq            NaN   548          NaN          NaN    850        283   \n",
       "mean      39.357009   NaN    30.560397     1.107477    NaN        NaN   \n",
       "std       14.073960   NaN     6.043386     1.215983    NaN        NaN   \n",
       "min       18.000000   NaN    15.960000     0.000000    NaN        NaN   \n",
       "25%       27.000000   NaN    26.205000     0.000000    NaN        NaN   \n",
       "50%       39.500000   NaN    30.210000     1.000000    NaN        NaN   \n",
       "75%       51.000000   NaN    34.496250     2.000000    NaN        NaN   \n",
       "max       64.000000   NaN    53.130000     5.000000    NaN        NaN   \n",
       "\n",
       "             charges  \n",
       "count    1070.000000  \n",
       "unique           NaN  \n",
       "top              NaN  \n",
       "freq             NaN  \n",
       "mean    13346.089736  \n",
       "std     12019.510778  \n",
       "min      1121.873900  \n",
       "25%      4897.667387  \n",
       "50%      9575.442100  \n",
       "75%     16746.657400  \n",
       "max     62592.873090  "
      ],
      "text/html": [
       "<div>\n",
       "<style scoped>\n",
       "    .dataframe tbody tr th:only-of-type {\n",
       "        vertical-align: middle;\n",
       "    }\n",
       "\n",
       "    .dataframe tbody tr th {\n",
       "        vertical-align: top;\n",
       "    }\n",
       "\n",
       "    .dataframe thead th {\n",
       "        text-align: right;\n",
       "    }\n",
       "</style>\n",
       "<table border=\"1\" class=\"dataframe\">\n",
       "  <thead>\n",
       "    <tr style=\"text-align: right;\">\n",
       "      <th></th>\n",
       "      <th>age</th>\n",
       "      <th>sex</th>\n",
       "      <th>bmi</th>\n",
       "      <th>children</th>\n",
       "      <th>smoker</th>\n",
       "      <th>region</th>\n",
       "      <th>charges</th>\n",
       "    </tr>\n",
       "  </thead>\n",
       "  <tbody>\n",
       "    <tr>\n",
       "      <th>count</th>\n",
       "      <td>1070.000000</td>\n",
       "      <td>1070</td>\n",
       "      <td>1070.000000</td>\n",
       "      <td>1070.000000</td>\n",
       "      <td>1070</td>\n",
       "      <td>1070</td>\n",
       "      <td>1070.000000</td>\n",
       "    </tr>\n",
       "    <tr>\n",
       "      <th>unique</th>\n",
       "      <td>NaN</td>\n",
       "      <td>2</td>\n",
       "      <td>NaN</td>\n",
       "      <td>NaN</td>\n",
       "      <td>2</td>\n",
       "      <td>4</td>\n",
       "      <td>NaN</td>\n",
       "    </tr>\n",
       "    <tr>\n",
       "      <th>top</th>\n",
       "      <td>NaN</td>\n",
       "      <td>male</td>\n",
       "      <td>NaN</td>\n",
       "      <td>NaN</td>\n",
       "      <td>no</td>\n",
       "      <td>southeast</td>\n",
       "      <td>NaN</td>\n",
       "    </tr>\n",
       "    <tr>\n",
       "      <th>freq</th>\n",
       "      <td>NaN</td>\n",
       "      <td>548</td>\n",
       "      <td>NaN</td>\n",
       "      <td>NaN</td>\n",
       "      <td>850</td>\n",
       "      <td>283</td>\n",
       "      <td>NaN</td>\n",
       "    </tr>\n",
       "    <tr>\n",
       "      <th>mean</th>\n",
       "      <td>39.357009</td>\n",
       "      <td>NaN</td>\n",
       "      <td>30.560397</td>\n",
       "      <td>1.107477</td>\n",
       "      <td>NaN</td>\n",
       "      <td>NaN</td>\n",
       "      <td>13346.089736</td>\n",
       "    </tr>\n",
       "    <tr>\n",
       "      <th>std</th>\n",
       "      <td>14.073960</td>\n",
       "      <td>NaN</td>\n",
       "      <td>6.043386</td>\n",
       "      <td>1.215983</td>\n",
       "      <td>NaN</td>\n",
       "      <td>NaN</td>\n",
       "      <td>12019.510778</td>\n",
       "    </tr>\n",
       "    <tr>\n",
       "      <th>min</th>\n",
       "      <td>18.000000</td>\n",
       "      <td>NaN</td>\n",
       "      <td>15.960000</td>\n",
       "      <td>0.000000</td>\n",
       "      <td>NaN</td>\n",
       "      <td>NaN</td>\n",
       "      <td>1121.873900</td>\n",
       "    </tr>\n",
       "    <tr>\n",
       "      <th>25%</th>\n",
       "      <td>27.000000</td>\n",
       "      <td>NaN</td>\n",
       "      <td>26.205000</td>\n",
       "      <td>0.000000</td>\n",
       "      <td>NaN</td>\n",
       "      <td>NaN</td>\n",
       "      <td>4897.667387</td>\n",
       "    </tr>\n",
       "    <tr>\n",
       "      <th>50%</th>\n",
       "      <td>39.500000</td>\n",
       "      <td>NaN</td>\n",
       "      <td>30.210000</td>\n",
       "      <td>1.000000</td>\n",
       "      <td>NaN</td>\n",
       "      <td>NaN</td>\n",
       "      <td>9575.442100</td>\n",
       "    </tr>\n",
       "    <tr>\n",
       "      <th>75%</th>\n",
       "      <td>51.000000</td>\n",
       "      <td>NaN</td>\n",
       "      <td>34.496250</td>\n",
       "      <td>2.000000</td>\n",
       "      <td>NaN</td>\n",
       "      <td>NaN</td>\n",
       "      <td>16746.657400</td>\n",
       "    </tr>\n",
       "    <tr>\n",
       "      <th>max</th>\n",
       "      <td>64.000000</td>\n",
       "      <td>NaN</td>\n",
       "      <td>53.130000</td>\n",
       "      <td>5.000000</td>\n",
       "      <td>NaN</td>\n",
       "      <td>NaN</td>\n",
       "      <td>62592.873090</td>\n",
       "    </tr>\n",
       "  </tbody>\n",
       "</table>\n",
       "</div>"
      ]
     },
     "execution_count": 258,
     "metadata": {},
     "output_type": "execute_result"
    }
   ],
   "execution_count": 258
  },
  {
   "metadata": {},
   "cell_type": "markdown",
   "source": "Zum korrekten Trainieren des Modells dürfen keine Werte fehlen in dem Datensatz. Daher wird der Datensatz auf fehlende Werte mit `isnull()` überprüft. ",
   "id": "25b0b27896217da8"
  },
  {
   "cell_type": "code",
   "id": "5a2d461c",
   "metadata": {
    "ExecuteTime": {
     "end_time": "2024-06-25T16:43:28.094338Z",
     "start_time": "2024-06-25T16:43:28.089202Z"
    }
   },
   "source": "train_set_explore.isnull().sum()",
   "outputs": [
    {
     "data": {
      "text/plain": [
       "age         0\n",
       "sex         0\n",
       "bmi         0\n",
       "children    0\n",
       "smoker      0\n",
       "region      0\n",
       "charges     0\n",
       "dtype: int64"
      ]
     },
     "execution_count": 259,
     "metadata": {},
     "output_type": "execute_result"
    }
   ],
   "execution_count": 259
  },
  {
   "metadata": {},
   "cell_type": "markdown",
   "source": "In dem Datensatz gibt es keine fehlenden Werte. Somit muss theoretisch kein Imputer auf die Daten angewendet werden. Zur Sicherheit wird dies trotzdem durchgeführt, da im Testdatensatz Daten fehlen könnten.",
   "id": "aec938d7196de6b9"
  },
  {
   "cell_type": "markdown",
   "id": "750e208f",
   "metadata": {},
   "source": [
    "### 3.3 Zielattribut identifizieren\n",
    "\n",
    "Das Zielattribut ist `charges` und wurde zum einen durch die Aufgabe vorgegeben, zum anderen lässt sich aus dem Datensatz sinnvollerweise die `charges` vorhersagen."
   ]
  },
  {
   "cell_type": "markdown",
   "id": "f50c5cde",
   "metadata": {},
   "source": [
    "### 3.3 Daten visualisieren\n",
    "\n",
    "Nun werden die Daten visualisiert, um ein besseres Verständnis der Korrelationen zu bekommen und möglichweise die benötigten Transformer herauszufinden. <br>\n",
    "Zuerst wird ein Histogramm der Behandlungskosten erstellt mit `matplotlib`."
   ]
  },
  {
   "cell_type": "code",
   "id": "a989b678",
   "metadata": {
    "ExecuteTime": {
     "end_time": "2024-06-25T16:43:28.570292Z",
     "start_time": "2024-06-25T16:43:28.199876Z"
    }
   },
   "source": [
    "import matplotlib.pyplot as plt\n",
    "\n",
    "fig1, (ax1, ax2) = plt.subplots(1, 2, figsize=(12, 4))\n",
    "\n",
    "ax1.hist(train_set_explore['charges'], bins=50, edgecolor='black')\n",
    "ax1.set_title('Verteilung der Behandlungskosten')\n",
    "ax1.set_xlabel('Behandlungskosten')\n",
    "ax1.set_ylabel('Häufigkeit')\n",
    "\n",
    "ax2.hist(train_set_explore['charges'], bins=50, edgecolor='black', log=True)\n",
    "ax2.set_title('Verteilung der Behandlungskosten (Logarithmisch)')\n",
    "ax2.set_xlabel('Behandlungskosten')\n",
    "ax2.set_ylabel('Häufigkeit')\n",
    "\n",
    "plt.tight_layout()\n",
    "plt.show()"
   ],
   "outputs": [
    {
     "data": {
      "text/plain": [
       "<Figure size 1200x400 with 2 Axes>"
      ],
      "image/png": "[encoded data removed]"
     },
     "metadata": {},
     "output_type": "display_data"
    }
   ],
   "execution_count": 260
  },
  {
   "metadata": {},
   "cell_type": "markdown",
   "source": "Die Verteilung von `charges` ist rechtsschief. Zur optimalen Verwendung der Daten wird `charges` logarithmisch transformiert. Es ist zu erkennen, dass die Verteilung normalverteilt ist, was für das Training von Regressionmodellen optimaler funktioniert.",
   "id": "3b0a0258f4d59c84"
  },
  {
   "metadata": {},
   "cell_type": "markdown",
   "source": "Nun werden die Bahandlungskosten anhand des Raucherstatus `smoker` geplottet. ",
   "id": "3abac4abc11c3224"
  },
  {
   "cell_type": "code",
   "id": "ade9492f",
   "metadata": {
    "ExecuteTime": {
     "end_time": "2024-06-25T16:43:28.649804Z",
     "start_time": "2024-06-25T16:43:28.571300Z"
    }
   },
   "source": [
    "import seaborn as sns\n",
    "\n",
    "plt.figure()\n",
    "sns.boxplot(x='smoker', y='charges', data=train_set_explore)\n",
    "plt.title('Behandlungskosten nach Rauchstatus')\n",
    "plt.xlabel('Rauchstatus')\n",
    "plt.ylabel('Behandlungskosten')\n",
    "plt.show()"
   ],
   "outputs": [
    {
     "data": {
      "text/plain": [
       "<Figure size 640x480 with 1 Axes>"
      ],
      "image/png": "[encoded data removed]"
     },
     "metadata": {},
     "output_type": "display_data"
    }
   ],
   "execution_count": 261
  },
  {
   "metadata": {},
   "cell_type": "markdown",
   "source": "Es ist zu erkennen, dass Raucher höhere durchschnittliche Behandlungskosten haben als Nicht-Raucher. Das Attribut `smoker` hat also einen Einfluss auf die `charges`.",
   "id": "4acdbd5ba98e439f"
  },
  {
   "metadata": {},
   "cell_type": "markdown",
   "source": "Es werden die Verteilungen von `age` und `children` im Histogramm dargestellt.",
   "id": "4656cd8bab57049d"
  },
  {
   "metadata": {
    "ExecuteTime": {
     "end_time": "2024-06-25T16:43:28.847211Z",
     "start_time": "2024-06-25T16:43:28.650811Z"
    }
   },
   "cell_type": "code",
   "source": [
    "fig2, (ax1, ax2) = plt.subplots(1, 2, figsize=(12, 4))\n",
    "\n",
    "ax1.hist(train_set_explore['age'], bins=10, edgecolor='black')\n",
    "ax1.set_title('Verteilung des Alters')\n",
    "ax1.set_xlabel('Alter')\n",
    "ax1.set_ylabel('Häufigkeit')\n",
    "\n",
    "ax2.hist(train_set_explore['children'], bins=6, edgecolor='black')\n",
    "ax2.set_title('Verteilung der Anzahl der Kinder')\n",
    "ax2.set_xlabel('Anzahl Kinder')\n",
    "ax2.set_ylabel('Häufigkeit')\n",
    "\n",
    "plt.tight_layout()\n",
    "plt.show()"
   ],
   "id": "ab2197b37c69051f",
   "outputs": [
    {
     "data": {
      "text/plain": [
       "<Figure size 1200x400 with 2 Axes>"
      ],
      "image/png": "[encoded data removed]"
     },
     "metadata": {},
     "output_type": "display_data"
    }
   ],
   "execution_count": 262
  },
  {
   "metadata": {},
   "cell_type": "markdown",
   "source": "Die meisten Patienten im Datensatz sind im Alter von 20. Der Rest ist gleichverteilt. Am häufigsten haben die Patienten keine oder ein Kind. Mit zunehmender Anzahl an Kindern nimmt die Häufigkeit ab.",
   "id": "34b74862537b5656"
  },
  {
   "metadata": {},
   "cell_type": "markdown",
   "source": "Es werden die `charges` abhängig von `age` und vom `bmi` dargestellt.",
   "id": "c41f0b74a5cbe2fd"
  },
  {
   "metadata": {
    "ExecuteTime": {
     "end_time": "2024-06-25T16:43:29.073656Z",
     "start_time": "2024-06-25T16:43:28.848219Z"
    }
   },
   "cell_type": "code",
   "source": [
    "fig3, (ax1, ax2) = plt.subplots(1, 2, figsize=(12, 4))\n",
    "\n",
    "\n",
    "scatter1 = ax1.scatter(train_set_explore['age'], train_set_explore['charges'], c=train_set_explore['smoker'].map({'yes': 'red', 'no': 'blue'}))\n",
    "ax1.set_title('Kosten abhängig vom Alter')\n",
    "ax1.set_xlabel('Alter')\n",
    "ax1.set_ylabel('Behandlungskosten')\n",
    "\n",
    "ax2.scatter(train_set_explore['bmi'], train_set_explore['charges'], c=train_set_explore['smoker'].map({'yes': 'red', 'no': 'blue'}))\n",
    "ax2.set_title('Kosten abhängig vom BMI')\n",
    "ax2.set_xlabel('BMI')\n",
    "ax2.set_ylabel('Behandlungskosten')\n",
    "\n",
    "plt.tight_layout()\n",
    "plt.show()"
   ],
   "id": "5251975acf725af3",
   "outputs": [
    {
     "data": {
      "text/plain": [
       "<Figure size 1200x400 with 2 Axes>"
      ],
      "image/png": "[encoded data removed]"
     },
     "metadata": {},
     "output_type": "display_data"
    }
   ],
   "execution_count": 263
  },
  {
   "metadata": {},
   "cell_type": "markdown",
   "source": "Eine hohe positive Korrelation zwischen `charges` und `bmi` kann erkannt werden, das heißt, dass höhere BMI-Werte mit höheren Behandlungskosten verbunden sind. Gleiches ist mit dem Attribut `age` zu erkennen.",
   "id": "4068e6f0159557ad"
  },
  {
   "metadata": {},
   "cell_type": "markdown",
   "source": [
    "### 3.4 Korrelationen\n",
    "\n",
    "Attribute wie `region`, `sex` und `smoker` sind kategorische Werte und werden in numerische umgewandelt, um eine Korrelationsmatrix erstellen zu können."
   ],
   "id": "c98101f5ae9c2070"
  },
  {
   "cell_type": "code",
   "id": "c2bd6fed",
   "metadata": {
    "ExecuteTime": {
     "end_time": "2024-06-25T16:43:29.079610Z",
     "start_time": "2024-06-25T16:43:29.074665Z"
    }
   },
   "source": "train_set_explore_encoded = pd.get_dummies(train_set_explore, columns=['sex', 'smoker', 'region'])",
   "outputs": [],
   "execution_count": 264
  },
  {
   "metadata": {
    "ExecuteTime": {
     "end_time": "2024-06-25T16:43:29.091585Z",
     "start_time": "2024-06-25T16:43:29.079610Z"
    }
   },
   "cell_type": "code",
   "source": "train_set_explore_encoded.head()",
   "id": "c06dd895f0f66f72",
   "outputs": [
    {
     "data": {
      "text/plain": [
       "      age    bmi  children      charges  sex_female  sex_male  smoker_no  \\\n",
       "560    46  19.95         2   9193.83850        True     False       True   \n",
       "1285   47  24.32         0   8534.67180        True     False       True   \n",
       "1142   52  24.86         0  27117.99378        True     False       True   \n",
       "969    39  34.32         5   8596.82780        True     False       True   \n",
       "486    54  21.47         3  12475.35130        True     False       True   \n",
       "\n",
       "      smoker_yes  region_northeast  region_northwest  region_southeast  \\\n",
       "560        False             False              True             False   \n",
       "1285       False              True             False             False   \n",
       "1142       False             False             False              True   \n",
       "969        False             False             False              True   \n",
       "486        False             False              True             False   \n",
       "\n",
       "      region_southwest  \n",
       "560              False  \n",
       "1285             False  \n",
       "1142             False  \n",
       "969              False  \n",
       "486              False  "
      ],
      "text/html": [
       "<div>\n",
       "<style scoped>\n",
       "    .dataframe tbody tr th:only-of-type {\n",
       "        vertical-align: middle;\n",
       "    }\n",
       "\n",
       "    .dataframe tbody tr th {\n",
       "        vertical-align: top;\n",
       "    }\n",
       "\n",
       "    .dataframe thead th {\n",
       "        text-align: right;\n",
       "    }\n",
       "</style>\n",
       "<table border=\"1\" class=\"dataframe\">\n",
       "  <thead>\n",
       "    <tr style=\"text-align: right;\">\n",
       "      <th></th>\n",
       "      <th>age</th>\n",
       "      <th>bmi</th>\n",
       "      <th>children</th>\n",
       "      <th>charges</th>\n",
       "      <th>sex_female</th>\n",
       "      <th>sex_male</th>\n",
       "      <th>smoker_no</th>\n",
       "      <th>smoker_yes</th>\n",
       "      <th>region_northeast</th>\n",
       "      <th>region_northwest</th>\n",
       "      <th>region_southeast</th>\n",
       "      <th>region_southwest</th>\n",
       "    </tr>\n",
       "  </thead>\n",
       "  <tbody>\n",
       "    <tr>\n",
       "      <th>560</th>\n",
       "      <td>46</td>\n",
       "      <td>19.95</td>\n",
       "      <td>2</td>\n",
       "      <td>9193.83850</td>\n",
       "      <td>True</td>\n",
       "      <td>False</td>\n",
       "      <td>True</td>\n",
       "      <td>False</td>\n",
       "      <td>False</td>\n",
       "      <td>True</td>\n",
       "      <td>False</td>\n",
       "      <td>False</td>\n",
       "    </tr>\n",
       "    <tr>\n",
       "      <th>1285</th>\n",
       "      <td>47</td>\n",
       "      <td>24.32</td>\n",
       "      <td>0</td>\n",
       "      <td>8534.67180</td>\n",
       "      <td>True</td>\n",
       "      <td>False</td>\n",
       "      <td>True</td>\n",
       "      <td>False</td>\n",
       "      <td>True</td>\n",
       "      <td>False</td>\n",
       "      <td>False</td>\n",
       "      <td>False</td>\n",
       "    </tr>\n",
       "    <tr>\n",
       "      <th>1142</th>\n",
       "      <td>52</td>\n",
       "      <td>24.86</td>\n",
       "      <td>0</td>\n",
       "      <td>27117.99378</td>\n",
       "      <td>True</td>\n",
       "      <td>False</td>\n",
       "      <td>True</td>\n",
       "      <td>False</td>\n",
       "      <td>False</td>\n",
       "      <td>False</td>\n",
       "      <td>True</td>\n",
       "      <td>False</td>\n",
       "    </tr>\n",
       "    <tr>\n",
       "      <th>969</th>\n",
       "      <td>39</td>\n",
       "      <td>34.32</td>\n",
       "      <td>5</td>\n",
       "      <td>8596.82780</td>\n",
       "      <td>True</td>\n",
       "      <td>False</td>\n",
       "      <td>True</td>\n",
       "      <td>False</td>\n",
       "      <td>False</td>\n",
       "      <td>False</td>\n",
       "      <td>True</td>\n",
       "      <td>False</td>\n",
       "    </tr>\n",
       "    <tr>\n",
       "      <th>486</th>\n",
       "      <td>54</td>\n",
       "      <td>21.47</td>\n",
       "      <td>3</td>\n",
       "      <td>12475.35130</td>\n",
       "      <td>True</td>\n",
       "      <td>False</td>\n",
       "      <td>True</td>\n",
       "      <td>False</td>\n",
       "      <td>False</td>\n",
       "      <td>True</td>\n",
       "      <td>False</td>\n",
       "      <td>False</td>\n",
       "    </tr>\n",
       "  </tbody>\n",
       "</table>\n",
       "</div>"
      ]
     },
     "execution_count": 265,
     "metadata": {},
     "output_type": "execute_result"
    }
   ],
   "execution_count": 265
  },
  {
   "metadata": {},
   "cell_type": "markdown",
   "source": "Die Attribute `region`, `sex` und `smoker` sind nun umgewandelt in numerische bzw. True/False-Werte. So können sie für die Korrelationsmatrix verwendet werden. Die Korrelationsmatrix wird erstellt.",
   "id": "b557ef4efbc6ba6"
  },
  {
   "cell_type": "code",
   "id": "505a1e99",
   "metadata": {
    "ExecuteTime": {
     "end_time": "2024-06-25T16:43:29.098787Z",
     "start_time": "2024-06-25T16:43:29.092593Z"
    }
   },
   "source": "correlation_matrix = train_set_explore_encoded.corr()",
   "outputs": [],
   "execution_count": 266
  },
  {
   "metadata": {},
   "cell_type": "markdown",
   "source": "Mit der `heatmap()` von Seaborn wird die Matrix visualisiert.",
   "id": "cd22ddb5b305a681"
  },
  {
   "metadata": {
    "ExecuteTime": {
     "end_time": "2024-06-25T16:43:29.449018Z",
     "start_time": "2024-06-25T16:43:29.245837Z"
    }
   },
   "cell_type": "code",
   "source": [
    "plt.figure(figsize=(12, 8))\n",
    "sns.heatmap(correlation_matrix, annot=True, vmin=-1, vmax=1)\n",
    "plt.title('Korrelationsmatrix der Attribute')\n",
    "plt.show()"
   ],
   "id": "d8b8434858541070",
   "outputs": [
    {
     "data": {
      "text/plain": [
       "<Figure size 1200x800 with 2 Axes>"
      ],
      "image/png": "[encoded data removed]"
     },
     "metadata": {},
     "output_type": "display_data"
    }
   ],
   "execution_count": 267
  },
  {
   "metadata": {},
   "cell_type": "markdown",
   "source": "Aus der Heatmap der Matrix ist zu erkennen und wird auch bestätigt, dass es eine starke positive Korrelation zwischen `charges` und `smoker` (Rauchstatus), was darauf hindeutet, dass Raucher höhere Behandlungskosten haben. Auch das Alter `age` und der `bmi` zeigen eine positive Korrelation mit den Behandlungskosten.",
   "id": "97d96c943bcfd468"
  },
  {
   "cell_type": "markdown",
   "id": "e92eed43",
   "metadata": {},
   "source": [
    "### 3.5 Festlegung der notwendigen Transformationen\n",
    "\n",
    "1. **Log-Transformation der Behandlungskosten**\n",
    "   - Die Spalte `charges` soll logarithmisch transformiert werden, um die rechtsschiefe Verteilung zu normalisieren.\n",
    "\n",
    "2. **Standardisierung der numerischen Variablen**\n",
    "   - Alle numerischen Features werden standardisiert, um einen Mittelwert von 0 und eine Standardabweichung von 1 zu haben.\n",
    "\n",
    "3. **One-Hot-Encoding der kategorialen Variablen**\n",
    "   - Die kategorialen Variablen `sex`, `region` und `smoker` sollen mittels One-Hot-Encoding in numerische Formate umgewandelt werden. Dabei soll immer eine Kategorie pro Features gedroppt werden mit `drop = first`, um kollineare Feature-Probleme zu verhindern.\n",
    "\n",
    "4. **Umgang mit Ausreißern:**\n",
    "   - Ausreißer sollen mithilfe der Z-Score-Methode entfernt werden wobei: $x$ der Beobachtungswert ist, $\\mu$ der Mittelwert der Population ist,  und $\\sigma$ die Standardabweichung der Population ist.\n",
    "   Wenn der z-Wert über 3 ist, wird der Ausreißer entfernt. Bei einer Normalverteilung wären 99,7 % der Datenpunkte keine Ausreißer. Der Z-Score wird mit folgender Gleichung berechnet:\n",
    "    $$\n",
    "    z = \\frac{(x - \\mu)}{\\sigma}\n",
    "    $$\n",
    "\n",
    "5. **Umgang mit fehlenden Werten**\n",
    "    - Fehlende Werte werden mit dem `SimpleImputer()` aufgefüllt. Für die numerischen Werte wird die `strategy = mean` verwendet, da Ausreißer entfernt wurden und so der Mittelwert optimal fehlende Werte auffüllt. Kategorische Werte sollen mit `strategy = most_frequent` aufgefüllt werden.\n",
    "\n",
    "\n",
    "\n"
   ]
  },
  {
   "cell_type": "markdown",
   "id": "0069cdf0",
   "metadata": {},
   "source": [
    "### 3.6 Ergebnisse\n",
    "\n",
    "**Übersicht der Daten**\n",
    "- Der Datensatz enthält 1338 Einträge mit 7 Merkmalen und der Zielvariable `charges`.\n",
    "- Die Merkmale umfassen demografische Informationen wie Alter, Geschlecht, BMI, Anzahl der Kinder, Rauchstatus und Wohnregion.\n",
    "\n",
    "**Verteilungen der Merkmale**\n",
    "- Die Verteilung der Behandlungskosten ist rechtsschief, was auf einige hohe Kostenfälle hinweist.\n",
    "- Das Boxplot der Behandlungskosten nach Rauchstatus zeigt, dass Raucher tendenziell höhere Behandlungskosten haben als Nichtraucher.\n",
    "\n",
    "**Korrelationen**\n",
    "- Es gibt eine starke positive Korrelation zwischen \"charges\" und \"smoker\" (Rauchstatus), was darauf hindeutet, dass Raucher höhere Behandlungskosten haben.\n",
    "- Auch das Alter und der BMI zeigen eine positive Korrelation mit den Behandlungskosten.\n",
    "\n",
    "**Fazit**\n",
    "- Die explorative Analyse hat wertvolle Einblicke in die Struktur und Beziehungen der Daten geliefert. Diese Erkenntnisse werden bei der Auswahl und Vorbereitung der Modelle berücksichtigt. Es werden alle Features zum Trainieren der Modelle verwendet.\n"
   ]
  },
  {
   "cell_type": "markdown",
   "id": "9607f0fc",
   "metadata": {},
   "source": [
    "## 4 Prepare the Data\n",
    "\n",
    "### 4.1 Ausreißer entfernen\n",
    "\n",
    "<span style=\"color:yellow\">erklären</span>"
   ]
  },
  {
   "metadata": {
    "ExecuteTime": {
     "end_time": "2024-06-25T16:43:29.455777Z",
     "start_time": "2024-06-25T16:43:29.451978Z"
    }
   },
   "cell_type": "code",
   "source": [
    "import pandas as pd\n",
    "import numpy as np\n",
    "\n",
    "def remove_outliers(data, columns, threshold):\n",
    "\n",
    "    filtered_data = data.copy()\n",
    "    outliers_dataframes = []\n",
    "    outliers_values = []\n",
    "\n",
    "    # Iterate over specified columns\n",
    "    for col in columns:\n",
    "        # Calculate Z-scores for the column\n",
    "        z_scores = np.abs((filtered_data[col] - filtered_data[col].mean()) / filtered_data[col].std())\n",
    "\n",
    "        # Identify outliers based on the threshold\n",
    "        outliers = z_scores > threshold\n",
    "\n",
    "        # Append outliers to outliers_dataframes list\n",
    "        outliers_dataframes.append(filtered_data[outliers])\n",
    "\n",
    "        # Append outlier values to outliers_values list\n",
    "        outliers_values.extend([col] * np.sum(outliers))\n",
    "\n",
    "        # Remove outliers from the dataframe\n",
    "        filtered_data = filtered_data[~outliers]\n",
    "\n",
    "        removed_outliers = pd.concat(outliers_dataframes)\n",
    "        removed_outliers['outlier_values'] = outliers_values\n",
    "\n",
    "    return filtered_data, removed_outliers"
   ],
   "id": "dc21ec672fff1fb2",
   "outputs": [],
   "execution_count": 268
  },
  {
   "metadata": {},
   "cell_type": "markdown",
   "source": "<span style=\"color:yellow\">anzahl erklären</span>",
   "id": "fe9d86adfa53fc95"
  },
  {
   "metadata": {
    "ExecuteTime": {
     "end_time": "2024-06-25T16:43:29.534043Z",
     "start_time": "2024-06-25T16:43:29.527044Z"
    }
   },
   "cell_type": "code",
   "source": "train_set.info()",
   "id": "8fc5fa8e130217ab",
   "outputs": [
    {
     "name": "stdout",
     "output_type": "stream",
     "text": [
      "<class 'pandas.core.frame.DataFrame'>\n",
      "Index: 1070 entries, 560 to 1126\n",
      "Data columns (total 7 columns):\n",
      " #   Column    Non-Null Count  Dtype   \n",
      "---  ------    --------------  -----   \n",
      " 0   age       1070 non-null   int64   \n",
      " 1   sex       1070 non-null   category\n",
      " 2   bmi       1070 non-null   float64 \n",
      " 3   children  1070 non-null   int64   \n",
      " 4   smoker    1070 non-null   category\n",
      " 5   region    1070 non-null   category\n",
      " 6   charges   1070 non-null   float64 \n",
      "dtypes: category(3), float64(2), int64(2)\n",
      "memory usage: 45.4 KB\n"
     ]
    }
   ],
   "execution_count": 269
  },
  {
   "metadata": {},
   "cell_type": "markdown",
   "source": "<span style=\"color:yellow\">erklären</span>",
   "id": "410688b68582744d"
  },
  {
   "metadata": {
    "ExecuteTime": {
     "end_time": "2024-06-25T16:43:29.799083Z",
     "start_time": "2024-06-25T16:43:29.787550Z"
    }
   },
   "cell_type": "code",
   "source": "train_set, outliers_df = remove_outliers(train_set, columns=['age', 'bmi', 'charges'], threshold=3)",
   "id": "d4ac15362566424",
   "outputs": [],
   "execution_count": 270
  },
  {
   "metadata": {},
   "cell_type": "markdown",
   "source": "<span style=\"color:yellow\">erklären</span>",
   "id": "69d67bf04daaab2f"
  },
  {
   "metadata": {
    "ExecuteTime": {
     "end_time": "2024-06-25T16:43:29.861208Z",
     "start_time": "2024-06-25T16:43:29.855171Z"
    }
   },
   "cell_type": "code",
   "source": "train_set.info()",
   "id": "287b2b1c558a8b73",
   "outputs": [
    {
     "name": "stdout",
     "output_type": "stream",
     "text": [
      "<class 'pandas.core.frame.DataFrame'>\n",
      "Index: 1060 entries, 560 to 1126\n",
      "Data columns (total 7 columns):\n",
      " #   Column    Non-Null Count  Dtype   \n",
      "---  ------    --------------  -----   \n",
      " 0   age       1060 non-null   int64   \n",
      " 1   sex       1060 non-null   category\n",
      " 2   bmi       1060 non-null   float64 \n",
      " 3   children  1060 non-null   int64   \n",
      " 4   smoker    1060 non-null   category\n",
      " 5   region    1060 non-null   category\n",
      " 6   charges   1060 non-null   float64 \n",
      "dtypes: category(3), float64(2), int64(2)\n",
      "memory usage: 45.0 KB\n"
     ]
    }
   ],
   "execution_count": 271
  },
  {
   "metadata": {},
   "cell_type": "markdown",
   "source": "<span style=\"color:yellow\">erklären</span>",
   "id": "e2dcd8cef0e75f84"
  },
  {
   "metadata": {
    "ExecuteTime": {
     "end_time": "2024-06-25T16:43:29.989010Z",
     "start_time": "2024-06-25T16:43:29.980458Z"
    }
   },
   "cell_type": "code",
   "source": "outliers_df.head(30)",
   "id": "e1beb6f4e8cde357",
   "outputs": [
    {
     "data": {
      "text/plain": [
       "      age     sex     bmi  children smoker     region      charges  \\\n",
       "847    23    male  50.380         1     no  southeast   2438.05520   \n",
       "1317   18    male  53.130         0     no  southeast   1163.46270   \n",
       "116    58    male  49.060         0     no  southeast  11381.32540   \n",
       "1146   60    male  32.800         0    yes  southwest  52590.82939   \n",
       "1230   52    male  34.485         3    yes  northwest  60021.39897   \n",
       "1241   64    male  36.960         2    yes  southeast  49577.66240   \n",
       "819    33  female  35.530         0    yes  northwest  55135.40209   \n",
       "1300   45    male  30.360         0    yes  southeast  62592.87309   \n",
       "577    31  female  38.095         1    yes  northeast  58571.07448   \n",
       "34     28    male  36.400         1    yes  southwest  51194.55914   \n",
       "\n",
       "     outlier_values  \n",
       "847             bmi  \n",
       "1317            bmi  \n",
       "116             bmi  \n",
       "1146        charges  \n",
       "1230        charges  \n",
       "1241        charges  \n",
       "819         charges  \n",
       "1300        charges  \n",
       "577         charges  \n",
       "34          charges  "
      ],
      "text/html": [
       "<div>\n",
       "<style scoped>\n",
       "    .dataframe tbody tr th:only-of-type {\n",
       "        vertical-align: middle;\n",
       "    }\n",
       "\n",
       "    .dataframe tbody tr th {\n",
       "        vertical-align: top;\n",
       "    }\n",
       "\n",
       "    .dataframe thead th {\n",
       "        text-align: right;\n",
       "    }\n",
       "</style>\n",
       "<table border=\"1\" class=\"dataframe\">\n",
       "  <thead>\n",
       "    <tr style=\"text-align: right;\">\n",
       "      <th></th>\n",
       "      <th>age</th>\n",
       "      <th>sex</th>\n",
       "      <th>bmi</th>\n",
       "      <th>children</th>\n",
       "      <th>smoker</th>\n",
       "      <th>region</th>\n",
       "      <th>charges</th>\n",
       "      <th>outlier_values</th>\n",
       "    </tr>\n",
       "  </thead>\n",
       "  <tbody>\n",
       "    <tr>\n",
       "      <th>847</th>\n",
       "      <td>23</td>\n",
       "      <td>male</td>\n",
       "      <td>50.380</td>\n",
       "      <td>1</td>\n",
       "      <td>no</td>\n",
       "      <td>southeast</td>\n",
       "      <td>2438.05520</td>\n",
       "      <td>bmi</td>\n",
       "    </tr>\n",
       "    <tr>\n",
       "      <th>1317</th>\n",
       "      <td>18</td>\n",
       "      <td>male</td>\n",
       "      <td>53.130</td>\n",
       "      <td>0</td>\n",
       "      <td>no</td>\n",
       "      <td>southeast</td>\n",
       "      <td>1163.46270</td>\n",
       "      <td>bmi</td>\n",
       "    </tr>\n",
       "    <tr>\n",
       "      <th>116</th>\n",
       "      <td>58</td>\n",
       "      <td>male</td>\n",
       "      <td>49.060</td>\n",
       "      <td>0</td>\n",
       "      <td>no</td>\n",
       "      <td>southeast</td>\n",
       "      <td>11381.32540</td>\n",
       "      <td>bmi</td>\n",
       "    </tr>\n",
       "    <tr>\n",
       "      <th>1146</th>\n",
       "      <td>60</td>\n",
       "      <td>male</td>\n",
       "      <td>32.800</td>\n",
       "      <td>0</td>\n",
       "      <td>yes</td>\n",
       "      <td>southwest</td>\n",
       "      <td>52590.82939</td>\n",
       "      <td>charges</td>\n",
       "    </tr>\n",
       "    <tr>\n",
       "      <th>1230</th>\n",
       "      <td>52</td>\n",
       "      <td>male</td>\n",
       "      <td>34.485</td>\n",
       "      <td>3</td>\n",
       "      <td>yes</td>\n",
       "      <td>northwest</td>\n",
       "      <td>60021.39897</td>\n",
       "      <td>charges</td>\n",
       "    </tr>\n",
       "    <tr>\n",
       "      <th>1241</th>\n",
       "      <td>64</td>\n",
       "      <td>male</td>\n",
       "      <td>36.960</td>\n",
       "      <td>2</td>\n",
       "      <td>yes</td>\n",
       "      <td>southeast</td>\n",
       "      <td>49577.66240</td>\n",
       "      <td>charges</td>\n",
       "    </tr>\n",
       "    <tr>\n",
       "      <th>819</th>\n",
       "      <td>33</td>\n",
       "      <td>female</td>\n",
       "      <td>35.530</td>\n",
       "      <td>0</td>\n",
       "      <td>yes</td>\n",
       "      <td>northwest</td>\n",
       "      <td>55135.40209</td>\n",
       "      <td>charges</td>\n",
       "    </tr>\n",
       "    <tr>\n",
       "      <th>1300</th>\n",
       "      <td>45</td>\n",
       "      <td>male</td>\n",
       "      <td>30.360</td>\n",
       "      <td>0</td>\n",
       "      <td>yes</td>\n",
       "      <td>southeast</td>\n",
       "      <td>62592.87309</td>\n",
       "      <td>charges</td>\n",
       "    </tr>\n",
       "    <tr>\n",
       "      <th>577</th>\n",
       "      <td>31</td>\n",
       "      <td>female</td>\n",
       "      <td>38.095</td>\n",
       "      <td>1</td>\n",
       "      <td>yes</td>\n",
       "      <td>northeast</td>\n",
       "      <td>58571.07448</td>\n",
       "      <td>charges</td>\n",
       "    </tr>\n",
       "    <tr>\n",
       "      <th>34</th>\n",
       "      <td>28</td>\n",
       "      <td>male</td>\n",
       "      <td>36.400</td>\n",
       "      <td>1</td>\n",
       "      <td>yes</td>\n",
       "      <td>southwest</td>\n",
       "      <td>51194.55914</td>\n",
       "      <td>charges</td>\n",
       "    </tr>\n",
       "  </tbody>\n",
       "</table>\n",
       "</div>"
      ]
     },
     "execution_count": 272,
     "metadata": {},
     "output_type": "execute_result"
    }
   ],
   "execution_count": 272
  },
  {
   "metadata": {},
   "cell_type": "markdown",
   "source": [
    "### 4.2 Trainingsset aufteilen in Features und Target\n",
    "\n",
    "<span style=\"color:yellow\">erklären</span>"
   ],
   "id": "add17dfb4b368a63"
  },
  {
   "metadata": {
    "ExecuteTime": {
     "end_time": "2024-06-25T16:43:30.063296Z",
     "start_time": "2024-06-25T16:43:30.059284Z"
    }
   },
   "cell_type": "code",
   "source": [
    "x_train = train_set.drop(columns=['charges'], axis=1)\n",
    "y_train = train_set['charges']"
   ],
   "id": "5e3778da06972a98",
   "outputs": [],
   "execution_count": 273
  },
  {
   "cell_type": "markdown",
   "id": "57c07702",
   "metadata": {},
   "source": [
    "### 4.3 Daten transformieren\n",
    "\n",
    "<span style=\"color:yellow\">erklären</span>\n",
    "Das Auffüllen von fehlenden Daten ist nicht notwendig, da es keine fehlenden Werte im Datensatz gibt (siehe 3.1). Allerdings können im Testdatensatz Daten fehlen. "
   ]
  },
  {
   "cell_type": "markdown",
   "id": "d0addebf",
   "metadata": {},
   "source": "<span style=\"color:yellow\">erklären</span> Die Features werden aufgeteilt in numerische und kategorische Features anhand von 2.3, um einen passenden Transformer anzuwenden."
  },
  {
   "metadata": {
    "ExecuteTime": {
     "end_time": "2024-06-25T16:43:30.179607Z",
     "start_time": "2024-06-25T16:43:30.176496Z"
    }
   },
   "cell_type": "code",
   "source": [
    "num_features = ['age', 'bmi', 'children']\n",
    "cat_features = ['sex', 'smoker', 'region']"
   ],
   "id": "3dd139229b38b3d5",
   "outputs": [],
   "execution_count": 274
  },
  {
   "cell_type": "markdown",
   "id": "c37f2ac6",
   "metadata": {},
   "source": "Für die numerische Werte <span style=\"color:yellow\">erklären</span>"
  },
  {
   "metadata": {
    "ExecuteTime": {
     "end_time": "2024-06-25T16:43:30.267218Z",
     "start_time": "2024-06-25T16:43:30.263888Z"
    }
   },
   "cell_type": "code",
   "source": [
    "from sklearn.preprocessing import StandardScaler\n",
    "from sklearn.impute import SimpleImputer\n",
    "from sklearn.pipeline import Pipeline\n",
    "\n",
    "num_transformer = Pipeline(steps=[\n",
    "    ('imputer', SimpleImputer(strategy='mean')),\n",
    "    ('scaler', StandardScaler())\n",
    "])"
   ],
   "id": "5bef6d15ef336059",
   "outputs": [],
   "execution_count": 275
  },
  {
   "cell_type": "markdown",
   "id": "036e59c1",
   "metadata": {},
   "source": "Für kategorische <span style=\"color:yellow\">erklären</span>"
  },
  {
   "metadata": {
    "ExecuteTime": {
     "end_time": "2024-06-25T16:43:30.430518Z",
     "start_time": "2024-06-25T16:43:30.427059Z"
    }
   },
   "cell_type": "code",
   "source": [
    "from sklearn.preprocessing import OneHotEncoder\n",
    "\n",
    "cat_transformer = Pipeline(steps=[\n",
    "    ('imputer', SimpleImputer(strategy='most_frequent')),\n",
    "    ('encoder', OneHotEncoder(drop='first'))\n",
    "])"
   ],
   "id": "e40da747f66c0570",
   "outputs": [],
   "execution_count": 276
  },
  {
   "metadata": {},
   "cell_type": "markdown",
   "source": "<span style=\"color:yellow\">erklären</span>",
   "id": "e4b960c359fc5d7f"
  },
  {
   "metadata": {
    "ExecuteTime": {
     "end_time": "2024-06-25T16:43:30.583711Z",
     "start_time": "2024-06-25T16:43:30.579128Z"
    }
   },
   "cell_type": "code",
   "source": [
    "from sklearn.compose import ColumnTransformer\n",
    "\n",
    "preprocessor = ColumnTransformer(transformers=[\n",
    "    ('num', num_transformer, num_features),\n",
    "    ('cat', cat_transformer, cat_features)\n",
    "])"
   ],
   "id": "3687e9a1cbce8e1c",
   "outputs": [],
   "execution_count": 277
  },
  {
   "metadata": {},
   "cell_type": "markdown",
   "source": [
    "## 5 Select and train the models\n",
    "\n",
    "### 5.1 Auswahl des dritten Modells\n",
    "\n",
    "<span style=\"color:yellow\">erklären</span>\n",
    "\n",
    "### 5.2 Erklärung der ausgewählten Modelle\n",
    "\n",
    "<span style=\"color:yellow\">erklären</span>\n",
    "\n",
    "### 5.3 Plan für Modelltraining\n",
    "\n",
    "<span style=\"color:yellow\">erklären</span>\n",
    "\n",
    "### 5.4 Modelle erstellen\n",
    "\n",
    "<span style=\"color:yellow\">erklären</span>"
   ],
   "id": "951c4f4dd0ebf947"
  },
  {
   "cell_type": "code",
   "id": "81741d40",
   "metadata": {
    "ExecuteTime": {
     "end_time": "2024-06-25T16:43:30.669860Z",
     "start_time": "2024-06-25T16:43:30.666424Z"
    }
   },
   "source": [
    "from sklearn.tree import DecisionTreeRegressor\n",
    "from sklearn.linear_model import LinearRegression, Ridge, Lasso\n",
    "from sklearn.svm import SVR\n",
    "from sklearn.ensemble import RandomForestRegressor\n",
    "\n",
    "models = {\n",
    "    'Linear Regression': LinearRegression(),\n",
    "    'SVR': SVR(),\n",
    "    'Ridge Regression': Ridge(),\n",
    "    'Lasso Regression': Lasso(),\n",
    "    'Decision Tree': DecisionTreeRegressor(),\n",
    "    'Random Forest': RandomForestRegressor(),\n",
    "}"
   ],
   "outputs": [],
   "execution_count": 278
  },
  {
   "metadata": {},
   "cell_type": "markdown",
   "source": [
    "### 5.5 Modelle trainieren und validieren \n",
    "\n",
    "<span style=\"color:yellow\">erklären</span>"
   ],
   "id": "eed71229119b6792"
  },
  {
   "metadata": {
    "ExecuteTime": {
     "end_time": "2024-06-25T16:43:30.720425Z",
     "start_time": "2024-06-25T16:43:30.717461Z"
    }
   },
   "cell_type": "code",
   "source": [
    "from sklearn.model_selection import KFold\n",
    "\n",
    "kf = KFold(n_splits=5, shuffle=True, random_state=42)"
   ],
   "id": "db9d8ecc69a443e",
   "outputs": [],
   "execution_count": 279
  },
  {
   "metadata": {},
   "cell_type": "markdown",
   "source": "<span style=\"color:yellow\">erklären</span>",
   "id": "2a370ec644129070"
  },
  {
   "cell_type": "code",
   "id": "f357b5f6",
   "metadata": {
    "ExecuteTime": {
     "end_time": "2024-06-25T16:43:30.812962Z",
     "start_time": "2024-06-25T16:43:30.809284Z"
    }
   },
   "source": [
    "from sklearn.metrics import make_scorer, mean_squared_error, r2_score\n",
    "from sklearn.compose import TransformedTargetRegressor\n",
    "from sklearn.model_selection import cross_val_score\n",
    "\n",
    "def evaluate_model_with_cv(model, x, y, cv):\n",
    "    mse_scorer = make_scorer(mean_squared_error, greater_is_better=False)\n",
    "    mse_scores = cross_val_score(model, x, y, scoring=mse_scorer, cv=cv)\n",
    "    r2_scores = cross_val_score(model, x, y, scoring='r2', cv=cv)\n",
    "    rmse_scores = np.sqrt(-mse_scores)\n",
    "    return rmse_scores, r2_scores"
   ],
   "outputs": [],
   "execution_count": 280
  },
  {
   "metadata": {},
   "cell_type": "markdown",
   "source": "<span style=\"color:yellow\">erklären</span>",
   "id": "bfbef263b202b66d"
  },
  {
   "metadata": {
    "ExecuteTime": {
     "end_time": "2024-06-25T16:43:30.848640Z",
     "start_time": "2024-06-25T16:43:30.845131Z"
    }
   },
   "cell_type": "code",
   "source": [
    "def create_full_pipeline(model):\n",
    "    return Pipeline([\n",
    "        ('preprocessor', preprocessor),\n",
    "        ('model', TransformedTargetRegressor(\n",
    "            regressor=model,\n",
    "            func=np.log,\n",
    "            inverse_func=np.exp\n",
    "        ))\n",
    "    ])"
   ],
   "id": "2ba0916ad650384e",
   "outputs": [],
   "execution_count": 281
  },
  {
   "metadata": {},
   "cell_type": "markdown",
   "source": "<span style=\"color:yellow\">erklären</span>",
   "id": "326f711b3abb7430"
  },
  {
   "metadata": {
    "ExecuteTime": {
     "end_time": "2024-06-25T16:43:34.399804Z",
     "start_time": "2024-06-25T16:43:30.954290Z"
    }
   },
   "cell_type": "code",
   "source": [
    "cv_results = {'Model': [], 'RMSE Mean': [], 'RMSE Std': [], 'R2 Mean': [], 'R2 Std': []}\n",
    "\n",
    "for name, model in models.items():\n",
    "    pipeline = create_full_pipeline(model)\n",
    "    rmse_scores, r2_scores = evaluate_model_with_cv(pipeline, x_train, y_train, kf)\n",
    "    cv_results['Model'].append(name)\n",
    "    cv_results['RMSE Mean'].append(rmse_scores.mean())\n",
    "    cv_results['RMSE Std'].append(rmse_scores.std())\n",
    "    cv_results['R2 Mean'].append(r2_scores.mean())\n",
    "    cv_results['R2 Std'].append(r2_scores.std())"
   ],
   "id": "8e3e6a7015b9a2dd",
   "outputs": [],
   "execution_count": 282
  },
  {
   "metadata": {},
   "cell_type": "markdown",
   "source": [
    "### 5.6 Performance der Modelle\n",
    "\n",
    "<span style=\"color:yellow\">erklären</span>"
   ],
   "id": "9be05f744a7bf470"
  },
  {
   "metadata": {
    "ExecuteTime": {
     "end_time": "2024-06-25T16:43:34.576698Z",
     "start_time": "2024-06-25T16:43:34.400811Z"
    }
   },
   "cell_type": "code",
   "source": [
    "cv_results_df = pd.DataFrame(cv_results)\n",
    "\n",
    "plt.figure(figsize=(12, 6))\n",
    "plt.suptitle('Cross Validation Ergebnisse', fontsize=14, fontweight='bold')\n",
    "\n",
    "plt.subplot(1, 2, 1)\n",
    "sns.barplot(x='RMSE Mean', y='Model', data=cv_results_df)\n",
    "plt.title('RMSE Durchschnitt')\n",
    "\n",
    "plt.subplot(1, 2, 2)\n",
    "sns.barplot(x='R2 Mean', y='Model', data=cv_results_df)\n",
    "plt.title('R2-Score Durchschnitt')\n",
    "\n",
    "plt.tight_layout()\n",
    "plt.show()"
   ],
   "id": "69e7226e295e6590",
   "outputs": [
    {
     "data": {
      "text/plain": [
       "<Figure size 1200x600 with 2 Axes>"
      ],
      "image/png": "[encoded data removed]"
     },
     "metadata": {},
     "output_type": "display_data"
    }
   ],
   "execution_count": 283
  },
  {
   "metadata": {},
   "cell_type": "markdown",
   "source": "<span style=\"color:yellow\">erklären</span>\n",
   "id": "2e2a28eb1732a2de"
  },
  {
   "metadata": {
    "ExecuteTime": {
     "end_time": "2024-06-25T16:43:34.579822Z",
     "start_time": "2024-06-25T16:43:34.576698Z"
    }
   },
   "cell_type": "code",
   "source": [
    "selected_models = {\n",
    "    'Linear Regression': LinearRegression(),\n",
    "    'SVR': SVR(),\n",
    "    'Random Forest': RandomForestRegressor(),\n",
    "}"
   ],
   "id": "e67e7022662091b4",
   "outputs": [],
   "execution_count": 284
  },
  {
   "metadata": {},
   "cell_type": "markdown",
   "source": [
    "### 5.7 Signifikante Parameter der Modelle\n",
    "\n",
    "<span style=\"color:yellow\">erklären</span>"
   ],
   "id": "48561a572d10ff7b"
  },
  {
   "metadata": {
    "ExecuteTime": {
     "end_time": "2024-06-25T16:43:34.599493Z",
     "start_time": "2024-06-25T16:43:34.580830Z"
    }
   },
   "cell_type": "code",
   "source": [
    "def get_model_params(models):\n",
    "    params_list = []\n",
    "\n",
    "    for name, model in models.items():\n",
    "        params_dict = {'Model': name}\n",
    "        params = model.get_params()\n",
    "        for param_name, param_value in params.items():\n",
    "            params_dict[param_name] = param_value\n",
    "        params_list.append(params_dict)\n",
    "\n",
    "    params_df = pd.DataFrame(params_list)\n",
    "    return params_df\n",
    "\n",
    "get_model_params(selected_models)"
   ],
   "id": "ba1268510ce068a5",
   "outputs": [
    {
     "data": {
      "text/plain": [
       "               Model copy_X fit_intercept  n_jobs positive    C  cache_size  \\\n",
       "0  Linear Regression   True          True     NaN    False  NaN         NaN   \n",
       "1                SVR    NaN           NaN     NaN      NaN  1.0       200.0   \n",
       "2      Random Forest    NaN           NaN     NaN      NaN  NaN         NaN   \n",
       "\n",
       "   coef0  degree  epsilon  ... max_samples min_impurity_decrease  \\\n",
       "0    NaN     NaN      NaN  ...         NaN                   NaN   \n",
       "1    0.0     3.0      0.1  ...         NaN                   NaN   \n",
       "2    NaN     NaN      NaN  ...         NaN                   0.0   \n",
       "\n",
       "   min_samples_leaf min_samples_split  min_weight_fraction_leaf monotonic_cst  \\\n",
       "0               NaN               NaN                       NaN           NaN   \n",
       "1               NaN               NaN                       NaN           NaN   \n",
       "2               1.0               2.0                       0.0           NaN   \n",
       "\n",
       "  n_estimators  oob_score random_state  warm_start  \n",
       "0          NaN        NaN          NaN         NaN  \n",
       "1          NaN        NaN          NaN         NaN  \n",
       "2        100.0      False          NaN       False  \n",
       "\n",
       "[3 rows x 32 columns]"
      ],
      "text/html": [
       "<div>\n",
       "<style scoped>\n",
       "    .dataframe tbody tr th:only-of-type {\n",
       "        vertical-align: middle;\n",
       "    }\n",
       "\n",
       "    .dataframe tbody tr th {\n",
       "        vertical-align: top;\n",
       "    }\n",
       "\n",
       "    .dataframe thead th {\n",
       "        text-align: right;\n",
       "    }\n",
       "</style>\n",
       "<table border=\"1\" class=\"dataframe\">\n",
       "  <thead>\n",
       "    <tr style=\"text-align: right;\">\n",
       "      <th></th>\n",
       "      <th>Model</th>\n",
       "      <th>copy_X</th>\n",
       "      <th>fit_intercept</th>\n",
       "      <th>n_jobs</th>\n",
       "      <th>positive</th>\n",
       "      <th>C</th>\n",
       "      <th>cache_size</th>\n",
       "      <th>coef0</th>\n",
       "      <th>degree</th>\n",
       "      <th>epsilon</th>\n",
       "      <th>...</th>\n",
       "      <th>max_samples</th>\n",
       "      <th>min_impurity_decrease</th>\n",
       "      <th>min_samples_leaf</th>\n",
       "      <th>min_samples_split</th>\n",
       "      <th>min_weight_fraction_leaf</th>\n",
       "      <th>monotonic_cst</th>\n",
       "      <th>n_estimators</th>\n",
       "      <th>oob_score</th>\n",
       "      <th>random_state</th>\n",
       "      <th>warm_start</th>\n",
       "    </tr>\n",
       "  </thead>\n",
       "  <tbody>\n",
       "    <tr>\n",
       "      <th>0</th>\n",
       "      <td>Linear Regression</td>\n",
       "      <td>True</td>\n",
       "      <td>True</td>\n",
       "      <td>NaN</td>\n",
       "      <td>False</td>\n",
       "      <td>NaN</td>\n",
       "      <td>NaN</td>\n",
       "      <td>NaN</td>\n",
       "      <td>NaN</td>\n",
       "      <td>NaN</td>\n",
       "      <td>...</td>\n",
       "      <td>NaN</td>\n",
       "      <td>NaN</td>\n",
       "      <td>NaN</td>\n",
       "      <td>NaN</td>\n",
       "      <td>NaN</td>\n",
       "      <td>NaN</td>\n",
       "      <td>NaN</td>\n",
       "      <td>NaN</td>\n",
       "      <td>NaN</td>\n",
       "      <td>NaN</td>\n",
       "    </tr>\n",
       "    <tr>\n",
       "      <th>1</th>\n",
       "      <td>SVR</td>\n",
       "      <td>NaN</td>\n",
       "      <td>NaN</td>\n",
       "      <td>NaN</td>\n",
       "      <td>NaN</td>\n",
       "      <td>1.0</td>\n",
       "      <td>200.0</td>\n",
       "      <td>0.0</td>\n",
       "      <td>3.0</td>\n",
       "      <td>0.1</td>\n",
       "      <td>...</td>\n",
       "      <td>NaN</td>\n",
       "      <td>NaN</td>\n",
       "      <td>NaN</td>\n",
       "      <td>NaN</td>\n",
       "      <td>NaN</td>\n",
       "      <td>NaN</td>\n",
       "      <td>NaN</td>\n",
       "      <td>NaN</td>\n",
       "      <td>NaN</td>\n",
       "      <td>NaN</td>\n",
       "    </tr>\n",
       "    <tr>\n",
       "      <th>2</th>\n",
       "      <td>Random Forest</td>\n",
       "      <td>NaN</td>\n",
       "      <td>NaN</td>\n",
       "      <td>NaN</td>\n",
       "      <td>NaN</td>\n",
       "      <td>NaN</td>\n",
       "      <td>NaN</td>\n",
       "      <td>NaN</td>\n",
       "      <td>NaN</td>\n",
       "      <td>NaN</td>\n",
       "      <td>...</td>\n",
       "      <td>NaN</td>\n",
       "      <td>0.0</td>\n",
       "      <td>1.0</td>\n",
       "      <td>2.0</td>\n",
       "      <td>0.0</td>\n",
       "      <td>NaN</td>\n",
       "      <td>100.0</td>\n",
       "      <td>False</td>\n",
       "      <td>NaN</td>\n",
       "      <td>False</td>\n",
       "    </tr>\n",
       "  </tbody>\n",
       "</table>\n",
       "<p>3 rows × 32 columns</p>\n",
       "</div>"
      ]
     },
     "execution_count": 285,
     "metadata": {},
     "output_type": "execute_result"
    }
   ],
   "execution_count": 285
  },
  {
   "metadata": {},
   "cell_type": "markdown",
   "source": "<span style=\"color:yellow\">erklären</span>",
   "id": "f855e96859687103"
  },
  {
   "cell_type": "markdown",
   "id": "29ec8fd5",
   "metadata": {},
   "source": [
    "## 6 Fine-Tune the models\n",
    "\n",
    "### 6.1 Hyperparametertuning mit `GridSearchCV()` und `RandomizedSearchCV()`\n",
    "\n",
    "<span style=\"color:yellow\">erklären</span>\n"
   ]
  },
  {
   "metadata": {
    "ExecuteTime": {
     "end_time": "2024-06-25T16:43:34.606691Z",
     "start_time": "2024-06-25T16:43:34.599493Z"
    }
   },
   "cell_type": "code",
   "source": [
    "from sklearn.model_selection import GridSearchCV, RandomizedSearchCV\n",
    "\n",
    "def perform_search(X, y, models, preprocessor, cv, search_type):\n",
    "    best_models = {}\n",
    "\n",
    "    for name, model, params in models:\n",
    "        model_pipeline = Pipeline([('preprocessor', preprocessor), ('model', TransformedTargetRegressor(\n",
    "            regressor=model,\n",
    "            func=np.log,\n",
    "            inverse_func=np.exp\n",
    "        ))])\n",
    "\n",
    "        if search_type == 'grid':\n",
    "            print('-' * 10 + 'Grid Search' + '-' * 10)\n",
    "            search = GridSearchCV(estimator=model_pipeline, param_grid=params, cv=cv, scoring='r2', verbose=1, n_jobs=-1)\n",
    "        elif search_type == 'random':\n",
    "            print('-' * 10 + 'Randomized Search' + '-' * 10)\n",
    "            search = RandomizedSearchCV(estimator=model_pipeline, param_distributions=params, n_iter=10, cv=cv, scoring='r2', verbose=1, n_jobs=-1)\n",
    "\n",
    "        search.fit(X, y)\n",
    "\n",
    "        best_models[name] = {\n",
    "            'model': search.best_estimator_,\n",
    "            'params': search.best_params_,\n",
    "            'score': search.best_score_\n",
    "        }\n",
    "\n",
    "        print(f\"Best parameters for {name}:\")\n",
    "        print(search.best_params_)\n",
    "        print(f\"Best {name} model score: {search.best_score_}\")\n",
    "        print()\n",
    "\n",
    "    return best_models\n"
   ],
   "id": "a07b52fdd0e2c9a9",
   "outputs": [],
   "execution_count": 286
  },
  {
   "metadata": {},
   "cell_type": "markdown",
   "source": "<span style=\"color:yellow\">erklären</span>",
   "id": "f7f387e027129b5a"
  },
  {
   "metadata": {},
   "cell_type": "markdown",
   "source": [
    "### 6.2 Festlegung des Parameter-Grids und Auswertung der Ergebnisse\n",
    "\n",
    "<span style=\"color:yellow\">erklären</span>"
   ],
   "id": "246026bdc26bde12"
  },
  {
   "metadata": {
    "ExecuteTime": {
     "end_time": "2024-06-25T16:43:34.614152Z",
     "start_time": "2024-06-25T16:43:34.606691Z"
    }
   },
   "cell_type": "code",
   "source": [
    "models_to_search = [\n",
    "    ('Linear Regression', LinearRegression(), {\n",
    "        'model__regressor__fit_intercept': [True, False]\n",
    "    }),\n",
    "    ('SVR', SVR(), {\n",
    "        'model__regressor__kernel': ['linear', 'poly', 'rbf'],\n",
    "        'model__regressor__C': [0.1, 1, 10],\n",
    "        'model__regressor__epsilon': [0.01, 0.1, 0.5]\n",
    "    }),\n",
    "    ('Random Forest Regression', RandomForestRegressor(), {\n",
    "        'model__regressor__n_estimators': [50, 100, 200],\n",
    "        'model__regressor__max_depth': [None, 10, 20],\n",
    "        'model__regressor__min_samples_split': [2, 5, 10],\n",
    "        'model__regressor__min_samples_leaf': [1, 2, 4]\n",
    "    })\n",
    "]"
   ],
   "id": "391f80e4f913bcff",
   "outputs": [],
   "execution_count": 287
  },
  {
   "metadata": {},
   "cell_type": "markdown",
   "source": "<span style=\"color:yellow\">erklären</span>",
   "id": "ffa2586555a8ce51"
  },
  {
   "metadata": {
    "ExecuteTime": {
     "end_time": "2024-06-25T16:43:53.058714Z",
     "start_time": "2024-06-25T16:43:34.615163Z"
    }
   },
   "cell_type": "code",
   "source": [
    "best_models_grid = perform_search(x_train, y_train, models_to_search, preprocessor, kf, 'grid')\n",
    "best_models_random = perform_search(x_train, y_train, models_to_search, preprocessor, kf, 'random')"
   ],
   "id": "78060216954fa7ec",
   "outputs": [
    {
     "name": "stdout",
     "output_type": "stream",
     "text": [
      "----------Grid Search----------\n",
      "Fitting 5 folds for each of 2 candidates, totalling 10 fits\n",
      "Best parameters for Linear Regression:\n",
      "{'model__regressor__fit_intercept': True}\n",
      "Best Linear Regression model score: 0.47777259009165435\n",
      "\n",
      "----------Grid Search----------\n",
      "Fitting 5 folds for each of 27 candidates, totalling 135 fits\n",
      "Best parameters for SVR:\n",
      "{'model__regressor__C': 1, 'model__regressor__epsilon': 0.1, 'model__regressor__kernel': 'rbf'}\n",
      "Best SVR model score: 0.805374161334688\n",
      "\n",
      "----------Grid Search----------\n",
      "Fitting 5 folds for each of 81 candidates, totalling 405 fits\n",
      "Best parameters for Random Forest Regression:\n",
      "{'model__regressor__max_depth': 20, 'model__regressor__min_samples_leaf': 4, 'model__regressor__min_samples_split': 10, 'model__regressor__n_estimators': 200}\n",
      "Best Random Forest Regression model score: 0.8471035150539296\n",
      "\n",
      "----------Randomized Search----------\n",
      "Fitting 5 folds for each of 2 candidates, totalling 10 fits\n",
      "Best parameters for Linear Regression:\n",
      "{'model__regressor__fit_intercept': True}\n",
      "Best Linear Regression model score: 0.47777259009165435\n",
      "\n",
      "----------Randomized Search----------\n",
      "Fitting 5 folds for each of 10 candidates, totalling 50 fits\n"
     ]
    },
    {
     "name": "stderr",
     "output_type": "stream",
     "text": [
      "C:\\Users\\markj\\Documents\\Studium\\Master Maschinenbau TH Köln\\Machine Learning\\ML_SoSe24\\venv\\Lib\\site-packages\\sklearn\\model_selection\\_search.py:320: UserWarning: The total space of parameters 2 is smaller than n_iter=10. Running 2 iterations. For exhaustive searches, use GridSearchCV.\n",
      "  warnings.warn(\n"
     ]
    },
    {
     "name": "stdout",
     "output_type": "stream",
     "text": [
      "Best parameters for SVR:\n",
      "{'model__regressor__kernel': 'rbf', 'model__regressor__epsilon': 0.1, 'model__regressor__C': 1}\n",
      "Best SVR model score: 0.805374161334688\n",
      "\n",
      "----------Randomized Search----------\n",
      "Fitting 5 folds for each of 10 candidates, totalling 50 fits\n",
      "Best parameters for Random Forest Regression:\n",
      "{'model__regressor__n_estimators': 200, 'model__regressor__min_samples_split': 2, 'model__regressor__min_samples_leaf': 4, 'model__regressor__max_depth': 20}\n",
      "Best Random Forest Regression model score: 0.8467641233773711\n",
      "\n"
     ]
    }
   ],
   "execution_count": 288
  },
  {
   "metadata": {},
   "cell_type": "markdown",
   "source": "<span style=\"color:yellow\">erklären</span>",
   "id": "d4db26b80608fc76"
  },
  {
   "metadata": {},
   "cell_type": "markdown",
   "source": [
    "### 6.3 Finale Modell trainieren\n",
    "\n",
    "<span style=\"color:yellow\">erklären</span>"
   ],
   "id": "93e6efe5b36bdc9"
  },
  {
   "metadata": {},
   "cell_type": "markdown",
   "source": "<span style=\"color:yellow\">erklären</span>\n",
   "id": "ea487b373766eb74"
  },
  {
   "metadata": {
    "ExecuteTime": {
     "end_time": "2024-06-25T16:43:53.061876Z",
     "start_time": "2024-06-25T16:43:53.059721Z"
    }
   },
   "cell_type": "code",
   "source": "final_estimator = best_models_grid['Random Forest Regression']['model']",
   "id": "f5827dba30c4f57e",
   "outputs": [],
   "execution_count": 289
  },
  {
   "metadata": {},
   "cell_type": "markdown",
   "source": "<span style=\"color:yellow\">erklären</span>\n",
   "id": "6383d542500015e2"
  },
  {
   "metadata": {
    "ExecuteTime": {
     "end_time": "2024-06-25T16:43:53.070796Z",
     "start_time": "2024-06-25T16:43:53.062887Z"
    }
   },
   "cell_type": "code",
   "source": [
    "x_test = test_set.drop(columns=['charges'], axis=1)\n",
    "y_test = test_set['charges']"
   ],
   "id": "39059036a5867d93",
   "outputs": [],
   "execution_count": 290
  },
  {
   "metadata": {},
   "cell_type": "markdown",
   "source": "<span style=\"color:yellow\">erklären</span>\n",
   "id": "2332a065ed03b4bc"
  },
  {
   "metadata": {
    "ExecuteTime": {
     "end_time": "2024-06-25T16:43:53.428098Z",
     "start_time": "2024-06-25T16:43:53.071807Z"
    }
   },
   "cell_type": "code",
   "source": "final_estimator.fit(x_train, y_train)",
   "id": "82d1c134af6d5ad4",
   "outputs": [],
   "execution_count": 291
  },
  {
   "metadata": {},
   "cell_type": "markdown",
   "source": "<span style=\"color:yellow\">erklären</span>\n",
   "id": "f2ded68050c84979"
  },
  {
   "metadata": {},
   "cell_type": "markdown",
   "source": [
    "### 6.4 Feature-Wichtigkeit\n",
    "\n",
    "<span style=\"color:yellow\">erklären</span>\n"
   ],
   "id": "943b80978758862e"
  },
  {
   "metadata": {
    "ExecuteTime": {
     "end_time": "2024-06-25T16:43:53.586924Z",
     "start_time": "2024-06-25T16:43:53.573495Z"
    }
   },
   "cell_type": "code",
   "source": [
    "model = final_estimator.named_steps['model'].regressor_\n",
    "\n",
    "feature_importances = model.feature_importances_\n",
    "x_train_encoded = pd.get_dummies(x_train, columns=['sex', 'smoker', 'region'], drop_first=True)\n",
    "features = x_train_encoded.columns\n",
    "\n",
    "\n",
    "importance_df = pd.DataFrame({\n",
    "    'Importance': feature_importances,\n",
    "    'Features': features\n",
    "})\n",
    "\n",
    "importance_df = importance_df.sort_values(by='Importance', ascending=False).reset_index(drop=True)"
   ],
   "id": "cef942dd8c2a09a5",
   "outputs": [],
   "execution_count": 295
  },
  {
   "metadata": {},
   "cell_type": "markdown",
   "source": "<span style=\"color:yellow\">erklären</span>\n",
   "id": "416bdf42dc426582"
  },
  {
   "metadata": {
    "ExecuteTime": {
     "end_time": "2024-06-25T16:43:53.593118Z",
     "start_time": "2024-06-25T16:43:53.586924Z"
    }
   },
   "cell_type": "code",
   "source": "importance_df.head(20)",
   "id": "849b0fb92591d3d1",
   "outputs": [
    {
     "data": {
      "text/plain": [
       "   Importance          Features\n",
       "0    0.472202        smoker_yes\n",
       "1    0.405844               age\n",
       "2    0.060501               bmi\n",
       "3    0.041618          children\n",
       "4    0.008091          sex_male\n",
       "5    0.004046  region_northwest\n",
       "6    0.003970  region_southwest\n",
       "7    0.003729  region_southeast"
      ],
      "text/html": [
       "<div>\n",
       "<style scoped>\n",
       "    .dataframe tbody tr th:only-of-type {\n",
       "        vertical-align: middle;\n",
       "    }\n",
       "\n",
       "    .dataframe tbody tr th {\n",
       "        vertical-align: top;\n",
       "    }\n",
       "\n",
       "    .dataframe thead th {\n",
       "        text-align: right;\n",
       "    }\n",
       "</style>\n",
       "<table border=\"1\" class=\"dataframe\">\n",
       "  <thead>\n",
       "    <tr style=\"text-align: right;\">\n",
       "      <th></th>\n",
       "      <th>Importance</th>\n",
       "      <th>Features</th>\n",
       "    </tr>\n",
       "  </thead>\n",
       "  <tbody>\n",
       "    <tr>\n",
       "      <th>0</th>\n",
       "      <td>0.472202</td>\n",
       "      <td>smoker_yes</td>\n",
       "    </tr>\n",
       "    <tr>\n",
       "      <th>1</th>\n",
       "      <td>0.405844</td>\n",
       "      <td>age</td>\n",
       "    </tr>\n",
       "    <tr>\n",
       "      <th>2</th>\n",
       "      <td>0.060501</td>\n",
       "      <td>bmi</td>\n",
       "    </tr>\n",
       "    <tr>\n",
       "      <th>3</th>\n",
       "      <td>0.041618</td>\n",
       "      <td>children</td>\n",
       "    </tr>\n",
       "    <tr>\n",
       "      <th>4</th>\n",
       "      <td>0.008091</td>\n",
       "      <td>sex_male</td>\n",
       "    </tr>\n",
       "    <tr>\n",
       "      <th>5</th>\n",
       "      <td>0.004046</td>\n",
       "      <td>region_northwest</td>\n",
       "    </tr>\n",
       "    <tr>\n",
       "      <th>6</th>\n",
       "      <td>0.003970</td>\n",
       "      <td>region_southwest</td>\n",
       "    </tr>\n",
       "    <tr>\n",
       "      <th>7</th>\n",
       "      <td>0.003729</td>\n",
       "      <td>region_southeast</td>\n",
       "    </tr>\n",
       "  </tbody>\n",
       "</table>\n",
       "</div>"
      ]
     },
     "execution_count": 296,
     "metadata": {},
     "output_type": "execute_result"
    }
   ],
   "execution_count": 296
  },
  {
   "metadata": {},
   "cell_type": "markdown",
   "source": [
    "### 6.5 Auswertung des finalen Modells anhand Testset\n",
    "\n",
    "<span style=\"color:yellow\">erklären</span>\n"
   ],
   "id": "6fa52fed9fd72862"
  },
  {
   "metadata": {},
   "cell_type": "code",
   "outputs": [],
   "execution_count": 292,
   "source": [
    "final_results = {'Model': [], 'RMSE': [], 'R2 Score': [], 'y_pred': []}\n",
    "\n",
    "y_pred = final_estimator.predict(x_test)\n",
    "rmse = np.sqrt(mean_squared_error(y_test, y_pred))\n",
    "r2 = r2_score(y_test, y_pred)\n",
    "final_results['Model'].append(name)\n",
    "final_results['RMSE'].append(rmse)\n",
    "final_results['R2 Score'].append(r2)\n",
    "final_results['y_pred'].append(y_pred)\n",
    "\n",
    "final_results_df = pd.DataFrame(final_results)"
   ],
   "id": "bd06919498c8ba3e"
  },
  {
   "metadata": {},
   "cell_type": "markdown",
   "source": "<span style=\"color:yellow\">erklären</span>\n",
   "id": "36ce95cde89ea64d"
  },
  {
   "metadata": {},
   "cell_type": "code",
   "outputs": [
    {
     "data": {
      "text/plain": [
       "           Model         RMSE  R2 Score  \\\n",
       "0  Random Forest  4309.277998  0.880386   \n",
       "\n",
       "                                              y_pred  \n",
       "0  [9310.159107821108, 5068.184220407973, 27050.6...  "
      ],
      "text/html": [
       "<div>\n",
       "<style scoped>\n",
       "    .dataframe tbody tr th:only-of-type {\n",
       "        vertical-align: middle;\n",
       "    }\n",
       "\n",
       "    .dataframe tbody tr th {\n",
       "        vertical-align: top;\n",
       "    }\n",
       "\n",
       "    .dataframe thead th {\n",
       "        text-align: right;\n",
       "    }\n",
       "</style>\n",
       "<table border=\"1\" class=\"dataframe\">\n",
       "  <thead>\n",
       "    <tr style=\"text-align: right;\">\n",
       "      <th></th>\n",
       "      <th>Model</th>\n",
       "      <th>RMSE</th>\n",
       "      <th>R2 Score</th>\n",
       "      <th>y_pred</th>\n",
       "    </tr>\n",
       "  </thead>\n",
       "  <tbody>\n",
       "    <tr>\n",
       "      <th>0</th>\n",
       "      <td>Random Forest</td>\n",
       "      <td>4309.277998</td>\n",
       "      <td>0.880386</td>\n",
       "      <td>[9310.159107821108, 5068.184220407973, 27050.6...</td>\n",
       "    </tr>\n",
       "  </tbody>\n",
       "</table>\n",
       "</div>"
      ]
     },
     "execution_count": 293,
     "metadata": {},
     "output_type": "execute_result"
    }
   ],
   "execution_count": 293,
   "source": "final_results_df.head()",
   "id": "7dbd779fa09295ef"
  },
  {
   "metadata": {},
   "cell_type": "markdown",
   "source": "<span style=\"color:yellow\">erklären</span>\n",
   "id": "55013edb836134c3"
  },
  {
   "metadata": {},
   "cell_type": "code",
   "outputs": [
    {
     "data": {
      "text/plain": [
       "<Figure size 640x480 with 1 Axes>"
      ],
      "image/png": "[encoded data removed]"
     },
     "metadata": {},
     "output_type": "display_data"
    }
   ],
   "execution_count": 294,
   "source": [
    "y_pred = final_results_df.iloc[0]['y_pred']\n",
    "\n",
    "plt.scatter(y_test, y_pred, color='orange', alpha=0.5, label='Vorhergesagte Werte')\n",
    "plt.plot([y_test.min(), y_test.max()], [y_test.min(), y_test.max()], 'k--', lw=2, label='Ideal')\n",
    "\n",
    "plt.xlabel('Wahre Werte')\n",
    "plt.ylabel('Vorhergesagte Werte')\n",
    "plt.title('Random Forest')\n",
    "plt.legend()\n",
    "\n",
    "plt.tight_layout()\n",
    "plt.show()"
   ],
   "id": "e72044a988ed480"
  },
  {
   "metadata": {},
   "cell_type": "markdown",
   "source": "<span style=\"color:yellow\">erklären</span>\n",
   "id": "97d00ebdc3abba3c"
  },
  {
   "metadata": {},
   "cell_type": "markdown",
   "source": [
    "## 7 Zusammenfassung\n",
    "\n",
    "<span style=\"color:yellow\">erklären</span>\n"
   ],
   "id": "28262f67e749d404"
  }
 ],
 "metadata": {
  "kernelspec": {
   "display_name": "Python 3 (ipykernel)",
   "language": "python",
   "name": "python3"
  },
  "language_info": {
   "codemirror_mode": {
    "name": "ipython",
    "version": 3
   },
   "file_extension": ".py",
   "mimetype": "text/x-python",
   "name": "python",
   "nbconvert_exporter": "python",
   "pygments_lexer": "ipython3",
   "version": "3.9.13"
  }
 },
 "nbformat": 4,
 "nbformat_minor": 5
}
