{
 "cells": [
  {
   "cell_type": "markdown",
   "metadata": {},
   "source": [
    "## 6 Zusammenfassung der Ergebnisse\n",
    "\n",
    "Das finale Modell wurde anhand der Test-Daten validiert und erreichte dabei einen Root Mean Squared Error (RMSE) von 4343,659 sowie einen R²-Wert von 0,88. Diese Ergebnisse zeigen, dass das Modell präzise Vorhersagen der Behandlungskosten für neue Patienten basierend auf verschiedenen Faktoren wie Alter, Geschlecht, BMI, Anzahl der Kinder, Rauchstatus und Wohnregion liefert.\n",
    "\n",
    "Zusätzlich haben wir die Leistung unseres Modells mit zwei weiteren Modellen verglichen: Support Vector Regression (SVR) und lineare Regression. Das SVR-Modell erzielte einen R²-Wert von 0,805, während die lineare Regression nur einen R²-Wert von 0,4777 erreichte. \n",
    "\n",
    "### Erreichung des Zieles\n",
    "\n",
    "Unser primäres Ziel bestand darin, die Kosten der medizinischen Behandlung für neue Patienten basierend auf den genannten Faktoren vorherzusagen. Mit einem RMSE von 4343,659 und einem hohen R²-Wert von 0,88 hat unser Modell eine hohe Genauigkeit und Zuverlässigkeit bei der Vorhersage dieser Kosten gezeigt. \n",
    "\n",
    "Im Vergleich dazu schnitt das SVR-Modell mit einem R²-Wert von 0,805 ebenfalls gut ab, jedoch nicht so gut wie unser finales Modell. Die lineare Regression erzielte mit einem R²-Wert von 0,4777 deutlich schlechtere Ergebnisse und konnte die Komplexität der Daten nicht ausreichend erfassen.\n",
    "\n",
    "Dies bestätigt, dass unser Modell den Aufgabenstellungen gerecht wird, da es Versicherungsunternehmen ermöglicht, Prämien genauer festzulegen, finanzielle Risiken besser zu managen und personalisierte Gesundheitspläne zu erstellen. Im Vergleich zu traditionellen versicherungsmathematischen Methoden und manuellen Schätzungen bietet unser Ansatz auf Basis des maschinellen Lernens präzisere und skalierbarere Lösungen, die komplexe Muster in den Daten erkennen können. \n",
    "\n",
    "Insgesamt trägt unsere Lösung dazu bei, dass Versicherungsunternehmen Risiken genauer bewerten und wettbewerbsfähige Preise anbieten können, während sie gleichzeitig ihre Rentabilität sicherstellen."
   ]
  },
  {
   "metadata": {},
   "cell_type": "code",
   "outputs": [],
   "execution_count": null,
   "source": ""
  }
 ],
 "metadata": {
  "kernelspec": {
   "display_name": "ML",
   "language": "python",
   "name": "python3"
  },
  "language_info": {
   "codemirror_mode": {
    "name": "ipython",
    "version": 3
   },
   "file_extension": ".py",
   "mimetype": "text/x-python",
   "name": "python",
   "nbconvert_exporter": "python",
   "pygments_lexer": "ipython3",
   "version": "3.11.8"
  }
 },
 "nbformat": 4,
 "nbformat_minor": 2
}
